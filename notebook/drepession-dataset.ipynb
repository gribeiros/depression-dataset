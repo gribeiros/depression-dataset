{
 "cells": [
  {
   "cell_type": "markdown",
   "metadata": {},
   "source": [
    "# Análise do [Dataset Student Depression](https://www.kaggle.com/datasets/hopesb/student-depression-dataset/data?select=Student+Depression+Dataset.csv)\n",
    "\n",
    "Este notebook tem como objetivo demonstrar a criação de um projeto de Data Science, utilizando o dataset Student Depression para:\n",
    "- Explorar e entender os dados;\n",
    "- Realizar limpeza e transformações necessárias;\n",
    "- Engajar engenharia de recursos simples;\n",
    "- Treinar e avaliar modelos preditivos.\n",
    "\n",
    "O Dataset Student Depression contém dados sobre a depressão entre estudantes de diferentes níveis de escolaridade."
   ]
  },
  {
   "cell_type": "code",
   "execution_count": 1162,
   "metadata": {
    "_cell_guid": "b1076dfc-b9ad-4769-8c92-a6c4dae69d19",
    "_uuid": "8f2839f25d086af736a60e9eeb907d3b93b6e0e5",
    "execution": {
     "iopub.execute_input": "2025-01-16T21:18:32.386925Z",
     "iopub.status.busy": "2025-01-16T21:18:32.386398Z",
     "iopub.status.idle": "2025-01-16T21:18:32.655103Z",
     "shell.execute_reply": "2025-01-16T21:18:32.654061Z",
     "shell.execute_reply.started": "2025-01-16T21:18:32.386871Z"
    },
    "trusted": true
   },
   "outputs": [],
   "source": [
    "# Importando o pandas para manipulação e leitura dos dados\n",
    "import pandas as pd\n",
    "\n",
    "# Importando seaborn e matplotlib para criação de gráficos e visualizações\n",
    "import seaborn as sns\n",
    "import matplotlib.pyplot as plt\n",
    "\n",
    "# Importando o statsmodels para modelagem estatística (ex.: regressão logística)\n",
    "# e o módulo stepwise do pacote statstests para seleção de variáveis via procedimento stepwise\n",
    "import statsmodels.api as sm\n",
    "from statsmodels.stats.outliers_influence import variance_inflation_factor\n",
    "from statstests.process import stepwise\n",
    "\n",
    "# Importando funções do scikit-learn para:\n",
    "# - Métricas de avaliação (confusion matrix, accuracy, recall, etc.)\n",
    "# - Divisão dos dados em conjuntos de treino e teste\n",
    "# - Modelagem com árvores de decisão e visualização de árvores\n",
    "from sklearn.metrics import (confusion_matrix, accuracy_score, ConfusionMatrixDisplay,\n",
    "                             recall_score, roc_curve, auc, roc_auc_score,\n",
    "                             balanced_accuracy_score, classification_report)\n",
    "from sklearn.model_selection import train_test_split\n",
    "from sklearn.tree import DecisionTreeClassifier, plot_tree\n",
    "from scipy.stats import chi2_contingency\n",
    "from itertools import combinations\n",
    "\n",
    "# Configurando o pandas para exibir todas as linhas do DataFrame durante a análise exploratória\n",
    "pd.set_option(\"display.max_rows\", None)"
   ]
  },
  {
   "cell_type": "markdown",
   "metadata": {},
   "source": [
    "## Carregamento dos dados:"
   ]
  },
  {
   "cell_type": "code",
   "execution_count": 1163,
   "metadata": {
    "execution": {
     "iopub.execute_input": "2025-01-16T21:18:32.657073Z",
     "iopub.status.busy": "2025-01-16T21:18:32.656667Z",
     "iopub.status.idle": "2025-01-16T21:18:32.813379Z",
     "shell.execute_reply": "2025-01-16T21:18:32.811961Z",
     "shell.execute_reply.started": "2025-01-16T21:18:32.657035Z"
    },
    "trusted": true
   },
   "outputs": [
    {
     "name": "stdout",
     "output_type": "stream",
     "text": [
      "(27901, 18)\n"
     ]
    },
    {
     "data": {
      "application/vnd.microsoft.datawrangler.viewer.v0+json": {
       "columns": [
        {
         "name": "index",
         "rawType": "int64",
         "type": "integer"
        },
        {
         "name": "id",
         "rawType": "int64",
         "type": "integer"
        },
        {
         "name": "Gender",
         "rawType": "object",
         "type": "string"
        },
        {
         "name": "Age",
         "rawType": "float64",
         "type": "float"
        },
        {
         "name": "City",
         "rawType": "object",
         "type": "string"
        },
        {
         "name": "Profession",
         "rawType": "object",
         "type": "string"
        },
        {
         "name": "Academic Pressure",
         "rawType": "float64",
         "type": "float"
        },
        {
         "name": "Work Pressure",
         "rawType": "float64",
         "type": "float"
        },
        {
         "name": "CGPA",
         "rawType": "float64",
         "type": "float"
        },
        {
         "name": "Study Satisfaction",
         "rawType": "float64",
         "type": "float"
        },
        {
         "name": "Job Satisfaction",
         "rawType": "float64",
         "type": "float"
        },
        {
         "name": "Sleep Duration",
         "rawType": "object",
         "type": "string"
        },
        {
         "name": "Dietary Habits",
         "rawType": "object",
         "type": "string"
        },
        {
         "name": "Degree",
         "rawType": "object",
         "type": "string"
        },
        {
         "name": "Have you ever had suicidal thoughts ?",
         "rawType": "object",
         "type": "string"
        },
        {
         "name": "Work/Study Hours",
         "rawType": "float64",
         "type": "float"
        },
        {
         "name": "Financial Stress",
         "rawType": "float64",
         "type": "float"
        },
        {
         "name": "Family History of Mental Illness",
         "rawType": "object",
         "type": "string"
        },
        {
         "name": "Depression",
         "rawType": "int64",
         "type": "integer"
        }
       ],
       "conversionMethod": "pd.DataFrame",
       "ref": "0711e148-6837-4a40-b210-bfe84021f7fb",
       "rows": [
        [
         "0",
         "2",
         "Male",
         "33.0",
         "Visakhapatnam",
         "Student",
         "5.0",
         "0.0",
         "8.97",
         "2.0",
         "0.0",
         "5-6 hours",
         "Healthy",
         "B.Pharm",
         "Yes",
         "3.0",
         "1.0",
         "No",
         "1"
        ],
        [
         "1",
         "8",
         "Female",
         "24.0",
         "Bangalore",
         "Student",
         "2.0",
         "0.0",
         "5.9",
         "5.0",
         "0.0",
         "5-6 hours",
         "Moderate",
         "BSc",
         "No",
         "3.0",
         "2.0",
         "Yes",
         "0"
        ],
        [
         "2",
         "26",
         "Male",
         "31.0",
         "Srinagar",
         "Student",
         "3.0",
         "0.0",
         "7.03",
         "5.0",
         "0.0",
         "Less than 5 hours",
         "Healthy",
         "BA",
         "No",
         "9.0",
         "1.0",
         "Yes",
         "0"
        ],
        [
         "3",
         "30",
         "Female",
         "28.0",
         "Varanasi",
         "Student",
         "3.0",
         "0.0",
         "5.59",
         "2.0",
         "0.0",
         "7-8 hours",
         "Moderate",
         "BCA",
         "Yes",
         "4.0",
         "5.0",
         "Yes",
         "1"
        ],
        [
         "4",
         "32",
         "Female",
         "25.0",
         "Jaipur",
         "Student",
         "4.0",
         "0.0",
         "8.13",
         "3.0",
         "0.0",
         "5-6 hours",
         "Moderate",
         "M.Tech",
         "Yes",
         "1.0",
         "1.0",
         "No",
         "0"
        ]
       ],
       "shape": {
        "columns": 18,
        "rows": 5
       }
      },
      "text/html": [
       "<div>\n",
       "<style scoped>\n",
       "    .dataframe tbody tr th:only-of-type {\n",
       "        vertical-align: middle;\n",
       "    }\n",
       "\n",
       "    .dataframe tbody tr th {\n",
       "        vertical-align: top;\n",
       "    }\n",
       "\n",
       "    .dataframe thead th {\n",
       "        text-align: right;\n",
       "    }\n",
       "</style>\n",
       "<table border=\"1\" class=\"dataframe\">\n",
       "  <thead>\n",
       "    <tr style=\"text-align: right;\">\n",
       "      <th></th>\n",
       "      <th>id</th>\n",
       "      <th>Gender</th>\n",
       "      <th>Age</th>\n",
       "      <th>City</th>\n",
       "      <th>Profession</th>\n",
       "      <th>Academic Pressure</th>\n",
       "      <th>Work Pressure</th>\n",
       "      <th>CGPA</th>\n",
       "      <th>Study Satisfaction</th>\n",
       "      <th>Job Satisfaction</th>\n",
       "      <th>Sleep Duration</th>\n",
       "      <th>Dietary Habits</th>\n",
       "      <th>Degree</th>\n",
       "      <th>Have you ever had suicidal thoughts ?</th>\n",
       "      <th>Work/Study Hours</th>\n",
       "      <th>Financial Stress</th>\n",
       "      <th>Family History of Mental Illness</th>\n",
       "      <th>Depression</th>\n",
       "    </tr>\n",
       "  </thead>\n",
       "  <tbody>\n",
       "    <tr>\n",
       "      <th>0</th>\n",
       "      <td>2</td>\n",
       "      <td>Male</td>\n",
       "      <td>33.0</td>\n",
       "      <td>Visakhapatnam</td>\n",
       "      <td>Student</td>\n",
       "      <td>5.0</td>\n",
       "      <td>0.0</td>\n",
       "      <td>8.97</td>\n",
       "      <td>2.0</td>\n",
       "      <td>0.0</td>\n",
       "      <td>5-6 hours</td>\n",
       "      <td>Healthy</td>\n",
       "      <td>B.Pharm</td>\n",
       "      <td>Yes</td>\n",
       "      <td>3.0</td>\n",
       "      <td>1.0</td>\n",
       "      <td>No</td>\n",
       "      <td>1</td>\n",
       "    </tr>\n",
       "    <tr>\n",
       "      <th>1</th>\n",
       "      <td>8</td>\n",
       "      <td>Female</td>\n",
       "      <td>24.0</td>\n",
       "      <td>Bangalore</td>\n",
       "      <td>Student</td>\n",
       "      <td>2.0</td>\n",
       "      <td>0.0</td>\n",
       "      <td>5.90</td>\n",
       "      <td>5.0</td>\n",
       "      <td>0.0</td>\n",
       "      <td>5-6 hours</td>\n",
       "      <td>Moderate</td>\n",
       "      <td>BSc</td>\n",
       "      <td>No</td>\n",
       "      <td>3.0</td>\n",
       "      <td>2.0</td>\n",
       "      <td>Yes</td>\n",
       "      <td>0</td>\n",
       "    </tr>\n",
       "    <tr>\n",
       "      <th>2</th>\n",
       "      <td>26</td>\n",
       "      <td>Male</td>\n",
       "      <td>31.0</td>\n",
       "      <td>Srinagar</td>\n",
       "      <td>Student</td>\n",
       "      <td>3.0</td>\n",
       "      <td>0.0</td>\n",
       "      <td>7.03</td>\n",
       "      <td>5.0</td>\n",
       "      <td>0.0</td>\n",
       "      <td>Less than 5 hours</td>\n",
       "      <td>Healthy</td>\n",
       "      <td>BA</td>\n",
       "      <td>No</td>\n",
       "      <td>9.0</td>\n",
       "      <td>1.0</td>\n",
       "      <td>Yes</td>\n",
       "      <td>0</td>\n",
       "    </tr>\n",
       "    <tr>\n",
       "      <th>3</th>\n",
       "      <td>30</td>\n",
       "      <td>Female</td>\n",
       "      <td>28.0</td>\n",
       "      <td>Varanasi</td>\n",
       "      <td>Student</td>\n",
       "      <td>3.0</td>\n",
       "      <td>0.0</td>\n",
       "      <td>5.59</td>\n",
       "      <td>2.0</td>\n",
       "      <td>0.0</td>\n",
       "      <td>7-8 hours</td>\n",
       "      <td>Moderate</td>\n",
       "      <td>BCA</td>\n",
       "      <td>Yes</td>\n",
       "      <td>4.0</td>\n",
       "      <td>5.0</td>\n",
       "      <td>Yes</td>\n",
       "      <td>1</td>\n",
       "    </tr>\n",
       "    <tr>\n",
       "      <th>4</th>\n",
       "      <td>32</td>\n",
       "      <td>Female</td>\n",
       "      <td>25.0</td>\n",
       "      <td>Jaipur</td>\n",
       "      <td>Student</td>\n",
       "      <td>4.0</td>\n",
       "      <td>0.0</td>\n",
       "      <td>8.13</td>\n",
       "      <td>3.0</td>\n",
       "      <td>0.0</td>\n",
       "      <td>5-6 hours</td>\n",
       "      <td>Moderate</td>\n",
       "      <td>M.Tech</td>\n",
       "      <td>Yes</td>\n",
       "      <td>1.0</td>\n",
       "      <td>1.0</td>\n",
       "      <td>No</td>\n",
       "      <td>0</td>\n",
       "    </tr>\n",
       "  </tbody>\n",
       "</table>\n",
       "</div>"
      ],
      "text/plain": [
       "   id  Gender   Age           City Profession  Academic Pressure  \\\n",
       "0   2    Male  33.0  Visakhapatnam    Student                5.0   \n",
       "1   8  Female  24.0      Bangalore    Student                2.0   \n",
       "2  26    Male  31.0       Srinagar    Student                3.0   \n",
       "3  30  Female  28.0       Varanasi    Student                3.0   \n",
       "4  32  Female  25.0         Jaipur    Student                4.0   \n",
       "\n",
       "   Work Pressure  CGPA  Study Satisfaction  Job Satisfaction  \\\n",
       "0            0.0  8.97                 2.0               0.0   \n",
       "1            0.0  5.90                 5.0               0.0   \n",
       "2            0.0  7.03                 5.0               0.0   \n",
       "3            0.0  5.59                 2.0               0.0   \n",
       "4            0.0  8.13                 3.0               0.0   \n",
       "\n",
       "      Sleep Duration Dietary Habits   Degree  \\\n",
       "0          5-6 hours        Healthy  B.Pharm   \n",
       "1          5-6 hours       Moderate      BSc   \n",
       "2  Less than 5 hours        Healthy       BA   \n",
       "3          7-8 hours       Moderate      BCA   \n",
       "4          5-6 hours       Moderate   M.Tech   \n",
       "\n",
       "  Have you ever had suicidal thoughts ?  Work/Study Hours  Financial Stress  \\\n",
       "0                                   Yes               3.0               1.0   \n",
       "1                                    No               3.0               2.0   \n",
       "2                                    No               9.0               1.0   \n",
       "3                                   Yes               4.0               5.0   \n",
       "4                                   Yes               1.0               1.0   \n",
       "\n",
       "  Family History of Mental Illness  Depression  \n",
       "0                               No           1  \n",
       "1                              Yes           0  \n",
       "2                              Yes           0  \n",
       "3                              Yes           1  \n",
       "4                               No           0  "
      ]
     },
     "execution_count": 1163,
     "metadata": {},
     "output_type": "execute_result"
    }
   ],
   "source": [
    "\n",
    "dataset_path = '../data/Student Depression Dataset.csv'\n",
    "df = pd.read_csv(dataset_path)\n",
    "print(df.shape)\n",
    "df.head()"
   ]
  },
  {
   "cell_type": "markdown",
   "metadata": {},
   "source": [
    "## Exploração e Limpeza de Dados"
   ]
  },
  {
   "cell_type": "code",
   "execution_count": 1164,
   "metadata": {},
   "outputs": [
    {
     "name": "stdout",
     "output_type": "stream",
     "text": [
      "<class 'pandas.core.frame.DataFrame'>\n",
      "RangeIndex: 27901 entries, 0 to 27900\n",
      "Data columns (total 18 columns):\n",
      " #   Column                                 Non-Null Count  Dtype  \n",
      "---  ------                                 --------------  -----  \n",
      " 0   id                                     27901 non-null  int64  \n",
      " 1   Gender                                 27901 non-null  object \n",
      " 2   Age                                    27901 non-null  float64\n",
      " 3   City                                   27901 non-null  object \n",
      " 4   Profession                             27901 non-null  object \n",
      " 5   Academic Pressure                      27901 non-null  float64\n",
      " 6   Work Pressure                          27901 non-null  float64\n",
      " 7   CGPA                                   27901 non-null  float64\n",
      " 8   Study Satisfaction                     27901 non-null  float64\n",
      " 9   Job Satisfaction                       27901 non-null  float64\n",
      " 10  Sleep Duration                         27901 non-null  object \n",
      " 11  Dietary Habits                         27901 non-null  object \n",
      " 12  Degree                                 27901 non-null  object \n",
      " 13  Have you ever had suicidal thoughts ?  27901 non-null  object \n",
      " 14  Work/Study Hours                       27901 non-null  float64\n",
      " 15  Financial Stress                       27898 non-null  float64\n",
      " 16  Family History of Mental Illness       27901 non-null  object \n",
      " 17  Depression                             27901 non-null  int64  \n",
      "dtypes: float64(8), int64(2), object(8)\n",
      "memory usage: 3.8+ MB\n"
     ]
    }
   ],
   "source": [
    "df.info()"
   ]
  },
  {
   "cell_type": "code",
   "execution_count": 1165,
   "metadata": {},
   "outputs": [],
   "source": [
    "# Removendo a coluna id\n",
    "df.drop(columns=['id'], inplace=True)"
   ]
  },
  {
   "cell_type": "code",
   "execution_count": 1166,
   "metadata": {},
   "outputs": [],
   "source": [
    "# Renomeando as colunas\n",
    "df.rename(columns={\n",
    "    'Academic Pressure': 'AP',\n",
    "    'Work Pressure': 'WP',\n",
    "    'Study Satisfaction': 'SS',\n",
    "    'Job Satisfaction': 'JS',\n",
    "    'Sleep Duration': 'SD',\n",
    "    'Dietary Habits': 'DH',\n",
    "    'Have you ever had suicidal thoughts ?': 'ST',\n",
    "    'Work/Study Hours': 'WSH',\n",
    "    'Financial Stress': 'FS',\n",
    "    'Family History of Mental Illness': 'FHMI'\n",
    "}, inplace=True)"
   ]
  },
  {
   "cell_type": "code",
   "execution_count": 1167,
   "metadata": {},
   "outputs": [
    {
     "name": "stdout",
     "output_type": "stream",
     "text": [
      "Valores null:\n",
      "Gender        0\n",
      "Age           0\n",
      "City          0\n",
      "Profession    0\n",
      "AP            0\n",
      "WP            0\n",
      "CGPA          0\n",
      "SS            0\n",
      "JS            0\n",
      "SD            0\n",
      "DH            0\n",
      "Degree        0\n",
      "ST            0\n",
      "WSH           0\n",
      "FS            3\n",
      "FHMI          0\n",
      "Depression    0\n",
      "dtype: int64\n",
      "\n",
      "Valores nan:\n",
      "Gender        0\n",
      "Age           0\n",
      "City          0\n",
      "Profession    0\n",
      "AP            0\n",
      "WP            0\n",
      "CGPA          0\n",
      "SS            0\n",
      "JS            0\n",
      "SD            0\n",
      "DH            0\n",
      "Degree        0\n",
      "ST            0\n",
      "WSH           0\n",
      "FS            3\n",
      "FHMI          0\n",
      "Depression    0\n",
      "dtype: int64\n",
      "\n"
     ]
    }
   ],
   "source": [
    "# Validando valores nulos:\n",
    "print(f'Valores null:\\n{df.isnull().sum()}\\n')\n",
    "print(f'Valores nan:\\n{df.isna().sum()}\\n')"
   ]
  },
  {
   "cell_type": "code",
   "execution_count": 1168,
   "metadata": {},
   "outputs": [],
   "source": [
    "# Removendo os valores nulos\n",
    "df.dropna(inplace=True)"
   ]
  },
  {
   "cell_type": "code",
   "execution_count": 1169,
   "metadata": {},
   "outputs": [
    {
     "name": "stdout",
     "output_type": "stream",
     "text": [
      "Columns Object: ['Gender', 'City', 'Profession', 'SD', 'DH', 'Degree', 'ST', 'FHMI'] qtd:8\n",
      "\n",
      "Columns Numeric: ['Age', 'AP', 'WP', 'CGPA', 'SS', 'JS', 'WSH', 'FS', 'Depression'] qtd:9\n"
     ]
    }
   ],
   "source": [
    "# Selecionando colunas por tipo\n",
    "columns_object = df.select_dtypes(include=['object']).columns.tolist()\n",
    "columns_numeric = df.select_dtypes(include=['number']).columns.tolist()\n",
    "\n",
    "# Exibindo os nomes das colunas\n",
    "print(f\"Columns Object: {columns_object} qtd:{len(columns_object)}\\n\")\n",
    "print(f\"Columns Numeric: {columns_numeric} qtd:{len(columns_numeric)}\")"
   ]
  },
  {
   "cell_type": "code",
   "execution_count": 1170,
   "metadata": {},
   "outputs": [
    {
     "data": {
      "image/png": "[encoded data removed]",
      "text/plain": [
       "<Figure size 1000x800 with 2 Axes>"
      ]
     },
     "metadata": {},
     "output_type": "display_data"
    }
   ],
   "source": [
    "plt.figure(figsize=(10, 8))\n",
    "sns.heatmap(df[columns_numeric].corr(), annot=True,\n",
    "            fmt=\".4f\",  annot_kws={'size': 10}, vmin=-1, vmax=1)\n",
    "plt.show()"
   ]
  },
  {
   "cell_type": "code",
   "execution_count": 1171,
   "metadata": {},
   "outputs": [
    {
     "data": {
      "application/vnd.microsoft.datawrangler.viewer.v0+json": {
       "columns": [
        {
         "name": "index",
         "rawType": "int64",
         "type": "integer"
        },
        {
         "name": "Feature",
         "rawType": "object",
         "type": "string"
        },
        {
         "name": "VIF",
         "rawType": "float64",
         "type": "float"
        }
       ],
       "conversionMethod": "pd.DataFrame",
       "ref": "5a02e25e-1bf6-4153-bd7c-84d1c23820bd",
       "rows": [
        [
         "0",
         "Age",
         "18.301233333007573"
        ],
        [
         "1",
         "AP",
         "7.569262136860898"
        ],
        [
         "2",
         "WP",
         "2.463266272686653"
        ],
        [
         "3",
         "CGPA",
         "18.220940976647025"
        ],
        [
         "4",
         "SS",
         "5.262520301938392"
        ],
        [
         "5",
         "JS",
         "2.4640247979521304"
        ],
        [
         "6",
         "WSH",
         "4.771614279546023"
        ],
        [
         "7",
         "FS",
         "6.311872161017725"
        ],
        [
         "8",
         "Depression",
         "3.825147007629737"
        ]
       ],
       "shape": {
        "columns": 2,
        "rows": 9
       }
      },
      "text/html": [
       "<div>\n",
       "<style scoped>\n",
       "    .dataframe tbody tr th:only-of-type {\n",
       "        vertical-align: middle;\n",
       "    }\n",
       "\n",
       "    .dataframe tbody tr th {\n",
       "        vertical-align: top;\n",
       "    }\n",
       "\n",
       "    .dataframe thead th {\n",
       "        text-align: right;\n",
       "    }\n",
       "</style>\n",
       "<table border=\"1\" class=\"dataframe\">\n",
       "  <thead>\n",
       "    <tr style=\"text-align: right;\">\n",
       "      <th></th>\n",
       "      <th>Feature</th>\n",
       "      <th>VIF</th>\n",
       "    </tr>\n",
       "  </thead>\n",
       "  <tbody>\n",
       "    <tr>\n",
       "      <th>0</th>\n",
       "      <td>Age</td>\n",
       "      <td>18.301233</td>\n",
       "    </tr>\n",
       "    <tr>\n",
       "      <th>1</th>\n",
       "      <td>AP</td>\n",
       "      <td>7.569262</td>\n",
       "    </tr>\n",
       "    <tr>\n",
       "      <th>2</th>\n",
       "      <td>WP</td>\n",
       "      <td>2.463266</td>\n",
       "    </tr>\n",
       "    <tr>\n",
       "      <th>3</th>\n",
       "      <td>CGPA</td>\n",
       "      <td>18.220941</td>\n",
       "    </tr>\n",
       "    <tr>\n",
       "      <th>4</th>\n",
       "      <td>SS</td>\n",
       "      <td>5.262520</td>\n",
       "    </tr>\n",
       "    <tr>\n",
       "      <th>5</th>\n",
       "      <td>JS</td>\n",
       "      <td>2.464025</td>\n",
       "    </tr>\n",
       "    <tr>\n",
       "      <th>6</th>\n",
       "      <td>WSH</td>\n",
       "      <td>4.771614</td>\n",
       "    </tr>\n",
       "    <tr>\n",
       "      <th>7</th>\n",
       "      <td>FS</td>\n",
       "      <td>6.311872</td>\n",
       "    </tr>\n",
       "    <tr>\n",
       "      <th>8</th>\n",
       "      <td>Depression</td>\n",
       "      <td>3.825147</td>\n",
       "    </tr>\n",
       "  </tbody>\n",
       "</table>\n",
       "</div>"
      ],
      "text/plain": [
       "      Feature        VIF\n",
       "0         Age  18.301233\n",
       "1          AP   7.569262\n",
       "2          WP   2.463266\n",
       "3        CGPA  18.220941\n",
       "4          SS   5.262520\n",
       "5          JS   2.464025\n",
       "6         WSH   4.771614\n",
       "7          FS   6.311872\n",
       "8  Depression   3.825147"
      ]
     },
     "execution_count": 1171,
     "metadata": {},
     "output_type": "execute_result"
    }
   ],
   "source": [
    "df1 = df.copy()\n",
    "\n",
    "vif = pd.DataFrame()\n",
    "vif['Feature'] = columns_numeric\n",
    "vif['VIF'] = [variance_inflation_factor(\n",
    "    df1[columns_numeric].values, i) for i in range(len(columns_numeric))]\n",
    "vif"
   ]
  },
  {
   "cell_type": "code",
   "execution_count": 1172,
   "metadata": {},
   "outputs": [],
   "source": [
    "df1.drop(columns=['CGPA'], inplace=True)"
   ]
  },
  {
   "cell_type": "code",
   "execution_count": 1173,
   "metadata": {},
   "outputs": [
    {
     "data": {
      "application/vnd.microsoft.datawrangler.viewer.v0+json": {
       "columns": [
        {
         "name": "index",
         "rawType": "int64",
         "type": "integer"
        },
        {
         "name": "Feature",
         "rawType": "object",
         "type": "string"
        },
        {
         "name": "VIF",
         "rawType": "float64",
         "type": "float"
        }
       ],
       "conversionMethod": "pd.DataFrame",
       "ref": "b7a6440b-1b6d-4d11-9602-14aa65ae4946",
       "rows": [
        [
         "0",
         "Age",
         "11.257194659698492"
        ],
        [
         "1",
         "AP",
         "7.446241798217224"
        ],
        [
         "2",
         "WP",
         "2.4629554999484227"
        ],
        [
         "3",
         "SS",
         "5.061472108668216"
        ],
        [
         "4",
         "JS",
         "2.46361128404971"
        ],
        [
         "5",
         "WSH",
         "4.6816774647476995"
        ],
        [
         "6",
         "FS",
         "6.129309807683294"
        ],
        [
         "7",
         "Depression",
         "3.800987356964851"
        ]
       ],
       "shape": {
        "columns": 2,
        "rows": 8
       }
      },
      "text/html": [
       "<div>\n",
       "<style scoped>\n",
       "    .dataframe tbody tr th:only-of-type {\n",
       "        vertical-align: middle;\n",
       "    }\n",
       "\n",
       "    .dataframe tbody tr th {\n",
       "        vertical-align: top;\n",
       "    }\n",
       "\n",
       "    .dataframe thead th {\n",
       "        text-align: right;\n",
       "    }\n",
       "</style>\n",
       "<table border=\"1\" class=\"dataframe\">\n",
       "  <thead>\n",
       "    <tr style=\"text-align: right;\">\n",
       "      <th></th>\n",
       "      <th>Feature</th>\n",
       "      <th>VIF</th>\n",
       "    </tr>\n",
       "  </thead>\n",
       "  <tbody>\n",
       "    <tr>\n",
       "      <th>0</th>\n",
       "      <td>Age</td>\n",
       "      <td>11.257195</td>\n",
       "    </tr>\n",
       "    <tr>\n",
       "      <th>1</th>\n",
       "      <td>AP</td>\n",
       "      <td>7.446242</td>\n",
       "    </tr>\n",
       "    <tr>\n",
       "      <th>2</th>\n",
       "      <td>WP</td>\n",
       "      <td>2.462955</td>\n",
       "    </tr>\n",
       "    <tr>\n",
       "      <th>3</th>\n",
       "      <td>SS</td>\n",
       "      <td>5.061472</td>\n",
       "    </tr>\n",
       "    <tr>\n",
       "      <th>4</th>\n",
       "      <td>JS</td>\n",
       "      <td>2.463611</td>\n",
       "    </tr>\n",
       "    <tr>\n",
       "      <th>5</th>\n",
       "      <td>WSH</td>\n",
       "      <td>4.681677</td>\n",
       "    </tr>\n",
       "    <tr>\n",
       "      <th>6</th>\n",
       "      <td>FS</td>\n",
       "      <td>6.129310</td>\n",
       "    </tr>\n",
       "    <tr>\n",
       "      <th>7</th>\n",
       "      <td>Depression</td>\n",
       "      <td>3.800987</td>\n",
       "    </tr>\n",
       "  </tbody>\n",
       "</table>\n",
       "</div>"
      ],
      "text/plain": [
       "      Feature        VIF\n",
       "0         Age  11.257195\n",
       "1          AP   7.446242\n",
       "2          WP   2.462955\n",
       "3          SS   5.061472\n",
       "4          JS   2.463611\n",
       "5         WSH   4.681677\n",
       "6          FS   6.129310\n",
       "7  Depression   3.800987"
      ]
     },
     "execution_count": 1173,
     "metadata": {},
     "output_type": "execute_result"
    }
   ],
   "source": [
    "vif = pd.DataFrame()\n",
    "columns_numeric = df1.select_dtypes(include=['number']).columns.tolist()\n",
    "vif['Feature'] = columns_numeric\n",
    "vif['VIF'] = [variance_inflation_factor(\n",
    "    df1[columns_numeric].values, i) for i in range(len(columns_numeric))]\n",
    "vif"
   ]
  },
  {
   "cell_type": "code",
   "execution_count": 1174,
   "metadata": {},
   "outputs": [],
   "source": [
    "df1.drop(columns=['Age'], inplace=True)"
   ]
  },
  {
   "cell_type": "code",
   "execution_count": 1175,
   "metadata": {},
   "outputs": [
    {
     "data": {
      "application/vnd.microsoft.datawrangler.viewer.v0+json": {
       "columns": [
        {
         "name": "index",
         "rawType": "int64",
         "type": "integer"
        },
        {
         "name": "Feature",
         "rawType": "object",
         "type": "string"
        },
        {
         "name": "VIF",
         "rawType": "float64",
         "type": "float"
        }
       ],
       "conversionMethod": "pd.DataFrame",
       "ref": "5957be4c-deb5-49b9-904d-1accc192299b",
       "rows": [
        [
         "0",
         "AP",
         "6.161946045002361"
        ],
        [
         "1",
         "WP",
         "2.4627757428354786"
        ],
        [
         "2",
         "SS",
         "3.961432122079147"
        ],
        [
         "3",
         "JS",
         "2.463466222954387"
        ],
        [
         "4",
         "WSH",
         "4.163657411166824"
        ],
        [
         "5",
         "FS",
         "5.336383414284093"
        ],
        [
         "6",
         "Depression",
         "3.621928134964693"
        ]
       ],
       "shape": {
        "columns": 2,
        "rows": 7
       }
      },
      "text/html": [
       "<div>\n",
       "<style scoped>\n",
       "    .dataframe tbody tr th:only-of-type {\n",
       "        vertical-align: middle;\n",
       "    }\n",
       "\n",
       "    .dataframe tbody tr th {\n",
       "        vertical-align: top;\n",
       "    }\n",
       "\n",
       "    .dataframe thead th {\n",
       "        text-align: right;\n",
       "    }\n",
       "</style>\n",
       "<table border=\"1\" class=\"dataframe\">\n",
       "  <thead>\n",
       "    <tr style=\"text-align: right;\">\n",
       "      <th></th>\n",
       "      <th>Feature</th>\n",
       "      <th>VIF</th>\n",
       "    </tr>\n",
       "  </thead>\n",
       "  <tbody>\n",
       "    <tr>\n",
       "      <th>0</th>\n",
       "      <td>AP</td>\n",
       "      <td>6.161946</td>\n",
       "    </tr>\n",
       "    <tr>\n",
       "      <th>1</th>\n",
       "      <td>WP</td>\n",
       "      <td>2.462776</td>\n",
       "    </tr>\n",
       "    <tr>\n",
       "      <th>2</th>\n",
       "      <td>SS</td>\n",
       "      <td>3.961432</td>\n",
       "    </tr>\n",
       "    <tr>\n",
       "      <th>3</th>\n",
       "      <td>JS</td>\n",
       "      <td>2.463466</td>\n",
       "    </tr>\n",
       "    <tr>\n",
       "      <th>4</th>\n",
       "      <td>WSH</td>\n",
       "      <td>4.163657</td>\n",
       "    </tr>\n",
       "    <tr>\n",
       "      <th>5</th>\n",
       "      <td>FS</td>\n",
       "      <td>5.336383</td>\n",
       "    </tr>\n",
       "    <tr>\n",
       "      <th>6</th>\n",
       "      <td>Depression</td>\n",
       "      <td>3.621928</td>\n",
       "    </tr>\n",
       "  </tbody>\n",
       "</table>\n",
       "</div>"
      ],
      "text/plain": [
       "      Feature       VIF\n",
       "0          AP  6.161946\n",
       "1          WP  2.462776\n",
       "2          SS  3.961432\n",
       "3          JS  2.463466\n",
       "4         WSH  4.163657\n",
       "5          FS  5.336383\n",
       "6  Depression  3.621928"
      ]
     },
     "execution_count": 1175,
     "metadata": {},
     "output_type": "execute_result"
    }
   ],
   "source": [
    "vif = pd.DataFrame()\n",
    "columns_numeric = df1.select_dtypes(include=['number']).columns.tolist()\n",
    "vif['Feature'] = columns_numeric\n",
    "vif['VIF'] = [variance_inflation_factor(\n",
    "    df1[columns_numeric].values, i) for i in range(len(columns_numeric))]\n",
    "vif"
   ]
  },
  {
   "cell_type": "code",
   "execution_count": 1176,
   "metadata": {},
   "outputs": [
    {
     "data": {
      "application/vnd.microsoft.datawrangler.viewer.v0+json": {
       "columns": [
        {
         "name": "index",
         "rawType": "int64",
         "type": "integer"
        },
        {
         "name": "comparation",
         "rawType": "object",
         "type": "string"
        },
        {
         "name": "p_valor",
         "rawType": "float64",
         "type": "float"
        },
        {
         "name": "chi2",
         "rawType": "float64",
         "type": "float"
        },
        {
         "name": "dof",
         "rawType": "int64",
         "type": "integer"
        }
       ],
       "conversionMethod": "pd.DataFrame",
       "ref": "1f7a8585-f7cb-4de3-9575-dbcbf5589a97",
       "rows": [
        [
         "8",
         "SD vs FHMI",
         "0.277",
         "5.1",
         "4"
        ],
        [
         "6",
         "Profession vs ST",
         "0.5475",
         "11.76",
         "13"
        ],
        [
         "4",
         "Profession vs SD",
         "0.9016",
         "39.35",
         "52"
        ],
        [
         "7",
         "Profession vs FHMI",
         "0.4423",
         "13.07",
         "13"
        ],
        [
         "5",
         "Profession vs DH",
         "0.9056",
         "27.97",
         "39"
        ],
        [
         "2",
         "Gender vs ST",
         "0.8374",
         "0.04",
         "1"
        ],
        [
         "1",
         "Gender vs SD",
         "0.2872",
         "5.0",
         "4"
        ],
        [
         "0",
         "Gender vs Profession",
         "0.2329",
         "16.31",
         "13"
        ],
        [
         "9",
         "DH vs FHMI",
         "0.2264",
         "4.35",
         "3"
        ],
        [
         "3",
         "City vs Profession",
         "1.0",
         "383.06",
         "663"
        ]
       ],
       "shape": {
        "columns": 4,
        "rows": 10
       }
      },
      "text/html": [
       "<div>\n",
       "<style scoped>\n",
       "    .dataframe tbody tr th:only-of-type {\n",
       "        vertical-align: middle;\n",
       "    }\n",
       "\n",
       "    .dataframe tbody tr th {\n",
       "        vertical-align: top;\n",
       "    }\n",
       "\n",
       "    .dataframe thead th {\n",
       "        text-align: right;\n",
       "    }\n",
       "</style>\n",
       "<table border=\"1\" class=\"dataframe\">\n",
       "  <thead>\n",
       "    <tr style=\"text-align: right;\">\n",
       "      <th></th>\n",
       "      <th>comparation</th>\n",
       "      <th>p_valor</th>\n",
       "      <th>chi2</th>\n",
       "      <th>dof</th>\n",
       "    </tr>\n",
       "  </thead>\n",
       "  <tbody>\n",
       "    <tr>\n",
       "      <th>8</th>\n",
       "      <td>SD vs FHMI</td>\n",
       "      <td>0.2770</td>\n",
       "      <td>5.10</td>\n",
       "      <td>4</td>\n",
       "    </tr>\n",
       "    <tr>\n",
       "      <th>6</th>\n",
       "      <td>Profession vs ST</td>\n",
       "      <td>0.5475</td>\n",
       "      <td>11.76</td>\n",
       "      <td>13</td>\n",
       "    </tr>\n",
       "    <tr>\n",
       "      <th>4</th>\n",
       "      <td>Profession vs SD</td>\n",
       "      <td>0.9016</td>\n",
       "      <td>39.35</td>\n",
       "      <td>52</td>\n",
       "    </tr>\n",
       "    <tr>\n",
       "      <th>7</th>\n",
       "      <td>Profession vs FHMI</td>\n",
       "      <td>0.4423</td>\n",
       "      <td>13.07</td>\n",
       "      <td>13</td>\n",
       "    </tr>\n",
       "    <tr>\n",
       "      <th>5</th>\n",
       "      <td>Profession vs DH</td>\n",
       "      <td>0.9056</td>\n",
       "      <td>27.97</td>\n",
       "      <td>39</td>\n",
       "    </tr>\n",
       "    <tr>\n",
       "      <th>2</th>\n",
       "      <td>Gender vs ST</td>\n",
       "      <td>0.8374</td>\n",
       "      <td>0.04</td>\n",
       "      <td>1</td>\n",
       "    </tr>\n",
       "    <tr>\n",
       "      <th>1</th>\n",
       "      <td>Gender vs SD</td>\n",
       "      <td>0.2872</td>\n",
       "      <td>5.00</td>\n",
       "      <td>4</td>\n",
       "    </tr>\n",
       "    <tr>\n",
       "      <th>0</th>\n",
       "      <td>Gender vs Profession</td>\n",
       "      <td>0.2329</td>\n",
       "      <td>16.31</td>\n",
       "      <td>13</td>\n",
       "    </tr>\n",
       "    <tr>\n",
       "      <th>9</th>\n",
       "      <td>DH vs FHMI</td>\n",
       "      <td>0.2264</td>\n",
       "      <td>4.35</td>\n",
       "      <td>3</td>\n",
       "    </tr>\n",
       "    <tr>\n",
       "      <th>3</th>\n",
       "      <td>City vs Profession</td>\n",
       "      <td>1.0000</td>\n",
       "      <td>383.06</td>\n",
       "      <td>663</td>\n",
       "    </tr>\n",
       "  </tbody>\n",
       "</table>\n",
       "</div>"
      ],
      "text/plain": [
       "            comparation  p_valor    chi2  dof\n",
       "8            SD vs FHMI   0.2770    5.10    4\n",
       "6      Profession vs ST   0.5475   11.76   13\n",
       "4      Profession vs SD   0.9016   39.35   52\n",
       "7    Profession vs FHMI   0.4423   13.07   13\n",
       "5      Profession vs DH   0.9056   27.97   39\n",
       "2          Gender vs ST   0.8374    0.04    1\n",
       "1          Gender vs SD   0.2872    5.00    4\n",
       "0  Gender vs Profession   0.2329   16.31   13\n",
       "9            DH vs FHMI   0.2264    4.35    3\n",
       "3    City vs Profession   1.0000  383.06  663"
      ]
     },
     "execution_count": 1176,
     "metadata": {},
     "output_type": "execute_result"
    }
   ],
   "source": [
    "result = []\n",
    "columns_object = df1.select_dtypes(include=['object']).columns.tolist()\n",
    "for item in combinations(columns_object, 2):\n",
    "\n",
    "    table = pd.crosstab(df1[item[0]], df1[item[1]])\n",
    "\n",
    "    chi2, pvalor, dof, _ = chi2_contingency(table)\n",
    "\n",
    "    if pvalor >= 0.05:\n",
    "        result.append({\n",
    "            'comparation': f'{item[0]} vs {item[1]}',\n",
    "            'p_valor': round(pvalor, 4),\n",
    "            'chi2': round(chi2, 2),\n",
    "            'dof': dof,\n",
    "        })\n",
    "\n",
    "table_chi = pd.DataFrame(result)\n",
    "table_chi.sort_values(by=['comparation','p_valor'],ascending=False)"
   ]
  },
  {
   "cell_type": "code",
   "execution_count": 1177,
   "metadata": {},
   "outputs": [
    {
     "data": {
      "text/plain": [
       "Profession\n",
       "Student                   27867\n",
       "Architect                     8\n",
       "Teacher                       6\n",
       "Digital Marketer              3\n",
       "Chef                          2\n",
       "Content Writer                2\n",
       "Pharmacist                    2\n",
       "Doctor                        2\n",
       "UX/UI Designer                1\n",
       "Civil Engineer                1\n",
       "Manager                       1\n",
       "Educational Consultant        1\n",
       "Lawyer                        1\n",
       "Entrepreneur                  1\n",
       "Name: count, dtype: int64"
      ]
     },
     "execution_count": 1177,
     "metadata": {},
     "output_type": "execute_result"
    }
   ],
   "source": [
    "df1['Profession'].value_counts()"
   ]
  },
  {
   "cell_type": "code",
   "execution_count": 1178,
   "metadata": {},
   "outputs": [],
   "source": [
    "df1.query('Profession == \"Student\"', inplace=True)\n",
    "df1.drop(columns=['Profession'], inplace=True)"
   ]
  },
  {
   "cell_type": "code",
   "execution_count": 1179,
   "metadata": {},
   "outputs": [
    {
     "data": {
      "application/vnd.microsoft.datawrangler.viewer.v0+json": {
       "columns": [
        {
         "name": "index",
         "rawType": "int64",
         "type": "integer"
        },
        {
         "name": "comparation",
         "rawType": "object",
         "type": "string"
        },
        {
         "name": "p_valor",
         "rawType": "float64",
         "type": "float"
        },
        {
         "name": "chi2",
         "rawType": "float64",
         "type": "float"
        },
        {
         "name": "dof",
         "rawType": "int64",
         "type": "integer"
        }
       ],
       "conversionMethod": "pd.DataFrame",
       "ref": "d65d5cab-5cee-46cc-bda3-e55fdff098c9",
       "rows": [
        [
         "2",
         "SD vs FHMI",
         "0.2633",
         "5.24",
         "4"
        ],
        [
         "1",
         "Gender vs ST",
         "0.8255",
         "0.05",
         "1"
        ],
        [
         "0",
         "Gender vs SD",
         "0.2803",
         "5.07",
         "4"
        ],
        [
         "3",
         "DH vs FHMI",
         "0.235",
         "4.26",
         "3"
        ]
       ],
       "shape": {
        "columns": 4,
        "rows": 4
       }
      },
      "text/html": [
       "<div>\n",
       "<style scoped>\n",
       "    .dataframe tbody tr th:only-of-type {\n",
       "        vertical-align: middle;\n",
       "    }\n",
       "\n",
       "    .dataframe tbody tr th {\n",
       "        vertical-align: top;\n",
       "    }\n",
       "\n",
       "    .dataframe thead th {\n",
       "        text-align: right;\n",
       "    }\n",
       "</style>\n",
       "<table border=\"1\" class=\"dataframe\">\n",
       "  <thead>\n",
       "    <tr style=\"text-align: right;\">\n",
       "      <th></th>\n",
       "      <th>comparation</th>\n",
       "      <th>p_valor</th>\n",
       "      <th>chi2</th>\n",
       "      <th>dof</th>\n",
       "    </tr>\n",
       "  </thead>\n",
       "  <tbody>\n",
       "    <tr>\n",
       "      <th>2</th>\n",
       "      <td>SD vs FHMI</td>\n",
       "      <td>0.2633</td>\n",
       "      <td>5.24</td>\n",
       "      <td>4</td>\n",
       "    </tr>\n",
       "    <tr>\n",
       "      <th>1</th>\n",
       "      <td>Gender vs ST</td>\n",
       "      <td>0.8255</td>\n",
       "      <td>0.05</td>\n",
       "      <td>1</td>\n",
       "    </tr>\n",
       "    <tr>\n",
       "      <th>0</th>\n",
       "      <td>Gender vs SD</td>\n",
       "      <td>0.2803</td>\n",
       "      <td>5.07</td>\n",
       "      <td>4</td>\n",
       "    </tr>\n",
       "    <tr>\n",
       "      <th>3</th>\n",
       "      <td>DH vs FHMI</td>\n",
       "      <td>0.2350</td>\n",
       "      <td>4.26</td>\n",
       "      <td>3</td>\n",
       "    </tr>\n",
       "  </tbody>\n",
       "</table>\n",
       "</div>"
      ],
      "text/plain": [
       "    comparation  p_valor  chi2  dof\n",
       "2    SD vs FHMI   0.2633  5.24    4\n",
       "1  Gender vs ST   0.8255  0.05    1\n",
       "0  Gender vs SD   0.2803  5.07    4\n",
       "3    DH vs FHMI   0.2350  4.26    3"
      ]
     },
     "execution_count": 1179,
     "metadata": {},
     "output_type": "execute_result"
    }
   ],
   "source": [
    "result = []\n",
    "columns_object = df1.select_dtypes(include=['object']).columns.tolist()\n",
    "for item in combinations(columns_object, 2):\n",
    "\n",
    "    table = pd.crosstab(df1[item[0]], df1[item[1]])\n",
    "\n",
    "    chi2, pvalor, dof, _ = chi2_contingency(table)\n",
    "\n",
    "    if pvalor >= 0.05:\n",
    "        result.append({\n",
    "            'comparation': f'{item[0]} vs {item[1]}',\n",
    "            'p_valor': round(pvalor, 4),\n",
    "            'chi2': round(chi2, 2),\n",
    "            'dof': dof,\n",
    "        })\n",
    "\n",
    "table_chi = pd.DataFrame(result)\n",
    "table_chi.sort_values(by=['comparation','p_valor'],ascending=False)"
   ]
  },
  {
   "cell_type": "markdown",
   "metadata": {},
   "source": [
    "## Normalização e transformação de dados."
   ]
  },
  {
   "cell_type": "code",
   "execution_count": 1180,
   "metadata": {},
   "outputs": [
    {
     "name": "stdout",
     "output_type": "stream",
     "text": [
      "<class 'pandas.core.frame.DataFrame'>\n",
      "Index: 27867 entries, 0 to 27900\n",
      "Data columns (total 14 columns):\n",
      " #   Column      Non-Null Count  Dtype  \n",
      "---  ------      --------------  -----  \n",
      " 0   Gender      27867 non-null  object \n",
      " 1   City        27867 non-null  object \n",
      " 2   AP          27867 non-null  float64\n",
      " 3   WP          27867 non-null  float64\n",
      " 4   SS          27867 non-null  float64\n",
      " 5   JS          27867 non-null  float64\n",
      " 6   SD          27867 non-null  object \n",
      " 7   DH          27867 non-null  object \n",
      " 8   Degree      27867 non-null  object \n",
      " 9   ST          27867 non-null  object \n",
      " 10  WSH         27867 non-null  float64\n",
      " 11  FS          27867 non-null  float64\n",
      " 12  FHMI        27867 non-null  object \n",
      " 13  Depression  27867 non-null  int64  \n",
      "dtypes: float64(6), int64(1), object(7)\n",
      "memory usage: 3.2+ MB\n"
     ]
    }
   ],
   "source": [
    "df1.info()"
   ]
  },
  {
   "cell_type": "code",
   "execution_count": 1181,
   "metadata": {},
   "outputs": [
    {
     "data": {
      "application/vnd.microsoft.datawrangler.viewer.v0+json": {
       "columns": [
        {
         "name": "index",
         "rawType": "int64",
         "type": "integer"
        },
        {
         "name": "Gender",
         "rawType": "object",
         "type": "string"
        },
        {
         "name": "City",
         "rawType": "object",
         "type": "string"
        },
        {
         "name": "AP",
         "rawType": "float64",
         "type": "float"
        },
        {
         "name": "WP",
         "rawType": "float64",
         "type": "float"
        },
        {
         "name": "SS",
         "rawType": "float64",
         "type": "float"
        },
        {
         "name": "JS",
         "rawType": "float64",
         "type": "float"
        },
        {
         "name": "SD",
         "rawType": "object",
         "type": "string"
        },
        {
         "name": "DH",
         "rawType": "object",
         "type": "string"
        },
        {
         "name": "Degree",
         "rawType": "object",
         "type": "string"
        },
        {
         "name": "ST",
         "rawType": "object",
         "type": "string"
        },
        {
         "name": "WSH",
         "rawType": "float64",
         "type": "float"
        },
        {
         "name": "FS",
         "rawType": "float64",
         "type": "float"
        },
        {
         "name": "FHMI",
         "rawType": "object",
         "type": "string"
        },
        {
         "name": "Depression",
         "rawType": "int64",
         "type": "integer"
        }
       ],
       "conversionMethod": "pd.DataFrame",
       "ref": "33bdd37c-1a9e-4fac-8cee-eb0efe700887",
       "rows": [
        [
         "0",
         "Male",
         "Visakhapatnam",
         "5.0",
         "0.0",
         "2.0",
         "0.0",
         "5-6 hours",
         "Healthy",
         "B.Pharm",
         "Yes",
         "3.0",
         "1.0",
         "No",
         "1"
        ],
        [
         "1",
         "Female",
         "Bangalore",
         "2.0",
         "0.0",
         "5.0",
         "0.0",
         "5-6 hours",
         "Moderate",
         "BSc",
         "No",
         "3.0",
         "2.0",
         "Yes",
         "0"
        ],
        [
         "2",
         "Male",
         "Srinagar",
         "3.0",
         "0.0",
         "5.0",
         "0.0",
         "Less than 5 hours",
         "Healthy",
         "BA",
         "No",
         "9.0",
         "1.0",
         "Yes",
         "0"
        ],
        [
         "3",
         "Female",
         "Varanasi",
         "3.0",
         "0.0",
         "2.0",
         "0.0",
         "7-8 hours",
         "Moderate",
         "BCA",
         "Yes",
         "4.0",
         "5.0",
         "Yes",
         "1"
        ],
        [
         "4",
         "Female",
         "Jaipur",
         "4.0",
         "0.0",
         "3.0",
         "0.0",
         "5-6 hours",
         "Moderate",
         "M.Tech",
         "Yes",
         "1.0",
         "1.0",
         "No",
         "0"
        ]
       ],
       "shape": {
        "columns": 14,
        "rows": 5
       }
      },
      "text/html": [
       "<div>\n",
       "<style scoped>\n",
       "    .dataframe tbody tr th:only-of-type {\n",
       "        vertical-align: middle;\n",
       "    }\n",
       "\n",
       "    .dataframe tbody tr th {\n",
       "        vertical-align: top;\n",
       "    }\n",
       "\n",
       "    .dataframe thead th {\n",
       "        text-align: right;\n",
       "    }\n",
       "</style>\n",
       "<table border=\"1\" class=\"dataframe\">\n",
       "  <thead>\n",
       "    <tr style=\"text-align: right;\">\n",
       "      <th></th>\n",
       "      <th>Gender</th>\n",
       "      <th>City</th>\n",
       "      <th>AP</th>\n",
       "      <th>WP</th>\n",
       "      <th>SS</th>\n",
       "      <th>JS</th>\n",
       "      <th>SD</th>\n",
       "      <th>DH</th>\n",
       "      <th>Degree</th>\n",
       "      <th>ST</th>\n",
       "      <th>WSH</th>\n",
       "      <th>FS</th>\n",
       "      <th>FHMI</th>\n",
       "      <th>Depression</th>\n",
       "    </tr>\n",
       "  </thead>\n",
       "  <tbody>\n",
       "    <tr>\n",
       "      <th>0</th>\n",
       "      <td>Male</td>\n",
       "      <td>Visakhapatnam</td>\n",
       "      <td>5.0</td>\n",
       "      <td>0.0</td>\n",
       "      <td>2.0</td>\n",
       "      <td>0.0</td>\n",
       "      <td>5-6 hours</td>\n",
       "      <td>Healthy</td>\n",
       "      <td>B.Pharm</td>\n",
       "      <td>Yes</td>\n",
       "      <td>3.0</td>\n",
       "      <td>1.0</td>\n",
       "      <td>No</td>\n",
       "      <td>1</td>\n",
       "    </tr>\n",
       "    <tr>\n",
       "      <th>1</th>\n",
       "      <td>Female</td>\n",
       "      <td>Bangalore</td>\n",
       "      <td>2.0</td>\n",
       "      <td>0.0</td>\n",
       "      <td>5.0</td>\n",
       "      <td>0.0</td>\n",
       "      <td>5-6 hours</td>\n",
       "      <td>Moderate</td>\n",
       "      <td>BSc</td>\n",
       "      <td>No</td>\n",
       "      <td>3.0</td>\n",
       "      <td>2.0</td>\n",
       "      <td>Yes</td>\n",
       "      <td>0</td>\n",
       "    </tr>\n",
       "    <tr>\n",
       "      <th>2</th>\n",
       "      <td>Male</td>\n",
       "      <td>Srinagar</td>\n",
       "      <td>3.0</td>\n",
       "      <td>0.0</td>\n",
       "      <td>5.0</td>\n",
       "      <td>0.0</td>\n",
       "      <td>Less than 5 hours</td>\n",
       "      <td>Healthy</td>\n",
       "      <td>BA</td>\n",
       "      <td>No</td>\n",
       "      <td>9.0</td>\n",
       "      <td>1.0</td>\n",
       "      <td>Yes</td>\n",
       "      <td>0</td>\n",
       "    </tr>\n",
       "    <tr>\n",
       "      <th>3</th>\n",
       "      <td>Female</td>\n",
       "      <td>Varanasi</td>\n",
       "      <td>3.0</td>\n",
       "      <td>0.0</td>\n",
       "      <td>2.0</td>\n",
       "      <td>0.0</td>\n",
       "      <td>7-8 hours</td>\n",
       "      <td>Moderate</td>\n",
       "      <td>BCA</td>\n",
       "      <td>Yes</td>\n",
       "      <td>4.0</td>\n",
       "      <td>5.0</td>\n",
       "      <td>Yes</td>\n",
       "      <td>1</td>\n",
       "    </tr>\n",
       "    <tr>\n",
       "      <th>4</th>\n",
       "      <td>Female</td>\n",
       "      <td>Jaipur</td>\n",
       "      <td>4.0</td>\n",
       "      <td>0.0</td>\n",
       "      <td>3.0</td>\n",
       "      <td>0.0</td>\n",
       "      <td>5-6 hours</td>\n",
       "      <td>Moderate</td>\n",
       "      <td>M.Tech</td>\n",
       "      <td>Yes</td>\n",
       "      <td>1.0</td>\n",
       "      <td>1.0</td>\n",
       "      <td>No</td>\n",
       "      <td>0</td>\n",
       "    </tr>\n",
       "  </tbody>\n",
       "</table>\n",
       "</div>"
      ],
      "text/plain": [
       "   Gender           City   AP   WP   SS   JS                 SD        DH  \\\n",
       "0    Male  Visakhapatnam  5.0  0.0  2.0  0.0          5-6 hours   Healthy   \n",
       "1  Female      Bangalore  2.0  0.0  5.0  0.0          5-6 hours  Moderate   \n",
       "2    Male       Srinagar  3.0  0.0  5.0  0.0  Less than 5 hours   Healthy   \n",
       "3  Female       Varanasi  3.0  0.0  2.0  0.0          7-8 hours  Moderate   \n",
       "4  Female         Jaipur  4.0  0.0  3.0  0.0          5-6 hours  Moderate   \n",
       "\n",
       "    Degree   ST  WSH   FS FHMI  Depression  \n",
       "0  B.Pharm  Yes  3.0  1.0   No           1  \n",
       "1      BSc   No  3.0  2.0  Yes           0  \n",
       "2       BA   No  9.0  1.0  Yes           0  \n",
       "3      BCA  Yes  4.0  5.0  Yes           1  \n",
       "4   M.Tech  Yes  1.0  1.0   No           0  "
      ]
     },
     "execution_count": 1181,
     "metadata": {},
     "output_type": "execute_result"
    }
   ],
   "source": [
    "df1.head()"
   ]
  },
  {
   "cell_type": "markdown",
   "metadata": {},
   "source": [
    "### Analisando as variáveis quantitativas"
   ]
  },
  {
   "cell_type": "code",
   "execution_count": 1182,
   "metadata": {},
   "outputs": [],
   "source": [
    "# Função para verificar outliers\n",
    "def check_outliers(df):\n",
    "    Q1 = df.quantile(q=.25)\n",
    "    Q3 = df.quantile(q=.75)\n",
    "\n",
    "    IQR = Q3 - Q1  # Calculando o valor do intervalo interquartil\n",
    "    limit_lower = Q1 - 1.5 * IQR\n",
    "    limit_upper = Q3 + 1.5 * IQR\n",
    "\n",
    "    outliers_upper = df[(df > limit_upper)].sort_values().values\n",
    "    outliers_lower = df[(df < limit_lower)].sort_values().values\n",
    "\n",
    "    print(f'🔼 outliers_upper: {outliers_upper}')\n",
    "    print(f'🔽 outliers_lower: {outliers_lower}')\n",
    "\n",
    "    plt.figure(figsize=(8, 8))\n",
    "    sns.boxplot(df)\n",
    "    plt.show()\n",
    "\n",
    "    return limit_lower, limit_upper"
   ]
  },
  {
   "cell_type": "code",
   "execution_count": 1183,
   "metadata": {},
   "outputs": [
    {
     "data": {
      "application/vnd.microsoft.datawrangler.viewer.v0+json": {
       "columns": [
        {
         "name": "index",
         "rawType": "object",
         "type": "string"
        },
        {
         "name": "AP",
         "rawType": "float64",
         "type": "float"
        },
        {
         "name": "WP",
         "rawType": "float64",
         "type": "float"
        },
        {
         "name": "SS",
         "rawType": "float64",
         "type": "float"
        },
        {
         "name": "JS",
         "rawType": "float64",
         "type": "float"
        },
        {
         "name": "WSH",
         "rawType": "float64",
         "type": "float"
        },
        {
         "name": "FS",
         "rawType": "float64",
         "type": "float"
        }
       ],
       "conversionMethod": "pd.DataFrame",
       "ref": "8c35c650-6ee5-4245-bffd-c0abc96b3f44",
       "rows": [
        [
         "count",
         "27867.0",
         "27867.0",
         "27867.0",
         "27867.0",
         "27867.0",
         "27867.0"
        ],
        [
         "mean",
         "3.1407399433021137",
         "0.00043061685865001615",
         "2.9436968457315102",
         "0.0006818100261958589",
         "7.157534000789465",
         "3.1395198622026053"
        ],
        [
         "std",
         "1.3816374017589856",
         "0.04401885920224126",
         "1.3611830217848753",
         "0.04442146493968403",
         "3.7071358237605785",
         "1.4372886652419734"
        ],
        [
         "min",
         "0.0",
         "0.0",
         "0.0",
         "0.0",
         "0.0",
         "1.0"
        ],
        [
         "25%",
         "2.0",
         "0.0",
         "2.0",
         "0.0",
         "4.0",
         "2.0"
        ],
        [
         "50%",
         "3.0",
         "0.0",
         "3.0",
         "0.0",
         "8.0",
         "3.0"
        ],
        [
         "75%",
         "4.0",
         "0.0",
         "4.0",
         "0.0",
         "10.0",
         "4.0"
        ],
        [
         "max",
         "5.0",
         "5.0",
         "5.0",
         "4.0",
         "12.0",
         "5.0"
        ]
       ],
       "shape": {
        "columns": 6,
        "rows": 8
       }
      },
      "text/html": [
       "<div>\n",
       "<style scoped>\n",
       "    .dataframe tbody tr th:only-of-type {\n",
       "        vertical-align: middle;\n",
       "    }\n",
       "\n",
       "    .dataframe tbody tr th {\n",
       "        vertical-align: top;\n",
       "    }\n",
       "\n",
       "    .dataframe thead th {\n",
       "        text-align: right;\n",
       "    }\n",
       "</style>\n",
       "<table border=\"1\" class=\"dataframe\">\n",
       "  <thead>\n",
       "    <tr style=\"text-align: right;\">\n",
       "      <th></th>\n",
       "      <th>AP</th>\n",
       "      <th>WP</th>\n",
       "      <th>SS</th>\n",
       "      <th>JS</th>\n",
       "      <th>WSH</th>\n",
       "      <th>FS</th>\n",
       "    </tr>\n",
       "  </thead>\n",
       "  <tbody>\n",
       "    <tr>\n",
       "      <th>count</th>\n",
       "      <td>27867.000000</td>\n",
       "      <td>27867.000000</td>\n",
       "      <td>27867.000000</td>\n",
       "      <td>27867.000000</td>\n",
       "      <td>27867.000000</td>\n",
       "      <td>27867.000000</td>\n",
       "    </tr>\n",
       "    <tr>\n",
       "      <th>mean</th>\n",
       "      <td>3.140740</td>\n",
       "      <td>0.000431</td>\n",
       "      <td>2.943697</td>\n",
       "      <td>0.000682</td>\n",
       "      <td>7.157534</td>\n",
       "      <td>3.139520</td>\n",
       "    </tr>\n",
       "    <tr>\n",
       "      <th>std</th>\n",
       "      <td>1.381637</td>\n",
       "      <td>0.044019</td>\n",
       "      <td>1.361183</td>\n",
       "      <td>0.044421</td>\n",
       "      <td>3.707136</td>\n",
       "      <td>1.437289</td>\n",
       "    </tr>\n",
       "    <tr>\n",
       "      <th>min</th>\n",
       "      <td>0.000000</td>\n",
       "      <td>0.000000</td>\n",
       "      <td>0.000000</td>\n",
       "      <td>0.000000</td>\n",
       "      <td>0.000000</td>\n",
       "      <td>1.000000</td>\n",
       "    </tr>\n",
       "    <tr>\n",
       "      <th>25%</th>\n",
       "      <td>2.000000</td>\n",
       "      <td>0.000000</td>\n",
       "      <td>2.000000</td>\n",
       "      <td>0.000000</td>\n",
       "      <td>4.000000</td>\n",
       "      <td>2.000000</td>\n",
       "    </tr>\n",
       "    <tr>\n",
       "      <th>50%</th>\n",
       "      <td>3.000000</td>\n",
       "      <td>0.000000</td>\n",
       "      <td>3.000000</td>\n",
       "      <td>0.000000</td>\n",
       "      <td>8.000000</td>\n",
       "      <td>3.000000</td>\n",
       "    </tr>\n",
       "    <tr>\n",
       "      <th>75%</th>\n",
       "      <td>4.000000</td>\n",
       "      <td>0.000000</td>\n",
       "      <td>4.000000</td>\n",
       "      <td>0.000000</td>\n",
       "      <td>10.000000</td>\n",
       "      <td>4.000000</td>\n",
       "    </tr>\n",
       "    <tr>\n",
       "      <th>max</th>\n",
       "      <td>5.000000</td>\n",
       "      <td>5.000000</td>\n",
       "      <td>5.000000</td>\n",
       "      <td>4.000000</td>\n",
       "      <td>12.000000</td>\n",
       "      <td>5.000000</td>\n",
       "    </tr>\n",
       "  </tbody>\n",
       "</table>\n",
       "</div>"
      ],
      "text/plain": [
       "                 AP            WP            SS            JS           WSH  \\\n",
       "count  27867.000000  27867.000000  27867.000000  27867.000000  27867.000000   \n",
       "mean       3.140740      0.000431      2.943697      0.000682      7.157534   \n",
       "std        1.381637      0.044019      1.361183      0.044421      3.707136   \n",
       "min        0.000000      0.000000      0.000000      0.000000      0.000000   \n",
       "25%        2.000000      0.000000      2.000000      0.000000      4.000000   \n",
       "50%        3.000000      0.000000      3.000000      0.000000      8.000000   \n",
       "75%        4.000000      0.000000      4.000000      0.000000     10.000000   \n",
       "max        5.000000      5.000000      5.000000      4.000000     12.000000   \n",
       "\n",
       "                 FS  \n",
       "count  27867.000000  \n",
       "mean       3.139520  \n",
       "std        1.437289  \n",
       "min        1.000000  \n",
       "25%        2.000000  \n",
       "50%        3.000000  \n",
       "75%        4.000000  \n",
       "max        5.000000  "
      ]
     },
     "execution_count": 1183,
     "metadata": {},
     "output_type": "execute_result"
    }
   ],
   "source": [
    "columns_numeric = df1.select_dtypes(include=['number']).columns.tolist()\n",
    "columns_numeric.remove(\"Depression\")\n",
    "df1[columns_numeric].describe()"
   ]
  },
  {
   "cell_type": "code",
   "execution_count": 1184,
   "metadata": {},
   "outputs": [
    {
     "data": {
      "image/png": "[encoded data removed]",
      "text/plain": [
       "<Figure size 640x480 with 1 Axes>"
      ]
     },
     "metadata": {},
     "output_type": "display_data"
    }
   ],
   "source": [
    "sns.boxplot(df1[columns_numeric])\n",
    "plt.tight_layout()\n",
    "plt.show()"
   ]
  },
  {
   "cell_type": "code",
   "execution_count": 1185,
   "metadata": {},
   "outputs": [
    {
     "name": "stdout",
     "output_type": "stream",
     "text": [
      "🔼 outliers_upper: [2. 5. 5.]\n",
      "🔽 outliers_lower: []\n"
     ]
    },
    {
     "data": {
      "image/png": "[encoded data removed]",
      "text/plain": [
       "<Figure size 800x800 with 1 Axes>"
      ]
     },
     "metadata": {},
     "output_type": "display_data"
    }
   ],
   "source": [
    "limit_lower, limit_upper = check_outliers(df1['WP'])"
   ]
  },
  {
   "cell_type": "code",
   "execution_count": 1186,
   "metadata": {},
   "outputs": [
    {
     "data": {
      "text/plain": [
       "WP\n",
       "0.0    27864\n",
       "5.0        2\n",
       "2.0        1\n",
       "Name: count, dtype: int64"
      ]
     },
     "execution_count": 1186,
     "metadata": {},
     "output_type": "execute_result"
    }
   ],
   "source": [
    "df1['WP'].value_counts()"
   ]
  },
  {
   "cell_type": "code",
   "execution_count": 1187,
   "metadata": {},
   "outputs": [],
   "source": [
    "df1.query('WP == 0.0',inplace=True)\n",
    "df1.drop(columns=['WP'], inplace=True)"
   ]
  },
  {
   "cell_type": "code",
   "execution_count": 1188,
   "metadata": {},
   "outputs": [
    {
     "name": "stdout",
     "output_type": "stream",
     "text": [
      "🔼 outliers_upper: [1. 2. 2. 2. 3.]\n",
      "🔽 outliers_lower: []\n"
     ]
    },
    {
     "data": {
      "image/png": "[encoded data removed]",
      "text/plain": [
       "<Figure size 800x800 with 1 Axes>"
      ]
     },
     "metadata": {},
     "output_type": "display_data"
    }
   ],
   "source": [
    "limit_lower, limit_upper = check_outliers(df1['JS'])"
   ]
  },
  {
   "cell_type": "code",
   "execution_count": 1189,
   "metadata": {},
   "outputs": [
    {
     "data": {
      "text/plain": [
       "JS\n",
       "0.0    27859\n",
       "2.0        3\n",
       "3.0        1\n",
       "1.0        1\n",
       "Name: count, dtype: int64"
      ]
     },
     "execution_count": 1189,
     "metadata": {},
     "output_type": "execute_result"
    }
   ],
   "source": [
    "df1['JS'].value_counts()"
   ]
  },
  {
   "cell_type": "code",
   "execution_count": 1190,
   "metadata": {},
   "outputs": [],
   "source": [
    "df1.query('JS == 0.0',inplace=True)\n",
    "df1.drop(columns=['JS'], inplace=True)"
   ]
  },
  {
   "cell_type": "markdown",
   "metadata": {},
   "source": [
    "### Analisando as variáveis qualitativas"
   ]
  },
  {
   "cell_type": "code",
   "execution_count": 1191,
   "metadata": {},
   "outputs": [],
   "source": [
    "# Plotagem do grafico de torta\n",
    "def pie_plot(data, labels, title):\n",
    "    plt.figure(figsize=(6, 6))\n",
    "    plt.pie(data, labels=labels, autopct='%1.1f%%')\n",
    "    plt.title(title)\n",
    "    plt.show()"
   ]
  },
  {
   "cell_type": "code",
   "execution_count": 1192,
   "metadata": {},
   "outputs": [
    {
     "data": {
      "application/vnd.microsoft.datawrangler.viewer.v0+json": {
       "columns": [
        {
         "name": "index",
         "rawType": "object",
         "type": "string"
        },
        {
         "name": "count",
         "rawType": "object",
         "type": "unknown"
        },
        {
         "name": "unique",
         "rawType": "object",
         "type": "unknown"
        },
        {
         "name": "top",
         "rawType": "object",
         "type": "string"
        },
        {
         "name": "freq",
         "rawType": "object",
         "type": "unknown"
        }
       ],
       "conversionMethod": "pd.DataFrame",
       "ref": "d1921507-935b-48df-9c89-cd54af6b8a3b",
       "rows": [
        [
         "Gender",
         "27859",
         "2",
         "Male",
         "15522"
        ],
        [
         "City",
         "27859",
         "52",
         "Kalyan",
         "1564"
        ],
        [
         "SD",
         "27859",
         "5",
         "Less than 5 hours",
         "8299"
        ],
        [
         "DH",
         "27859",
         "4",
         "Unhealthy",
         "10306"
        ],
        [
         "Degree",
         "27859",
         "28",
         "Class 12",
         "6074"
        ],
        [
         "ST",
         "27859",
         "2",
         "Yes",
         "17626"
        ],
        [
         "FHMI",
         "27859",
         "2",
         "No",
         "14377"
        ]
       ],
       "shape": {
        "columns": 4,
        "rows": 7
       }
      },
      "text/html": [
       "<div>\n",
       "<style scoped>\n",
       "    .dataframe tbody tr th:only-of-type {\n",
       "        vertical-align: middle;\n",
       "    }\n",
       "\n",
       "    .dataframe tbody tr th {\n",
       "        vertical-align: top;\n",
       "    }\n",
       "\n",
       "    .dataframe thead th {\n",
       "        text-align: right;\n",
       "    }\n",
       "</style>\n",
       "<table border=\"1\" class=\"dataframe\">\n",
       "  <thead>\n",
       "    <tr style=\"text-align: right;\">\n",
       "      <th></th>\n",
       "      <th>count</th>\n",
       "      <th>unique</th>\n",
       "      <th>top</th>\n",
       "      <th>freq</th>\n",
       "    </tr>\n",
       "  </thead>\n",
       "  <tbody>\n",
       "    <tr>\n",
       "      <th>Gender</th>\n",
       "      <td>27859</td>\n",
       "      <td>2</td>\n",
       "      <td>Male</td>\n",
       "      <td>15522</td>\n",
       "    </tr>\n",
       "    <tr>\n",
       "      <th>City</th>\n",
       "      <td>27859</td>\n",
       "      <td>52</td>\n",
       "      <td>Kalyan</td>\n",
       "      <td>1564</td>\n",
       "    </tr>\n",
       "    <tr>\n",
       "      <th>SD</th>\n",
       "      <td>27859</td>\n",
       "      <td>5</td>\n",
       "      <td>Less than 5 hours</td>\n",
       "      <td>8299</td>\n",
       "    </tr>\n",
       "    <tr>\n",
       "      <th>DH</th>\n",
       "      <td>27859</td>\n",
       "      <td>4</td>\n",
       "      <td>Unhealthy</td>\n",
       "      <td>10306</td>\n",
       "    </tr>\n",
       "    <tr>\n",
       "      <th>Degree</th>\n",
       "      <td>27859</td>\n",
       "      <td>28</td>\n",
       "      <td>Class 12</td>\n",
       "      <td>6074</td>\n",
       "    </tr>\n",
       "    <tr>\n",
       "      <th>ST</th>\n",
       "      <td>27859</td>\n",
       "      <td>2</td>\n",
       "      <td>Yes</td>\n",
       "      <td>17626</td>\n",
       "    </tr>\n",
       "    <tr>\n",
       "      <th>FHMI</th>\n",
       "      <td>27859</td>\n",
       "      <td>2</td>\n",
       "      <td>No</td>\n",
       "      <td>14377</td>\n",
       "    </tr>\n",
       "  </tbody>\n",
       "</table>\n",
       "</div>"
      ],
      "text/plain": [
       "        count unique                top   freq\n",
       "Gender  27859      2               Male  15522\n",
       "City    27859     52             Kalyan   1564\n",
       "SD      27859      5  Less than 5 hours   8299\n",
       "DH      27859      4          Unhealthy  10306\n",
       "Degree  27859     28           Class 12   6074\n",
       "ST      27859      2                Yes  17626\n",
       "FHMI    27859      2                 No  14377"
      ]
     },
     "execution_count": 1192,
     "metadata": {},
     "output_type": "execute_result"
    }
   ],
   "source": [
    "columns_object = df1.select_dtypes(include=['object']).columns.tolist()\n",
    "df1[columns_object].describe().T"
   ]
  },
  {
   "cell_type": "code",
   "execution_count": 1193,
   "metadata": {},
   "outputs": [
    {
     "data": {
      "image/png": "[encoded data removed]",
      "text/plain": [
       "<Figure size 600x600 with 1 Axes>"
      ]
     },
     "metadata": {},
     "output_type": "display_data"
    }
   ],
   "source": [
    "# Plotagem para a variável Gender\n",
    "gender_counts = df1['Gender'].value_counts()\n",
    "pie_plot(data=gender_counts, labels=gender_counts.index,\n",
    "         title='Distribuição por Gênero')"
   ]
  },
  {
   "cell_type": "code",
   "execution_count": 1194,
   "metadata": {},
   "outputs": [],
   "source": [
    "# Convertendo a variavel para binaria\n",
    "df1['Gender'] = df1['Gender'].map({'Female': 0, 'Male': 1}).astype('int64')"
   ]
  },
  {
   "cell_type": "code",
   "execution_count": 1195,
   "metadata": {},
   "outputs": [
    {
     "data": {
      "text/plain": [
       "City\n",
       "Kalyan                1564\n",
       "Srinagar              1371\n",
       "Hyderabad             1338\n",
       "Vasai-Virar           1289\n",
       "Lucknow               1154\n",
       "Thane                 1139\n",
       "Ludhiana              1109\n",
       "Agra                  1092\n",
       "Surat                 1078\n",
       "Kolkata               1065\n",
       "Jaipur                1034\n",
       "Patna                 1006\n",
       "Visakhapatnam          968\n",
       "Pune                   968\n",
       "Ahmedabad              947\n",
       "Bhopal                 933\n",
       "Chennai                883\n",
       "Meerut                 821\n",
       "Rajkot                 814\n",
       "Delhi                  767\n",
       "Bangalore              765\n",
       "Ghaziabad              744\n",
       "Mumbai                 698\n",
       "Vadodara               693\n",
       "Varanasi               684\n",
       "Nagpur                 651\n",
       "Indore                 643\n",
       "Kanpur                 607\n",
       "Nashik                 547\n",
       "Faridabad              461\n",
       "Saanvi                   2\n",
       "Bhavna                   2\n",
       "City                     2\n",
       "Harsha                   2\n",
       "Less Delhi               1\n",
       "M.Tech                   1\n",
       "3.0                      1\n",
       "Less than 5 Kalyan       1\n",
       "Mira                     1\n",
       "Vaanya                   1\n",
       "Gaurav                   1\n",
       "Harsh                    1\n",
       "Reyansh                  1\n",
       "Kibara                   1\n",
       "Rashi                    1\n",
       "ME                       1\n",
       "M.Com                    1\n",
       "Nalyan                   1\n",
       "Mihir                    1\n",
       "Nalini                   1\n",
       "Nandini                  1\n",
       "Khaziabad                1\n",
       "Name: count, dtype: int64"
      ]
     },
     "execution_count": 1195,
     "metadata": {},
     "output_type": "execute_result"
    }
   ],
   "source": [
    "df1['City'].value_counts()"
   ]
  },
  {
   "cell_type": "code",
   "execution_count": 1196,
   "metadata": {},
   "outputs": [
    {
     "data": {
      "image/png": "[encoded data removed]",
      "text/plain": [
       "<Figure size 1000x800 with 1 Axes>"
      ]
     },
     "metadata": {},
     "output_type": "display_data"
    }
   ],
   "source": [
    "plt.figure(figsize=(10,8))\n",
    "sns.countplot(df1['City'])\n",
    "plt.show()"
   ]
  },
  {
   "cell_type": "code",
   "execution_count": 1197,
   "metadata": {
    "execution": {
     "iopub.execute_input": "2025-01-16T21:18:32.988114Z",
     "iopub.status.busy": "2025-01-16T21:18:32.987810Z",
     "iopub.status.idle": "2025-01-16T21:18:33.020968Z",
     "shell.execute_reply": "2025-01-16T21:18:33.019721Z",
     "shell.execute_reply.started": "2025-01-16T21:18:32.988091Z"
    },
    "trusted": true
   },
   "outputs": [
    {
     "name": "stdout",
     "output_type": "stream",
     "text": [
      "Index(['Kalyan', 'Srinagar', 'Hyderabad', 'Vasai-Virar', 'Lucknow', 'Thane',\n",
      "       'Ludhiana', 'Agra', 'Surat', 'Kolkata', 'Jaipur', 'Patna',\n",
      "       'Visakhapatnam', 'Pune', 'Ahmedabad', 'Bhopal', 'Chennai', 'Meerut',\n",
      "       'Rajkot', 'Delhi', 'Bangalore', 'Ghaziabad', 'Mumbai', 'Vadodara',\n",
      "       'Varanasi', 'Nagpur', 'Indore', 'Kanpur', 'Nashik', 'Faridabad'],\n",
      "      dtype='object', name='City')\n"
     ]
    }
   ],
   "source": [
    "# Removendo as cidades com menos de 2 ocorrências\n",
    "filtered_cities = df1['City'].value_counts()[lambda x: x > 2].index\n",
    "print(filtered_cities)\n",
    "df1.query('City in @filtered_cities', inplace=True)"
   ]
  },
  {
   "cell_type": "code",
   "execution_count": 1198,
   "metadata": {},
   "outputs": [
    {
     "data": {
      "text/plain": [
       "SD\n",
       "Less than 5 hours    8292\n",
       "7-8 hours            7324\n",
       "5-6 hours            6168\n",
       "More than 8 hours    6031\n",
       "Others                 18\n",
       "Name: count, dtype: int64"
      ]
     },
     "execution_count": 1198,
     "metadata": {},
     "output_type": "execute_result"
    }
   ],
   "source": [
    "# Plotando o grafico de torta para\n",
    "df1['SD'].value_counts()"
   ]
  },
  {
   "cell_type": "code",
   "execution_count": 1199,
   "metadata": {},
   "outputs": [
    {
     "data": {
      "image/png": "[encoded data removed]",
      "text/plain": [
       "<Figure size 1000x800 with 1 Axes>"
      ]
     },
     "metadata": {},
     "output_type": "display_data"
    }
   ],
   "source": [
    "plt.figure(figsize=(10,8))\n",
    "sns.countplot(df1['SD'])\n",
    "plt.show()"
   ]
  },
  {
   "cell_type": "code",
   "execution_count": 1200,
   "metadata": {},
   "outputs": [],
   "source": [
    "df1.query('SD != \"Others\"', inplace=True)"
   ]
  },
  {
   "cell_type": "code",
   "execution_count": 1201,
   "metadata": {},
   "outputs": [
    {
     "data": {
      "image/png": "[encoded data removed]",
      "text/plain": [
       "<Figure size 600x600 with 1 Axes>"
      ]
     },
     "metadata": {},
     "output_type": "display_data"
    }
   ],
   "source": [
    "# Plotagem para a variável SD\n",
    "sd_counts = df1['SD'].value_counts()\n",
    "pie_plot(data=sd_counts, labels=sd_counts.index,\n",
    "         title='Distribuição por SD')"
   ]
  },
  {
   "cell_type": "code",
   "execution_count": 1202,
   "metadata": {},
   "outputs": [],
   "source": [
    "mapping = {\n",
    "    'Less than 5 hours': 1,\n",
    "    '5-6 hours': 2,\n",
    "    '7-8 hours': 3,\n",
    "    'More than 8 hours': 4\n",
    "}\n",
    "\n",
    "df1['SD'] = df1['SD'].map(mapping)"
   ]
  },
  {
   "cell_type": "code",
   "execution_count": 1203,
   "metadata": {
    "execution": {
     "iopub.execute_input": "2025-01-16T21:18:33.080709Z",
     "iopub.status.busy": "2025-01-16T21:18:33.080325Z",
     "iopub.status.idle": "2025-01-16T21:18:33.106354Z",
     "shell.execute_reply": "2025-01-16T21:18:33.104977Z",
     "shell.execute_reply.started": "2025-01-16T21:18:33.080656Z"
    },
    "trusted": true
   },
   "outputs": [
    {
     "data": {
      "text/plain": [
       "DH\n",
       "Unhealthy    10285\n",
       "Moderate      9892\n",
       "Healthy       7626\n",
       "Others          12\n",
       "Name: count, dtype: int64"
      ]
     },
     "execution_count": 1203,
     "metadata": {},
     "output_type": "execute_result"
    }
   ],
   "source": [
    "df1['DH'].value_counts()"
   ]
  },
  {
   "cell_type": "code",
   "execution_count": 1204,
   "metadata": {},
   "outputs": [],
   "source": [
    "df1.query('DH != \"Others\"', inplace=True)"
   ]
  },
  {
   "cell_type": "code",
   "execution_count": 1205,
   "metadata": {},
   "outputs": [
    {
     "data": {
      "image/png": "[encoded data removed]",
      "text/plain": [
       "<Figure size 600x600 with 1 Axes>"
      ]
     },
     "metadata": {},
     "output_type": "display_data"
    }
   ],
   "source": [
    "# Plotagem para a variável DH\n",
    "sh_counts = df1['DH'].value_counts()\n",
    "pie_plot(data=sh_counts, labels=sh_counts.index,\n",
    "         title='Distribuição por DH')"
   ]
  },
  {
   "cell_type": "code",
   "execution_count": 1206,
   "metadata": {},
   "outputs": [],
   "source": [
    "mapping = {\n",
    "    'Unhealthy': 1,\n",
    "    'Moderate': 2,\n",
    "    'Healthy': 3\n",
    "}\n",
    "\n",
    "df1['DH'] = df1['DH'].map(mapping)"
   ]
  },
  {
   "cell_type": "code",
   "execution_count": 1207,
   "metadata": {},
   "outputs": [
    {
     "data": {
      "text/plain": [
       "Degree\n",
       "Class 12    6068\n",
       "B.Ed        1858\n",
       "B.Com       1503\n",
       "B.Arch      1475\n",
       "BCA         1428\n",
       "MSc         1183\n",
       "B.Tech      1151\n",
       "MCA         1039\n",
       "M.Tech      1019\n",
       "BHM          921\n",
       "BSc          883\n",
       "M.Ed         817\n",
       "B.Pharm      808\n",
       "M.Com        733\n",
       "BBA          695\n",
       "MBBS         693\n",
       "LLB          669\n",
       "BE           608\n",
       "BA           594\n",
       "M.Pharm      579\n",
       "MD           568\n",
       "MBA          560\n",
       "MA           542\n",
       "PhD          518\n",
       "LLM          480\n",
       "MHM          191\n",
       "ME           185\n",
       "Others        35\n",
       "Name: count, dtype: int64"
      ]
     },
     "execution_count": 1207,
     "metadata": {},
     "output_type": "execute_result"
    }
   ],
   "source": [
    "df1['Degree'].value_counts()"
   ]
  },
  {
   "cell_type": "code",
   "execution_count": 1208,
   "metadata": {},
   "outputs": [
    {
     "data": {
      "image/png": "[encoded data removed]",
      "text/plain": [
       "<Figure size 1000x800 with 1 Axes>"
      ]
     },
     "metadata": {},
     "output_type": "display_data"
    }
   ],
   "source": [
    "plt.figure(figsize=(10,8))\n",
    "sns.countplot(df1['Degree'])\n",
    "plt.show()"
   ]
  },
  {
   "cell_type": "code",
   "execution_count": 1209,
   "metadata": {},
   "outputs": [],
   "source": [
    "df1.query('Degree != \"Others\"',inplace=True)"
   ]
  },
  {
   "cell_type": "code",
   "execution_count": 1210,
   "metadata": {},
   "outputs": [],
   "source": [
    "def categorize_education(degree):\n",
    "    if degree == \"Class 12\":\n",
    "        return 'Secondary Education'\n",
    "    elif degree in [\"PhD\", \"MSc\", \"MHM\", \"ME\", \"MD\", \"MCA\", \"MBBS\", \"MBA\", \"MA\",\n",
    "                    \"M.Tech\", \"M.Pharm\", \"M.Ed\", \"M.Com\", \"LLM\"]:\n",
    "        return 'Postgraduate Degree'\n",
    "    elif degree in [\"LLB\", \"BSc\", \"BHM\", \"BE\", \"BCA\", \"BBA\", \"BA\", \"B.Tech\",\n",
    "                    \"B.Pharm\", \"B.Ed\", \"B.Com\", \"B.Arch\"]:\n",
    "        return 'Undergraduate Degree'\n",
    "\n",
    "\n",
    "df1[\"Degree\"] = df1[\"Degree\"].apply(categorize_education).astype('category')"
   ]
  },
  {
   "cell_type": "code",
   "execution_count": 1211,
   "metadata": {},
   "outputs": [
    {
     "data": {
      "image/png": "[encoded data removed]",
      "text/plain": [
       "<Figure size 600x600 with 1 Axes>"
      ]
     },
     "metadata": {},
     "output_type": "display_data"
    }
   ],
   "source": [
    "degree_counts = df1['Degree'].value_counts()\n",
    "pie_plot(data=degree_counts, labels=degree_counts.index, title='Distribuição por Degree')"
   ]
  },
  {
   "cell_type": "code",
   "execution_count": 1212,
   "metadata": {},
   "outputs": [
    {
     "data": {
      "text/plain": [
       "ST\n",
       "Yes    17569\n",
       "No     10199\n",
       "Name: count, dtype: int64"
      ]
     },
     "execution_count": 1212,
     "metadata": {},
     "output_type": "execute_result"
    }
   ],
   "source": [
    "df1['ST'].value_counts()"
   ]
  },
  {
   "cell_type": "code",
   "execution_count": 1213,
   "metadata": {},
   "outputs": [
    {
     "data": {
      "image/png": "[encoded data removed]",
      "text/plain": [
       "<Figure size 600x600 with 1 Axes>"
      ]
     },
     "metadata": {},
     "output_type": "display_data"
    }
   ],
   "source": [
    "st_counts = df1['ST'].value_counts()\n",
    "pie_plot(data=st_counts, labels=st_counts.index, title='Distribuição por ST')"
   ]
  },
  {
   "cell_type": "code",
   "execution_count": 1214,
   "metadata": {},
   "outputs": [],
   "source": [
    "df1['ST'] = df1['ST'].map({'No': 0, 'Yes': 1}).astype('int64')"
   ]
  },
  {
   "cell_type": "code",
   "execution_count": 1215,
   "metadata": {},
   "outputs": [
    {
     "data": {
      "image/png": "[encoded data removed]",
      "text/plain": [
       "<Figure size 600x600 with 1 Axes>"
      ]
     },
     "metadata": {},
     "output_type": "display_data"
    }
   ],
   "source": [
    "fhmi_counts = df1['FHMI'].value_counts()\n",
    "pie_plot(data=fhmi_counts, labels=fhmi_counts.index, title='Distribuição por FHMI')"
   ]
  },
  {
   "cell_type": "code",
   "execution_count": 1216,
   "metadata": {},
   "outputs": [],
   "source": [
    "df1['FHMI'] = df1['FHMI'].map({'No': 0, 'Yes': 1}).astype('int64')"
   ]
  },
  {
   "cell_type": "markdown",
   "metadata": {},
   "source": [
    "## Modelagem e Treinamento"
   ]
  },
  {
   "cell_type": "code",
   "execution_count": 1217,
   "metadata": {
    "execution": {
     "iopub.execute_input": "2025-01-16T21:18:33.505872Z",
     "iopub.status.busy": "2025-01-16T21:18:33.505469Z",
     "iopub.status.idle": "2025-01-16T21:18:33.675377Z",
     "shell.execute_reply": "2025-01-16T21:18:33.674370Z",
     "shell.execute_reply.started": "2025-01-16T21:18:33.505821Z"
    },
    "trusted": true
   },
   "outputs": [
    {
     "data": {
      "application/vnd.microsoft.datawrangler.viewer.v0+json": {
       "columns": [
        {
         "name": "index",
         "rawType": "int64",
         "type": "integer"
        },
        {
         "name": "Gender",
         "rawType": "int64",
         "type": "integer"
        },
        {
         "name": "City",
         "rawType": "object",
         "type": "string"
        },
        {
         "name": "AP",
         "rawType": "float64",
         "type": "float"
        },
        {
         "name": "SS",
         "rawType": "float64",
         "type": "float"
        },
        {
         "name": "SD",
         "rawType": "int64",
         "type": "integer"
        },
        {
         "name": "DH",
         "rawType": "int64",
         "type": "integer"
        },
        {
         "name": "Degree",
         "rawType": "category",
         "type": "unknown"
        },
        {
         "name": "ST",
         "rawType": "int64",
         "type": "integer"
        },
        {
         "name": "WSH",
         "rawType": "float64",
         "type": "float"
        },
        {
         "name": "FS",
         "rawType": "float64",
         "type": "float"
        },
        {
         "name": "FHMI",
         "rawType": "int64",
         "type": "integer"
        },
        {
         "name": "Depression",
         "rawType": "int64",
         "type": "integer"
        }
       ],
       "conversionMethod": "pd.DataFrame",
       "ref": "ec0e2b0b-47b7-445b-9c7e-b2a0c1da8d07",
       "rows": [
        [
         "0",
         "1",
         "Visakhapatnam",
         "5.0",
         "2.0",
         "2",
         "3",
         "Undergraduate Degree",
         "1",
         "3.0",
         "1.0",
         "0",
         "1"
        ],
        [
         "1",
         "0",
         "Bangalore",
         "2.0",
         "5.0",
         "2",
         "2",
         "Undergraduate Degree",
         "0",
         "3.0",
         "2.0",
         "1",
         "0"
        ],
        [
         "2",
         "1",
         "Srinagar",
         "3.0",
         "5.0",
         "1",
         "3",
         "Undergraduate Degree",
         "0",
         "9.0",
         "1.0",
         "1",
         "0"
        ],
        [
         "3",
         "0",
         "Varanasi",
         "3.0",
         "2.0",
         "3",
         "2",
         "Undergraduate Degree",
         "1",
         "4.0",
         "5.0",
         "1",
         "1"
        ],
        [
         "4",
         "0",
         "Jaipur",
         "4.0",
         "3.0",
         "2",
         "2",
         "Postgraduate Degree",
         "1",
         "1.0",
         "1.0",
         "0",
         "0"
        ],
        [
         "5",
         "1",
         "Pune",
         "2.0",
         "3.0",
         "1",
         "3",
         "Postgraduate Degree",
         "0",
         "4.0",
         "1.0",
         "0",
         "0"
        ],
        [
         "6",
         "1",
         "Thane",
         "3.0",
         "4.0",
         "3",
         "3",
         "Undergraduate Degree",
         "0",
         "1.0",
         "2.0",
         "0",
         "0"
        ],
        [
         "7",
         "0",
         "Chennai",
         "2.0",
         "4.0",
         "1",
         "1",
         "Secondary Education",
         "0",
         "0.0",
         "1.0",
         "1",
         "0"
        ],
        [
         "8",
         "1",
         "Nagpur",
         "3.0",
         "1.0",
         "3",
         "2",
         "Undergraduate Degree",
         "1",
         "12.0",
         "3.0",
         "0",
         "1"
        ],
        [
         "9",
         "1",
         "Nashik",
         "2.0",
         "3.0",
         "1",
         "2",
         "Undergraduate Degree",
         "1",
         "2.0",
         "5.0",
         "0",
         "1"
        ]
       ],
       "shape": {
        "columns": 12,
        "rows": 10
       }
      },
      "text/html": [
       "<div>\n",
       "<style scoped>\n",
       "    .dataframe tbody tr th:only-of-type {\n",
       "        vertical-align: middle;\n",
       "    }\n",
       "\n",
       "    .dataframe tbody tr th {\n",
       "        vertical-align: top;\n",
       "    }\n",
       "\n",
       "    .dataframe thead th {\n",
       "        text-align: right;\n",
       "    }\n",
       "</style>\n",
       "<table border=\"1\" class=\"dataframe\">\n",
       "  <thead>\n",
       "    <tr style=\"text-align: right;\">\n",
       "      <th></th>\n",
       "      <th>Gender</th>\n",
       "      <th>City</th>\n",
       "      <th>AP</th>\n",
       "      <th>SS</th>\n",
       "      <th>SD</th>\n",
       "      <th>DH</th>\n",
       "      <th>Degree</th>\n",
       "      <th>ST</th>\n",
       "      <th>WSH</th>\n",
       "      <th>FS</th>\n",
       "      <th>FHMI</th>\n",
       "      <th>Depression</th>\n",
       "    </tr>\n",
       "  </thead>\n",
       "  <tbody>\n",
       "    <tr>\n",
       "      <th>0</th>\n",
       "      <td>1</td>\n",
       "      <td>Visakhapatnam</td>\n",
       "      <td>5.0</td>\n",
       "      <td>2.0</td>\n",
       "      <td>2</td>\n",
       "      <td>3</td>\n",
       "      <td>Undergraduate Degree</td>\n",
       "      <td>1</td>\n",
       "      <td>3.0</td>\n",
       "      <td>1.0</td>\n",
       "      <td>0</td>\n",
       "      <td>1</td>\n",
       "    </tr>\n",
       "    <tr>\n",
       "      <th>1</th>\n",
       "      <td>0</td>\n",
       "      <td>Bangalore</td>\n",
       "      <td>2.0</td>\n",
       "      <td>5.0</td>\n",
       "      <td>2</td>\n",
       "      <td>2</td>\n",
       "      <td>Undergraduate Degree</td>\n",
       "      <td>0</td>\n",
       "      <td>3.0</td>\n",
       "      <td>2.0</td>\n",
       "      <td>1</td>\n",
       "      <td>0</td>\n",
       "    </tr>\n",
       "    <tr>\n",
       "      <th>2</th>\n",
       "      <td>1</td>\n",
       "      <td>Srinagar</td>\n",
       "      <td>3.0</td>\n",
       "      <td>5.0</td>\n",
       "      <td>1</td>\n",
       "      <td>3</td>\n",
       "      <td>Undergraduate Degree</td>\n",
       "      <td>0</td>\n",
       "      <td>9.0</td>\n",
       "      <td>1.0</td>\n",
       "      <td>1</td>\n",
       "      <td>0</td>\n",
       "    </tr>\n",
       "    <tr>\n",
       "      <th>3</th>\n",
       "      <td>0</td>\n",
       "      <td>Varanasi</td>\n",
       "      <td>3.0</td>\n",
       "      <td>2.0</td>\n",
       "      <td>3</td>\n",
       "      <td>2</td>\n",
       "      <td>Undergraduate Degree</td>\n",
       "      <td>1</td>\n",
       "      <td>4.0</td>\n",
       "      <td>5.0</td>\n",
       "      <td>1</td>\n",
       "      <td>1</td>\n",
       "    </tr>\n",
       "    <tr>\n",
       "      <th>4</th>\n",
       "      <td>0</td>\n",
       "      <td>Jaipur</td>\n",
       "      <td>4.0</td>\n",
       "      <td>3.0</td>\n",
       "      <td>2</td>\n",
       "      <td>2</td>\n",
       "      <td>Postgraduate Degree</td>\n",
       "      <td>1</td>\n",
       "      <td>1.0</td>\n",
       "      <td>1.0</td>\n",
       "      <td>0</td>\n",
       "      <td>0</td>\n",
       "    </tr>\n",
       "    <tr>\n",
       "      <th>5</th>\n",
       "      <td>1</td>\n",
       "      <td>Pune</td>\n",
       "      <td>2.0</td>\n",
       "      <td>3.0</td>\n",
       "      <td>1</td>\n",
       "      <td>3</td>\n",
       "      <td>Postgraduate Degree</td>\n",
       "      <td>0</td>\n",
       "      <td>4.0</td>\n",
       "      <td>1.0</td>\n",
       "      <td>0</td>\n",
       "      <td>0</td>\n",
       "    </tr>\n",
       "    <tr>\n",
       "      <th>6</th>\n",
       "      <td>1</td>\n",
       "      <td>Thane</td>\n",
       "      <td>3.0</td>\n",
       "      <td>4.0</td>\n",
       "      <td>3</td>\n",
       "      <td>3</td>\n",
       "      <td>Undergraduate Degree</td>\n",
       "      <td>0</td>\n",
       "      <td>1.0</td>\n",
       "      <td>2.0</td>\n",
       "      <td>0</td>\n",
       "      <td>0</td>\n",
       "    </tr>\n",
       "    <tr>\n",
       "      <th>7</th>\n",
       "      <td>0</td>\n",
       "      <td>Chennai</td>\n",
       "      <td>2.0</td>\n",
       "      <td>4.0</td>\n",
       "      <td>1</td>\n",
       "      <td>1</td>\n",
       "      <td>Secondary Education</td>\n",
       "      <td>0</td>\n",
       "      <td>0.0</td>\n",
       "      <td>1.0</td>\n",
       "      <td>1</td>\n",
       "      <td>0</td>\n",
       "    </tr>\n",
       "    <tr>\n",
       "      <th>8</th>\n",
       "      <td>1</td>\n",
       "      <td>Nagpur</td>\n",
       "      <td>3.0</td>\n",
       "      <td>1.0</td>\n",
       "      <td>3</td>\n",
       "      <td>2</td>\n",
       "      <td>Undergraduate Degree</td>\n",
       "      <td>1</td>\n",
       "      <td>12.0</td>\n",
       "      <td>3.0</td>\n",
       "      <td>0</td>\n",
       "      <td>1</td>\n",
       "    </tr>\n",
       "    <tr>\n",
       "      <th>9</th>\n",
       "      <td>1</td>\n",
       "      <td>Nashik</td>\n",
       "      <td>2.0</td>\n",
       "      <td>3.0</td>\n",
       "      <td>1</td>\n",
       "      <td>2</td>\n",
       "      <td>Undergraduate Degree</td>\n",
       "      <td>1</td>\n",
       "      <td>2.0</td>\n",
       "      <td>5.0</td>\n",
       "      <td>0</td>\n",
       "      <td>1</td>\n",
       "    </tr>\n",
       "  </tbody>\n",
       "</table>\n",
       "</div>"
      ],
      "text/plain": [
       "   Gender           City   AP   SS  SD  DH                Degree  ST   WSH  \\\n",
       "0       1  Visakhapatnam  5.0  2.0   2   3  Undergraduate Degree   1   3.0   \n",
       "1       0      Bangalore  2.0  5.0   2   2  Undergraduate Degree   0   3.0   \n",
       "2       1       Srinagar  3.0  5.0   1   3  Undergraduate Degree   0   9.0   \n",
       "3       0       Varanasi  3.0  2.0   3   2  Undergraduate Degree   1   4.0   \n",
       "4       0         Jaipur  4.0  3.0   2   2   Postgraduate Degree   1   1.0   \n",
       "5       1           Pune  2.0  3.0   1   3   Postgraduate Degree   0   4.0   \n",
       "6       1          Thane  3.0  4.0   3   3  Undergraduate Degree   0   1.0   \n",
       "7       0        Chennai  2.0  4.0   1   1   Secondary Education   0   0.0   \n",
       "8       1         Nagpur  3.0  1.0   3   2  Undergraduate Degree   1  12.0   \n",
       "9       1         Nashik  2.0  3.0   1   2  Undergraduate Degree   1   2.0   \n",
       "\n",
       "    FS  FHMI  Depression  \n",
       "0  1.0     0           1  \n",
       "1  2.0     1           0  \n",
       "2  1.0     1           0  \n",
       "3  5.0     1           1  \n",
       "4  1.0     0           0  \n",
       "5  1.0     0           0  \n",
       "6  2.0     0           0  \n",
       "7  1.0     1           0  \n",
       "8  3.0     0           1  \n",
       "9  5.0     0           1  "
      ]
     },
     "execution_count": 1217,
     "metadata": {},
     "output_type": "execute_result"
    }
   ],
   "source": [
    "df1.head(10)"
   ]
  },
  {
   "cell_type": "code",
   "execution_count": 1219,
   "metadata": {},
   "outputs": [
    {
     "data": {
      "text/plain": [
       "(27768, 12)"
      ]
     },
     "execution_count": 1219,
     "metadata": {},
     "output_type": "execute_result"
    }
   ],
   "source": [
    "df1.shape"
   ]
  },
  {
   "cell_type": "markdown",
   "metadata": {},
   "source": [
    "## Modelo Logisitico"
   ]
  },
  {
   "cell_type": "markdown",
   "metadata": {},
   "source": [
    "### Gerando formula para o modelo"
   ]
  },
  {
   "cell_type": "code",
   "execution_count": null,
   "metadata": {
    "execution": {
     "iopub.execute_input": "2025-01-16T21:18:33.676967Z",
     "iopub.status.busy": "2025-01-16T21:18:33.676456Z",
     "iopub.status.idle": "2025-01-16T21:18:33.730922Z",
     "shell.execute_reply": "2025-01-16T21:18:33.729771Z",
     "shell.execute_reply.started": "2025-01-16T21:18:33.676811Z"
    },
    "trusted": true
   },
   "outputs": [
    {
     "data": {
      "text/plain": [
       "'Depression ~ Gender + Age + City + AP + CGPA + SS + SD + DH + Degree + ST + WSH + FS + FHMI'"
      ]
     },
     "execution_count": 45,
     "metadata": {},
     "output_type": "execute_result"
    }
   ],
   "source": [
    "df_dummies.columns = df_dummies.columns.str.replace('-', '_', regex=True)\n",
    "\n",
    "list_colums_dummies = list(df_dummies.drop(columns=['Depression']).columns)\n",
    "formula_dummies_model = ' + '.join(list_colums_dummies)\n",
    "formula_dummies_model = 'Depression ~ ' + formula_dummies_model\n",
    "formula_dummies_model"
   ]
  },
  {
   "cell_type": "markdown",
   "metadata": {},
   "source": [
    "### Realizando o treino do modelo:"
   ]
  },
  {
   "cell_type": "code",
   "execution_count": 46,
   "metadata": {
    "execution": {
     "iopub.execute_input": "2025-01-16T21:18:33.732307Z",
     "iopub.status.busy": "2025-01-16T21:18:33.732031Z",
     "iopub.status.idle": "2025-01-16T21:18:47.049729Z",
     "shell.execute_reply": "2025-01-16T21:18:47.048676Z",
     "shell.execute_reply.started": "2025-01-16T21:18:33.732283Z"
    },
    "trusted": true
   },
   "outputs": [
    {
     "name": "stdout",
     "output_type": "stream",
     "text": [
      "Optimization terminated successfully.\n",
      "         Current function value: 0.347886\n",
      "         Iterations 7\n"
     ]
    },
    {
     "data": {
      "text/html": [
       "<table class=\"simpletable\">\n",
       "<caption>Logit Regression Results</caption>\n",
       "<tr>\n",
       "  <th>Dep. Variable:</th>      <td>Depression</td>    <th>  No. Observations:  </th>  <td> 27816</td> \n",
       "</tr>\n",
       "<tr>\n",
       "  <th>Model:</th>                 <td>Logit</td>      <th>  Df Residuals:      </th>  <td> 27772</td> \n",
       "</tr>\n",
       "<tr>\n",
       "  <th>Method:</th>                 <td>MLE</td>       <th>  Df Model:          </th>  <td>    43</td> \n",
       "</tr>\n",
       "<tr>\n",
       "  <th>Date:</th>            <td>Tue, 11 Feb 2025</td> <th>  Pseudo R-squ.:     </th>  <td>0.4872</td> \n",
       "</tr>\n",
       "<tr>\n",
       "  <th>Time:</th>                <td>17:26:02</td>     <th>  Log-Likelihood:    </th> <td> -9676.8</td>\n",
       "</tr>\n",
       "<tr>\n",
       "  <th>converged:</th>             <td>True</td>       <th>  LL-Null:           </th> <td> -18869.</td>\n",
       "</tr>\n",
       "<tr>\n",
       "  <th>Covariance Type:</th>     <td>nonrobust</td>    <th>  LLR p-value:       </th>  <td> 0.000</td> \n",
       "</tr>\n",
       "</table>\n",
       "<table class=\"simpletable\">\n",
       "<tr>\n",
       "            <td></td>               <th>coef</th>     <th>std err</th>      <th>z</th>      <th>P>|z|</th>  <th>[0.025</th>    <th>0.975]</th>  \n",
       "</tr>\n",
       "<tr>\n",
       "  <th>Intercept</th>             <td>   -3.5299</td> <td>    0.196</td> <td>  -17.990</td> <td> 0.000</td> <td>   -3.914</td> <td>   -3.145</td>\n",
       "</tr>\n",
       "<tr>\n",
       "  <th>City[T.Ahmedabad]</th>     <td>    0.5725</td> <td>    0.134</td> <td>    4.271</td> <td> 0.000</td> <td>    0.310</td> <td>    0.835</td>\n",
       "</tr>\n",
       "<tr>\n",
       "  <th>City[T.Bangalore]</th>     <td>    0.3417</td> <td>    0.142</td> <td>    2.408</td> <td> 0.016</td> <td>    0.064</td> <td>    0.620</td>\n",
       "</tr>\n",
       "<tr>\n",
       "  <th>City[T.Bhopal]</th>        <td>    0.4178</td> <td>    0.132</td> <td>    3.159</td> <td> 0.002</td> <td>    0.159</td> <td>    0.677</td>\n",
       "</tr>\n",
       "<tr>\n",
       "  <th>City[T.Chennai]</th>       <td>    0.1738</td> <td>    0.135</td> <td>    1.285</td> <td> 0.199</td> <td>   -0.091</td> <td>    0.439</td>\n",
       "</tr>\n",
       "<tr>\n",
       "  <th>City[T.Delhi]</th>         <td>    0.3539</td> <td>    0.142</td> <td>    2.498</td> <td> 0.012</td> <td>    0.076</td> <td>    0.632</td>\n",
       "</tr>\n",
       "<tr>\n",
       "  <th>City[T.Faridabad]</th>     <td>    0.4158</td> <td>    0.165</td> <td>    2.516</td> <td> 0.012</td> <td>    0.092</td> <td>    0.740</td>\n",
       "</tr>\n",
       "<tr>\n",
       "  <th>City[T.Ghaziabad]</th>     <td>    0.3018</td> <td>    0.144</td> <td>    2.096</td> <td> 0.036</td> <td>    0.020</td> <td>    0.584</td>\n",
       "</tr>\n",
       "<tr>\n",
       "  <th>City[T.Hyderabad]</th>     <td>    0.5476</td> <td>    0.122</td> <td>    4.477</td> <td> 0.000</td> <td>    0.308</td> <td>    0.787</td>\n",
       "</tr>\n",
       "<tr>\n",
       "  <th>City[T.Indore]</th>        <td>    0.2918</td> <td>    0.148</td> <td>    1.977</td> <td> 0.048</td> <td>    0.003</td> <td>    0.581</td>\n",
       "</tr>\n",
       "<tr>\n",
       "  <th>City[T.Jaipur]</th>        <td>    0.0211</td> <td>    0.129</td> <td>    0.164</td> <td> 0.870</td> <td>   -0.231</td> <td>    0.273</td>\n",
       "</tr>\n",
       "<tr>\n",
       "  <th>City[T.Kalyan]</th>        <td>    0.3464</td> <td>    0.119</td> <td>    2.922</td> <td> 0.003</td> <td>    0.114</td> <td>    0.579</td>\n",
       "</tr>\n",
       "<tr>\n",
       "  <th>City[T.Kanpur]</th>        <td>    0.2877</td> <td>    0.150</td> <td>    1.917</td> <td> 0.055</td> <td>   -0.006</td> <td>    0.582</td>\n",
       "</tr>\n",
       "<tr>\n",
       "  <th>City[T.Kolkata]</th>       <td>    0.4710</td> <td>    0.132</td> <td>    3.575</td> <td> 0.000</td> <td>    0.213</td> <td>    0.729</td>\n",
       "</tr>\n",
       "<tr>\n",
       "  <th>City[T.Lucknow]</th>       <td>    0.1758</td> <td>    0.127</td> <td>    1.388</td> <td> 0.165</td> <td>   -0.072</td> <td>    0.424</td>\n",
       "</tr>\n",
       "<tr>\n",
       "  <th>City[T.Ludhiana]</th>      <td>    0.3295</td> <td>    0.128</td> <td>    2.578</td> <td> 0.010</td> <td>    0.079</td> <td>    0.580</td>\n",
       "</tr>\n",
       "<tr>\n",
       "  <th>City[T.Meerut]</th>        <td>    0.4488</td> <td>    0.139</td> <td>    3.230</td> <td> 0.001</td> <td>    0.177</td> <td>    0.721</td>\n",
       "</tr>\n",
       "<tr>\n",
       "  <th>City[T.Mumbai]</th>        <td>   -0.0213</td> <td>    0.145</td> <td>   -0.147</td> <td> 0.883</td> <td>   -0.306</td> <td>    0.263</td>\n",
       "</tr>\n",
       "<tr>\n",
       "  <th>City[T.Nagpur]</th>        <td>   -0.0653</td> <td>    0.146</td> <td>   -0.447</td> <td> 0.655</td> <td>   -0.352</td> <td>    0.221</td>\n",
       "</tr>\n",
       "<tr>\n",
       "  <th>City[T.Nashik]</th>        <td>    0.3321</td> <td>    0.155</td> <td>    2.144</td> <td> 0.032</td> <td>    0.029</td> <td>    0.636</td>\n",
       "</tr>\n",
       "<tr>\n",
       "  <th>City[T.Patna]</th>         <td>    0.4829</td> <td>    0.130</td> <td>    3.708</td> <td> 0.000</td> <td>    0.228</td> <td>    0.738</td>\n",
       "</tr>\n",
       "<tr>\n",
       "  <th>City[T.Pune]</th>          <td>    0.1812</td> <td>    0.131</td> <td>    1.382</td> <td> 0.167</td> <td>   -0.076</td> <td>    0.438</td>\n",
       "</tr>\n",
       "<tr>\n",
       "  <th>City[T.Rajkot]</th>        <td>    0.3320</td> <td>    0.137</td> <td>    2.418</td> <td> 0.016</td> <td>    0.063</td> <td>    0.601</td>\n",
       "</tr>\n",
       "<tr>\n",
       "  <th>City[T.Srinagar]</th>      <td>    0.2182</td> <td>    0.120</td> <td>    1.820</td> <td> 0.069</td> <td>   -0.017</td> <td>    0.453</td>\n",
       "</tr>\n",
       "<tr>\n",
       "  <th>City[T.Surat]</th>         <td>    0.2817</td> <td>    0.131</td> <td>    2.156</td> <td> 0.031</td> <td>    0.026</td> <td>    0.538</td>\n",
       "</tr>\n",
       "<tr>\n",
       "  <th>City[T.Thane]</th>         <td>    0.3705</td> <td>    0.127</td> <td>    2.914</td> <td> 0.004</td> <td>    0.121</td> <td>    0.620</td>\n",
       "</tr>\n",
       "<tr>\n",
       "  <th>City[T.Vadodara]</th>      <td>    0.2314</td> <td>    0.143</td> <td>    1.616</td> <td> 0.106</td> <td>   -0.049</td> <td>    0.512</td>\n",
       "</tr>\n",
       "<tr>\n",
       "  <th>City[T.Varanasi]</th>      <td>    0.0597</td> <td>    0.148</td> <td>    0.404</td> <td> 0.686</td> <td>   -0.230</td> <td>    0.349</td>\n",
       "</tr>\n",
       "<tr>\n",
       "  <th>City[T.Vasai-Virar]</th>   <td>    0.2453</td> <td>    0.123</td> <td>    1.990</td> <td> 0.047</td> <td>    0.004</td> <td>    0.487</td>\n",
       "</tr>\n",
       "<tr>\n",
       "  <th>City[T.Visakhapatnam]</th> <td>    0.3109</td> <td>    0.133</td> <td>    2.346</td> <td> 0.019</td> <td>    0.051</td> <td>    0.571</td>\n",
       "</tr>\n",
       "<tr>\n",
       "  <th>DH[T.Moderate]</th>        <td>    0.4731</td> <td>    0.045</td> <td>   10.435</td> <td> 0.000</td> <td>    0.384</td> <td>    0.562</td>\n",
       "</tr>\n",
       "<tr>\n",
       "  <th>DH[T.Unhealthy]</th>       <td>    1.0958</td> <td>    0.047</td> <td>   23.563</td> <td> 0.000</td> <td>    1.005</td> <td>    1.187</td>\n",
       "</tr>\n",
       "<tr>\n",
       "  <th>Degree[T.1]</th>           <td>    0.1778</td> <td>    0.064</td> <td>    2.775</td> <td> 0.006</td> <td>    0.052</td> <td>    0.303</td>\n",
       "</tr>\n",
       "<tr>\n",
       "  <th>Degree[T.2]</th>           <td>    0.1621</td> <td>    0.059</td> <td>    2.736</td> <td> 0.006</td> <td>    0.046</td> <td>    0.278</td>\n",
       "</tr>\n",
       "<tr>\n",
       "  <th>Gender</th>                <td>   -0.0058</td> <td>    0.037</td> <td>   -0.158</td> <td> 0.875</td> <td>   -0.078</td> <td>    0.067</td>\n",
       "</tr>\n",
       "<tr>\n",
       "  <th>Age</th>                   <td>   -0.1184</td> <td>    0.005</td> <td>  -24.362</td> <td> 0.000</td> <td>   -0.128</td> <td>   -0.109</td>\n",
       "</tr>\n",
       "<tr>\n",
       "  <th>AP</th>                    <td>    0.8408</td> <td>    0.015</td> <td>   56.081</td> <td> 0.000</td> <td>    0.811</td> <td>    0.870</td>\n",
       "</tr>\n",
       "<tr>\n",
       "  <th>CGPA</th>                  <td>    0.0555</td> <td>    0.013</td> <td>    4.424</td> <td> 0.000</td> <td>    0.031</td> <td>    0.080</td>\n",
       "</tr>\n",
       "<tr>\n",
       "  <th>SS</th>                    <td>   -0.2421</td> <td>    0.014</td> <td>  -17.735</td> <td> 0.000</td> <td>   -0.269</td> <td>   -0.215</td>\n",
       "</tr>\n",
       "<tr>\n",
       "  <th>SD</th>                    <td>   -0.1870</td> <td>    0.016</td> <td>  -11.433</td> <td> 0.000</td> <td>   -0.219</td> <td>   -0.155</td>\n",
       "</tr>\n",
       "<tr>\n",
       "  <th>ST</th>                    <td>    2.5181</td> <td>    0.039</td> <td>   64.117</td> <td> 0.000</td> <td>    2.441</td> <td>    2.595</td>\n",
       "</tr>\n",
       "<tr>\n",
       "  <th>WSH</th>                   <td>    0.1172</td> <td>    0.005</td> <td>   23.508</td> <td> 0.000</td> <td>    0.107</td> <td>    0.127</td>\n",
       "</tr>\n",
       "<tr>\n",
       "  <th>FS</th>                    <td>    0.5534</td> <td>    0.013</td> <td>   41.343</td> <td> 0.000</td> <td>    0.527</td> <td>    0.580</td>\n",
       "</tr>\n",
       "<tr>\n",
       "  <th>FHMI</th>                  <td>    0.2486</td> <td>    0.037</td> <td>    6.798</td> <td> 0.000</td> <td>    0.177</td> <td>    0.320</td>\n",
       "</tr>\n",
       "</table>"
      ],
      "text/latex": [
       "\\begin{center}\n",
       "\\begin{tabular}{lclc}\n",
       "\\toprule\n",
       "\\textbf{Dep. Variable:}        &    Depression    & \\textbf{  No. Observations:  } &    27816    \\\\\n",
       "\\textbf{Model:}                &      Logit       & \\textbf{  Df Residuals:      } &    27772    \\\\\n",
       "\\textbf{Method:}               &       MLE        & \\textbf{  Df Model:          } &       43    \\\\\n",
       "\\textbf{Date:}                 & Tue, 11 Feb 2025 & \\textbf{  Pseudo R-squ.:     } &   0.4872    \\\\\n",
       "\\textbf{Time:}                 &     17:26:02     & \\textbf{  Log-Likelihood:    } &   -9676.8   \\\\\n",
       "\\textbf{converged:}            &       True       & \\textbf{  LL-Null:           } &   -18869.   \\\\\n",
       "\\textbf{Covariance Type:}      &    nonrobust     & \\textbf{  LLR p-value:       } &    0.000    \\\\\n",
       "\\bottomrule\n",
       "\\end{tabular}\n",
       "\\begin{tabular}{lcccccc}\n",
       "                               & \\textbf{coef} & \\textbf{std err} & \\textbf{z} & \\textbf{P$> |$z$|$} & \\textbf{[0.025} & \\textbf{0.975]}  \\\\\n",
       "\\midrule\n",
       "\\textbf{Intercept}             &      -3.5299  &        0.196     &   -17.990  &         0.000        &       -3.914    &       -3.145     \\\\\n",
       "\\textbf{City[T.Ahmedabad]}     &       0.5725  &        0.134     &     4.271  &         0.000        &        0.310    &        0.835     \\\\\n",
       "\\textbf{City[T.Bangalore]}     &       0.3417  &        0.142     &     2.408  &         0.016        &        0.064    &        0.620     \\\\\n",
       "\\textbf{City[T.Bhopal]}        &       0.4178  &        0.132     &     3.159  &         0.002        &        0.159    &        0.677     \\\\\n",
       "\\textbf{City[T.Chennai]}       &       0.1738  &        0.135     &     1.285  &         0.199        &       -0.091    &        0.439     \\\\\n",
       "\\textbf{City[T.Delhi]}         &       0.3539  &        0.142     &     2.498  &         0.012        &        0.076    &        0.632     \\\\\n",
       "\\textbf{City[T.Faridabad]}     &       0.4158  &        0.165     &     2.516  &         0.012        &        0.092    &        0.740     \\\\\n",
       "\\textbf{City[T.Ghaziabad]}     &       0.3018  &        0.144     &     2.096  &         0.036        &        0.020    &        0.584     \\\\\n",
       "\\textbf{City[T.Hyderabad]}     &       0.5476  &        0.122     &     4.477  &         0.000        &        0.308    &        0.787     \\\\\n",
       "\\textbf{City[T.Indore]}        &       0.2918  &        0.148     &     1.977  &         0.048        &        0.003    &        0.581     \\\\\n",
       "\\textbf{City[T.Jaipur]}        &       0.0211  &        0.129     &     0.164  &         0.870        &       -0.231    &        0.273     \\\\\n",
       "\\textbf{City[T.Kalyan]}        &       0.3464  &        0.119     &     2.922  &         0.003        &        0.114    &        0.579     \\\\\n",
       "\\textbf{City[T.Kanpur]}        &       0.2877  &        0.150     &     1.917  &         0.055        &       -0.006    &        0.582     \\\\\n",
       "\\textbf{City[T.Kolkata]}       &       0.4710  &        0.132     &     3.575  &         0.000        &        0.213    &        0.729     \\\\\n",
       "\\textbf{City[T.Lucknow]}       &       0.1758  &        0.127     &     1.388  &         0.165        &       -0.072    &        0.424     \\\\\n",
       "\\textbf{City[T.Ludhiana]}      &       0.3295  &        0.128     &     2.578  &         0.010        &        0.079    &        0.580     \\\\\n",
       "\\textbf{City[T.Meerut]}        &       0.4488  &        0.139     &     3.230  &         0.001        &        0.177    &        0.721     \\\\\n",
       "\\textbf{City[T.Mumbai]}        &      -0.0213  &        0.145     &    -0.147  &         0.883        &       -0.306    &        0.263     \\\\\n",
       "\\textbf{City[T.Nagpur]}        &      -0.0653  &        0.146     &    -0.447  &         0.655        &       -0.352    &        0.221     \\\\\n",
       "\\textbf{City[T.Nashik]}        &       0.3321  &        0.155     &     2.144  &         0.032        &        0.029    &        0.636     \\\\\n",
       "\\textbf{City[T.Patna]}         &       0.4829  &        0.130     &     3.708  &         0.000        &        0.228    &        0.738     \\\\\n",
       "\\textbf{City[T.Pune]}          &       0.1812  &        0.131     &     1.382  &         0.167        &       -0.076    &        0.438     \\\\\n",
       "\\textbf{City[T.Rajkot]}        &       0.3320  &        0.137     &     2.418  &         0.016        &        0.063    &        0.601     \\\\\n",
       "\\textbf{City[T.Srinagar]}      &       0.2182  &        0.120     &     1.820  &         0.069        &       -0.017    &        0.453     \\\\\n",
       "\\textbf{City[T.Surat]}         &       0.2817  &        0.131     &     2.156  &         0.031        &        0.026    &        0.538     \\\\\n",
       "\\textbf{City[T.Thane]}         &       0.3705  &        0.127     &     2.914  &         0.004        &        0.121    &        0.620     \\\\\n",
       "\\textbf{City[T.Vadodara]}      &       0.2314  &        0.143     &     1.616  &         0.106        &       -0.049    &        0.512     \\\\\n",
       "\\textbf{City[T.Varanasi]}      &       0.0597  &        0.148     &     0.404  &         0.686        &       -0.230    &        0.349     \\\\\n",
       "\\textbf{City[T.Vasai-Virar]}   &       0.2453  &        0.123     &     1.990  &         0.047        &        0.004    &        0.487     \\\\\n",
       "\\textbf{City[T.Visakhapatnam]} &       0.3109  &        0.133     &     2.346  &         0.019        &        0.051    &        0.571     \\\\\n",
       "\\textbf{DH[T.Moderate]}        &       0.4731  &        0.045     &    10.435  &         0.000        &        0.384    &        0.562     \\\\\n",
       "\\textbf{DH[T.Unhealthy]}       &       1.0958  &        0.047     &    23.563  &         0.000        &        1.005    &        1.187     \\\\\n",
       "\\textbf{Degree[T.1]}           &       0.1778  &        0.064     &     2.775  &         0.006        &        0.052    &        0.303     \\\\\n",
       "\\textbf{Degree[T.2]}           &       0.1621  &        0.059     &     2.736  &         0.006        &        0.046    &        0.278     \\\\\n",
       "\\textbf{Gender}                &      -0.0058  &        0.037     &    -0.158  &         0.875        &       -0.078    &        0.067     \\\\\n",
       "\\textbf{Age}                   &      -0.1184  &        0.005     &   -24.362  &         0.000        &       -0.128    &       -0.109     \\\\\n",
       "\\textbf{AP}                    &       0.8408  &        0.015     &    56.081  &         0.000        &        0.811    &        0.870     \\\\\n",
       "\\textbf{CGPA}                  &       0.0555  &        0.013     &     4.424  &         0.000        &        0.031    &        0.080     \\\\\n",
       "\\textbf{SS}                    &      -0.2421  &        0.014     &   -17.735  &         0.000        &       -0.269    &       -0.215     \\\\\n",
       "\\textbf{SD}                    &      -0.1870  &        0.016     &   -11.433  &         0.000        &       -0.219    &       -0.155     \\\\\n",
       "\\textbf{ST}                    &       2.5181  &        0.039     &    64.117  &         0.000        &        2.441    &        2.595     \\\\\n",
       "\\textbf{WSH}                   &       0.1172  &        0.005     &    23.508  &         0.000        &        0.107    &        0.127     \\\\\n",
       "\\textbf{FS}                    &       0.5534  &        0.013     &    41.343  &         0.000        &        0.527    &        0.580     \\\\\n",
       "\\textbf{FHMI}                  &       0.2486  &        0.037     &     6.798  &         0.000        &        0.177    &        0.320     \\\\\n",
       "\\bottomrule\n",
       "\\end{tabular}\n",
       "%\\caption{Logit Regression Results}\n",
       "\\end{center}"
      ],
      "text/plain": [
       "<class 'statsmodels.iolib.summary.Summary'>\n",
       "\"\"\"\n",
       "                           Logit Regression Results                           \n",
       "==============================================================================\n",
       "Dep. Variable:             Depression   No. Observations:                27816\n",
       "Model:                          Logit   Df Residuals:                    27772\n",
       "Method:                           MLE   Df Model:                           43\n",
       "Date:                Tue, 11 Feb 2025   Pseudo R-squ.:                  0.4872\n",
       "Time:                        17:26:02   Log-Likelihood:                -9676.8\n",
       "converged:                       True   LL-Null:                       -18869.\n",
       "Covariance Type:            nonrobust   LLR p-value:                     0.000\n",
       "=========================================================================================\n",
       "                            coef    std err          z      P>|z|      [0.025      0.975]\n",
       "-----------------------------------------------------------------------------------------\n",
       "Intercept                -3.5299      0.196    -17.990      0.000      -3.914      -3.145\n",
       "City[T.Ahmedabad]         0.5725      0.134      4.271      0.000       0.310       0.835\n",
       "City[T.Bangalore]         0.3417      0.142      2.408      0.016       0.064       0.620\n",
       "City[T.Bhopal]            0.4178      0.132      3.159      0.002       0.159       0.677\n",
       "City[T.Chennai]           0.1738      0.135      1.285      0.199      -0.091       0.439\n",
       "City[T.Delhi]             0.3539      0.142      2.498      0.012       0.076       0.632\n",
       "City[T.Faridabad]         0.4158      0.165      2.516      0.012       0.092       0.740\n",
       "City[T.Ghaziabad]         0.3018      0.144      2.096      0.036       0.020       0.584\n",
       "City[T.Hyderabad]         0.5476      0.122      4.477      0.000       0.308       0.787\n",
       "City[T.Indore]            0.2918      0.148      1.977      0.048       0.003       0.581\n",
       "City[T.Jaipur]            0.0211      0.129      0.164      0.870      -0.231       0.273\n",
       "City[T.Kalyan]            0.3464      0.119      2.922      0.003       0.114       0.579\n",
       "City[T.Kanpur]            0.2877      0.150      1.917      0.055      -0.006       0.582\n",
       "City[T.Kolkata]           0.4710      0.132      3.575      0.000       0.213       0.729\n",
       "City[T.Lucknow]           0.1758      0.127      1.388      0.165      -0.072       0.424\n",
       "City[T.Ludhiana]          0.3295      0.128      2.578      0.010       0.079       0.580\n",
       "City[T.Meerut]            0.4488      0.139      3.230      0.001       0.177       0.721\n",
       "City[T.Mumbai]           -0.0213      0.145     -0.147      0.883      -0.306       0.263\n",
       "City[T.Nagpur]           -0.0653      0.146     -0.447      0.655      -0.352       0.221\n",
       "City[T.Nashik]            0.3321      0.155      2.144      0.032       0.029       0.636\n",
       "City[T.Patna]             0.4829      0.130      3.708      0.000       0.228       0.738\n",
       "City[T.Pune]              0.1812      0.131      1.382      0.167      -0.076       0.438\n",
       "City[T.Rajkot]            0.3320      0.137      2.418      0.016       0.063       0.601\n",
       "City[T.Srinagar]          0.2182      0.120      1.820      0.069      -0.017       0.453\n",
       "City[T.Surat]             0.2817      0.131      2.156      0.031       0.026       0.538\n",
       "City[T.Thane]             0.3705      0.127      2.914      0.004       0.121       0.620\n",
       "City[T.Vadodara]          0.2314      0.143      1.616      0.106      -0.049       0.512\n",
       "City[T.Varanasi]          0.0597      0.148      0.404      0.686      -0.230       0.349\n",
       "City[T.Vasai-Virar]       0.2453      0.123      1.990      0.047       0.004       0.487\n",
       "City[T.Visakhapatnam]     0.3109      0.133      2.346      0.019       0.051       0.571\n",
       "DH[T.Moderate]            0.4731      0.045     10.435      0.000       0.384       0.562\n",
       "DH[T.Unhealthy]           1.0958      0.047     23.563      0.000       1.005       1.187\n",
       "Degree[T.1]               0.1778      0.064      2.775      0.006       0.052       0.303\n",
       "Degree[T.2]               0.1621      0.059      2.736      0.006       0.046       0.278\n",
       "Gender                   -0.0058      0.037     -0.158      0.875      -0.078       0.067\n",
       "Age                      -0.1184      0.005    -24.362      0.000      -0.128      -0.109\n",
       "AP                        0.8408      0.015     56.081      0.000       0.811       0.870\n",
       "CGPA                      0.0555      0.013      4.424      0.000       0.031       0.080\n",
       "SS                       -0.2421      0.014    -17.735      0.000      -0.269      -0.215\n",
       "SD                       -0.1870      0.016    -11.433      0.000      -0.219      -0.155\n",
       "ST                        2.5181      0.039     64.117      0.000       2.441       2.595\n",
       "WSH                       0.1172      0.005     23.508      0.000       0.107       0.127\n",
       "FS                        0.5534      0.013     41.343      0.000       0.527       0.580\n",
       "FHMI                      0.2486      0.037      6.798      0.000       0.177       0.320\n",
       "=========================================================================================\n",
       "\"\"\""
      ]
     },
     "execution_count": 46,
     "metadata": {},
     "output_type": "execute_result"
    }
   ],
   "source": [
    "model = sm.Logit.from_formula(formula_dummies_model, df).fit()\n",
    "\n",
    "model.summary()"
   ]
  },
  {
   "cell_type": "markdown",
   "metadata": {},
   "source": [
    "### Executando o processo de stepwise para remoção de variaveis."
   ]
  },
  {
   "cell_type": "code",
   "execution_count": 47,
   "metadata": {
    "execution": {
     "iopub.execute_input": "2025-01-16T21:18:47.050992Z",
     "iopub.status.busy": "2025-01-16T21:18:47.050705Z",
     "iopub.status.idle": "2025-01-16T21:31:30.091088Z",
     "shell.execute_reply": "2025-01-16T21:31:30.090043Z",
     "shell.execute_reply.started": "2025-01-16T21:18:47.050966Z"
    },
    "trusted": true
   },
   "outputs": [
    {
     "name": "stdout",
     "output_type": "stream",
     "text": [
      "Regression type: Logit \n",
      "\n",
      "Estimating model...: \n",
      " Depression ~ Q('City[T.Ahmedabad]') + Q('City[T.Bangalore]') + Q('City[T.Bhopal]') + Q('City[T.Chennai]') + Q('City[T.Delhi]') + Q('City[T.Faridabad]') + Q('City[T.Ghaziabad]') + Q('City[T.Hyderabad]') + Q('City[T.Indore]') + Q('City[T.Jaipur]') + Q('City[T.Kalyan]') + Q('City[T.Kanpur]') + Q('City[T.Kolkata]') + Q('City[T.Lucknow]') + Q('City[T.Ludhiana]') + Q('City[T.Meerut]') + Q('City[T.Mumbai]') + Q('City[T.Nagpur]') + Q('City[T.Nashik]') + Q('City[T.Patna]') + Q('City[T.Pune]') + Q('City[T.Rajkot]') + Q('City[T.Srinagar]') + Q('City[T.Surat]') + Q('City[T.Thane]') + Q('City[T.Vadodara]') + Q('City[T.Varanasi]') + Q('City[T.Vasai-Virar]') + Q('City[T.Visakhapatnam]') + Q('DH[T.Moderate]') + Q('DH[T.Unhealthy]') + Q('Degree[T.1]') + Q('Degree[T.2]') + Q('Gender') + Q('Age') + Q('AP') + Q('CGPA') + Q('SS') + Q('SD') + Q('ST') + Q('WSH') + Q('FS') + Q('FHMI')\n",
      "Optimization terminated successfully.\n",
      "         Current function value: 0.347886\n",
      "         Iterations 7\n",
      "\n",
      " Discarding atribute \"Q('City[T.Mumbai]')\" with p-value equal to 0.8829641242291616 \n",
      "\n",
      "Estimating model...: \n",
      " Depression ~ Q('City[T.Ahmedabad]') + Q('City[T.Bangalore]') + Q('City[T.Bhopal]') + Q('City[T.Chennai]') + Q('City[T.Delhi]') + Q('City[T.Faridabad]') + Q('City[T.Ghaziabad]') + Q('City[T.Hyderabad]') + Q('City[T.Indore]') + Q('City[T.Jaipur]') + Q('City[T.Kalyan]') + Q('City[T.Kanpur]') + Q('City[T.Kolkata]') + Q('City[T.Lucknow]') + Q('City[T.Ludhiana]') + Q('City[T.Meerut]') + Q('City[T.Nagpur]') + Q('City[T.Nashik]') + Q('City[T.Patna]') + Q('City[T.Pune]') + Q('City[T.Rajkot]') + Q('City[T.Srinagar]') + Q('City[T.Surat]') + Q('City[T.Thane]') + Q('City[T.Vadodara]') + Q('City[T.Varanasi]') + Q('City[T.Vasai-Virar]') + Q('City[T.Visakhapatnam]') + Q('DH[T.Moderate]') + Q('DH[T.Unhealthy]') + Q('Degree[T.1]') + Q('Degree[T.2]') + Q('Gender') + Q('Age') + Q('AP') + Q('CGPA') + Q('SS') + Q('SD') + Q('ST') + Q('WSH') + Q('FS') + Q('FHMI')\n",
      "Optimization terminated successfully.\n",
      "         Current function value: 0.347887\n",
      "         Iterations 7\n",
      "\n",
      " Discarding atribute \"Q('Gender')\" with p-value equal to 0.8749502664925847 \n",
      "\n",
      "Estimating model...: \n",
      " Depression ~ Q('City[T.Ahmedabad]') + Q('City[T.Bangalore]') + Q('City[T.Bhopal]') + Q('City[T.Chennai]') + Q('City[T.Delhi]') + Q('City[T.Faridabad]') + Q('City[T.Ghaziabad]') + Q('City[T.Hyderabad]') + Q('City[T.Indore]') + Q('City[T.Jaipur]') + Q('City[T.Kalyan]') + Q('City[T.Kanpur]') + Q('City[T.Kolkata]') + Q('City[T.Lucknow]') + Q('City[T.Ludhiana]') + Q('City[T.Meerut]') + Q('City[T.Nagpur]') + Q('City[T.Nashik]') + Q('City[T.Patna]') + Q('City[T.Pune]') + Q('City[T.Rajkot]') + Q('City[T.Srinagar]') + Q('City[T.Surat]') + Q('City[T.Thane]') + Q('City[T.Vadodara]') + Q('City[T.Varanasi]') + Q('City[T.Vasai-Virar]') + Q('City[T.Visakhapatnam]') + Q('DH[T.Moderate]') + Q('DH[T.Unhealthy]') + Q('Degree[T.1]') + Q('Degree[T.2]') + Q('Age') + Q('AP') + Q('CGPA') + Q('SS') + Q('SD') + Q('ST') + Q('WSH') + Q('FS') + Q('FHMI')\n",
      "Optimization terminated successfully.\n",
      "         Current function value: 0.347887\n",
      "         Iterations 7\n",
      "\n",
      " Discarding atribute \"Q('City[T.Jaipur]')\" with p-value equal to 0.8017786899730575 \n",
      "\n",
      "Estimating model...: \n",
      " Depression ~ Q('City[T.Ahmedabad]') + Q('City[T.Bangalore]') + Q('City[T.Bhopal]') + Q('City[T.Chennai]') + Q('City[T.Delhi]') + Q('City[T.Faridabad]') + Q('City[T.Ghaziabad]') + Q('City[T.Hyderabad]') + Q('City[T.Indore]') + Q('City[T.Kalyan]') + Q('City[T.Kanpur]') + Q('City[T.Kolkata]') + Q('City[T.Lucknow]') + Q('City[T.Ludhiana]') + Q('City[T.Meerut]') + Q('City[T.Nagpur]') + Q('City[T.Nashik]') + Q('City[T.Patna]') + Q('City[T.Pune]') + Q('City[T.Rajkot]') + Q('City[T.Srinagar]') + Q('City[T.Surat]') + Q('City[T.Thane]') + Q('City[T.Vadodara]') + Q('City[T.Varanasi]') + Q('City[T.Vasai-Virar]') + Q('City[T.Visakhapatnam]') + Q('DH[T.Moderate]') + Q('DH[T.Unhealthy]') + Q('Degree[T.1]') + Q('Degree[T.2]') + Q('Age') + Q('AP') + Q('CGPA') + Q('SS') + Q('SD') + Q('ST') + Q('WSH') + Q('FS') + Q('FHMI')\n",
      "Optimization terminated successfully.\n",
      "         Current function value: 0.347888\n",
      "         Iterations 7\n",
      "\n",
      " Discarding atribute \"Q('City[T.Varanasi]')\" with p-value equal to 0.6612113003490395 \n",
      "\n",
      "Estimating model...: \n",
      " Depression ~ Q('City[T.Ahmedabad]') + Q('City[T.Bangalore]') + Q('City[T.Bhopal]') + Q('City[T.Chennai]') + Q('City[T.Delhi]') + Q('City[T.Faridabad]') + Q('City[T.Ghaziabad]') + Q('City[T.Hyderabad]') + Q('City[T.Indore]') + Q('City[T.Kalyan]') + Q('City[T.Kanpur]') + Q('City[T.Kolkata]') + Q('City[T.Lucknow]') + Q('City[T.Ludhiana]') + Q('City[T.Meerut]') + Q('City[T.Nagpur]') + Q('City[T.Nashik]') + Q('City[T.Patna]') + Q('City[T.Pune]') + Q('City[T.Rajkot]') + Q('City[T.Srinagar]') + Q('City[T.Surat]') + Q('City[T.Thane]') + Q('City[T.Vadodara]') + Q('City[T.Vasai-Virar]') + Q('City[T.Visakhapatnam]') + Q('DH[T.Moderate]') + Q('DH[T.Unhealthy]') + Q('Degree[T.1]') + Q('Degree[T.2]') + Q('Age') + Q('AP') + Q('CGPA') + Q('SS') + Q('SD') + Q('ST') + Q('WSH') + Q('FS') + Q('FHMI')\n",
      "Optimization terminated successfully.\n",
      "         Current function value: 0.347892\n",
      "         Iterations 7\n",
      "\n",
      " Discarding atribute \"Q('City[T.Nagpur]')\" with p-value equal to 0.5337103691724001 \n",
      "\n",
      "Estimating model...: \n",
      " Depression ~ Q('City[T.Ahmedabad]') + Q('City[T.Bangalore]') + Q('City[T.Bhopal]') + Q('City[T.Chennai]') + Q('City[T.Delhi]') + Q('City[T.Faridabad]') + Q('City[T.Ghaziabad]') + Q('City[T.Hyderabad]') + Q('City[T.Indore]') + Q('City[T.Kalyan]') + Q('City[T.Kanpur]') + Q('City[T.Kolkata]') + Q('City[T.Lucknow]') + Q('City[T.Ludhiana]') + Q('City[T.Meerut]') + Q('City[T.Nashik]') + Q('City[T.Patna]') + Q('City[T.Pune]') + Q('City[T.Rajkot]') + Q('City[T.Srinagar]') + Q('City[T.Surat]') + Q('City[T.Thane]') + Q('City[T.Vadodara]') + Q('City[T.Vasai-Virar]') + Q('City[T.Visakhapatnam]') + Q('DH[T.Moderate]') + Q('DH[T.Unhealthy]') + Q('Degree[T.1]') + Q('Degree[T.2]') + Q('Age') + Q('AP') + Q('CGPA') + Q('SS') + Q('SD') + Q('ST') + Q('WSH') + Q('FS') + Q('FHMI')\n",
      "Optimization terminated successfully.\n",
      "         Current function value: 0.347899\n",
      "         Iterations 7\n",
      "\n",
      " Discarding atribute \"Q('City[T.Chennai]')\" with p-value equal to 0.11994736003320834 \n",
      "\n",
      "Estimating model...: \n",
      " Depression ~ Q('City[T.Ahmedabad]') + Q('City[T.Bangalore]') + Q('City[T.Bhopal]') + Q('City[T.Delhi]') + Q('City[T.Faridabad]') + Q('City[T.Ghaziabad]') + Q('City[T.Hyderabad]') + Q('City[T.Indore]') + Q('City[T.Kalyan]') + Q('City[T.Kanpur]') + Q('City[T.Kolkata]') + Q('City[T.Lucknow]') + Q('City[T.Ludhiana]') + Q('City[T.Meerut]') + Q('City[T.Nashik]') + Q('City[T.Patna]') + Q('City[T.Pune]') + Q('City[T.Rajkot]') + Q('City[T.Srinagar]') + Q('City[T.Surat]') + Q('City[T.Thane]') + Q('City[T.Vadodara]') + Q('City[T.Vasai-Virar]') + Q('City[T.Visakhapatnam]') + Q('DH[T.Moderate]') + Q('DH[T.Unhealthy]') + Q('Degree[T.1]') + Q('Degree[T.2]') + Q('Age') + Q('AP') + Q('CGPA') + Q('SS') + Q('SD') + Q('ST') + Q('WSH') + Q('FS') + Q('FHMI')\n",
      "Optimization terminated successfully.\n",
      "         Current function value: 0.347943\n",
      "         Iterations 7\n",
      "\n",
      " Discarding atribute \"Q('City[T.Pune]')\" with p-value equal to 0.15286866002891134 \n",
      "\n",
      "Estimating model...: \n",
      " Depression ~ Q('City[T.Ahmedabad]') + Q('City[T.Bangalore]') + Q('City[T.Bhopal]') + Q('City[T.Delhi]') + Q('City[T.Faridabad]') + Q('City[T.Ghaziabad]') + Q('City[T.Hyderabad]') + Q('City[T.Indore]') + Q('City[T.Kalyan]') + Q('City[T.Kanpur]') + Q('City[T.Kolkata]') + Q('City[T.Lucknow]') + Q('City[T.Ludhiana]') + Q('City[T.Meerut]') + Q('City[T.Nashik]') + Q('City[T.Patna]') + Q('City[T.Rajkot]') + Q('City[T.Srinagar]') + Q('City[T.Surat]') + Q('City[T.Thane]') + Q('City[T.Vadodara]') + Q('City[T.Vasai-Virar]') + Q('City[T.Visakhapatnam]') + Q('DH[T.Moderate]') + Q('DH[T.Unhealthy]') + Q('Degree[T.1]') + Q('Degree[T.2]') + Q('Age') + Q('AP') + Q('CGPA') + Q('SS') + Q('SD') + Q('ST') + Q('WSH') + Q('FS') + Q('FHMI')\n",
      "Optimization terminated successfully.\n",
      "         Current function value: 0.347979\n",
      "         Iterations 7\n",
      "\n",
      " Discarding atribute \"Q('City[T.Lucknow]')\" with p-value equal to 0.21866138936014656 \n",
      "\n",
      "Estimating model...: \n",
      " Depression ~ Q('City[T.Ahmedabad]') + Q('City[T.Bangalore]') + Q('City[T.Bhopal]') + Q('City[T.Delhi]') + Q('City[T.Faridabad]') + Q('City[T.Ghaziabad]') + Q('City[T.Hyderabad]') + Q('City[T.Indore]') + Q('City[T.Kalyan]') + Q('City[T.Kanpur]') + Q('City[T.Kolkata]') + Q('City[T.Ludhiana]') + Q('City[T.Meerut]') + Q('City[T.Nashik]') + Q('City[T.Patna]') + Q('City[T.Rajkot]') + Q('City[T.Srinagar]') + Q('City[T.Surat]') + Q('City[T.Thane]') + Q('City[T.Vadodara]') + Q('City[T.Vasai-Virar]') + Q('City[T.Visakhapatnam]') + Q('DH[T.Moderate]') + Q('DH[T.Unhealthy]') + Q('Degree[T.1]') + Q('Degree[T.2]') + Q('Age') + Q('AP') + Q('CGPA') + Q('SS') + Q('SD') + Q('ST') + Q('WSH') + Q('FS') + Q('FHMI')\n",
      "Optimization terminated successfully.\n",
      "         Current function value: 0.348007\n",
      "         Iterations 7\n",
      "\n",
      " Discarding atribute \"Q('City[T.Vadodara]')\" with p-value equal to 0.17861485265737587 \n",
      "\n",
      "Estimating model...: \n",
      " Depression ~ Q('City[T.Ahmedabad]') + Q('City[T.Bangalore]') + Q('City[T.Bhopal]') + Q('City[T.Delhi]') + Q('City[T.Faridabad]') + Q('City[T.Ghaziabad]') + Q('City[T.Hyderabad]') + Q('City[T.Indore]') + Q('City[T.Kalyan]') + Q('City[T.Kanpur]') + Q('City[T.Kolkata]') + Q('City[T.Ludhiana]') + Q('City[T.Meerut]') + Q('City[T.Nashik]') + Q('City[T.Patna]') + Q('City[T.Rajkot]') + Q('City[T.Srinagar]') + Q('City[T.Surat]') + Q('City[T.Thane]') + Q('City[T.Vasai-Virar]') + Q('City[T.Visakhapatnam]') + Q('DH[T.Moderate]') + Q('DH[T.Unhealthy]') + Q('Degree[T.1]') + Q('Degree[T.2]') + Q('Age') + Q('AP') + Q('CGPA') + Q('SS') + Q('SD') + Q('ST') + Q('WSH') + Q('FS') + Q('FHMI')\n",
      "Optimization terminated successfully.\n",
      "         Current function value: 0.348039\n",
      "         Iterations 7\n",
      "\n",
      " Discarding atribute \"Q('City[T.Srinagar]')\" with p-value equal to 0.13595331362859725 \n",
      "\n",
      "Estimating model...: \n",
      " Depression ~ Q('City[T.Ahmedabad]') + Q('City[T.Bangalore]') + Q('City[T.Bhopal]') + Q('City[T.Delhi]') + Q('City[T.Faridabad]') + Q('City[T.Ghaziabad]') + Q('City[T.Hyderabad]') + Q('City[T.Indore]') + Q('City[T.Kalyan]') + Q('City[T.Kanpur]') + Q('City[T.Kolkata]') + Q('City[T.Ludhiana]') + Q('City[T.Meerut]') + Q('City[T.Nashik]') + Q('City[T.Patna]') + Q('City[T.Rajkot]') + Q('City[T.Surat]') + Q('City[T.Thane]') + Q('City[T.Vasai-Virar]') + Q('City[T.Visakhapatnam]') + Q('DH[T.Moderate]') + Q('DH[T.Unhealthy]') + Q('Degree[T.1]') + Q('Degree[T.2]') + Q('Age') + Q('AP') + Q('CGPA') + Q('SS') + Q('SD') + Q('ST') + Q('WSH') + Q('FS') + Q('FHMI')\n",
      "Optimization terminated successfully.\n",
      "         Current function value: 0.348079\n",
      "         Iterations 7\n",
      "\n",
      " Discarding atribute \"Q('City[T.Kanpur]')\" with p-value equal to 0.15089015852057663 \n",
      "\n",
      "Estimating model...: \n",
      " Depression ~ Q('City[T.Ahmedabad]') + Q('City[T.Bangalore]') + Q('City[T.Bhopal]') + Q('City[T.Delhi]') + Q('City[T.Faridabad]') + Q('City[T.Ghaziabad]') + Q('City[T.Hyderabad]') + Q('City[T.Indore]') + Q('City[T.Kalyan]') + Q('City[T.Kolkata]') + Q('City[T.Ludhiana]') + Q('City[T.Meerut]') + Q('City[T.Nashik]') + Q('City[T.Patna]') + Q('City[T.Rajkot]') + Q('City[T.Surat]') + Q('City[T.Thane]') + Q('City[T.Vasai-Virar]') + Q('City[T.Visakhapatnam]') + Q('DH[T.Moderate]') + Q('DH[T.Unhealthy]') + Q('Degree[T.1]') + Q('Degree[T.2]') + Q('Age') + Q('AP') + Q('CGPA') + Q('SS') + Q('SD') + Q('ST') + Q('WSH') + Q('FS') + Q('FHMI')\n",
      "Optimization terminated successfully.\n",
      "         Current function value: 0.348117\n",
      "         Iterations 7\n",
      "\n",
      " Discarding atribute \"Q('City[T.Vasai-Virar]')\" with p-value equal to 0.16166826558687974 \n",
      "\n",
      "Estimating model...: \n",
      " Depression ~ Q('City[T.Ahmedabad]') + Q('City[T.Bangalore]') + Q('City[T.Bhopal]') + Q('City[T.Delhi]') + Q('City[T.Faridabad]') + Q('City[T.Ghaziabad]') + Q('City[T.Hyderabad]') + Q('City[T.Indore]') + Q('City[T.Kalyan]') + Q('City[T.Kolkata]') + Q('City[T.Ludhiana]') + Q('City[T.Meerut]') + Q('City[T.Nashik]') + Q('City[T.Patna]') + Q('City[T.Rajkot]') + Q('City[T.Surat]') + Q('City[T.Thane]') + Q('City[T.Visakhapatnam]') + Q('DH[T.Moderate]') + Q('DH[T.Unhealthy]') + Q('Degree[T.1]') + Q('Degree[T.2]') + Q('Age') + Q('AP') + Q('CGPA') + Q('SS') + Q('SD') + Q('ST') + Q('WSH') + Q('FS') + Q('FHMI')\n",
      "Optimization terminated successfully.\n",
      "         Current function value: 0.348152\n",
      "         Iterations 7\n",
      "\n",
      " Discarding atribute \"Q('City[T.Indore]')\" with p-value equal to 0.1918921383882607 \n",
      "\n",
      "Estimating model...: \n",
      " Depression ~ Q('City[T.Ahmedabad]') + Q('City[T.Bangalore]') + Q('City[T.Bhopal]') + Q('City[T.Delhi]') + Q('City[T.Faridabad]') + Q('City[T.Ghaziabad]') + Q('City[T.Hyderabad]') + Q('City[T.Kalyan]') + Q('City[T.Kolkata]') + Q('City[T.Ludhiana]') + Q('City[T.Meerut]') + Q('City[T.Nashik]') + Q('City[T.Patna]') + Q('City[T.Rajkot]') + Q('City[T.Surat]') + Q('City[T.Thane]') + Q('City[T.Visakhapatnam]') + Q('DH[T.Moderate]') + Q('DH[T.Unhealthy]') + Q('Degree[T.1]') + Q('Degree[T.2]') + Q('Age') + Q('AP') + Q('CGPA') + Q('SS') + Q('SD') + Q('ST') + Q('WSH') + Q('FS') + Q('FHMI')\n",
      "Optimization terminated successfully.\n",
      "         Current function value: 0.348183\n",
      "         Iterations 7\n",
      "\n",
      " Discarding atribute \"Q('City[T.Ghaziabad]')\" with p-value equal to 0.1719245813985424 \n",
      "\n",
      "Estimating model...: \n",
      " Depression ~ Q('City[T.Ahmedabad]') + Q('City[T.Bangalore]') + Q('City[T.Bhopal]') + Q('City[T.Delhi]') + Q('City[T.Faridabad]') + Q('City[T.Hyderabad]') + Q('City[T.Kalyan]') + Q('City[T.Kolkata]') + Q('City[T.Ludhiana]') + Q('City[T.Meerut]') + Q('City[T.Nashik]') + Q('City[T.Patna]') + Q('City[T.Rajkot]') + Q('City[T.Surat]') + Q('City[T.Thane]') + Q('City[T.Visakhapatnam]') + Q('DH[T.Moderate]') + Q('DH[T.Unhealthy]') + Q('Degree[T.1]') + Q('Degree[T.2]') + Q('Age') + Q('AP') + Q('CGPA') + Q('SS') + Q('SD') + Q('ST') + Q('WSH') + Q('FS') + Q('FHMI')\n",
      "Optimization terminated successfully.\n",
      "         Current function value: 0.348216\n",
      "         Iterations 7\n",
      "\n",
      " Discarding atribute \"Q('City[T.Surat]')\" with p-value equal to 0.1893647999088952 \n",
      "\n",
      "Estimating model...: \n",
      " Depression ~ Q('City[T.Ahmedabad]') + Q('City[T.Bangalore]') + Q('City[T.Bhopal]') + Q('City[T.Delhi]') + Q('City[T.Faridabad]') + Q('City[T.Hyderabad]') + Q('City[T.Kalyan]') + Q('City[T.Kolkata]') + Q('City[T.Ludhiana]') + Q('City[T.Meerut]') + Q('City[T.Nashik]') + Q('City[T.Patna]') + Q('City[T.Rajkot]') + Q('City[T.Thane]') + Q('City[T.Visakhapatnam]') + Q('DH[T.Moderate]') + Q('DH[T.Unhealthy]') + Q('Degree[T.1]') + Q('Degree[T.2]') + Q('Age') + Q('AP') + Q('CGPA') + Q('SS') + Q('SD') + Q('ST') + Q('WSH') + Q('FS') + Q('FHMI')\n",
      "Optimization terminated successfully.\n",
      "         Current function value: 0.348247\n",
      "         Iterations 7\n",
      "\n",
      " Discarding atribute \"Q('City[T.Nashik]')\" with p-value equal to 0.18665502687608793 \n",
      "\n",
      "Estimating model...: \n",
      " Depression ~ Q('City[T.Ahmedabad]') + Q('City[T.Bangalore]') + Q('City[T.Bhopal]') + Q('City[T.Delhi]') + Q('City[T.Faridabad]') + Q('City[T.Hyderabad]') + Q('City[T.Kalyan]') + Q('City[T.Kolkata]') + Q('City[T.Ludhiana]') + Q('City[T.Meerut]') + Q('City[T.Patna]') + Q('City[T.Rajkot]') + Q('City[T.Thane]') + Q('City[T.Visakhapatnam]') + Q('DH[T.Moderate]') + Q('DH[T.Unhealthy]') + Q('Degree[T.1]') + Q('Degree[T.2]') + Q('Age') + Q('AP') + Q('CGPA') + Q('SS') + Q('SD') + Q('ST') + Q('WSH') + Q('FS') + Q('FHMI')\n",
      "Optimization terminated successfully.\n",
      "         Current function value: 0.348279\n",
      "         Iterations 7\n",
      "\n",
      " Discarding atribute \"Q('City[T.Visakhapatnam]')\" with p-value equal to 0.15867595093727305 \n",
      "\n",
      "Estimating model...: \n",
      " Depression ~ Q('City[T.Ahmedabad]') + Q('City[T.Bangalore]') + Q('City[T.Bhopal]') + Q('City[T.Delhi]') + Q('City[T.Faridabad]') + Q('City[T.Hyderabad]') + Q('City[T.Kalyan]') + Q('City[T.Kolkata]') + Q('City[T.Ludhiana]') + Q('City[T.Meerut]') + Q('City[T.Patna]') + Q('City[T.Rajkot]') + Q('City[T.Thane]') + Q('DH[T.Moderate]') + Q('DH[T.Unhealthy]') + Q('Degree[T.1]') + Q('Degree[T.2]') + Q('Age') + Q('AP') + Q('CGPA') + Q('SS') + Q('SD') + Q('ST') + Q('WSH') + Q('FS') + Q('FHMI')\n",
      "Optimization terminated successfully.\n",
      "         Current function value: 0.348315\n",
      "         Iterations 7\n",
      "\n",
      " Discarding atribute \"Q('City[T.Rajkot]')\" with p-value equal to 0.14906997463382538 \n",
      "\n",
      "Estimating model...: \n",
      " Depression ~ Q('City[T.Ahmedabad]') + Q('City[T.Bangalore]') + Q('City[T.Bhopal]') + Q('City[T.Delhi]') + Q('City[T.Faridabad]') + Q('City[T.Hyderabad]') + Q('City[T.Kalyan]') + Q('City[T.Kolkata]') + Q('City[T.Ludhiana]') + Q('City[T.Meerut]') + Q('City[T.Patna]') + Q('City[T.Thane]') + Q('DH[T.Moderate]') + Q('DH[T.Unhealthy]') + Q('Degree[T.1]') + Q('Degree[T.2]') + Q('Age') + Q('AP') + Q('CGPA') + Q('SS') + Q('SD') + Q('ST') + Q('WSH') + Q('FS') + Q('FHMI')\n",
      "Optimization terminated successfully.\n",
      "         Current function value: 0.348352\n",
      "         Iterations 7\n",
      "\n",
      " Discarding atribute \"Q('City[T.Bangalore]')\" with p-value equal to 0.16633248570757952 \n",
      "\n",
      "Estimating model...: \n",
      " Depression ~ Q('City[T.Ahmedabad]') + Q('City[T.Bhopal]') + Q('City[T.Delhi]') + Q('City[T.Faridabad]') + Q('City[T.Hyderabad]') + Q('City[T.Kalyan]') + Q('City[T.Kolkata]') + Q('City[T.Ludhiana]') + Q('City[T.Meerut]') + Q('City[T.Patna]') + Q('City[T.Thane]') + Q('DH[T.Moderate]') + Q('DH[T.Unhealthy]') + Q('Degree[T.1]') + Q('Degree[T.2]') + Q('Age') + Q('AP') + Q('CGPA') + Q('SS') + Q('SD') + Q('ST') + Q('WSH') + Q('FS') + Q('FHMI')\n",
      "Optimization terminated successfully.\n",
      "         Current function value: 0.348387\n",
      "         Iterations 7\n",
      "\n",
      " Discarding atribute \"Q('City[T.Delhi]')\" with p-value equal to 0.15038940001006226 \n",
      "\n",
      "Estimating model...: \n",
      " Depression ~ Q('City[T.Ahmedabad]') + Q('City[T.Bhopal]') + Q('City[T.Faridabad]') + Q('City[T.Hyderabad]') + Q('City[T.Kalyan]') + Q('City[T.Kolkata]') + Q('City[T.Ludhiana]') + Q('City[T.Meerut]') + Q('City[T.Patna]') + Q('City[T.Thane]') + Q('DH[T.Moderate]') + Q('DH[T.Unhealthy]') + Q('Degree[T.1]') + Q('Degree[T.2]') + Q('Age') + Q('AP') + Q('CGPA') + Q('SS') + Q('SD') + Q('ST') + Q('WSH') + Q('FS') + Q('FHMI')\n",
      "Optimization terminated successfully.\n",
      "         Current function value: 0.348424\n",
      "         Iterations 7\n",
      "\n",
      " Discarding atribute \"Q('City[T.Ludhiana]')\" with p-value equal to 0.17025515858425044 \n",
      "\n",
      "Estimating model...: \n",
      " Depression ~ Q('City[T.Ahmedabad]') + Q('City[T.Bhopal]') + Q('City[T.Faridabad]') + Q('City[T.Hyderabad]') + Q('City[T.Kalyan]') + Q('City[T.Kolkata]') + Q('City[T.Meerut]') + Q('City[T.Patna]') + Q('City[T.Thane]') + Q('DH[T.Moderate]') + Q('DH[T.Unhealthy]') + Q('Degree[T.1]') + Q('Degree[T.2]') + Q('Age') + Q('AP') + Q('CGPA') + Q('SS') + Q('SD') + Q('ST') + Q('WSH') + Q('FS') + Q('FHMI')\n",
      "Optimization terminated successfully.\n",
      "         Current function value: 0.348458\n",
      "         Iterations 7\n",
      "\n",
      " Discarding atribute \"Q('City[T.Faridabad]')\" with p-value equal to 0.13940931011193303 \n",
      "\n",
      "Estimating model...: \n",
      " Depression ~ Q('City[T.Ahmedabad]') + Q('City[T.Bhopal]') + Q('City[T.Hyderabad]') + Q('City[T.Kalyan]') + Q('City[T.Kolkata]') + Q('City[T.Meerut]') + Q('City[T.Patna]') + Q('City[T.Thane]') + Q('DH[T.Moderate]') + Q('DH[T.Unhealthy]') + Q('Degree[T.1]') + Q('Degree[T.2]') + Q('Age') + Q('AP') + Q('CGPA') + Q('SS') + Q('SD') + Q('ST') + Q('WSH') + Q('FS') + Q('FHMI')\n",
      "Optimization terminated successfully.\n",
      "         Current function value: 0.348498\n",
      "         Iterations 7\n",
      "\n",
      " Discarding atribute \"Q('City[T.Kalyan]')\" with p-value equal to 0.0969544941789845 \n",
      "\n",
      "Estimating model...: \n",
      " Depression ~ Q('City[T.Ahmedabad]') + Q('City[T.Bhopal]') + Q('City[T.Hyderabad]') + Q('City[T.Kolkata]') + Q('City[T.Meerut]') + Q('City[T.Patna]') + Q('City[T.Thane]') + Q('DH[T.Moderate]') + Q('DH[T.Unhealthy]') + Q('Degree[T.1]') + Q('Degree[T.2]') + Q('Age') + Q('AP') + Q('CGPA') + Q('SS') + Q('SD') + Q('ST') + Q('WSH') + Q('FS') + Q('FHMI')\n",
      "Optimization terminated successfully.\n",
      "         Current function value: 0.348547\n",
      "         Iterations 7\n",
      "\n",
      " Discarding atribute \"Q('City[T.Thane]')\" with p-value equal to 0.11032543555365262 \n",
      "\n",
      "Estimating model...: \n",
      " Depression ~ Q('City[T.Ahmedabad]') + Q('City[T.Bhopal]') + Q('City[T.Hyderabad]') + Q('City[T.Kolkata]') + Q('City[T.Meerut]') + Q('City[T.Patna]') + Q('DH[T.Moderate]') + Q('DH[T.Unhealthy]') + Q('Degree[T.1]') + Q('Degree[T.2]') + Q('Age') + Q('AP') + Q('CGPA') + Q('SS') + Q('SD') + Q('ST') + Q('WSH') + Q('FS') + Q('FHMI')\n",
      "Optimization terminated successfully.\n",
      "         Current function value: 0.348593\n",
      "         Iterations 7\n",
      "\n",
      " Discarding atribute \"Q('City[T.Bhopal]')\" with p-value equal to 0.06112169019528578 \n",
      "\n",
      "Estimating model...: \n",
      " Depression ~ Q('City[T.Ahmedabad]') + Q('City[T.Hyderabad]') + Q('City[T.Kolkata]') + Q('City[T.Meerut]') + Q('City[T.Patna]') + Q('DH[T.Moderate]') + Q('DH[T.Unhealthy]') + Q('Degree[T.1]') + Q('Degree[T.2]') + Q('Age') + Q('AP') + Q('CGPA') + Q('SS') + Q('SD') + Q('ST') + Q('WSH') + Q('FS') + Q('FHMI')\n",
      "Optimization terminated successfully.\n",
      "         Current function value: 0.348657\n",
      "         Iterations 7\n",
      "\n",
      " Discarding atribute \"Q('City[T.Meerut]')\" with p-value equal to 0.05189048764123566 \n",
      "\n",
      "Estimating model...: \n",
      " Depression ~ Q('City[T.Ahmedabad]') + Q('City[T.Hyderabad]') + Q('City[T.Kolkata]') + Q('City[T.Patna]') + Q('DH[T.Moderate]') + Q('DH[T.Unhealthy]') + Q('Degree[T.1]') + Q('Degree[T.2]') + Q('Age') + Q('AP') + Q('CGPA') + Q('SS') + Q('SD') + Q('ST') + Q('WSH') + Q('FS') + Q('FHMI')\n",
      "Optimization terminated successfully.\n",
      "         Current function value: 0.348725\n",
      "         Iterations 7\n",
      "\n",
      " No more atributes with p-value higher than 0.05\n",
      "\n",
      " Atributes discarded on the process...: \n",
      "\n",
      "{'atribute': \"Q('City[T.Mumbai]')\", 'p-value': np.float64(0.8829641242291616)}\n",
      "{'atribute': \"Q('Gender')\", 'p-value': np.float64(0.8749502664925847)}\n",
      "{'atribute': \"Q('City[T.Jaipur]')\", 'p-value': np.float64(0.8017786899730575)}\n",
      "{'atribute': \"Q('City[T.Varanasi]')\", 'p-value': np.float64(0.6612113003490395)}\n",
      "{'atribute': \"Q('City[T.Nagpur]')\", 'p-value': np.float64(0.5337103691724001)}\n",
      "{'atribute': \"Q('City[T.Chennai]')\", 'p-value': np.float64(0.11994736003320834)}\n",
      "{'atribute': \"Q('City[T.Pune]')\", 'p-value': np.float64(0.15286866002891134)}\n",
      "{'atribute': \"Q('City[T.Lucknow]')\", 'p-value': np.float64(0.21866138936014656)}\n",
      "{'atribute': \"Q('City[T.Vadodara]')\", 'p-value': np.float64(0.17861485265737587)}\n",
      "{'atribute': \"Q('City[T.Srinagar]')\", 'p-value': np.float64(0.13595331362859725)}\n",
      "{'atribute': \"Q('City[T.Kanpur]')\", 'p-value': np.float64(0.15089015852057663)}\n",
      "{'atribute': \"Q('City[T.Vasai-Virar]')\", 'p-value': np.float64(0.16166826558687974)}\n",
      "{'atribute': \"Q('City[T.Indore]')\", 'p-value': np.float64(0.1918921383882607)}\n",
      "{'atribute': \"Q('City[T.Ghaziabad]')\", 'p-value': np.float64(0.1719245813985424)}\n",
      "{'atribute': \"Q('City[T.Surat]')\", 'p-value': np.float64(0.1893647999088952)}\n",
      "{'atribute': \"Q('City[T.Nashik]')\", 'p-value': np.float64(0.18665502687608793)}\n",
      "{'atribute': \"Q('City[T.Visakhapatnam]')\", 'p-value': np.float64(0.15867595093727305)}\n",
      "{'atribute': \"Q('City[T.Rajkot]')\", 'p-value': np.float64(0.14906997463382538)}\n",
      "{'atribute': \"Q('City[T.Bangalore]')\", 'p-value': np.float64(0.16633248570757952)}\n",
      "{'atribute': \"Q('City[T.Delhi]')\", 'p-value': np.float64(0.15038940001006226)}\n",
      "{'atribute': \"Q('City[T.Ludhiana]')\", 'p-value': np.float64(0.17025515858425044)}\n",
      "{'atribute': \"Q('City[T.Faridabad]')\", 'p-value': np.float64(0.13940931011193303)}\n",
      "{'atribute': \"Q('City[T.Kalyan]')\", 'p-value': np.float64(0.0969544941789845)}\n",
      "{'atribute': \"Q('City[T.Thane]')\", 'p-value': np.float64(0.11032543555365262)}\n",
      "{'atribute': \"Q('City[T.Bhopal]')\", 'p-value': np.float64(0.06112169019528578)}\n",
      "{'atribute': \"Q('City[T.Meerut]')\", 'p-value': np.float64(0.05189048764123566)}\n",
      "\n",
      " Model after stepwise process...: \n",
      " Depression ~ Q('City[T.Ahmedabad]') + Q('City[T.Hyderabad]') + Q('City[T.Kolkata]') + Q('City[T.Patna]') + Q('DH[T.Moderate]') + Q('DH[T.Unhealthy]') + Q('Degree[T.1]') + Q('Degree[T.2]') + Q('Age') + Q('AP') + Q('CGPA') + Q('SS') + Q('SD') + Q('ST') + Q('WSH') + Q('FS') + Q('FHMI') \n",
      "\n",
      "                           Logit Regression Results                           \n",
      "==============================================================================\n",
      "Dep. Variable:             Depression   No. Observations:                27816\n",
      "Model:                          Logit   Df Residuals:                    27798\n",
      "Method:                           MLE   Df Model:                           17\n",
      "Date:                Tue, 11 Feb 2025   Pseudo R-squ.:                  0.4859\n",
      "Time:                        17:26:15   Log-Likelihood:                -9700.1\n",
      "converged:                       True   LL-Null:                       -18869.\n",
      "Covariance Type:            nonrobust   LLR p-value:                     0.000\n",
      "==========================================================================================\n",
      "                             coef    std err          z      P>|z|      [0.025      0.975]\n",
      "------------------------------------------------------------------------------------------\n",
      "Intercept                 -3.2855      0.175    -18.825      0.000      -3.628      -2.943\n",
      "Q('City[T.Ahmedabad]')     0.3273      0.102      3.201      0.001       0.127       0.528\n",
      "Q('City[T.Hyderabad]')     0.3023      0.086      3.498      0.000       0.133       0.472\n",
      "Q('City[T.Kolkata]')       0.2246      0.099      2.265      0.024       0.030       0.419\n",
      "Q('City[T.Patna]')         0.2376      0.097      2.444      0.015       0.047       0.428\n",
      "Q('DH[T.Moderate]')        0.4737      0.045     10.488      0.000       0.385       0.562\n",
      "Q('DH[T.Unhealthy]')       1.0911      0.046     23.602      0.000       1.000       1.182\n",
      "Q('Degree[T.1]')           0.1739      0.064      2.737      0.006       0.049       0.299\n",
      "Q('Degree[T.2]')           0.1504      0.059      2.562      0.010       0.035       0.265\n",
      "Q('Age')                  -0.1180      0.005    -24.408      0.000      -0.127      -0.109\n",
      "Q('AP')                    0.8397      0.015     56.296      0.000       0.811       0.869\n",
      "Q('CGPA')                  0.0569      0.012      4.568      0.000       0.032       0.081\n",
      "Q('SS')                   -0.2420      0.014    -17.787      0.000      -0.269      -0.215\n",
      "Q('SD')                   -0.1883      0.016    -11.547      0.000      -0.220      -0.156\n",
      "Q('ST')                    2.5142      0.039     64.241      0.000       2.437       2.591\n",
      "Q('WSH')                   0.1168      0.005     23.474      0.000       0.107       0.127\n",
      "Q('FS')                    0.5520      0.013     41.347      0.000       0.526       0.578\n",
      "Q('FHMI')                  0.2455      0.036      6.733      0.000       0.174       0.317\n",
      "==========================================================================================\n"
     ]
    }
   ],
   "source": [
    "stepwise_model = stepwise(model, pvalue_limit=0.05)"
   ]
  },
  {
   "cell_type": "code",
   "execution_count": 48,
   "metadata": {
    "execution": {
     "iopub.execute_input": "2025-01-16T21:31:30.092509Z",
     "iopub.status.busy": "2025-01-16T21:31:30.092233Z",
     "iopub.status.idle": "2025-01-16T21:31:30.166621Z",
     "shell.execute_reply": "2025-01-16T21:31:30.165425Z",
     "shell.execute_reply.started": "2025-01-16T21:31:30.092485Z"
    },
    "trusted": true
   },
   "outputs": [
    {
     "data": {
      "text/html": [
       "<table class=\"simpletable\">\n",
       "<caption>Logit Regression Results</caption>\n",
       "<tr>\n",
       "  <th>Dep. Variable:</th>      <td>Depression</td>    <th>  No. Observations:  </th>  <td> 27816</td> \n",
       "</tr>\n",
       "<tr>\n",
       "  <th>Model:</th>                 <td>Logit</td>      <th>  Df Residuals:      </th>  <td> 27798</td> \n",
       "</tr>\n",
       "<tr>\n",
       "  <th>Method:</th>                 <td>MLE</td>       <th>  Df Model:          </th>  <td>    17</td> \n",
       "</tr>\n",
       "<tr>\n",
       "  <th>Date:</th>            <td>Tue, 11 Feb 2025</td> <th>  Pseudo R-squ.:     </th>  <td>0.4859</td> \n",
       "</tr>\n",
       "<tr>\n",
       "  <th>Time:</th>                <td>17:26:21</td>     <th>  Log-Likelihood:    </th> <td> -9700.1</td>\n",
       "</tr>\n",
       "<tr>\n",
       "  <th>converged:</th>             <td>True</td>       <th>  LL-Null:           </th> <td> -18869.</td>\n",
       "</tr>\n",
       "<tr>\n",
       "  <th>Covariance Type:</th>     <td>nonrobust</td>    <th>  LLR p-value:       </th>  <td> 0.000</td> \n",
       "</tr>\n",
       "</table>\n",
       "<table class=\"simpletable\">\n",
       "<tr>\n",
       "             <td></td>               <th>coef</th>     <th>std err</th>      <th>z</th>      <th>P>|z|</th>  <th>[0.025</th>    <th>0.975]</th>  \n",
       "</tr>\n",
       "<tr>\n",
       "  <th>Intercept</th>              <td>   -3.2855</td> <td>    0.175</td> <td>  -18.825</td> <td> 0.000</td> <td>   -3.628</td> <td>   -2.943</td>\n",
       "</tr>\n",
       "<tr>\n",
       "  <th>Q('City[T.Ahmedabad]')</th> <td>    0.3273</td> <td>    0.102</td> <td>    3.201</td> <td> 0.001</td> <td>    0.127</td> <td>    0.528</td>\n",
       "</tr>\n",
       "<tr>\n",
       "  <th>Q('City[T.Hyderabad]')</th> <td>    0.3023</td> <td>    0.086</td> <td>    3.498</td> <td> 0.000</td> <td>    0.133</td> <td>    0.472</td>\n",
       "</tr>\n",
       "<tr>\n",
       "  <th>Q('City[T.Kolkata]')</th>   <td>    0.2246</td> <td>    0.099</td> <td>    2.265</td> <td> 0.024</td> <td>    0.030</td> <td>    0.419</td>\n",
       "</tr>\n",
       "<tr>\n",
       "  <th>Q('City[T.Patna]')</th>     <td>    0.2376</td> <td>    0.097</td> <td>    2.444</td> <td> 0.015</td> <td>    0.047</td> <td>    0.428</td>\n",
       "</tr>\n",
       "<tr>\n",
       "  <th>Q('DH[T.Moderate]')</th>    <td>    0.4737</td> <td>    0.045</td> <td>   10.488</td> <td> 0.000</td> <td>    0.385</td> <td>    0.562</td>\n",
       "</tr>\n",
       "<tr>\n",
       "  <th>Q('DH[T.Unhealthy]')</th>   <td>    1.0911</td> <td>    0.046</td> <td>   23.602</td> <td> 0.000</td> <td>    1.000</td> <td>    1.182</td>\n",
       "</tr>\n",
       "<tr>\n",
       "  <th>Q('Degree[T.1]')</th>       <td>    0.1739</td> <td>    0.064</td> <td>    2.737</td> <td> 0.006</td> <td>    0.049</td> <td>    0.299</td>\n",
       "</tr>\n",
       "<tr>\n",
       "  <th>Q('Degree[T.2]')</th>       <td>    0.1504</td> <td>    0.059</td> <td>    2.562</td> <td> 0.010</td> <td>    0.035</td> <td>    0.265</td>\n",
       "</tr>\n",
       "<tr>\n",
       "  <th>Q('Age')</th>               <td>   -0.1180</td> <td>    0.005</td> <td>  -24.408</td> <td> 0.000</td> <td>   -0.127</td> <td>   -0.109</td>\n",
       "</tr>\n",
       "<tr>\n",
       "  <th>Q('AP')</th>                <td>    0.8397</td> <td>    0.015</td> <td>   56.296</td> <td> 0.000</td> <td>    0.811</td> <td>    0.869</td>\n",
       "</tr>\n",
       "<tr>\n",
       "  <th>Q('CGPA')</th>              <td>    0.0569</td> <td>    0.012</td> <td>    4.568</td> <td> 0.000</td> <td>    0.032</td> <td>    0.081</td>\n",
       "</tr>\n",
       "<tr>\n",
       "  <th>Q('SS')</th>                <td>   -0.2420</td> <td>    0.014</td> <td>  -17.787</td> <td> 0.000</td> <td>   -0.269</td> <td>   -0.215</td>\n",
       "</tr>\n",
       "<tr>\n",
       "  <th>Q('SD')</th>                <td>   -0.1883</td> <td>    0.016</td> <td>  -11.547</td> <td> 0.000</td> <td>   -0.220</td> <td>   -0.156</td>\n",
       "</tr>\n",
       "<tr>\n",
       "  <th>Q('ST')</th>                <td>    2.5142</td> <td>    0.039</td> <td>   64.241</td> <td> 0.000</td> <td>    2.437</td> <td>    2.591</td>\n",
       "</tr>\n",
       "<tr>\n",
       "  <th>Q('WSH')</th>               <td>    0.1168</td> <td>    0.005</td> <td>   23.474</td> <td> 0.000</td> <td>    0.107</td> <td>    0.127</td>\n",
       "</tr>\n",
       "<tr>\n",
       "  <th>Q('FS')</th>                <td>    0.5520</td> <td>    0.013</td> <td>   41.347</td> <td> 0.000</td> <td>    0.526</td> <td>    0.578</td>\n",
       "</tr>\n",
       "<tr>\n",
       "  <th>Q('FHMI')</th>              <td>    0.2455</td> <td>    0.036</td> <td>    6.733</td> <td> 0.000</td> <td>    0.174</td> <td>    0.317</td>\n",
       "</tr>\n",
       "</table>"
      ],
      "text/latex": [
       "\\begin{center}\n",
       "\\begin{tabular}{lclc}\n",
       "\\toprule\n",
       "\\textbf{Dep. Variable:}         &    Depression    & \\textbf{  No. Observations:  } &    27816    \\\\\n",
       "\\textbf{Model:}                 &      Logit       & \\textbf{  Df Residuals:      } &    27798    \\\\\n",
       "\\textbf{Method:}                &       MLE        & \\textbf{  Df Model:          } &       17    \\\\\n",
       "\\textbf{Date:}                  & Tue, 11 Feb 2025 & \\textbf{  Pseudo R-squ.:     } &   0.4859    \\\\\n",
       "\\textbf{Time:}                  &     17:26:21     & \\textbf{  Log-Likelihood:    } &   -9700.1   \\\\\n",
       "\\textbf{converged:}             &       True       & \\textbf{  LL-Null:           } &   -18869.   \\\\\n",
       "\\textbf{Covariance Type:}       &    nonrobust     & \\textbf{  LLR p-value:       } &    0.000    \\\\\n",
       "\\bottomrule\n",
       "\\end{tabular}\n",
       "\\begin{tabular}{lcccccc}\n",
       "                                & \\textbf{coef} & \\textbf{std err} & \\textbf{z} & \\textbf{P$> |$z$|$} & \\textbf{[0.025} & \\textbf{0.975]}  \\\\\n",
       "\\midrule\n",
       "\\textbf{Intercept}              &      -3.2855  &        0.175     &   -18.825  &         0.000        &       -3.628    &       -2.943     \\\\\n",
       "\\textbf{Q('City[T.Ahmedabad]')} &       0.3273  &        0.102     &     3.201  &         0.001        &        0.127    &        0.528     \\\\\n",
       "\\textbf{Q('City[T.Hyderabad]')} &       0.3023  &        0.086     &     3.498  &         0.000        &        0.133    &        0.472     \\\\\n",
       "\\textbf{Q('City[T.Kolkata]')}   &       0.2246  &        0.099     &     2.265  &         0.024        &        0.030    &        0.419     \\\\\n",
       "\\textbf{Q('City[T.Patna]')}     &       0.2376  &        0.097     &     2.444  &         0.015        &        0.047    &        0.428     \\\\\n",
       "\\textbf{Q('DH[T.Moderate]')}    &       0.4737  &        0.045     &    10.488  &         0.000        &        0.385    &        0.562     \\\\\n",
       "\\textbf{Q('DH[T.Unhealthy]')}   &       1.0911  &        0.046     &    23.602  &         0.000        &        1.000    &        1.182     \\\\\n",
       "\\textbf{Q('Degree[T.1]')}       &       0.1739  &        0.064     &     2.737  &         0.006        &        0.049    &        0.299     \\\\\n",
       "\\textbf{Q('Degree[T.2]')}       &       0.1504  &        0.059     &     2.562  &         0.010        &        0.035    &        0.265     \\\\\n",
       "\\textbf{Q('Age')}               &      -0.1180  &        0.005     &   -24.408  &         0.000        &       -0.127    &       -0.109     \\\\\n",
       "\\textbf{Q('AP')}                &       0.8397  &        0.015     &    56.296  &         0.000        &        0.811    &        0.869     \\\\\n",
       "\\textbf{Q('CGPA')}              &       0.0569  &        0.012     &     4.568  &         0.000        &        0.032    &        0.081     \\\\\n",
       "\\textbf{Q('SS')}                &      -0.2420  &        0.014     &   -17.787  &         0.000        &       -0.269    &       -0.215     \\\\\n",
       "\\textbf{Q('SD')}                &      -0.1883  &        0.016     &   -11.547  &         0.000        &       -0.220    &       -0.156     \\\\\n",
       "\\textbf{Q('ST')}                &       2.5142  &        0.039     &    64.241  &         0.000        &        2.437    &        2.591     \\\\\n",
       "\\textbf{Q('WSH')}               &       0.1168  &        0.005     &    23.474  &         0.000        &        0.107    &        0.127     \\\\\n",
       "\\textbf{Q('FS')}                &       0.5520  &        0.013     &    41.347  &         0.000        &        0.526    &        0.578     \\\\\n",
       "\\textbf{Q('FHMI')}              &       0.2455  &        0.036     &     6.733  &         0.000        &        0.174    &        0.317     \\\\\n",
       "\\bottomrule\n",
       "\\end{tabular}\n",
       "%\\caption{Logit Regression Results}\n",
       "\\end{center}"
      ],
      "text/plain": [
       "<class 'statsmodels.iolib.summary.Summary'>\n",
       "\"\"\"\n",
       "                           Logit Regression Results                           \n",
       "==============================================================================\n",
       "Dep. Variable:             Depression   No. Observations:                27816\n",
       "Model:                          Logit   Df Residuals:                    27798\n",
       "Method:                           MLE   Df Model:                           17\n",
       "Date:                Tue, 11 Feb 2025   Pseudo R-squ.:                  0.4859\n",
       "Time:                        17:26:21   Log-Likelihood:                -9700.1\n",
       "converged:                       True   LL-Null:                       -18869.\n",
       "Covariance Type:            nonrobust   LLR p-value:                     0.000\n",
       "==========================================================================================\n",
       "                             coef    std err          z      P>|z|      [0.025      0.975]\n",
       "------------------------------------------------------------------------------------------\n",
       "Intercept                 -3.2855      0.175    -18.825      0.000      -3.628      -2.943\n",
       "Q('City[T.Ahmedabad]')     0.3273      0.102      3.201      0.001       0.127       0.528\n",
       "Q('City[T.Hyderabad]')     0.3023      0.086      3.498      0.000       0.133       0.472\n",
       "Q('City[T.Kolkata]')       0.2246      0.099      2.265      0.024       0.030       0.419\n",
       "Q('City[T.Patna]')         0.2376      0.097      2.444      0.015       0.047       0.428\n",
       "Q('DH[T.Moderate]')        0.4737      0.045     10.488      0.000       0.385       0.562\n",
       "Q('DH[T.Unhealthy]')       1.0911      0.046     23.602      0.000       1.000       1.182\n",
       "Q('Degree[T.1]')           0.1739      0.064      2.737      0.006       0.049       0.299\n",
       "Q('Degree[T.2]')           0.1504      0.059      2.562      0.010       0.035       0.265\n",
       "Q('Age')                  -0.1180      0.005    -24.408      0.000      -0.127      -0.109\n",
       "Q('AP')                    0.8397      0.015     56.296      0.000       0.811       0.869\n",
       "Q('CGPA')                  0.0569      0.012      4.568      0.000       0.032       0.081\n",
       "Q('SS')                   -0.2420      0.014    -17.787      0.000      -0.269      -0.215\n",
       "Q('SD')                   -0.1883      0.016    -11.547      0.000      -0.220      -0.156\n",
       "Q('ST')                    2.5142      0.039     64.241      0.000       2.437       2.591\n",
       "Q('WSH')                   0.1168      0.005     23.474      0.000       0.107       0.127\n",
       "Q('FS')                    0.5520      0.013     41.347      0.000       0.526       0.578\n",
       "Q('FHMI')                  0.2455      0.036      6.733      0.000       0.174       0.317\n",
       "==========================================================================================\n",
       "\"\"\""
      ]
     },
     "execution_count": 48,
     "metadata": {},
     "output_type": "execute_result"
    }
   ],
   "source": [
    "stepwise_model.summary()"
   ]
  },
  {
   "cell_type": "markdown",
   "metadata": {},
   "source": [
    "### Analisando os resultados do modelo"
   ]
  },
  {
   "cell_type": "code",
   "execution_count": 49,
   "metadata": {},
   "outputs": [],
   "source": [
    "def confusion_matrix_plot(predicts, observated, cutoff):\n",
    "\n",
    "    values = predicts.values\n",
    "\n",
    "    binary_prediction = []\n",
    "\n",
    "    for item in values:\n",
    "        if item < cutoff:\n",
    "            binary_prediction.append(0)\n",
    "        else:\n",
    "            binary_prediction.append(1)\n",
    "\n",
    "    cm = confusion_matrix(binary_prediction, observated)\n",
    "    disp = ConfusionMatrixDisplay(confusion_matrix=cm)\n",
    "    disp.plot()\n",
    "    plt.xlabel('True')\n",
    "    plt.ylabel('Classified')\n",
    "    plt.gca().invert_xaxis()\n",
    "    plt.gca().invert_yaxis()\n",
    "    plt.show()\n",
    "\n",
    "    sensitivity = recall_score(observated, binary_prediction, pos_label=1)\n",
    "    specificity = recall_score(observated, binary_prediction, pos_label=0)\n",
    "    accuracy = accuracy_score(observated, binary_prediction)\n",
    "\n",
    "    indicators = pd.DataFrame({'Sensitividade': [sensitivity],\n",
    "                               'Especificidade': [specificity],\n",
    "                               'Acurácia': [accuracy]})\n",
    "    return indicators"
   ]
  },
  {
   "cell_type": "code",
   "execution_count": null,
   "metadata": {
    "execution": {
     "iopub.execute_input": "2025-01-16T21:31:30.176102Z",
     "iopub.status.busy": "2025-01-16T21:31:30.175745Z",
     "iopub.status.idle": "2025-01-16T21:31:30.198272Z",
     "shell.execute_reply": "2025-01-16T21:31:30.197229Z",
     "shell.execute_reply.started": "2025-01-16T21:31:30.176058Z"
    },
    "trusted": true
   },
   "outputs": [],
   "source": [
    "df_dummies['phat'] = stepwise_model.predict()"
   ]
  },
  {
   "cell_type": "code",
   "execution_count": null,
   "metadata": {
    "execution": {
     "iopub.execute_input": "2025-01-16T21:31:30.199597Z",
     "iopub.status.busy": "2025-01-16T21:31:30.199301Z",
     "iopub.status.idle": "2025-01-16T21:31:30.553238Z",
     "shell.execute_reply": "2025-01-16T21:31:30.552213Z",
     "shell.execute_reply.started": "2025-01-16T21:31:30.199567Z"
    },
    "trusted": true
   },
   "outputs": [
    {
     "data": {
      "image/png": "[encoded data removed]",
      "text/plain": [
       "<Figure size 640x480 with 2 Axes>"
      ]
     },
     "metadata": {},
     "output_type": "display_data"
    },
    {
     "data": {
      "application/vnd.microsoft.datawrangler.viewer.v0+json": {
       "columns": [
        {
         "name": "index",
         "rawType": "int64",
         "type": "integer"
        },
        {
         "name": "Sensitividade",
         "rawType": "float64",
         "type": "float"
        },
        {
         "name": "Especificidade",
         "rawType": "float64",
         "type": "float"
        },
        {
         "name": "Acurácia",
         "rawType": "float64",
         "type": "float"
        }
       ],
       "conversionMethod": "pd.DataFrame",
       "ref": "03d712ea-a867-433b-ad46-f440774b7f47",
       "rows": [
        [
         "0",
         "0.8873204860684915",
         "0.7919632008331887",
         "0.8478213977566867"
        ]
       ],
       "shape": {
        "columns": 3,
        "rows": 1
       }
      },
      "text/html": [
       "<div>\n",
       "<style scoped>\n",
       "    .dataframe tbody tr th:only-of-type {\n",
       "        vertical-align: middle;\n",
       "    }\n",
       "\n",
       "    .dataframe tbody tr th {\n",
       "        vertical-align: top;\n",
       "    }\n",
       "\n",
       "    .dataframe thead th {\n",
       "        text-align: right;\n",
       "    }\n",
       "</style>\n",
       "<table border=\"1\" class=\"dataframe\">\n",
       "  <thead>\n",
       "    <tr style=\"text-align: right;\">\n",
       "      <th></th>\n",
       "      <th>Sensitividade</th>\n",
       "      <th>Especificidade</th>\n",
       "      <th>Acurácia</th>\n",
       "    </tr>\n",
       "  </thead>\n",
       "  <tbody>\n",
       "    <tr>\n",
       "      <th>0</th>\n",
       "      <td>0.88732</td>\n",
       "      <td>0.791963</td>\n",
       "      <td>0.847821</td>\n",
       "    </tr>\n",
       "  </tbody>\n",
       "</table>\n",
       "</div>"
      ],
      "text/plain": [
       "   Sensitividade  Especificidade  Acurácia\n",
       "0        0.88732        0.791963  0.847821"
      ]
     },
     "execution_count": 52,
     "metadata": {},
     "output_type": "execute_result"
    }
   ],
   "source": [
    "confusion_matrix_plot(observated=df_dummies['Depression'],\n",
    "                      predicts=df_dummies['phat'],\n",
    "                      cutoff=0.5)"
   ]
  },
  {
   "cell_type": "code",
   "execution_count": null,
   "metadata": {},
   "outputs": [
    {
     "data": {
      "image/png": "[encoded data removed]",
      "text/plain": [
       "<Figure size 1000x700 with 1 Axes>"
      ]
     },
     "metadata": {},
     "output_type": "display_data"
    }
   ],
   "source": [
    "fpr, tpr, thresholds = roc_curve(df_dummies['Depression'],\n",
    "                                 df_dummies['phat'])\n",
    "roc_auc = auc(fpr, tpr)\n",
    "\n",
    "gini = (roc_auc - 0.5)/(0.5)\n",
    "\n",
    "# Plotando a curva ROC\n",
    "plt.figure(figsize=(10, 7))\n",
    "plt.plot(fpr, tpr, marker='o', color='darkorchid', markersize=10, linewidth=3)\n",
    "plt.plot(fpr, fpr, color='gray', linestyle='dashed')\n",
    "plt.title('Área abaixo da curva: %g' % round(roc_auc, 4) +\n",
    "          ' | Coeficiente de GINI: %g' % round(gini, 4), fontsize=22)\n",
    "plt.xlabel('1 - Especificidade', fontsize=20)\n",
    "plt.ylabel('Sensitividade', fontsize=20)\n",
    "plt.xticks(np.arange(0, 1.1, 0.2), fontsize=14)\n",
    "plt.yticks(np.arange(0, 1.1, 0.2), fontsize=14)\n",
    "plt.show()"
   ]
  },
  {
   "cell_type": "markdown",
   "metadata": {},
   "source": [
    "## Árvore de Decisão"
   ]
  },
  {
   "cell_type": "markdown",
   "metadata": {},
   "source": [
    "### Separando as variasveis preditoras da target"
   ]
  },
  {
   "cell_type": "code",
   "execution_count": null,
   "metadata": {},
   "outputs": [],
   "source": [
    "X = df_dummies.drop(columns=['Depression', 'phat'])\n",
    "y = df_dummies['Depression']"
   ]
  },
  {
   "cell_type": "markdown",
   "metadata": {},
   "source": [
    "### Realizando a divisão do dataframe em teste e treino"
   ]
  },
  {
   "cell_type": "code",
   "execution_count": 155,
   "metadata": {},
   "outputs": [],
   "source": [
    "X_train, X_test, y_train, y_test = train_test_split(X, y, test_size=.25)"
   ]
  },
  {
   "cell_type": "code",
   "execution_count": 156,
   "metadata": {},
   "outputs": [
    {
     "data": {
      "text/plain": [
       "(20832, 41)"
      ]
     },
     "metadata": {},
     "output_type": "display_data"
    },
    {
     "data": {
      "text/plain": [
       "(20832,)"
      ]
     },
     "metadata": {},
     "output_type": "display_data"
    },
    {
     "data": {
      "text/plain": [
       "(6944, 41)"
      ]
     },
     "metadata": {},
     "output_type": "display_data"
    },
    {
     "data": {
      "text/plain": [
       "(6944,)"
      ]
     },
     "metadata": {},
     "output_type": "display_data"
    }
   ],
   "source": [
    "display(X_train.shape)\n",
    "display(y_train.shape)\n",
    "display(X_test.shape)\n",
    "display(y_test.shape)"
   ]
  },
  {
   "cell_type": "code",
   "execution_count": null,
   "metadata": {},
   "outputs": [
    {
     "data": {
      "text/html": [
       "<style>#sk-container-id-2 {\n",
       "  /* Definition of color scheme common for light and dark mode */\n",
       "  --sklearn-color-text: #000;\n",
       "  --sklearn-color-text-muted: #666;\n",
       "  --sklearn-color-line: gray;\n",
       "  /* Definition of color scheme for unfitted estimators */\n",
       "  --sklearn-color-unfitted-level-0: #fff5e6;\n",
       "  --sklearn-color-unfitted-level-1: #f6e4d2;\n",
       "  --sklearn-color-unfitted-level-2: #ffe0b3;\n",
       "  --sklearn-color-unfitted-level-3: chocolate;\n",
       "  /* Definition of color scheme for fitted estimators */\n",
       "  --sklearn-color-fitted-level-0: #f0f8ff;\n",
       "  --sklearn-color-fitted-level-1: #d4ebff;\n",
       "  --sklearn-color-fitted-level-2: #b3dbfd;\n",
       "  --sklearn-color-fitted-level-3: cornflowerblue;\n",
       "\n",
       "  /* Specific color for light theme */\n",
       "  --sklearn-color-text-on-default-background: var(--sg-text-color, var(--theme-code-foreground, var(--jp-content-font-color1, black)));\n",
       "  --sklearn-color-background: var(--sg-background-color, var(--theme-background, var(--jp-layout-color0, white)));\n",
       "  --sklearn-color-border-box: var(--sg-text-color, var(--theme-code-foreground, var(--jp-content-font-color1, black)));\n",
       "  --sklearn-color-icon: #696969;\n",
       "\n",
       "  @media (prefers-color-scheme: dark) {\n",
       "    /* Redefinition of color scheme for dark theme */\n",
       "    --sklearn-color-text-on-default-background: var(--sg-text-color, var(--theme-code-foreground, var(--jp-content-font-color1, white)));\n",
       "    --sklearn-color-background: var(--sg-background-color, var(--theme-background, var(--jp-layout-color0, #111)));\n",
       "    --sklearn-color-border-box: var(--sg-text-color, var(--theme-code-foreground, var(--jp-content-font-color1, white)));\n",
       "    --sklearn-color-icon: #878787;\n",
       "  }\n",
       "}\n",
       "\n",
       "#sk-container-id-2 {\n",
       "  color: var(--sklearn-color-text);\n",
       "}\n",
       "\n",
       "#sk-container-id-2 pre {\n",
       "  padding: 0;\n",
       "}\n",
       "\n",
       "#sk-container-id-2 input.sk-hidden--visually {\n",
       "  border: 0;\n",
       "  clip: rect(1px 1px 1px 1px);\n",
       "  clip: rect(1px, 1px, 1px, 1px);\n",
       "  height: 1px;\n",
       "  margin: -1px;\n",
       "  overflow: hidden;\n",
       "  padding: 0;\n",
       "  position: absolute;\n",
       "  width: 1px;\n",
       "}\n",
       "\n",
       "#sk-container-id-2 div.sk-dashed-wrapped {\n",
       "  border: 1px dashed var(--sklearn-color-line);\n",
       "  margin: 0 0.4em 0.5em 0.4em;\n",
       "  box-sizing: border-box;\n",
       "  padding-bottom: 0.4em;\n",
       "  background-color: var(--sklearn-color-background);\n",
       "}\n",
       "\n",
       "#sk-container-id-2 div.sk-container {\n",
       "  /* jupyter's `normalize.less` sets `[hidden] { display: none; }`\n",
       "     but bootstrap.min.css set `[hidden] { display: none !important; }`\n",
       "     so we also need the `!important` here to be able to override the\n",
       "     default hidden behavior on the sphinx rendered scikit-learn.org.\n",
       "     See: https://github.com/scikit-learn/scikit-learn/issues/21755 */\n",
       "  display: inline-block !important;\n",
       "  position: relative;\n",
       "}\n",
       "\n",
       "#sk-container-id-2 div.sk-text-repr-fallback {\n",
       "  display: none;\n",
       "}\n",
       "\n",
       "div.sk-parallel-item,\n",
       "div.sk-serial,\n",
       "div.sk-item {\n",
       "  /* draw centered vertical line to link estimators */\n",
       "  background-image: linear-gradient(var(--sklearn-color-text-on-default-background), var(--sklearn-color-text-on-default-background));\n",
       "  background-size: 2px 100%;\n",
       "  background-repeat: no-repeat;\n",
       "  background-position: center center;\n",
       "}\n",
       "\n",
       "/* Parallel-specific style estimator block */\n",
       "\n",
       "#sk-container-id-2 div.sk-parallel-item::after {\n",
       "  content: \"\";\n",
       "  width: 100%;\n",
       "  border-bottom: 2px solid var(--sklearn-color-text-on-default-background);\n",
       "  flex-grow: 1;\n",
       "}\n",
       "\n",
       "#sk-container-id-2 div.sk-parallel {\n",
       "  display: flex;\n",
       "  align-items: stretch;\n",
       "  justify-content: center;\n",
       "  background-color: var(--sklearn-color-background);\n",
       "  position: relative;\n",
       "}\n",
       "\n",
       "#sk-container-id-2 div.sk-parallel-item {\n",
       "  display: flex;\n",
       "  flex-direction: column;\n",
       "}\n",
       "\n",
       "#sk-container-id-2 div.sk-parallel-item:first-child::after {\n",
       "  align-self: flex-end;\n",
       "  width: 50%;\n",
       "}\n",
       "\n",
       "#sk-container-id-2 div.sk-parallel-item:last-child::after {\n",
       "  align-self: flex-start;\n",
       "  width: 50%;\n",
       "}\n",
       "\n",
       "#sk-container-id-2 div.sk-parallel-item:only-child::after {\n",
       "  width: 0;\n",
       "}\n",
       "\n",
       "/* Serial-specific style estimator block */\n",
       "\n",
       "#sk-container-id-2 div.sk-serial {\n",
       "  display: flex;\n",
       "  flex-direction: column;\n",
       "  align-items: center;\n",
       "  background-color: var(--sklearn-color-background);\n",
       "  padding-right: 1em;\n",
       "  padding-left: 1em;\n",
       "}\n",
       "\n",
       "\n",
       "/* Toggleable style: style used for estimator/Pipeline/ColumnTransformer box that is\n",
       "clickable and can be expanded/collapsed.\n",
       "- Pipeline and ColumnTransformer use this feature and define the default style\n",
       "- Estimators will overwrite some part of the style using the `sk-estimator` class\n",
       "*/\n",
       "\n",
       "/* Pipeline and ColumnTransformer style (default) */\n",
       "\n",
       "#sk-container-id-2 div.sk-toggleable {\n",
       "  /* Default theme specific background. It is overwritten whether we have a\n",
       "  specific estimator or a Pipeline/ColumnTransformer */\n",
       "  background-color: var(--sklearn-color-background);\n",
       "}\n",
       "\n",
       "/* Toggleable label */\n",
       "#sk-container-id-2 label.sk-toggleable__label {\n",
       "  cursor: pointer;\n",
       "  display: flex;\n",
       "  width: 100%;\n",
       "  margin-bottom: 0;\n",
       "  padding: 0.5em;\n",
       "  box-sizing: border-box;\n",
       "  text-align: center;\n",
       "  align-items: start;\n",
       "  justify-content: space-between;\n",
       "  gap: 0.5em;\n",
       "}\n",
       "\n",
       "#sk-container-id-2 label.sk-toggleable__label .caption {\n",
       "  font-size: 0.6rem;\n",
       "  font-weight: lighter;\n",
       "  color: var(--sklearn-color-text-muted);\n",
       "}\n",
       "\n",
       "#sk-container-id-2 label.sk-toggleable__label-arrow:before {\n",
       "  /* Arrow on the left of the label */\n",
       "  content: \"▸\";\n",
       "  float: left;\n",
       "  margin-right: 0.25em;\n",
       "  color: var(--sklearn-color-icon);\n",
       "}\n",
       "\n",
       "#sk-container-id-2 label.sk-toggleable__label-arrow:hover:before {\n",
       "  color: var(--sklearn-color-text);\n",
       "}\n",
       "\n",
       "/* Toggleable content - dropdown */\n",
       "\n",
       "#sk-container-id-2 div.sk-toggleable__content {\n",
       "  max-height: 0;\n",
       "  max-width: 0;\n",
       "  overflow: hidden;\n",
       "  text-align: left;\n",
       "  /* unfitted */\n",
       "  background-color: var(--sklearn-color-unfitted-level-0);\n",
       "}\n",
       "\n",
       "#sk-container-id-2 div.sk-toggleable__content.fitted {\n",
       "  /* fitted */\n",
       "  background-color: var(--sklearn-color-fitted-level-0);\n",
       "}\n",
       "\n",
       "#sk-container-id-2 div.sk-toggleable__content pre {\n",
       "  margin: 0.2em;\n",
       "  border-radius: 0.25em;\n",
       "  color: var(--sklearn-color-text);\n",
       "  /* unfitted */\n",
       "  background-color: var(--sklearn-color-unfitted-level-0);\n",
       "}\n",
       "\n",
       "#sk-container-id-2 div.sk-toggleable__content.fitted pre {\n",
       "  /* unfitted */\n",
       "  background-color: var(--sklearn-color-fitted-level-0);\n",
       "}\n",
       "\n",
       "#sk-container-id-2 input.sk-toggleable__control:checked~div.sk-toggleable__content {\n",
       "  /* Expand drop-down */\n",
       "  max-height: 200px;\n",
       "  max-width: 100%;\n",
       "  overflow: auto;\n",
       "}\n",
       "\n",
       "#sk-container-id-2 input.sk-toggleable__control:checked~label.sk-toggleable__label-arrow:before {\n",
       "  content: \"▾\";\n",
       "}\n",
       "\n",
       "/* Pipeline/ColumnTransformer-specific style */\n",
       "\n",
       "#sk-container-id-2 div.sk-label input.sk-toggleable__control:checked~label.sk-toggleable__label {\n",
       "  color: var(--sklearn-color-text);\n",
       "  background-color: var(--sklearn-color-unfitted-level-2);\n",
       "}\n",
       "\n",
       "#sk-container-id-2 div.sk-label.fitted input.sk-toggleable__control:checked~label.sk-toggleable__label {\n",
       "  background-color: var(--sklearn-color-fitted-level-2);\n",
       "}\n",
       "\n",
       "/* Estimator-specific style */\n",
       "\n",
       "/* Colorize estimator box */\n",
       "#sk-container-id-2 div.sk-estimator input.sk-toggleable__control:checked~label.sk-toggleable__label {\n",
       "  /* unfitted */\n",
       "  background-color: var(--sklearn-color-unfitted-level-2);\n",
       "}\n",
       "\n",
       "#sk-container-id-2 div.sk-estimator.fitted input.sk-toggleable__control:checked~label.sk-toggleable__label {\n",
       "  /* fitted */\n",
       "  background-color: var(--sklearn-color-fitted-level-2);\n",
       "}\n",
       "\n",
       "#sk-container-id-2 div.sk-label label.sk-toggleable__label,\n",
       "#sk-container-id-2 div.sk-label label {\n",
       "  /* The background is the default theme color */\n",
       "  color: var(--sklearn-color-text-on-default-background);\n",
       "}\n",
       "\n",
       "/* On hover, darken the color of the background */\n",
       "#sk-container-id-2 div.sk-label:hover label.sk-toggleable__label {\n",
       "  color: var(--sklearn-color-text);\n",
       "  background-color: var(--sklearn-color-unfitted-level-2);\n",
       "}\n",
       "\n",
       "/* Label box, darken color on hover, fitted */\n",
       "#sk-container-id-2 div.sk-label.fitted:hover label.sk-toggleable__label.fitted {\n",
       "  color: var(--sklearn-color-text);\n",
       "  background-color: var(--sklearn-color-fitted-level-2);\n",
       "}\n",
       "\n",
       "/* Estimator label */\n",
       "\n",
       "#sk-container-id-2 div.sk-label label {\n",
       "  font-family: monospace;\n",
       "  font-weight: bold;\n",
       "  display: inline-block;\n",
       "  line-height: 1.2em;\n",
       "}\n",
       "\n",
       "#sk-container-id-2 div.sk-label-container {\n",
       "  text-align: center;\n",
       "}\n",
       "\n",
       "/* Estimator-specific */\n",
       "#sk-container-id-2 div.sk-estimator {\n",
       "  font-family: monospace;\n",
       "  border: 1px dotted var(--sklearn-color-border-box);\n",
       "  border-radius: 0.25em;\n",
       "  box-sizing: border-box;\n",
       "  margin-bottom: 0.5em;\n",
       "  /* unfitted */\n",
       "  background-color: var(--sklearn-color-unfitted-level-0);\n",
       "}\n",
       "\n",
       "#sk-container-id-2 div.sk-estimator.fitted {\n",
       "  /* fitted */\n",
       "  background-color: var(--sklearn-color-fitted-level-0);\n",
       "}\n",
       "\n",
       "/* on hover */\n",
       "#sk-container-id-2 div.sk-estimator:hover {\n",
       "  /* unfitted */\n",
       "  background-color: var(--sklearn-color-unfitted-level-2);\n",
       "}\n",
       "\n",
       "#sk-container-id-2 div.sk-estimator.fitted:hover {\n",
       "  /* fitted */\n",
       "  background-color: var(--sklearn-color-fitted-level-2);\n",
       "}\n",
       "\n",
       "/* Specification for estimator info (e.g. \"i\" and \"?\") */\n",
       "\n",
       "/* Common style for \"i\" and \"?\" */\n",
       "\n",
       ".sk-estimator-doc-link,\n",
       "a:link.sk-estimator-doc-link,\n",
       "a:visited.sk-estimator-doc-link {\n",
       "  float: right;\n",
       "  font-size: smaller;\n",
       "  line-height: 1em;\n",
       "  font-family: monospace;\n",
       "  background-color: var(--sklearn-color-background);\n",
       "  border-radius: 1em;\n",
       "  height: 1em;\n",
       "  width: 1em;\n",
       "  text-decoration: none !important;\n",
       "  margin-left: 0.5em;\n",
       "  text-align: center;\n",
       "  /* unfitted */\n",
       "  border: var(--sklearn-color-unfitted-level-1) 1pt solid;\n",
       "  color: var(--sklearn-color-unfitted-level-1);\n",
       "}\n",
       "\n",
       ".sk-estimator-doc-link.fitted,\n",
       "a:link.sk-estimator-doc-link.fitted,\n",
       "a:visited.sk-estimator-doc-link.fitted {\n",
       "  /* fitted */\n",
       "  border: var(--sklearn-color-fitted-level-1) 1pt solid;\n",
       "  color: var(--sklearn-color-fitted-level-1);\n",
       "}\n",
       "\n",
       "/* On hover */\n",
       "div.sk-estimator:hover .sk-estimator-doc-link:hover,\n",
       ".sk-estimator-doc-link:hover,\n",
       "div.sk-label-container:hover .sk-estimator-doc-link:hover,\n",
       ".sk-estimator-doc-link:hover {\n",
       "  /* unfitted */\n",
       "  background-color: var(--sklearn-color-unfitted-level-3);\n",
       "  color: var(--sklearn-color-background);\n",
       "  text-decoration: none;\n",
       "}\n",
       "\n",
       "div.sk-estimator.fitted:hover .sk-estimator-doc-link.fitted:hover,\n",
       ".sk-estimator-doc-link.fitted:hover,\n",
       "div.sk-label-container:hover .sk-estimator-doc-link.fitted:hover,\n",
       ".sk-estimator-doc-link.fitted:hover {\n",
       "  /* fitted */\n",
       "  background-color: var(--sklearn-color-fitted-level-3);\n",
       "  color: var(--sklearn-color-background);\n",
       "  text-decoration: none;\n",
       "}\n",
       "\n",
       "/* Span, style for the box shown on hovering the info icon */\n",
       ".sk-estimator-doc-link span {\n",
       "  display: none;\n",
       "  z-index: 9999;\n",
       "  position: relative;\n",
       "  font-weight: normal;\n",
       "  right: .2ex;\n",
       "  padding: .5ex;\n",
       "  margin: .5ex;\n",
       "  width: min-content;\n",
       "  min-width: 20ex;\n",
       "  max-width: 50ex;\n",
       "  color: var(--sklearn-color-text);\n",
       "  box-shadow: 2pt 2pt 4pt #999;\n",
       "  /* unfitted */\n",
       "  background: var(--sklearn-color-unfitted-level-0);\n",
       "  border: .5pt solid var(--sklearn-color-unfitted-level-3);\n",
       "}\n",
       "\n",
       ".sk-estimator-doc-link.fitted span {\n",
       "  /* fitted */\n",
       "  background: var(--sklearn-color-fitted-level-0);\n",
       "  border: var(--sklearn-color-fitted-level-3);\n",
       "}\n",
       "\n",
       ".sk-estimator-doc-link:hover span {\n",
       "  display: block;\n",
       "}\n",
       "\n",
       "/* \"?\"-specific style due to the `<a>` HTML tag */\n",
       "\n",
       "#sk-container-id-2 a.estimator_doc_link {\n",
       "  float: right;\n",
       "  font-size: 1rem;\n",
       "  line-height: 1em;\n",
       "  font-family: monospace;\n",
       "  background-color: var(--sklearn-color-background);\n",
       "  border-radius: 1rem;\n",
       "  height: 1rem;\n",
       "  width: 1rem;\n",
       "  text-decoration: none;\n",
       "  /* unfitted */\n",
       "  color: var(--sklearn-color-unfitted-level-1);\n",
       "  border: var(--sklearn-color-unfitted-level-1) 1pt solid;\n",
       "}\n",
       "\n",
       "#sk-container-id-2 a.estimator_doc_link.fitted {\n",
       "  /* fitted */\n",
       "  border: var(--sklearn-color-fitted-level-1) 1pt solid;\n",
       "  color: var(--sklearn-color-fitted-level-1);\n",
       "}\n",
       "\n",
       "/* On hover */\n",
       "#sk-container-id-2 a.estimator_doc_link:hover {\n",
       "  /* unfitted */\n",
       "  background-color: var(--sklearn-color-unfitted-level-3);\n",
       "  color: var(--sklearn-color-background);\n",
       "  text-decoration: none;\n",
       "}\n",
       "\n",
       "#sk-container-id-2 a.estimator_doc_link.fitted:hover {\n",
       "  /* fitted */\n",
       "  background-color: var(--sklearn-color-fitted-level-3);\n",
       "}\n",
       "</style><div id=\"sk-container-id-2\" class=\"sk-top-container\"><div class=\"sk-text-repr-fallback\"><pre>DecisionTreeClassifier(max_depth=3, random_state=42)</pre><b>In a Jupyter environment, please rerun this cell to show the HTML representation or trust the notebook. <br />On GitHub, the HTML representation is unable to render, please try loading this page with nbviewer.org.</b></div><div class=\"sk-container\" hidden><div class=\"sk-item\"><div class=\"sk-estimator fitted sk-toggleable\"><input class=\"sk-toggleable__control sk-hidden--visually\" id=\"sk-estimator-id-2\" type=\"checkbox\" checked><label for=\"sk-estimator-id-2\" class=\"sk-toggleable__label fitted sk-toggleable__label-arrow\"><div><div>DecisionTreeClassifier</div></div><div><a class=\"sk-estimator-doc-link fitted\" rel=\"noreferrer\" target=\"_blank\" href=\"https://scikit-learn.org/1.6/modules/generated/sklearn.tree.DecisionTreeClassifier.html\">?<span>Documentation for DecisionTreeClassifier</span></a><span class=\"sk-estimator-doc-link fitted\">i<span>Fitted</span></span></div></label><div class=\"sk-toggleable__content fitted\"><pre>DecisionTreeClassifier(max_depth=3, random_state=42)</pre></div> </div></div></div></div>"
      ],
      "text/plain": [
       "DecisionTreeClassifier(max_depth=3, random_state=42)"
      ]
     },
     "execution_count": 157,
     "metadata": {},
     "output_type": "execute_result"
    }
   ],
   "source": [
    "clf = DecisionTreeClassifier(criterion='gini',\n",
    "                             max_depth=3,\n",
    "                             random_state=42)\n",
    "\n",
    "clf.fit(X_train, y_train)"
   ]
  },
  {
   "cell_type": "code",
   "execution_count": null,
   "metadata": {},
   "outputs": [
    {
     "name": "stdout",
     "output_type": "stream",
     "text": [
      "accuracy_score: 82.3%\n",
      "balanced_accuracy_score: 80.9%\n",
      "AUC-ROC: 87.34%\n",
      "GINI: 74.67%\n",
      "\n",
      "               precision    recall  f1-score   support\n",
      "\n",
      "           0       0.83      0.72      0.77      2896\n",
      "           1       0.82      0.90      0.85      4048\n",
      "\n",
      "    accuracy                           0.82      6944\n",
      "   macro avg       0.82      0.81      0.81      6944\n",
      "weighted avg       0.82      0.82      0.82      6944\n",
      "\n"
     ]
    }
   ],
   "source": [
    "pred = clf.predict(X_test)\n",
    "\n",
    "y_prob = clf.predict_proba(X_test)[:, -1]\n",
    "\n",
    "ac = accuracy_score(y_test, pred)\n",
    "bac = balanced_accuracy_score(y_test, pred)\n",
    "print(f'accuracy_score: {ac:.1%}')\n",
    "print(f'balanced_accuracy_score: {bac:.1%}')\n",
    "\n",
    "# Calculando AUC\n",
    "auc_score = roc_auc_score(y_test, y_prob)\n",
    "print(f\"AUC-ROC: {auc_score:.2%}\")\n",
    "print(f\"GINI: {(2*auc_score-1):.2%}\")\n",
    "\n",
    "\n",
    "print('\\n', classification_report(y_test, pred))"
   ]
  },
  {
   "cell_type": "code",
   "execution_count": 159,
   "metadata": {},
   "outputs": [
    {
     "data": {
      "text/plain": [
       "[Text(0.5, 0.875, 'x[8] <= 0.5\\ngini = 0.485\\nsamples = 20832\\nvalue = [8607, 12225]'),\n",
       " Text(0.25, 0.625, 'x[2] <= 3.5\\ngini = 0.355\\nsamples = 7606\\nvalue = [5849, 1757]'),\n",
       " Text(0.375, 0.75, 'True  '),\n",
       " Text(0.125, 0.375, 'x[10] <= 3.5\\ngini = 0.224\\nsamples = 5522\\nvalue = [4814, 708]'),\n",
       " Text(0.0625, 0.125, 'gini = 0.144\\nsamples = 3874\\nvalue = [3572, 302]'),\n",
       " Text(0.1875, 0.125, 'gini = 0.371\\nsamples = 1648\\nvalue = [1242, 406]'),\n",
       " Text(0.375, 0.375, 'x[10] <= 2.5\\ngini = 0.5\\nsamples = 2084\\nvalue = [1035, 1049]'),\n",
       " Text(0.3125, 0.125, 'gini = 0.44\\nsamples = 880\\nvalue = [593, 287]'),\n",
       " Text(0.4375, 0.125, 'gini = 0.465\\nsamples = 1204\\nvalue = [442, 762]'),\n",
       " Text(0.75, 0.625, 'x[2] <= 2.5\\ngini = 0.33\\nsamples = 13226\\nvalue = [2758, 10468]'),\n",
       " Text(0.625, 0.75, '  False'),\n",
       " Text(0.625, 0.375, 'x[10] <= 2.5\\ngini = 0.5\\nsamples = 3110\\nvalue = [1534, 1576]'),\n",
       " Text(0.5625, 0.125, 'gini = 0.409\\nsamples = 1135\\nvalue = [810, 325]'),\n",
       " Text(0.6875, 0.125, 'gini = 0.464\\nsamples = 1975\\nvalue = [724, 1251]'),\n",
       " Text(0.875, 0.375, 'x[10] <= 2.5\\ngini = 0.213\\nsamples = 10116\\nvalue = [1224, 8892]'),\n",
       " Text(0.8125, 0.125, 'gini = 0.366\\nsamples = 2754\\nvalue = [665, 2089]'),\n",
       " Text(0.9375, 0.125, 'gini = 0.14\\nsamples = 7362\\nvalue = [559, 6803]')]"
      ]
     },
     "execution_count": 159,
     "metadata": {},
     "output_type": "execute_result"
    },
    {
     "data": {
      "image/png": "[encoded data removed]",
      "text/plain": [
       "<Figure size 1200x1000 with 1 Axes>"
      ]
     },
     "metadata": {},
     "output_type": "display_data"
    }
   ],
   "source": [
    "plt.figure(figsize=(12, 10))\n",
    "plot_tree(clf)"
   ]
  }
 ],
 "metadata": {
  "kaggle": {
   "accelerator": "none",
   "dataSources": [
    {
     "datasetId": 6144877,
     "sourceId": 9985284,
     "sourceType": "datasetVersion"
    }
   ],
   "isGpuEnabled": false,
   "isInternetEnabled": true,
   "language": "python",
   "sourceType": "notebook"
  },
  "kernelspec": {
   "display_name": "penv",
   "language": "python",
   "name": "python3"
  },
  "language_info": {
   "codemirror_mode": {
    "name": "ipython",
    "version": 3
   },
   "file_extension": ".py",
   "mimetype": "text/x-python",
   "name": "python",
   "nbconvert_exporter": "python",
   "pygments_lexer": "ipython3",
   "version": "3.12.7"
  }
 },
 "nbformat": 4,
 "nbformat_minor": 4
}
