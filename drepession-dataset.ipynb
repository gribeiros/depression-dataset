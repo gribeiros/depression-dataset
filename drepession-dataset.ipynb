{
 "cells": [
  {
   "cell_type": "markdown",
   "metadata": {},
   "source": [
    "# Importação da bibliotecas"
   ]
  },
  {
   "cell_type": "code",
   "execution_count": 1,
   "metadata": {
    "_cell_guid": "b1076dfc-b9ad-4769-8c92-a6c4dae69d19",
    "_uuid": "8f2839f25d086af736a60e9eeb907d3b93b6e0e5",
    "execution": {
     "iopub.execute_input": "2025-01-16T21:18:32.386925Z",
     "iopub.status.busy": "2025-01-16T21:18:32.386398Z",
     "iopub.status.idle": "2025-01-16T21:18:32.655103Z",
     "shell.execute_reply": "2025-01-16T21:18:32.654061Z",
     "shell.execute_reply.started": "2025-01-16T21:18:32.386871Z"
    },
    "trusted": true
   },
   "outputs": [],
   "source": [
    "import pandas as pd\n",
    "import statsmodels.api as sm\n",
    "import seaborn as sns\n",
    "import matplotlib.pyplot as plt\n",
    "from statstests.process import stepwise\n",
    "from sklearn.metrics import confusion_matrix, accuracy_score,\\\n",
    "    ConfusionMatrixDisplay, recall_score\n",
    "pd.set_option(\"display.max_rows\", None)"
   ]
  },
  {
   "cell_type": "markdown",
   "metadata": {},
   "source": [
    "# Leitura do DataSet e visualização dos dados"
   ]
  },
  {
   "cell_type": "code",
   "execution_count": null,
   "metadata": {
    "execution": {
     "iopub.execute_input": "2025-01-16T21:18:32.657073Z",
     "iopub.status.busy": "2025-01-16T21:18:32.656667Z",
     "iopub.status.idle": "2025-01-16T21:18:32.813379Z",
     "shell.execute_reply": "2025-01-16T21:18:32.811961Z",
     "shell.execute_reply.started": "2025-01-16T21:18:32.657035Z"
    },
    "trusted": true
   },
   "outputs": [],
   "source": [
    "#'/kaggle/input/student-depression-dataset/Student Depression Dataset.csv'\n",
    "dataset_path = 'Student Depression Dataset.csv'\n",
    "df = pd.read_csv(dataset_path)\n",
    "df.head()"
   ]
  },
  {
   "cell_type": "markdown",
   "metadata": {},
   "source": [
    "## Verificando o tipo de variaveis"
   ]
  },
  {
   "cell_type": "code",
   "execution_count": null,
   "metadata": {},
   "outputs": [],
   "source": [
    "df.info()"
   ]
  },
  {
   "cell_type": "markdown",
   "metadata": {},
   "source": [
    "## Removendo valores nulos"
   ]
  },
  {
   "cell_type": "code",
   "execution_count": 434,
   "metadata": {},
   "outputs": [],
   "source": [
    "df.dropna( inplace=True)"
   ]
  },
  {
   "cell_type": "markdown",
   "metadata": {},
   "source": [
    "## Renomeando as colunas"
   ]
  },
  {
   "cell_type": "code",
   "execution_count": 433,
   "metadata": {},
   "outputs": [],
   "source": [
    "df.rename(columns={\n",
    "    'Academic Pressure': 'AP',\n",
    "    'Work Pressure':'WP',\n",
    "    'Study Satisfaction':'SS',\n",
    "    'Job Satisfaction':'JS',\n",
    "    'Sleep Duration':'SD',\n",
    "    'Dietary Habits':'DH',\n",
    "    'Have you ever had suicidal thoughts ?':'ST',\n",
    "    'Work/Study Hours':'WSH',\n",
    "    'Financial Stress':'FS',\n",
    "    'Family History of Mental Illness':'FHMI'\n",
    "},inplace=True)"
   ]
  },
  {
   "cell_type": "markdown",
   "metadata": {},
   "source": [
    "## Removendo a coluna ID"
   ]
  },
  {
   "cell_type": "code",
   "execution_count": 435,
   "metadata": {
    "execution": {
     "iopub.execute_input": "2025-01-16T21:18:32.816223Z",
     "iopub.status.busy": "2025-01-16T21:18:32.815886Z",
     "iopub.status.idle": "2025-01-16T21:18:32.831977Z",
     "shell.execute_reply": "2025-01-16T21:18:32.830772Z",
     "shell.execute_reply.started": "2025-01-16T21:18:32.816194Z"
    },
    "trusted": true
   },
   "outputs": [],
   "source": [
    "df.drop(columns='id',inplace=True)"
   ]
  },
  {
   "cell_type": "markdown",
   "metadata": {},
   "source": [
    "# Analisando as variaveis quantitativas"
   ]
  },
  {
   "cell_type": "markdown",
   "metadata": {},
   "source": [
    "## Age"
   ]
  },
  {
   "cell_type": "code",
   "execution_count": null,
   "metadata": {
    "execution": {
     "iopub.execute_input": "2025-01-16T21:18:32.915478Z",
     "iopub.status.busy": "2025-01-16T21:18:32.915097Z",
     "iopub.status.idle": "2025-01-16T21:18:32.939813Z",
     "shell.execute_reply": "2025-01-16T21:18:32.938692Z",
     "shell.execute_reply.started": "2025-01-16T21:18:32.915450Z"
    },
    "trusted": true
   },
   "outputs": [],
   "source": [
    "df['Age'].value_counts().sort_index()"
   ]
  },
  {
   "cell_type": "code",
   "execution_count": 440,
   "metadata": {
    "execution": {
     "iopub.execute_input": "2025-01-16T21:18:32.942988Z",
     "iopub.status.busy": "2025-01-16T21:18:32.942623Z",
     "iopub.status.idle": "2025-01-16T21:18:32.971331Z",
     "shell.execute_reply": "2025-01-16T21:18:32.969973Z",
     "shell.execute_reply.started": "2025-01-16T21:18:32.942959Z"
    },
    "trusted": true
   },
   "outputs": [],
   "source": [
    "df.query('Age < 35',inplace=True)"
   ]
  },
  {
   "cell_type": "code",
   "execution_count": null,
   "metadata": {},
   "outputs": [],
   "source": [
    "df['Age'].describe()"
   ]
  },
  {
   "cell_type": "markdown",
   "metadata": {},
   "source": [
    "## CGPA"
   ]
  },
  {
   "cell_type": "markdown",
   "metadata": {},
   "source": [
    "sns.boxplot(data=df['CGPA'])"
   ]
  },
  {
   "cell_type": "markdown",
   "metadata": {},
   "source": [
    "df['CGPA'].describe()"
   ]
  },
  {
   "cell_type": "markdown",
   "metadata": {},
   "source": [
    "df['CGPA'].value_counts()"
   ]
  },
  {
   "cell_type": "code",
   "execution_count": null,
   "metadata": {},
   "outputs": [],
   "source": [
    "filtered_cgpa = df['CGPA'].value_counts()[lambda x: x > 9].index.tolist()\n",
    "df.query('CGPA in @filtered_cgpa',inplace=True)"
   ]
  },
  {
   "cell_type": "markdown",
   "metadata": {},
   "source": [
    "# Variaveis Categoricas"
   ]
  },
  {
   "cell_type": "markdown",
   "metadata": {},
   "source": [
    "## Gender"
   ]
  },
  {
   "cell_type": "code",
   "execution_count": null,
   "metadata": {
    "execution": {
     "iopub.execute_input": "2025-01-16T21:18:32.900080Z",
     "iopub.status.busy": "2025-01-16T21:18:32.899656Z",
     "iopub.status.idle": "2025-01-16T21:18:32.913733Z",
     "shell.execute_reply": "2025-01-16T21:18:32.912152Z",
     "shell.execute_reply.started": "2025-01-16T21:18:32.900038Z"
    },
    "trusted": true
   },
   "outputs": [],
   "source": [
    "df['Gender'].value_counts().sort_index()"
   ]
  },
  {
   "cell_type": "code",
   "execution_count": null,
   "metadata": {},
   "outputs": [],
   "source": [
    "df['Gender'] = df['Gender'].replace({'Female':0,'Male':1}).astype('int64')"
   ]
  },
  {
   "cell_type": "markdown",
   "metadata": {},
   "source": [
    "## City"
   ]
  },
  {
   "cell_type": "code",
   "execution_count": null,
   "metadata": {
    "execution": {
     "iopub.execute_input": "2025-01-16T21:18:32.973957Z",
     "iopub.status.busy": "2025-01-16T21:18:32.973557Z",
     "iopub.status.idle": "2025-01-16T21:18:32.986872Z",
     "shell.execute_reply": "2025-01-16T21:18:32.985423Z",
     "shell.execute_reply.started": "2025-01-16T21:18:32.973927Z"
    },
    "trusted": true
   },
   "outputs": [],
   "source": [
    "df['City'].value_counts()"
   ]
  },
  {
   "cell_type": "code",
   "execution_count": 443,
   "metadata": {
    "execution": {
     "iopub.execute_input": "2025-01-16T21:18:32.988114Z",
     "iopub.status.busy": "2025-01-16T21:18:32.987810Z",
     "iopub.status.idle": "2025-01-16T21:18:33.020968Z",
     "shell.execute_reply": "2025-01-16T21:18:33.019721Z",
     "shell.execute_reply.started": "2025-01-16T21:18:32.988091Z"
    },
    "trusted": true
   },
   "outputs": [],
   "source": [
    "filtered_cities = df['City'].value_counts()[lambda x: x > 2].index.tolist()\n",
    "df.query('City in @filtered_cities',inplace=True)"
   ]
  },
  {
   "cell_type": "code",
   "execution_count": null,
   "metadata": {},
   "outputs": [],
   "source": [
    "df['City'].value_counts()"
   ]
  },
  {
   "cell_type": "markdown",
   "metadata": {},
   "source": [
    "## Profession"
   ]
  },
  {
   "cell_type": "code",
   "execution_count": null,
   "metadata": {
    "execution": {
     "iopub.execute_input": "2025-01-16T21:18:33.022574Z",
     "iopub.status.busy": "2025-01-16T21:18:33.022273Z",
     "iopub.status.idle": "2025-01-16T21:18:33.033831Z",
     "shell.execute_reply": "2025-01-16T21:18:33.032560Z",
     "shell.execute_reply.started": "2025-01-16T21:18:33.022548Z"
    },
    "trusted": true
   },
   "outputs": [],
   "source": [
    "df['Profession'].value_counts()"
   ]
  },
  {
   "cell_type": "code",
   "execution_count": 446,
   "metadata": {
    "execution": {
     "iopub.execute_input": "2025-01-16T21:18:33.035565Z",
     "iopub.status.busy": "2025-01-16T21:18:33.035118Z",
     "iopub.status.idle": "2025-01-16T21:18:33.066665Z",
     "shell.execute_reply": "2025-01-16T21:18:33.065165Z",
     "shell.execute_reply.started": "2025-01-16T21:18:33.035527Z"
    },
    "trusted": true
   },
   "outputs": [],
   "source": [
    "df.query('Profession == \"Student\"',inplace=True)\n",
    "df.drop(columns=['Profession'],axis=1,inplace=True)"
   ]
  },
  {
   "cell_type": "markdown",
   "metadata": {},
   "source": [
    "## Academic Pressure"
   ]
  },
  {
   "cell_type": "code",
   "execution_count": null,
   "metadata": {
    "execution": {
     "iopub.execute_input": "2025-01-16T21:18:33.068391Z",
     "iopub.status.busy": "2025-01-16T21:18:33.067959Z",
     "iopub.status.idle": "2025-01-16T21:18:33.079284Z",
     "shell.execute_reply": "2025-01-16T21:18:33.078040Z",
     "shell.execute_reply.started": "2025-01-16T21:18:33.068343Z"
    },
    "trusted": true
   },
   "outputs": [],
   "source": [
    "df['AP'].value_counts().sort_index()"
   ]
  },
  {
   "cell_type": "code",
   "execution_count": 448,
   "metadata": {
    "execution": {
     "iopub.execute_input": "2025-01-16T21:18:33.080709Z",
     "iopub.status.busy": "2025-01-16T21:18:33.080325Z",
     "iopub.status.idle": "2025-01-16T21:18:33.106354Z",
     "shell.execute_reply": "2025-01-16T21:18:33.104977Z",
     "shell.execute_reply.started": "2025-01-16T21:18:33.080656Z"
    },
    "trusted": true
   },
   "outputs": [],
   "source": [
    "df.query('AP > 0.0 ', inplace=True)"
   ]
  },
  {
   "cell_type": "markdown",
   "metadata": {},
   "source": [
    "## Work Pressure "
   ]
  },
  {
   "cell_type": "code",
   "execution_count": null,
   "metadata": {
    "execution": {
     "iopub.execute_input": "2025-01-16T21:18:33.107993Z",
     "iopub.status.busy": "2025-01-16T21:18:33.107665Z",
     "iopub.status.idle": "2025-01-16T21:18:33.118676Z",
     "shell.execute_reply": "2025-01-16T21:18:33.117746Z",
     "shell.execute_reply.started": "2025-01-16T21:18:33.107966Z"
    },
    "trusted": true
   },
   "outputs": [],
   "source": [
    "df['WP'].value_counts().sort_index()"
   ]
  },
  {
   "cell_type": "code",
   "execution_count": 450,
   "metadata": {},
   "outputs": [],
   "source": [
    "df.drop(columns=['WP'],inplace=True)"
   ]
  },
  {
   "cell_type": "markdown",
   "metadata": {},
   "source": [
    "## Study Satisfaction"
   ]
  },
  {
   "cell_type": "code",
   "execution_count": null,
   "metadata": {
    "execution": {
     "iopub.execute_input": "2025-01-16T21:18:33.134217Z",
     "iopub.status.busy": "2025-01-16T21:18:33.133949Z",
     "iopub.status.idle": "2025-01-16T21:18:33.154685Z",
     "shell.execute_reply": "2025-01-16T21:18:33.153609Z",
     "shell.execute_reply.started": "2025-01-16T21:18:33.134193Z"
    },
    "trusted": true
   },
   "outputs": [],
   "source": [
    "df['SS'].value_counts().sort_index()"
   ]
  },
  {
   "cell_type": "code",
   "execution_count": 400,
   "metadata": {
    "execution": {
     "iopub.execute_input": "2025-01-16T21:18:33.156099Z",
     "iopub.status.busy": "2025-01-16T21:18:33.155819Z",
     "iopub.status.idle": "2025-01-16T21:18:33.180745Z",
     "shell.execute_reply": "2025-01-16T21:18:33.179769Z",
     "shell.execute_reply.started": "2025-01-16T21:18:33.156076Z"
    },
    "trusted": true
   },
   "outputs": [],
   "source": [
    "df.query('SS > 0.0 ', inplace=True)"
   ]
  },
  {
   "cell_type": "markdown",
   "metadata": {},
   "source": [
    "## Job Satisfaction "
   ]
  },
  {
   "cell_type": "code",
   "execution_count": null,
   "metadata": {
    "execution": {
     "iopub.execute_input": "2025-01-16T21:18:33.182150Z",
     "iopub.status.busy": "2025-01-16T21:18:33.181831Z",
     "iopub.status.idle": "2025-01-16T21:18:33.192567Z",
     "shell.execute_reply": "2025-01-16T21:18:33.191528Z",
     "shell.execute_reply.started": "2025-01-16T21:18:33.182115Z"
    },
    "trusted": true
   },
   "outputs": [],
   "source": [
    "df['JS'].value_counts().sort_index()"
   ]
  },
  {
   "cell_type": "code",
   "execution_count": 402,
   "metadata": {
    "execution": {
     "iopub.execute_input": "2025-01-16T21:18:33.193799Z",
     "iopub.status.busy": "2025-01-16T21:18:33.193490Z",
     "iopub.status.idle": "2025-01-16T21:18:33.220114Z",
     "shell.execute_reply": "2025-01-16T21:18:33.219088Z",
     "shell.execute_reply.started": "2025-01-16T21:18:33.193775Z"
    },
    "trusted": true
   },
   "outputs": [],
   "source": [
    "df.drop(columns=['JS'],inplace=True)"
   ]
  },
  {
   "cell_type": "markdown",
   "metadata": {},
   "source": [
    "## Sleep Duration"
   ]
  },
  {
   "cell_type": "code",
   "execution_count": null,
   "metadata": {
    "execution": {
     "iopub.execute_input": "2025-01-16T21:18:33.221360Z",
     "iopub.status.busy": "2025-01-16T21:18:33.221105Z",
     "iopub.status.idle": "2025-01-16T21:18:33.230567Z",
     "shell.execute_reply": "2025-01-16T21:18:33.229660Z",
     "shell.execute_reply.started": "2025-01-16T21:18:33.221338Z"
    },
    "trusted": true
   },
   "outputs": [],
   "source": [
    "df['SD'].value_counts().sort_index()"
   ]
  },
  {
   "cell_type": "code",
   "execution_count": 404,
   "metadata": {
    "execution": {
     "iopub.execute_input": "2025-01-16T21:18:33.231968Z",
     "iopub.status.busy": "2025-01-16T21:18:33.231563Z",
     "iopub.status.idle": "2025-01-16T21:18:33.256404Z",
     "shell.execute_reply": "2025-01-16T21:18:33.255378Z",
     "shell.execute_reply.started": "2025-01-16T21:18:33.231930Z"
    },
    "trusted": true
   },
   "outputs": [],
   "source": [
    "df.query('SD != \"Others\" ', inplace=True)"
   ]
  },
  {
   "cell_type": "code",
   "execution_count": 405,
   "metadata": {},
   "outputs": [],
   "source": [
    "mapping = {\n",
    "    'Less than 5 hours': 1,\n",
    "    '5-6 hours': 2,\n",
    "    '7-8 hours': 3,\n",
    "    'More than 8 hours': 4\n",
    "}\n",
    "\n",
    "df['SD'] = df['SD'].map(mapping)"
   ]
  },
  {
   "cell_type": "markdown",
   "metadata": {},
   "source": [
    "## Dietary Habits"
   ]
  },
  {
   "cell_type": "code",
   "execution_count": null,
   "metadata": {
    "execution": {
     "iopub.execute_input": "2025-01-16T21:18:33.262199Z",
     "iopub.status.busy": "2025-01-16T21:18:33.261870Z",
     "iopub.status.idle": "2025-01-16T21:18:33.276242Z",
     "shell.execute_reply": "2025-01-16T21:18:33.275031Z",
     "shell.execute_reply.started": "2025-01-16T21:18:33.262172Z"
    },
    "trusted": true
   },
   "outputs": [],
   "source": [
    "df['DH'].value_counts().sort_index()"
   ]
  },
  {
   "cell_type": "code",
   "execution_count": 407,
   "metadata": {
    "execution": {
     "iopub.execute_input": "2025-01-16T21:18:33.278284Z",
     "iopub.status.busy": "2025-01-16T21:18:33.277981Z",
     "iopub.status.idle": "2025-01-16T21:18:33.303871Z",
     "shell.execute_reply": "2025-01-16T21:18:33.302533Z",
     "shell.execute_reply.started": "2025-01-16T21:18:33.278257Z"
    },
    "trusted": true
   },
   "outputs": [],
   "source": [
    "df.query('DH != \"Others\" ', inplace=True)"
   ]
  },
  {
   "cell_type": "code",
   "execution_count": 408,
   "metadata": {},
   "outputs": [],
   "source": [
    "mapping = {\n",
    "    'Healthy': 0,\n",
    "    'Moderate': 1,\n",
    "    'Unhealthy': 3\n",
    "}\n",
    "\n",
    "df['DH'] = df['DH'].map(mapping)"
   ]
  },
  {
   "cell_type": "markdown",
   "metadata": {},
   "source": [
    "## Degree"
   ]
  },
  {
   "cell_type": "code",
   "execution_count": null,
   "metadata": {
    "execution": {
     "iopub.execute_input": "2025-01-16T21:18:33.305382Z",
     "iopub.status.busy": "2025-01-16T21:18:33.305044Z",
     "iopub.status.idle": "2025-01-16T21:18:33.320459Z",
     "shell.execute_reply": "2025-01-16T21:18:33.318870Z",
     "shell.execute_reply.started": "2025-01-16T21:18:33.305355Z"
    },
    "trusted": true
   },
   "outputs": [],
   "source": [
    "df['Degree'].value_counts().sort_index(ascending=False)"
   ]
  },
  {
   "cell_type": "markdown",
   "metadata": {},
   "source": [
    "## Have you ever had suicidal thoughts ?"
   ]
  },
  {
   "cell_type": "code",
   "execution_count": null,
   "metadata": {
    "execution": {
     "iopub.execute_input": "2025-01-16T21:18:33.322014Z",
     "iopub.status.busy": "2025-01-16T21:18:33.321588Z",
     "iopub.status.idle": "2025-01-16T21:18:33.341246Z",
     "shell.execute_reply": "2025-01-16T21:18:33.340242Z",
     "shell.execute_reply.started": "2025-01-16T21:18:33.321955Z"
    },
    "trusted": true
   },
   "outputs": [],
   "source": [
    "df['ST'].value_counts().sort_index()"
   ]
  },
  {
   "cell_type": "code",
   "execution_count": 411,
   "metadata": {},
   "outputs": [],
   "source": [
    "mapping = {\n",
    "    'No':0,\n",
    "    'Yes':1\n",
    "}\n",
    "\n",
    "df['ST'] = df['ST'].map(mapping)"
   ]
  },
  {
   "cell_type": "markdown",
   "metadata": {},
   "source": [
    "## Work/Study Hours"
   ]
  },
  {
   "cell_type": "code",
   "execution_count": null,
   "metadata": {
    "execution": {
     "iopub.execute_input": "2025-01-16T21:18:33.342461Z",
     "iopub.status.busy": "2025-01-16T21:18:33.342188Z",
     "iopub.status.idle": "2025-01-16T21:18:33.363326Z",
     "shell.execute_reply": "2025-01-16T21:18:33.362110Z",
     "shell.execute_reply.started": "2025-01-16T21:18:33.342439Z"
    },
    "trusted": true
   },
   "outputs": [],
   "source": [
    "df['WSH'].value_counts().sort_index()\n"
   ]
  },
  {
   "cell_type": "markdown",
   "metadata": {},
   "source": [
    "## Financial Stress"
   ]
  },
  {
   "cell_type": "code",
   "execution_count": null,
   "metadata": {
    "execution": {
     "iopub.execute_input": "2025-01-16T21:18:33.364832Z",
     "iopub.status.busy": "2025-01-16T21:18:33.364432Z",
     "iopub.status.idle": "2025-01-16T21:18:33.388292Z",
     "shell.execute_reply": "2025-01-16T21:18:33.387235Z",
     "shell.execute_reply.started": "2025-01-16T21:18:33.364754Z"
    },
    "trusted": true
   },
   "outputs": [],
   "source": [
    "df['FS'].value_counts().sort_index()"
   ]
  },
  {
   "cell_type": "markdown",
   "metadata": {},
   "source": [
    "## Family History of Mental Illness"
   ]
  },
  {
   "cell_type": "code",
   "execution_count": null,
   "metadata": {
    "execution": {
     "iopub.execute_input": "2025-01-16T21:18:33.389583Z",
     "iopub.status.busy": "2025-01-16T21:18:33.389285Z",
     "iopub.status.idle": "2025-01-16T21:18:33.410680Z",
     "shell.execute_reply": "2025-01-16T21:18:33.409527Z",
     "shell.execute_reply.started": "2025-01-16T21:18:33.389549Z"
    },
    "trusted": true
   },
   "outputs": [],
   "source": [
    "df['FHMI'].value_counts().sort_index()"
   ]
  },
  {
   "cell_type": "code",
   "execution_count": null,
   "metadata": {},
   "outputs": [],
   "source": [
    "df['FHMI']= df['FHMI'].replace({'No':0,'Yes':1}).astype('int64')"
   ]
  },
  {
   "cell_type": "markdown",
   "metadata": {},
   "source": [
    "## Depression"
   ]
  },
  {
   "cell_type": "code",
   "execution_count": null,
   "metadata": {
    "execution": {
     "iopub.execute_input": "2025-01-16T21:18:33.412232Z",
     "iopub.status.busy": "2025-01-16T21:18:33.411846Z",
     "iopub.status.idle": "2025-01-16T21:18:33.432071Z",
     "shell.execute_reply": "2025-01-16T21:18:33.431185Z",
     "shell.execute_reply.started": "2025-01-16T21:18:33.412193Z"
    },
    "trusted": true
   },
   "outputs": [],
   "source": [
    "df['Depression'].value_counts().sort_index()"
   ]
  },
  {
   "cell_type": "markdown",
   "metadata": {},
   "source": [
    "# Implementação do Algoritimos"
   ]
  },
  {
   "cell_type": "markdown",
   "metadata": {},
   "source": [
    "## Realizando processo de dummie para a variavel cidade"
   ]
  },
  {
   "cell_type": "code",
   "execution_count": 419,
   "metadata": {
    "execution": {
     "iopub.execute_input": "2025-01-16T21:18:33.505872Z",
     "iopub.status.busy": "2025-01-16T21:18:33.505469Z",
     "iopub.status.idle": "2025-01-16T21:18:33.675377Z",
     "shell.execute_reply": "2025-01-16T21:18:33.674370Z",
     "shell.execute_reply.started": "2025-01-16T21:18:33.505821Z"
    },
    "trusted": true
   },
   "outputs": [],
   "source": [
    "df_dummies = pd.get_dummies(df, columns=['City'], dtype=int, drop_first=True)"
   ]
  },
  {
   "cell_type": "code",
   "execution_count": null,
   "metadata": {},
   "outputs": [],
   "source": [
    "df_dummies.shape"
   ]
  },
  {
   "cell_type": "markdown",
   "metadata": {},
   "source": [
    "## Modelo Logisitico"
   ]
  },
  {
   "cell_type": "markdown",
   "metadata": {},
   "source": [
    "### Gerando formula para o modelo"
   ]
  },
  {
   "cell_type": "code",
   "execution_count": 421,
   "metadata": {
    "execution": {
     "iopub.execute_input": "2025-01-16T21:18:33.676967Z",
     "iopub.status.busy": "2025-01-16T21:18:33.676456Z",
     "iopub.status.idle": "2025-01-16T21:18:33.730922Z",
     "shell.execute_reply": "2025-01-16T21:18:33.729771Z",
     "shell.execute_reply.started": "2025-01-16T21:18:33.676811Z"
    },
    "trusted": true
   },
   "outputs": [],
   "source": [
    "df_dummies.columns = df_dummies.columns.str.replace('-', '_', regex=True)\n",
    "\n",
    "list_colums_dummies = list(df_dummies.drop(columns=['Depression']).columns)\n",
    "formula_dummies_model = ' + '.join(list_colums_dummies)\n",
    "formula_dummies_model = 'Depression ~ ' + formula_dummies_model"
   ]
  },
  {
   "cell_type": "markdown",
   "metadata": {},
   "source": [
    "### Realizando o treino do modelo:"
   ]
  },
  {
   "cell_type": "code",
   "execution_count": null,
   "metadata": {
    "execution": {
     "iopub.execute_input": "2025-01-16T21:18:33.732307Z",
     "iopub.status.busy": "2025-01-16T21:18:33.732031Z",
     "iopub.status.idle": "2025-01-16T21:18:47.049729Z",
     "shell.execute_reply": "2025-01-16T21:18:47.048676Z",
     "shell.execute_reply.started": "2025-01-16T21:18:33.732283Z"
    },
    "trusted": true
   },
   "outputs": [],
   "source": [
    "model = sm.Logit.from_formula(formula_dummies_model,df_dummies).fit()\n",
    "\n",
    "model.summary()"
   ]
  },
  {
   "cell_type": "markdown",
   "metadata": {},
   "source": [
    "### Executando para o processo de stepwise no modelo para melhoramento"
   ]
  },
  {
   "cell_type": "code",
   "execution_count": null,
   "metadata": {
    "execution": {
     "iopub.execute_input": "2025-01-16T21:18:47.050992Z",
     "iopub.status.busy": "2025-01-16T21:18:47.050705Z",
     "iopub.status.idle": "2025-01-16T21:31:30.091088Z",
     "shell.execute_reply": "2025-01-16T21:31:30.090043Z",
     "shell.execute_reply.started": "2025-01-16T21:18:47.050966Z"
    },
    "trusted": true
   },
   "outputs": [],
   "source": [
    "stepwise_model = stepwise(model,pvalue_limit=0.05)"
   ]
  },
  {
   "cell_type": "code",
   "execution_count": null,
   "metadata": {
    "execution": {
     "iopub.execute_input": "2025-01-16T21:31:30.092509Z",
     "iopub.status.busy": "2025-01-16T21:31:30.092233Z",
     "iopub.status.idle": "2025-01-16T21:31:30.166621Z",
     "shell.execute_reply": "2025-01-16T21:31:30.165425Z",
     "shell.execute_reply.started": "2025-01-16T21:31:30.092485Z"
    },
    "trusted": true
   },
   "outputs": [],
   "source": [
    "stepwise_model.summary()"
   ]
  },
  {
   "cell_type": "markdown",
   "metadata": {},
   "source": [
    "### Analisando os resultados do modelo"
   ]
  },
  {
   "cell_type": "code",
   "execution_count": 426,
   "metadata": {},
   "outputs": [],
   "source": [
    "def matriz_confusao(predicts, observado, cutoff):\n",
    "    \n",
    "    values = predicts.values\n",
    "    \n",
    "    predicao_binaria = []\n",
    "        \n",
    "    for item in values:\n",
    "        if item < cutoff:\n",
    "            predicao_binaria.append(0)\n",
    "        else:\n",
    "            predicao_binaria.append(1)\n",
    "           \n",
    "    cm = confusion_matrix(predicao_binaria, observado)\n",
    "    disp = ConfusionMatrixDisplay(confusion_matrix=cm)\n",
    "    disp.plot()\n",
    "    plt.xlabel('True')\n",
    "    plt.ylabel('Classified')\n",
    "    plt.gca().invert_xaxis()\n",
    "    plt.gca().invert_yaxis()\n",
    "    plt.show()\n",
    "        \n",
    "    sensitividade = recall_score(observado, predicao_binaria, pos_label=1)\n",
    "    especificidade = recall_score(observado, predicao_binaria, pos_label=0)\n",
    "    acuracia = accuracy_score(observado, predicao_binaria)\n",
    "\n",
    "    #Visualizando os principais indicadores desta matriz de confusão\n",
    "    indicadores = pd.DataFrame({'Sensitividade':[sensitividade],\n",
    "                                'Especificidade':[especificidade],\n",
    "                                'Acurácia':[acuracia]})\n",
    "    return indicadores"
   ]
  },
  {
   "cell_type": "code",
   "execution_count": 427,
   "metadata": {
    "execution": {
     "iopub.execute_input": "2025-01-16T21:31:30.176102Z",
     "iopub.status.busy": "2025-01-16T21:31:30.175745Z",
     "iopub.status.idle": "2025-01-16T21:31:30.198272Z",
     "shell.execute_reply": "2025-01-16T21:31:30.197229Z",
     "shell.execute_reply.started": "2025-01-16T21:31:30.176058Z"
    },
    "trusted": true
   },
   "outputs": [],
   "source": [
    "df_dummies['phat'] = stepwise_model.predict()"
   ]
  },
  {
   "cell_type": "code",
   "execution_count": null,
   "metadata": {
    "execution": {
     "iopub.execute_input": "2025-01-16T21:31:30.199597Z",
     "iopub.status.busy": "2025-01-16T21:31:30.199301Z",
     "iopub.status.idle": "2025-01-16T21:31:30.553238Z",
     "shell.execute_reply": "2025-01-16T21:31:30.552213Z",
     "shell.execute_reply.started": "2025-01-16T21:31:30.199567Z"
    },
    "trusted": true
   },
   "outputs": [],
   "source": [
    "matriz_confusao(observado=df_dummies['Depression'],\n",
    "                predicts=df_dummies['phat'],\n",
    "                cutoff=0.5)"
   ]
  }
 ],
 "metadata": {
  "kaggle": {
   "accelerator": "none",
   "dataSources": [
    {
     "datasetId": 6144877,
     "sourceId": 9985284,
     "sourceType": "datasetVersion"
    }
   ],
   "isGpuEnabled": false,
   "isInternetEnabled": true,
   "language": "python",
   "sourceType": "notebook"
  },
  "kernelspec": {
   "display_name": "penv",
   "language": "python",
   "name": "python3"
  },
  "language_info": {
   "codemirror_mode": {
    "name": "ipython",
    "version": 3
   },
   "file_extension": ".py",
   "mimetype": "text/x-python",
   "name": "python",
   "nbconvert_exporter": "python",
   "pygments_lexer": "ipython3",
   "version": "3.12.7"
  }
 },
 "nbformat": 4,
 "nbformat_minor": 4
}
