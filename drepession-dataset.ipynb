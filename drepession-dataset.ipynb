{
 "cells": [
  {
   "cell_type": "markdown",
   "metadata": {},
   "source": [
    "Importing libs"
   ]
  },
  {
   "cell_type": "code",
   "execution_count": 264,
   "metadata": {
    "_cell_guid": "b1076dfc-b9ad-4769-8c92-a6c4dae69d19",
    "_uuid": "8f2839f25d086af736a60e9eeb907d3b93b6e0e5",
    "execution": {
     "iopub.execute_input": "2025-01-16T21:18:32.386925Z",
     "iopub.status.busy": "2025-01-16T21:18:32.386398Z",
     "iopub.status.idle": "2025-01-16T21:18:32.655103Z",
     "shell.execute_reply": "2025-01-16T21:18:32.654061Z",
     "shell.execute_reply.started": "2025-01-16T21:18:32.386871Z"
    },
    "trusted": true
   },
   "outputs": [],
   "source": [
    "import pandas as pd\n",
    "import statsmodels.api as sm\n",
    "import seaborn as sns\n",
    "import matplotlib.pyplot as plt\n",
    "from statstests.process import stepwise\n",
    "from sklearn.metrics import confusion_matrix, accuracy_score,\\\n",
    "    ConfusionMatrixDisplay, recall_score\n",
    "from sklearn.preprocessing import LabelEncoder\n",
    "pd.set_option(\"display.max_rows\", None)"
   ]
  },
  {
   "cell_type": "code",
   "execution_count": 265,
   "metadata": {
    "execution": {
     "iopub.execute_input": "2025-01-16T21:18:32.657073Z",
     "iopub.status.busy": "2025-01-16T21:18:32.656667Z",
     "iopub.status.idle": "2025-01-16T21:18:32.813379Z",
     "shell.execute_reply": "2025-01-16T21:18:32.811961Z",
     "shell.execute_reply.started": "2025-01-16T21:18:32.657035Z"
    },
    "trusted": true
   },
   "outputs": [
    {
     "data": {
      "text/html": [
       "<div>\n",
       "<style scoped>\n",
       "    .dataframe tbody tr th:only-of-type {\n",
       "        vertical-align: middle;\n",
       "    }\n",
       "\n",
       "    .dataframe tbody tr th {\n",
       "        vertical-align: top;\n",
       "    }\n",
       "\n",
       "    .dataframe thead th {\n",
       "        text-align: right;\n",
       "    }\n",
       "</style>\n",
       "<table border=\"1\" class=\"dataframe\">\n",
       "  <thead>\n",
       "    <tr style=\"text-align: right;\">\n",
       "      <th></th>\n",
       "      <th>id</th>\n",
       "      <th>Gender</th>\n",
       "      <th>Age</th>\n",
       "      <th>City</th>\n",
       "      <th>Profession</th>\n",
       "      <th>Academic Pressure</th>\n",
       "      <th>Work Pressure</th>\n",
       "      <th>CGPA</th>\n",
       "      <th>Study Satisfaction</th>\n",
       "      <th>Job Satisfaction</th>\n",
       "      <th>Sleep Duration</th>\n",
       "      <th>Dietary Habits</th>\n",
       "      <th>Degree</th>\n",
       "      <th>Have you ever had suicidal thoughts ?</th>\n",
       "      <th>Work/Study Hours</th>\n",
       "      <th>Financial Stress</th>\n",
       "      <th>Family History of Mental Illness</th>\n",
       "      <th>Depression</th>\n",
       "    </tr>\n",
       "  </thead>\n",
       "  <tbody>\n",
       "    <tr>\n",
       "      <th>0</th>\n",
       "      <td>2</td>\n",
       "      <td>Male</td>\n",
       "      <td>33.0</td>\n",
       "      <td>Visakhapatnam</td>\n",
       "      <td>Student</td>\n",
       "      <td>5.0</td>\n",
       "      <td>0.0</td>\n",
       "      <td>8.97</td>\n",
       "      <td>2.0</td>\n",
       "      <td>0.0</td>\n",
       "      <td>5-6 hours</td>\n",
       "      <td>Healthy</td>\n",
       "      <td>B.Pharm</td>\n",
       "      <td>Yes</td>\n",
       "      <td>3.0</td>\n",
       "      <td>1.0</td>\n",
       "      <td>No</td>\n",
       "      <td>1</td>\n",
       "    </tr>\n",
       "    <tr>\n",
       "      <th>1</th>\n",
       "      <td>8</td>\n",
       "      <td>Female</td>\n",
       "      <td>24.0</td>\n",
       "      <td>Bangalore</td>\n",
       "      <td>Student</td>\n",
       "      <td>2.0</td>\n",
       "      <td>0.0</td>\n",
       "      <td>5.90</td>\n",
       "      <td>5.0</td>\n",
       "      <td>0.0</td>\n",
       "      <td>5-6 hours</td>\n",
       "      <td>Moderate</td>\n",
       "      <td>BSc</td>\n",
       "      <td>No</td>\n",
       "      <td>3.0</td>\n",
       "      <td>2.0</td>\n",
       "      <td>Yes</td>\n",
       "      <td>0</td>\n",
       "    </tr>\n",
       "    <tr>\n",
       "      <th>2</th>\n",
       "      <td>26</td>\n",
       "      <td>Male</td>\n",
       "      <td>31.0</td>\n",
       "      <td>Srinagar</td>\n",
       "      <td>Student</td>\n",
       "      <td>3.0</td>\n",
       "      <td>0.0</td>\n",
       "      <td>7.03</td>\n",
       "      <td>5.0</td>\n",
       "      <td>0.0</td>\n",
       "      <td>Less than 5 hours</td>\n",
       "      <td>Healthy</td>\n",
       "      <td>BA</td>\n",
       "      <td>No</td>\n",
       "      <td>9.0</td>\n",
       "      <td>1.0</td>\n",
       "      <td>Yes</td>\n",
       "      <td>0</td>\n",
       "    </tr>\n",
       "    <tr>\n",
       "      <th>3</th>\n",
       "      <td>30</td>\n",
       "      <td>Female</td>\n",
       "      <td>28.0</td>\n",
       "      <td>Varanasi</td>\n",
       "      <td>Student</td>\n",
       "      <td>3.0</td>\n",
       "      <td>0.0</td>\n",
       "      <td>5.59</td>\n",
       "      <td>2.0</td>\n",
       "      <td>0.0</td>\n",
       "      <td>7-8 hours</td>\n",
       "      <td>Moderate</td>\n",
       "      <td>BCA</td>\n",
       "      <td>Yes</td>\n",
       "      <td>4.0</td>\n",
       "      <td>5.0</td>\n",
       "      <td>Yes</td>\n",
       "      <td>1</td>\n",
       "    </tr>\n",
       "    <tr>\n",
       "      <th>4</th>\n",
       "      <td>32</td>\n",
       "      <td>Female</td>\n",
       "      <td>25.0</td>\n",
       "      <td>Jaipur</td>\n",
       "      <td>Student</td>\n",
       "      <td>4.0</td>\n",
       "      <td>0.0</td>\n",
       "      <td>8.13</td>\n",
       "      <td>3.0</td>\n",
       "      <td>0.0</td>\n",
       "      <td>5-6 hours</td>\n",
       "      <td>Moderate</td>\n",
       "      <td>M.Tech</td>\n",
       "      <td>Yes</td>\n",
       "      <td>1.0</td>\n",
       "      <td>1.0</td>\n",
       "      <td>No</td>\n",
       "      <td>0</td>\n",
       "    </tr>\n",
       "  </tbody>\n",
       "</table>\n",
       "</div>"
      ],
      "text/plain": [
       "   id  Gender   Age           City Profession  Academic Pressure  \\\n",
       "0   2    Male  33.0  Visakhapatnam    Student                5.0   \n",
       "1   8  Female  24.0      Bangalore    Student                2.0   \n",
       "2  26    Male  31.0       Srinagar    Student                3.0   \n",
       "3  30  Female  28.0       Varanasi    Student                3.0   \n",
       "4  32  Female  25.0         Jaipur    Student                4.0   \n",
       "\n",
       "   Work Pressure  CGPA  Study Satisfaction  Job Satisfaction  \\\n",
       "0            0.0  8.97                 2.0               0.0   \n",
       "1            0.0  5.90                 5.0               0.0   \n",
       "2            0.0  7.03                 5.0               0.0   \n",
       "3            0.0  5.59                 2.0               0.0   \n",
       "4            0.0  8.13                 3.0               0.0   \n",
       "\n",
       "      Sleep Duration Dietary Habits   Degree  \\\n",
       "0          5-6 hours        Healthy  B.Pharm   \n",
       "1          5-6 hours       Moderate      BSc   \n",
       "2  Less than 5 hours        Healthy       BA   \n",
       "3          7-8 hours       Moderate      BCA   \n",
       "4          5-6 hours       Moderate   M.Tech   \n",
       "\n",
       "  Have you ever had suicidal thoughts ?  Work/Study Hours  Financial Stress  \\\n",
       "0                                   Yes               3.0               1.0   \n",
       "1                                    No               3.0               2.0   \n",
       "2                                    No               9.0               1.0   \n",
       "3                                   Yes               4.0               5.0   \n",
       "4                                   Yes               1.0               1.0   \n",
       "\n",
       "  Family History of Mental Illness  Depression  \n",
       "0                               No           1  \n",
       "1                              Yes           0  \n",
       "2                              Yes           0  \n",
       "3                              Yes           1  \n",
       "4                               No           0  "
      ]
     },
     "execution_count": 265,
     "metadata": {},
     "output_type": "execute_result"
    }
   ],
   "source": [
    "#'/kaggle/input/student-depression-dataset/Student Depression Dataset.csv'\n",
    "dataset_path = 'Student Depression Dataset.csv'\n",
    "df = pd.read_csv(dataset_path)\n",
    "df.head()"
   ]
  },
  {
   "cell_type": "code",
   "execution_count": 266,
   "metadata": {},
   "outputs": [
    {
     "name": "stdout",
     "output_type": "stream",
     "text": [
      "<class 'pandas.core.frame.DataFrame'>\n",
      "RangeIndex: 27901 entries, 0 to 27900\n",
      "Data columns (total 18 columns):\n",
      " #   Column                                 Non-Null Count  Dtype  \n",
      "---  ------                                 --------------  -----  \n",
      " 0   id                                     27901 non-null  int64  \n",
      " 1   Gender                                 27901 non-null  object \n",
      " 2   Age                                    27901 non-null  float64\n",
      " 3   City                                   27901 non-null  object \n",
      " 4   Profession                             27901 non-null  object \n",
      " 5   Academic Pressure                      27901 non-null  float64\n",
      " 6   Work Pressure                          27901 non-null  float64\n",
      " 7   CGPA                                   27901 non-null  float64\n",
      " 8   Study Satisfaction                     27901 non-null  float64\n",
      " 9   Job Satisfaction                       27901 non-null  float64\n",
      " 10  Sleep Duration                         27901 non-null  object \n",
      " 11  Dietary Habits                         27901 non-null  object \n",
      " 12  Degree                                 27901 non-null  object \n",
      " 13  Have you ever had suicidal thoughts ?  27901 non-null  object \n",
      " 14  Work/Study Hours                       27901 non-null  float64\n",
      " 15  Financial Stress                       27898 non-null  float64\n",
      " 16  Family History of Mental Illness       27901 non-null  object \n",
      " 17  Depression                             27901 non-null  int64  \n",
      "dtypes: float64(8), int64(2), object(8)\n",
      "memory usage: 3.8+ MB\n"
     ]
    }
   ],
   "source": [
    "df.info()"
   ]
  },
  {
   "cell_type": "code",
   "execution_count": 267,
   "metadata": {},
   "outputs": [],
   "source": [
    "df.rename(columns={\n",
    "    'Academic Pressure': 'AP',\n",
    "    'Work Pressure':'WP',\n",
    "    'Study Satisfaction':'SS',\n",
    "    'Job Satisfaction':'JS',\n",
    "    'Sleep Duration':'SD',\n",
    "    'Dietary Habits':'DH',\n",
    "    'Have you ever had suicidal thoughts ?':'ST',\n",
    "    'Work/Study Hours':'WSH',\n",
    "    'Financial Stress':'FS',\n",
    "    'Family History of Mental Illness':'FHMI'\n",
    "},inplace=True)"
   ]
  },
  {
   "cell_type": "code",
   "execution_count": 268,
   "metadata": {},
   "outputs": [],
   "source": [
    "df.dropna( inplace=True)"
   ]
  },
  {
   "cell_type": "code",
   "execution_count": 269,
   "metadata": {
    "execution": {
     "iopub.execute_input": "2025-01-16T21:18:32.816223Z",
     "iopub.status.busy": "2025-01-16T21:18:32.815886Z",
     "iopub.status.idle": "2025-01-16T21:18:32.831977Z",
     "shell.execute_reply": "2025-01-16T21:18:32.830772Z",
     "shell.execute_reply.started": "2025-01-16T21:18:32.816194Z"
    },
    "trusted": true
   },
   "outputs": [],
   "source": [
    "df.drop(columns='id',inplace=True)"
   ]
  },
  {
   "cell_type": "code",
   "execution_count": 270,
   "metadata": {},
   "outputs": [
    {
     "name": "stdout",
     "output_type": "stream",
     "text": [
      "<class 'pandas.core.frame.DataFrame'>\n",
      "Index: 27898 entries, 0 to 27900\n",
      "Data columns (total 17 columns):\n",
      " #   Column      Non-Null Count  Dtype  \n",
      "---  ------      --------------  -----  \n",
      " 0   Gender      27898 non-null  object \n",
      " 1   Age         27898 non-null  float64\n",
      " 2   City        27898 non-null  object \n",
      " 3   Profession  27898 non-null  object \n",
      " 4   AP          27898 non-null  float64\n",
      " 5   WP          27898 non-null  float64\n",
      " 6   CGPA        27898 non-null  float64\n",
      " 7   SS          27898 non-null  float64\n",
      " 8   JS          27898 non-null  float64\n",
      " 9   SD          27898 non-null  object \n",
      " 10  DH          27898 non-null  object \n",
      " 11  Degree      27898 non-null  object \n",
      " 12  ST          27898 non-null  object \n",
      " 13  WSH         27898 non-null  float64\n",
      " 14  FS          27898 non-null  float64\n",
      " 15  FHMI        27898 non-null  object \n",
      " 16  Depression  27898 non-null  int64  \n",
      "dtypes: float64(8), int64(1), object(8)\n",
      "memory usage: 3.8+ MB\n"
     ]
    }
   ],
   "source": [
    "df.info()"
   ]
  },
  {
   "cell_type": "markdown",
   "metadata": {},
   "source": [
    "Gender"
   ]
  },
  {
   "cell_type": "code",
   "execution_count": 271,
   "metadata": {
    "execution": {
     "iopub.execute_input": "2025-01-16T21:18:32.900080Z",
     "iopub.status.busy": "2025-01-16T21:18:32.899656Z",
     "iopub.status.idle": "2025-01-16T21:18:32.913733Z",
     "shell.execute_reply": "2025-01-16T21:18:32.912152Z",
     "shell.execute_reply.started": "2025-01-16T21:18:32.900038Z"
    },
    "trusted": true
   },
   "outputs": [
    {
     "data": {
      "text/plain": [
       "Gender\n",
       "Female    12352\n",
       "Male      15546\n",
       "Name: count, dtype: int64"
      ]
     },
     "execution_count": 271,
     "metadata": {},
     "output_type": "execute_result"
    }
   ],
   "source": [
    "df['Gender'].value_counts().sort_index()"
   ]
  },
  {
   "cell_type": "code",
   "execution_count": 272,
   "metadata": {},
   "outputs": [
    {
     "name": "stderr",
     "output_type": "stream",
     "text": [
      "/tmp/ipykernel_33947/2386521945.py:1: FutureWarning: Downcasting behavior in `replace` is deprecated and will be removed in a future version. To retain the old behavior, explicitly call `result.infer_objects(copy=False)`. To opt-in to the future behavior, set `pd.set_option('future.no_silent_downcasting', True)`\n",
      "  df['Gender'] = df['Gender'].replace({'Female':0,'Male':1}).astype('int64')\n"
     ]
    }
   ],
   "source": [
    "df['Gender'] = df['Gender'].replace({'Female':0,'Male':1}).astype('int64')"
   ]
  },
  {
   "cell_type": "markdown",
   "metadata": {},
   "source": [
    "Age"
   ]
  },
  {
   "cell_type": "code",
   "execution_count": 273,
   "metadata": {
    "execution": {
     "iopub.execute_input": "2025-01-16T21:18:32.915478Z",
     "iopub.status.busy": "2025-01-16T21:18:32.915097Z",
     "iopub.status.idle": "2025-01-16T21:18:32.939813Z",
     "shell.execute_reply": "2025-01-16T21:18:32.938692Z",
     "shell.execute_reply.started": "2025-01-16T21:18:32.915450Z"
    },
    "trusted": true
   },
   "outputs": [
    {
     "data": {
      "text/plain": [
       "Age\n",
       "18.0    1587\n",
       "19.0    1560\n",
       "20.0    2236\n",
       "21.0    1726\n",
       "22.0    1160\n",
       "23.0    1645\n",
       "24.0    2258\n",
       "25.0    1784\n",
       "26.0    1155\n",
       "27.0    1462\n",
       "28.0    2133\n",
       "29.0    1949\n",
       "30.0    1145\n",
       "31.0    1427\n",
       "32.0    1261\n",
       "33.0    1893\n",
       "34.0    1468\n",
       "35.0      10\n",
       "36.0       7\n",
       "37.0       2\n",
       "38.0       8\n",
       "39.0       3\n",
       "41.0       1\n",
       "42.0       4\n",
       "43.0       2\n",
       "44.0       1\n",
       "46.0       2\n",
       "48.0       3\n",
       "49.0       1\n",
       "51.0       1\n",
       "54.0       1\n",
       "56.0       1\n",
       "58.0       1\n",
       "59.0       1\n",
       "Name: count, dtype: int64"
      ]
     },
     "execution_count": 273,
     "metadata": {},
     "output_type": "execute_result"
    }
   ],
   "source": [
    "df['Age'].value_counts().sort_index()"
   ]
  },
  {
   "cell_type": "code",
   "execution_count": 274,
   "metadata": {
    "execution": {
     "iopub.execute_input": "2025-01-16T21:18:32.942988Z",
     "iopub.status.busy": "2025-01-16T21:18:32.942623Z",
     "iopub.status.idle": "2025-01-16T21:18:32.971331Z",
     "shell.execute_reply": "2025-01-16T21:18:32.969973Z",
     "shell.execute_reply.started": "2025-01-16T21:18:32.942959Z"
    },
    "trusted": true
   },
   "outputs": [],
   "source": [
    "df.query('Age < 35',inplace=True)"
   ]
  },
  {
   "cell_type": "code",
   "execution_count": 275,
   "metadata": {},
   "outputs": [
    {
     "data": {
      "text/plain": [
       "count    27849.000000\n",
       "mean        25.795827\n",
       "std          4.862033\n",
       "min         18.000000\n",
       "25%         21.000000\n",
       "50%         25.000000\n",
       "75%         30.000000\n",
       "max         34.000000\n",
       "Name: Age, dtype: float64"
      ]
     },
     "execution_count": 275,
     "metadata": {},
     "output_type": "execute_result"
    }
   ],
   "source": [
    "df['Age'].describe()"
   ]
  },
  {
   "cell_type": "markdown",
   "metadata": {},
   "source": [
    "City"
   ]
  },
  {
   "cell_type": "code",
   "execution_count": 276,
   "metadata": {
    "execution": {
     "iopub.execute_input": "2025-01-16T21:18:32.973957Z",
     "iopub.status.busy": "2025-01-16T21:18:32.973557Z",
     "iopub.status.idle": "2025-01-16T21:18:32.986872Z",
     "shell.execute_reply": "2025-01-16T21:18:32.985423Z",
     "shell.execute_reply.started": "2025-01-16T21:18:32.973927Z"
    },
    "trusted": true
   },
   "outputs": [
    {
     "data": {
      "text/plain": [
       "City\n",
       "Kalyan                1567\n",
       "Srinagar              1370\n",
       "Hyderabad             1337\n",
       "Vasai-Virar           1289\n",
       "Lucknow               1153\n",
       "Thane                 1138\n",
       "Ludhiana              1108\n",
       "Agra                  1091\n",
       "Surat                 1076\n",
       "Kolkata               1062\n",
       "Jaipur                1036\n",
       "Patna                 1003\n",
       "Pune                   967\n",
       "Visakhapatnam          966\n",
       "Ahmedabad              951\n",
       "Bhopal                 932\n",
       "Chennai                883\n",
       "Meerut                 823\n",
       "Rajkot                 813\n",
       "Delhi                  767\n",
       "Bangalore              766\n",
       "Ghaziabad              743\n",
       "Mumbai                 698\n",
       "Vadodara               693\n",
       "Varanasi               683\n",
       "Nagpur                 650\n",
       "Indore                 643\n",
       "Kanpur                 609\n",
       "Nashik                 545\n",
       "Faridabad              461\n",
       "Saanvi                   2\n",
       "Bhavna                   2\n",
       "City                     2\n",
       "Harsha                   2\n",
       "Less Delhi               1\n",
       "M.Tech                   1\n",
       "3.0                      1\n",
       "Less than 5 Kalyan       1\n",
       "Mira                     1\n",
       "Vaanya                   1\n",
       "Gaurav                   1\n",
       "Harsh                    1\n",
       "Reyansh                  1\n",
       "Kibara                   1\n",
       "Rashi                    1\n",
       "ME                       1\n",
       "M.Com                    1\n",
       "Nalyan                   1\n",
       "Mihir                    1\n",
       "Nalini                   1\n",
       "Nandini                  1\n",
       "Khaziabad                1\n",
       "Name: count, dtype: int64"
      ]
     },
     "execution_count": 276,
     "metadata": {},
     "output_type": "execute_result"
    }
   ],
   "source": [
    "df['City'].value_counts()"
   ]
  },
  {
   "cell_type": "code",
   "execution_count": 277,
   "metadata": {
    "execution": {
     "iopub.execute_input": "2025-01-16T21:18:32.988114Z",
     "iopub.status.busy": "2025-01-16T21:18:32.987810Z",
     "iopub.status.idle": "2025-01-16T21:18:33.020968Z",
     "shell.execute_reply": "2025-01-16T21:18:33.019721Z",
     "shell.execute_reply.started": "2025-01-16T21:18:32.988091Z"
    },
    "trusted": true
   },
   "outputs": [],
   "source": [
    "filtered_cities = df['City'].value_counts()[lambda x: x > 2].index.tolist()\n",
    "df.query('City in @filtered_cities',inplace=True)"
   ]
  },
  {
   "cell_type": "code",
   "execution_count": 278,
   "metadata": {},
   "outputs": [
    {
     "data": {
      "text/plain": [
       "City\n",
       "Kalyan           1567\n",
       "Srinagar         1370\n",
       "Hyderabad        1337\n",
       "Vasai-Virar      1289\n",
       "Lucknow          1153\n",
       "Thane            1138\n",
       "Ludhiana         1108\n",
       "Agra             1091\n",
       "Surat            1076\n",
       "Kolkata          1062\n",
       "Jaipur           1036\n",
       "Patna            1003\n",
       "Pune              967\n",
       "Visakhapatnam     966\n",
       "Ahmedabad         951\n",
       "Bhopal            932\n",
       "Chennai           883\n",
       "Meerut            823\n",
       "Rajkot            813\n",
       "Delhi             767\n",
       "Bangalore         766\n",
       "Ghaziabad         743\n",
       "Mumbai            698\n",
       "Vadodara          693\n",
       "Varanasi          683\n",
       "Nagpur            650\n",
       "Indore            643\n",
       "Kanpur            609\n",
       "Nashik            545\n",
       "Faridabad         461\n",
       "Name: count, dtype: int64"
      ]
     },
     "execution_count": 278,
     "metadata": {},
     "output_type": "execute_result"
    }
   ],
   "source": [
    "df['City'].value_counts()"
   ]
  },
  {
   "cell_type": "markdown",
   "metadata": {},
   "source": [
    "Profession"
   ]
  },
  {
   "cell_type": "code",
   "execution_count": 279,
   "metadata": {
    "execution": {
     "iopub.execute_input": "2025-01-16T21:18:33.022574Z",
     "iopub.status.busy": "2025-01-16T21:18:33.022273Z",
     "iopub.status.idle": "2025-01-16T21:18:33.033831Z",
     "shell.execute_reply": "2025-01-16T21:18:33.032560Z",
     "shell.execute_reply.started": "2025-01-16T21:18:33.022548Z"
    },
    "trusted": true
   },
   "outputs": [
    {
     "data": {
      "text/plain": [
       "Profession\n",
       "Student                   27792\n",
       "Architect                     8\n",
       "Teacher                       6\n",
       "Digital Marketer              3\n",
       "Chef                          2\n",
       "Content Writer                2\n",
       "Pharmacist                    2\n",
       "Doctor                        2\n",
       "UX/UI Designer                1\n",
       "Civil Engineer                1\n",
       "Manager                       1\n",
       "Educational Consultant        1\n",
       "Lawyer                        1\n",
       "Entrepreneur                  1\n",
       "Name: count, dtype: int64"
      ]
     },
     "execution_count": 279,
     "metadata": {},
     "output_type": "execute_result"
    }
   ],
   "source": [
    "df['Profession'].value_counts()"
   ]
  },
  {
   "cell_type": "code",
   "execution_count": 280,
   "metadata": {
    "execution": {
     "iopub.execute_input": "2025-01-16T21:18:33.035565Z",
     "iopub.status.busy": "2025-01-16T21:18:33.035118Z",
     "iopub.status.idle": "2025-01-16T21:18:33.066665Z",
     "shell.execute_reply": "2025-01-16T21:18:33.065165Z",
     "shell.execute_reply.started": "2025-01-16T21:18:33.035527Z"
    },
    "trusted": true
   },
   "outputs": [],
   "source": [
    "df.query('Profession == \"Student\"',inplace=True)\n",
    "df.drop(columns=['Profession'],axis=1,inplace=True)"
   ]
  },
  {
   "cell_type": "markdown",
   "metadata": {},
   "source": [
    "Academic Pressure"
   ]
  },
  {
   "cell_type": "code",
   "execution_count": 281,
   "metadata": {
    "execution": {
     "iopub.execute_input": "2025-01-16T21:18:33.068391Z",
     "iopub.status.busy": "2025-01-16T21:18:33.067959Z",
     "iopub.status.idle": "2025-01-16T21:18:33.079284Z",
     "shell.execute_reply": "2025-01-16T21:18:33.078040Z",
     "shell.execute_reply.started": "2025-01-16T21:18:33.068343Z"
    },
    "trusted": true
   },
   "outputs": [
    {
     "data": {
      "text/plain": [
       "AP\n",
       "0.0       7\n",
       "1.0    4782\n",
       "2.0    4164\n",
       "3.0    7429\n",
       "4.0    5142\n",
       "5.0    6268\n",
       "Name: count, dtype: int64"
      ]
     },
     "execution_count": 281,
     "metadata": {},
     "output_type": "execute_result"
    }
   ],
   "source": [
    "df['AP'].value_counts().sort_index()"
   ]
  },
  {
   "cell_type": "code",
   "execution_count": 282,
   "metadata": {
    "execution": {
     "iopub.execute_input": "2025-01-16T21:18:33.080709Z",
     "iopub.status.busy": "2025-01-16T21:18:33.080325Z",
     "iopub.status.idle": "2025-01-16T21:18:33.106354Z",
     "shell.execute_reply": "2025-01-16T21:18:33.104977Z",
     "shell.execute_reply.started": "2025-01-16T21:18:33.080656Z"
    },
    "trusted": true
   },
   "outputs": [],
   "source": [
    "df.query('AP > 0.0 ', inplace=True)"
   ]
  },
  {
   "cell_type": "markdown",
   "metadata": {},
   "source": [
    "Work Pressure "
   ]
  },
  {
   "cell_type": "code",
   "execution_count": 283,
   "metadata": {
    "execution": {
     "iopub.execute_input": "2025-01-16T21:18:33.107993Z",
     "iopub.status.busy": "2025-01-16T21:18:33.107665Z",
     "iopub.status.idle": "2025-01-16T21:18:33.118676Z",
     "shell.execute_reply": "2025-01-16T21:18:33.117746Z",
     "shell.execute_reply.started": "2025-01-16T21:18:33.107966Z"
    },
    "trusted": true
   },
   "outputs": [
    {
     "data": {
      "text/plain": [
       "WP\n",
       "0.0    27785\n",
       "Name: count, dtype: int64"
      ]
     },
     "execution_count": 283,
     "metadata": {},
     "output_type": "execute_result"
    }
   ],
   "source": [
    "df['WP'].value_counts().sort_index()"
   ]
  },
  {
   "cell_type": "code",
   "execution_count": 284,
   "metadata": {},
   "outputs": [],
   "source": [
    "df.drop(columns=['WP'],inplace=True)"
   ]
  },
  {
   "cell_type": "markdown",
   "metadata": {},
   "source": [
    "CGPA"
   ]
  },
  {
   "cell_type": "code",
   "execution_count": 285,
   "metadata": {
    "execution": {
     "iopub.execute_input": "2025-01-16T21:18:33.120433Z",
     "iopub.status.busy": "2025-01-16T21:18:33.120016Z",
     "iopub.status.idle": "2025-01-16T21:18:33.132892Z",
     "shell.execute_reply": "2025-01-16T21:18:33.131893Z",
     "shell.execute_reply.started": "2025-01-16T21:18:33.120393Z"
    },
    "trusted": true
   },
   "outputs": [
    {
     "data": {
      "text/plain": [
       "CGPA\n",
       "8.0400     821\n",
       "9.9600     424\n",
       "5.7400     408\n",
       "8.9500     370\n",
       "9.2100     341\n",
       "7.2500     337\n",
       "7.0900     319\n",
       "7.8800     317\n",
       "9.4400     316\n",
       "8.9100     275\n",
       "9.9300     274\n",
       "7.7700     269\n",
       "8.7400     267\n",
       "7.1000     250\n",
       "9.7200     249\n",
       "5.6400     245\n",
       "9.3900     242\n",
       "6.9900     241\n",
       "6.3700     238\n",
       "7.5300     234\n",
       "6.7800     232\n",
       "9.2400     224\n",
       "8.5900     220\n",
       "5.8500     215\n",
       "6.1600     215\n",
       "5.1600     209\n",
       "8.5800     207\n",
       "7.9400     207\n",
       "5.8800     207\n",
       "8.1700     196\n",
       "5.3200     194\n",
       "8.2400     194\n",
       "5.5600     178\n",
       "9.5600     175\n",
       "8.1400     174\n",
       "6.1000     167\n",
       "5.1200     166\n",
       "5.5700     164\n",
       "8.9000     164\n",
       "5.3700     159\n",
       "9.7100     157\n",
       "6.8900     153\n",
       "6.0000     153\n",
       "9.8900     151\n",
       "9.4100     151\n",
       "9.6300     149\n",
       "6.8300     149\n",
       "6.2500     147\n",
       "6.7500     143\n",
       "5.8200     143\n",
       "8.7300     142\n",
       "7.0400     141\n",
       "8.9600     141\n",
       "9.6000     140\n",
       "9.8600     140\n",
       "9.7900     139\n",
       "9.9700     139\n",
       "5.7600     139\n",
       "9.6700     135\n",
       "7.4700     134\n",
       "8.5400     133\n",
       "9.9500     133\n",
       "8.6200     133\n",
       "9.7400     129\n",
       "8.7000     128\n",
       "7.2200     127\n",
       "6.2100     125\n",
       "9.8400     125\n",
       "8.4400     125\n",
       "5.7500     124\n",
       "9.5400     122\n",
       "9.9100     122\n",
       "5.8600     122\n",
       "6.2700     121\n",
       "8.0900     120\n",
       "7.5200     120\n",
       "5.2700     118\n",
       "9.8800     117\n",
       "5.7900     116\n",
       "7.8500     115\n",
       "6.3800     115\n",
       "7.4800     115\n",
       "8.5200     115\n",
       "7.3800     112\n",
       "7.8000     112\n",
       "5.9900     112\n",
       "7.5100     112\n",
       "6.0200     111\n",
       "6.0300     111\n",
       "5.1100     111\n",
       "5.6600     110\n",
       "7.1500     110\n",
       "6.4700     110\n",
       "8.5000     109\n",
       "9.1100     109\n",
       "9.0500     109\n",
       "5.4200     107\n",
       "7.9200     106\n",
       "7.6400     105\n",
       "9.1900     104\n",
       "6.1700     103\n",
       "7.2100     102\n",
       "5.7000      98\n",
       "5.5800      97\n",
       "7.8300      97\n",
       "6.0800      96\n",
       "7.0800      96\n",
       "7.1300      96\n",
       "8.4600      95\n",
       "5.0800      95\n",
       "7.5000      94\n",
       "5.6000      93\n",
       "8.2100      92\n",
       "7.7000      92\n",
       "8.6900      92\n",
       "6.5100      92\n",
       "7.7200      92\n",
       "8.0800      91\n",
       "8.8100      90\n",
       "6.4100      87\n",
       "8.2800      87\n",
       "9.5000      87\n",
       "7.2800      86\n",
       "7.0200      85\n",
       "9.0400      84\n",
       "8.3500      84\n",
       "5.5900      82\n",
       "7.3900      78\n",
       "5.5100      76\n",
       "5.4600      72\n",
       "5.8700      71\n",
       "9.9400      71\n",
       "5.6700      69\n",
       "8.9200      67\n",
       "8.9700      66\n",
       "5.1000      66\n",
       "8.0000      66\n",
       "9.8700      63\n",
       "8.2500      61\n",
       "7.3700      61\n",
       "8.5300      60\n",
       "9.9200      60\n",
       "7.2400      59\n",
       "6.8800      59\n",
       "9.9800      59\n",
       "8.9300      58\n",
       "10.0000     58\n",
       "7.0300      58\n",
       "8.7800      58\n",
       "8.4700      57\n",
       "7.9100      56\n",
       "6.8600      56\n",
       "9.4200      56\n",
       "8.7900      55\n",
       "6.2900      54\n",
       "7.7400      54\n",
       "6.4200      54\n",
       "7.6800      54\n",
       "5.8900      54\n",
       "6.6100      53\n",
       "5.6800      52\n",
       "6.3900      52\n",
       "7.3000      51\n",
       "8.8900      51\n",
       "6.8100      51\n",
       "9.3700      51\n",
       "8.1300      51\n",
       "7.8200      50\n",
       "5.7700      50\n",
       "5.8300      50\n",
       "9.6600      50\n",
       "9.4300      50\n",
       "8.3900      50\n",
       "5.6500      49\n",
       "5.6100      49\n",
       "7.9000      49\n",
       "9.1000      49\n",
       "7.7500      49\n",
       "6.0400      49\n",
       "9.3300      48\n",
       "6.7900      48\n",
       "8.2700      48\n",
       "9.6900      48\n",
       "8.6300      47\n",
       "8.5600      47\n",
       "8.2300      47\n",
       "5.4100      46\n",
       "7.4600      46\n",
       "6.7400      46\n",
       "6.6500      46\n",
       "6.5300      45\n",
       "5.8100      45\n",
       "6.9200      45\n",
       "5.3800      45\n",
       "9.1300      45\n",
       "6.3600      44\n",
       "5.8400      43\n",
       "6.8200      43\n",
       "9.4600      43\n",
       "8.6100      42\n",
       "5.2600      42\n",
       "5.7100      42\n",
       "6.6900      42\n",
       "6.2800      42\n",
       "8.8800      42\n",
       "5.4800      42\n",
       "7.6100      41\n",
       "8.8300      41\n",
       "6.7300      41\n",
       "7.7100      41\n",
       "8.9800      40\n",
       "7.4900      40\n",
       "5.4700      40\n",
       "7.2700      40\n",
       "9.4900      40\n",
       "8.0300      40\n",
       "8.6400      39\n",
       "6.6300      39\n",
       "7.3500      39\n",
       "8.9400      39\n",
       "9.0300      39\n",
       "8.7700      39\n",
       "5.4500      39\n",
       "8.1100      38\n",
       "8.7100      38\n",
       "8.6500      38\n",
       "9.2500      38\n",
       "9.3400      38\n",
       "9.2600      38\n",
       "8.3800      38\n",
       "9.0600      37\n",
       "7.1400      37\n",
       "7.1100      36\n",
       "7.8700      36\n",
       "6.7000      36\n",
       "7.3200      36\n",
       "6.2600      36\n",
       "9.8500      35\n",
       "6.7600      35\n",
       "7.9900      35\n",
       "5.9000      35\n",
       "9.5900      35\n",
       "9.3600      35\n",
       "8.2900      35\n",
       "9.4000      35\n",
       "9.3100      34\n",
       "6.9100      34\n",
       "5.5200      34\n",
       "6.8400      33\n",
       "5.7200      33\n",
       "5.8000      33\n",
       "9.0200      33\n",
       "7.2600      33\n",
       "8.4200      33\n",
       "5.5500      33\n",
       "5.9700      32\n",
       "5.9800      32\n",
       "6.3300      31\n",
       "8.3700      31\n",
       "5.2500      31\n",
       "6.2300      31\n",
       "7.4300      31\n",
       "6.5200      31\n",
       "5.6900      30\n",
       "5.3900      30\n",
       "7.1700      30\n",
       "7.6000      30\n",
       "5.9100      30\n",
       "6.5600      30\n",
       "7.0700      29\n",
       "9.7800      29\n",
       "8.3200      28\n",
       "8.0700      28\n",
       "9.9000      28\n",
       "8.4300      27\n",
       "7.3400      27\n",
       "9.1700      27\n",
       "8.7500      27\n",
       "7.0600      27\n",
       "9.7000      26\n",
       "6.0500      25\n",
       "6.5000      25\n",
       "7.4500      24\n",
       "5.2400      24\n",
       "7.1200      24\n",
       "6.9500      24\n",
       "8.1900      23\n",
       "9.2900      23\n",
       "9.1600      22\n",
       "9.0100      22\n",
       "6.5900      22\n",
       "6.8500      21\n",
       "8.8500      21\n",
       "8.4900      21\n",
       "5.3000      21\n",
       "5.3500      20\n",
       "5.0900      20\n",
       "6.3500      20\n",
       "9.8200      20\n",
       "9.4700      19\n",
       "5.1400      19\n",
       "8.4000      19\n",
       "5.4400      19\n",
       "9.1200      18\n",
       "7.0000      18\n",
       "8.1600      17\n",
       "5.0300      17\n",
       "6.1900      17\n",
       "8.5500      17\n",
       "7.7900      16\n",
       "8.1000      16\n",
       "5.0600      15\n",
       "5.1700      14\n",
       "6.4600       9\n",
       "8.0100       7\n",
       "5.7800       4\n",
       "6.2400       3\n",
       "0.0000       3\n",
       "6.3200       3\n",
       "7.7800       2\n",
       "8.0200       2\n",
       "7.2300       1\n",
       "6.7700       1\n",
       "7.6500       1\n",
       "7.4200       1\n",
       "6.0600       1\n",
       "6.6400       1\n",
       "7.0625       1\n",
       "6.9800       1\n",
       "6.4400       1\n",
       "6.0900       1\n",
       "Name: count, dtype: int64"
      ]
     },
     "execution_count": 285,
     "metadata": {},
     "output_type": "execute_result"
    }
   ],
   "source": [
    "df['CGPA'].value_counts()"
   ]
  },
  {
   "cell_type": "code",
   "execution_count": 286,
   "metadata": {},
   "outputs": [],
   "source": [
    "filtered_cgpa = df['CGPA'].value_counts()[lambda x: x > 9].index.tolist()\n",
    "df.query('CGPA in @filtered_cgpa',inplace=True)"
   ]
  },
  {
   "cell_type": "code",
   "execution_count": 287,
   "metadata": {},
   "outputs": [
    {
     "data": {
      "text/plain": [
       "<Axes: ylabel='CGPA'>"
      ]
     },
     "execution_count": 287,
     "metadata": {},
     "output_type": "execute_result"
    },
    {
     "data": {
      "image/png": "[encoded data removed]",
      "text/plain": [
       "<Figure size 640x480 with 1 Axes>"
      ]
     },
     "metadata": {},
     "output_type": "display_data"
    }
   ],
   "source": [
    "sns.boxplot(data=df['CGPA'])"
   ]
  },
  {
   "cell_type": "code",
   "execution_count": 288,
   "metadata": {},
   "outputs": [
    {
     "data": {
      "text/plain": [
       "count    27742.000000\n",
       "mean         7.660137\n",
       "std          1.464945\n",
       "min          5.030000\n",
       "25%          6.290000\n",
       "50%          7.770000\n",
       "75%          8.920000\n",
       "max         10.000000\n",
       "Name: CGPA, dtype: float64"
      ]
     },
     "execution_count": 288,
     "metadata": {},
     "output_type": "execute_result"
    }
   ],
   "source": [
    "df['CGPA'].describe()"
   ]
  },
  {
   "cell_type": "markdown",
   "metadata": {},
   "source": [
    "Study Satisfaction"
   ]
  },
  {
   "cell_type": "code",
   "execution_count": 289,
   "metadata": {
    "execution": {
     "iopub.execute_input": "2025-01-16T21:18:33.134217Z",
     "iopub.status.busy": "2025-01-16T21:18:33.133949Z",
     "iopub.status.idle": "2025-01-16T21:18:33.154685Z",
     "shell.execute_reply": "2025-01-16T21:18:33.153609Z",
     "shell.execute_reply.started": "2025-01-16T21:18:33.134193Z"
    },
    "trusted": true
   },
   "outputs": [
    {
     "data": {
      "text/plain": [
       "SS\n",
       "0.0       2\n",
       "1.0    5417\n",
       "2.0    5815\n",
       "3.0    5786\n",
       "4.0    6327\n",
       "5.0    4395\n",
       "Name: count, dtype: int64"
      ]
     },
     "execution_count": 289,
     "metadata": {},
     "output_type": "execute_result"
    }
   ],
   "source": [
    "df['SS'].value_counts().sort_index()"
   ]
  },
  {
   "cell_type": "code",
   "execution_count": 290,
   "metadata": {
    "execution": {
     "iopub.execute_input": "2025-01-16T21:18:33.156099Z",
     "iopub.status.busy": "2025-01-16T21:18:33.155819Z",
     "iopub.status.idle": "2025-01-16T21:18:33.180745Z",
     "shell.execute_reply": "2025-01-16T21:18:33.179769Z",
     "shell.execute_reply.started": "2025-01-16T21:18:33.156076Z"
    },
    "trusted": true
   },
   "outputs": [],
   "source": [
    "df.query('SS > 0.0 ', inplace=True)"
   ]
  },
  {
   "cell_type": "markdown",
   "metadata": {},
   "source": [
    "Job Satisfaction "
   ]
  },
  {
   "cell_type": "code",
   "execution_count": 291,
   "metadata": {
    "execution": {
     "iopub.execute_input": "2025-01-16T21:18:33.182150Z",
     "iopub.status.busy": "2025-01-16T21:18:33.181831Z",
     "iopub.status.idle": "2025-01-16T21:18:33.192567Z",
     "shell.execute_reply": "2025-01-16T21:18:33.191528Z",
     "shell.execute_reply.started": "2025-01-16T21:18:33.182115Z"
    },
    "trusted": true
   },
   "outputs": [
    {
     "data": {
      "text/plain": [
       "JS\n",
       "0.0    27738\n",
       "2.0        1\n",
       "3.0        1\n",
       "Name: count, dtype: int64"
      ]
     },
     "execution_count": 291,
     "metadata": {},
     "output_type": "execute_result"
    }
   ],
   "source": [
    "df['JS'].value_counts().sort_index()"
   ]
  },
  {
   "cell_type": "code",
   "execution_count": 292,
   "metadata": {
    "execution": {
     "iopub.execute_input": "2025-01-16T21:18:33.193799Z",
     "iopub.status.busy": "2025-01-16T21:18:33.193490Z",
     "iopub.status.idle": "2025-01-16T21:18:33.220114Z",
     "shell.execute_reply": "2025-01-16T21:18:33.219088Z",
     "shell.execute_reply.started": "2025-01-16T21:18:33.193775Z"
    },
    "trusted": true
   },
   "outputs": [],
   "source": [
    "df.drop(columns=['JS'],inplace=True)"
   ]
  },
  {
   "cell_type": "markdown",
   "metadata": {},
   "source": [
    "Sleep Duration"
   ]
  },
  {
   "cell_type": "code",
   "execution_count": 293,
   "metadata": {
    "execution": {
     "iopub.execute_input": "2025-01-16T21:18:33.221360Z",
     "iopub.status.busy": "2025-01-16T21:18:33.221105Z",
     "iopub.status.idle": "2025-01-16T21:18:33.230567Z",
     "shell.execute_reply": "2025-01-16T21:18:33.229660Z",
     "shell.execute_reply.started": "2025-01-16T21:18:33.221338Z"
    },
    "trusted": true
   },
   "outputs": [
    {
     "data": {
      "text/plain": [
       "SD\n",
       "5-6 hours            6141\n",
       "7-8 hours            7300\n",
       "Less than 5 hours    8268\n",
       "More than 8 hours    6013\n",
       "Others                 18\n",
       "Name: count, dtype: int64"
      ]
     },
     "execution_count": 293,
     "metadata": {},
     "output_type": "execute_result"
    }
   ],
   "source": [
    "df['SD'].value_counts().sort_index()"
   ]
  },
  {
   "cell_type": "code",
   "execution_count": 294,
   "metadata": {
    "execution": {
     "iopub.execute_input": "2025-01-16T21:18:33.231968Z",
     "iopub.status.busy": "2025-01-16T21:18:33.231563Z",
     "iopub.status.idle": "2025-01-16T21:18:33.256404Z",
     "shell.execute_reply": "2025-01-16T21:18:33.255378Z",
     "shell.execute_reply.started": "2025-01-16T21:18:33.231930Z"
    },
    "trusted": true
   },
   "outputs": [],
   "source": [
    "df.query('SD != \"Others\" ', inplace=True)"
   ]
  },
  {
   "cell_type": "code",
   "execution_count": 295,
   "metadata": {},
   "outputs": [],
   "source": [
    "mapping = {\n",
    "    'Less than 5 hours': 1,\n",
    "    '5-6 hours': 2,\n",
    "    '7-8 hours': 3,\n",
    "    'More than 8 hours': 4\n",
    "}\n",
    "\n",
    "df['SD'] = df['SD'].map(mapping)"
   ]
  },
  {
   "cell_type": "markdown",
   "metadata": {},
   "source": [
    "Dietary Habits"
   ]
  },
  {
   "cell_type": "code",
   "execution_count": 296,
   "metadata": {
    "execution": {
     "iopub.execute_input": "2025-01-16T21:18:33.262199Z",
     "iopub.status.busy": "2025-01-16T21:18:33.261870Z",
     "iopub.status.idle": "2025-01-16T21:18:33.276242Z",
     "shell.execute_reply": "2025-01-16T21:18:33.275031Z",
     "shell.execute_reply.started": "2025-01-16T21:18:33.262172Z"
    },
    "trusted": true
   },
   "outputs": [
    {
     "data": {
      "text/plain": [
       "DH\n",
       "Healthy       7600\n",
       "Moderate      9856\n",
       "Others          12\n",
       "Unhealthy    10254\n",
       "Name: count, dtype: int64"
      ]
     },
     "execution_count": 296,
     "metadata": {},
     "output_type": "execute_result"
    }
   ],
   "source": [
    "df['DH'].value_counts().sort_index()"
   ]
  },
  {
   "cell_type": "code",
   "execution_count": 297,
   "metadata": {
    "execution": {
     "iopub.execute_input": "2025-01-16T21:18:33.278284Z",
     "iopub.status.busy": "2025-01-16T21:18:33.277981Z",
     "iopub.status.idle": "2025-01-16T21:18:33.303871Z",
     "shell.execute_reply": "2025-01-16T21:18:33.302533Z",
     "shell.execute_reply.started": "2025-01-16T21:18:33.278257Z"
    },
    "trusted": true
   },
   "outputs": [],
   "source": [
    "df.query('DH != \"Others\" ', inplace=True)"
   ]
  },
  {
   "cell_type": "code",
   "execution_count": 298,
   "metadata": {},
   "outputs": [],
   "source": [
    "mapping = {\n",
    "    'Healthy': 0,\n",
    "    'Moderate': 1,\n",
    "    'Unhealthy': 3\n",
    "}\n",
    "\n",
    "df['DH'] = df['DH'].map(mapping)"
   ]
  },
  {
   "cell_type": "markdown",
   "metadata": {},
   "source": [
    "Degree"
   ]
  },
  {
   "cell_type": "code",
   "execution_count": 299,
   "metadata": {
    "execution": {
     "iopub.execute_input": "2025-01-16T21:18:33.305382Z",
     "iopub.status.busy": "2025-01-16T21:18:33.305044Z",
     "iopub.status.idle": "2025-01-16T21:18:33.320459Z",
     "shell.execute_reply": "2025-01-16T21:18:33.318870Z",
     "shell.execute_reply.started": "2025-01-16T21:18:33.305355Z"
    },
    "trusted": true
   },
   "outputs": [
    {
     "data": {
      "text/plain": [
       "Degree\n",
       "PhD          514\n",
       "Others        35\n",
       "MSc         1181\n",
       "MHM          190\n",
       "ME           184\n",
       "MD           566\n",
       "MCA         1032\n",
       "MBBS         686\n",
       "MBA          560\n",
       "MA           542\n",
       "M.Tech      1017\n",
       "M.Pharm      578\n",
       "M.Ed         814\n",
       "M.Com        730\n",
       "LLM          480\n",
       "LLB          666\n",
       "Class 12    6044\n",
       "BSc          879\n",
       "BHM          920\n",
       "BE           605\n",
       "BCA         1425\n",
       "BBA          692\n",
       "BA           593\n",
       "B.Tech      1149\n",
       "B.Pharm      807\n",
       "B.Ed        1854\n",
       "B.Com       1496\n",
       "B.Arch      1471\n",
       "Name: count, dtype: int64"
      ]
     },
     "execution_count": 299,
     "metadata": {},
     "output_type": "execute_result"
    }
   ],
   "source": [
    "df['Degree'].value_counts().sort_index(ascending=False)"
   ]
  },
  {
   "cell_type": "markdown",
   "metadata": {},
   "source": [
    "Have you ever had suicidal thoughts ?"
   ]
  },
  {
   "cell_type": "code",
   "execution_count": 300,
   "metadata": {
    "execution": {
     "iopub.execute_input": "2025-01-16T21:18:33.322014Z",
     "iopub.status.busy": "2025-01-16T21:18:33.321588Z",
     "iopub.status.idle": "2025-01-16T21:18:33.341246Z",
     "shell.execute_reply": "2025-01-16T21:18:33.340242Z",
     "shell.execute_reply.started": "2025-01-16T21:18:33.321955Z"
    },
    "trusted": true
   },
   "outputs": [
    {
     "data": {
      "text/plain": [
       "ST\n",
       "No     10170\n",
       "Yes    17540\n",
       "Name: count, dtype: int64"
      ]
     },
     "execution_count": 300,
     "metadata": {},
     "output_type": "execute_result"
    }
   ],
   "source": [
    "df['ST'].value_counts().sort_index()"
   ]
  },
  {
   "cell_type": "code",
   "execution_count": 301,
   "metadata": {},
   "outputs": [],
   "source": [
    "mapping = {\n",
    "    'No':0,\n",
    "    'Yes':1\n",
    "}\n",
    "\n",
    "df['ST'] = df['ST'].map(mapping)"
   ]
  },
  {
   "cell_type": "markdown",
   "metadata": {},
   "source": [
    "Work/Study Hours"
   ]
  },
  {
   "cell_type": "code",
   "execution_count": 302,
   "metadata": {
    "execution": {
     "iopub.execute_input": "2025-01-16T21:18:33.342461Z",
     "iopub.status.busy": "2025-01-16T21:18:33.342188Z",
     "iopub.status.idle": "2025-01-16T21:18:33.363326Z",
     "shell.execute_reply": "2025-01-16T21:18:33.362110Z",
     "shell.execute_reply.started": "2025-01-16T21:18:33.342439Z"
    },
    "trusted": true
   },
   "outputs": [
    {
     "data": {
      "text/plain": [
       "WSH\n",
       "0.0     1686\n",
       "1.0     1140\n",
       "2.0     1573\n",
       "3.0     1458\n",
       "4.0     1600\n",
       "5.0     1283\n",
       "6.0     2234\n",
       "7.0     1987\n",
       "8.0     2499\n",
       "9.0     2012\n",
       "10.0    4216\n",
       "11.0    2876\n",
       "12.0    3146\n",
       "Name: count, dtype: int64"
      ]
     },
     "execution_count": 302,
     "metadata": {},
     "output_type": "execute_result"
    }
   ],
   "source": [
    "df['WSH'].value_counts().sort_index()\n"
   ]
  },
  {
   "cell_type": "markdown",
   "metadata": {},
   "source": [
    "Financial Stress"
   ]
  },
  {
   "cell_type": "code",
   "execution_count": 303,
   "metadata": {
    "execution": {
     "iopub.execute_input": "2025-01-16T21:18:33.364832Z",
     "iopub.status.busy": "2025-01-16T21:18:33.364432Z",
     "iopub.status.idle": "2025-01-16T21:18:33.388292Z",
     "shell.execute_reply": "2025-01-16T21:18:33.387235Z",
     "shell.execute_reply.started": "2025-01-16T21:18:33.364754Z"
    },
    "trusted": true
   },
   "outputs": [
    {
     "data": {
      "text/plain": [
       "FS\n",
       "1.0    5092\n",
       "2.0    5029\n",
       "3.0    5186\n",
       "4.0    5742\n",
       "5.0    6661\n",
       "Name: count, dtype: int64"
      ]
     },
     "execution_count": 303,
     "metadata": {},
     "output_type": "execute_result"
    }
   ],
   "source": [
    "df['FS'].value_counts().sort_index()"
   ]
  },
  {
   "cell_type": "markdown",
   "metadata": {},
   "source": [
    "Family History of Mental Illness"
   ]
  },
  {
   "cell_type": "code",
   "execution_count": 304,
   "metadata": {
    "execution": {
     "iopub.execute_input": "2025-01-16T21:18:33.389583Z",
     "iopub.status.busy": "2025-01-16T21:18:33.389285Z",
     "iopub.status.idle": "2025-01-16T21:18:33.410680Z",
     "shell.execute_reply": "2025-01-16T21:18:33.409527Z",
     "shell.execute_reply.started": "2025-01-16T21:18:33.389549Z"
    },
    "trusted": true
   },
   "outputs": [
    {
     "data": {
      "text/plain": [
       "FHMI\n",
       "No     14301\n",
       "Yes    13409\n",
       "Name: count, dtype: int64"
      ]
     },
     "execution_count": 304,
     "metadata": {},
     "output_type": "execute_result"
    }
   ],
   "source": [
    "df['FHMI'].value_counts().sort_index()"
   ]
  },
  {
   "cell_type": "code",
   "execution_count": 305,
   "metadata": {},
   "outputs": [
    {
     "name": "stderr",
     "output_type": "stream",
     "text": [
      "/tmp/ipykernel_33947/2442579037.py:1: FutureWarning: Downcasting behavior in `replace` is deprecated and will be removed in a future version. To retain the old behavior, explicitly call `result.infer_objects(copy=False)`. To opt-in to the future behavior, set `pd.set_option('future.no_silent_downcasting', True)`\n",
      "  df['FHMI']= df['FHMI'].replace({'No':0,'Yes':1}).astype('int64')\n"
     ]
    }
   ],
   "source": [
    "df['FHMI']= df['FHMI'].replace({'No':0,'Yes':1}).astype('int64')"
   ]
  },
  {
   "cell_type": "markdown",
   "metadata": {},
   "source": [
    "Depression"
   ]
  },
  {
   "cell_type": "code",
   "execution_count": 306,
   "metadata": {
    "execution": {
     "iopub.execute_input": "2025-01-16T21:18:33.412232Z",
     "iopub.status.busy": "2025-01-16T21:18:33.411846Z",
     "iopub.status.idle": "2025-01-16T21:18:33.432071Z",
     "shell.execute_reply": "2025-01-16T21:18:33.431185Z",
     "shell.execute_reply.started": "2025-01-16T21:18:33.412193Z"
    },
    "trusted": true
   },
   "outputs": [
    {
     "data": {
      "text/plain": [
       "Depression\n",
       "0    11475\n",
       "1    16235\n",
       "Name: count, dtype: int64"
      ]
     },
     "execution_count": 306,
     "metadata": {},
     "output_type": "execute_result"
    }
   ],
   "source": [
    "df['Depression'].value_counts().sort_index()"
   ]
  },
  {
   "cell_type": "markdown",
   "metadata": {},
   "source": [
    "Algorithm"
   ]
  },
  {
   "cell_type": "code",
   "execution_count": 307,
   "metadata": {
    "execution": {
     "iopub.execute_input": "2025-01-16T21:18:33.450050Z",
     "iopub.status.busy": "2025-01-16T21:18:33.449764Z",
     "iopub.status.idle": "2025-01-16T21:18:33.504380Z",
     "shell.execute_reply": "2025-01-16T21:18:33.503369Z",
     "shell.execute_reply.started": "2025-01-16T21:18:33.450018Z"
    },
    "trusted": true
   },
   "outputs": [
    {
     "data": {
      "text/html": [
       "<div>\n",
       "<style scoped>\n",
       "    .dataframe tbody tr th:only-of-type {\n",
       "        vertical-align: middle;\n",
       "    }\n",
       "\n",
       "    .dataframe tbody tr th {\n",
       "        vertical-align: top;\n",
       "    }\n",
       "\n",
       "    .dataframe thead th {\n",
       "        text-align: right;\n",
       "    }\n",
       "</style>\n",
       "<table border=\"1\" class=\"dataframe\">\n",
       "  <thead>\n",
       "    <tr style=\"text-align: right;\">\n",
       "      <th></th>\n",
       "      <th>Gender</th>\n",
       "      <th>Age</th>\n",
       "      <th>City</th>\n",
       "      <th>AP</th>\n",
       "      <th>CGPA</th>\n",
       "      <th>SS</th>\n",
       "      <th>SD</th>\n",
       "      <th>DH</th>\n",
       "      <th>Degree</th>\n",
       "      <th>ST</th>\n",
       "      <th>WSH</th>\n",
       "      <th>FS</th>\n",
       "      <th>FHMI</th>\n",
       "      <th>Depression</th>\n",
       "    </tr>\n",
       "  </thead>\n",
       "  <tbody>\n",
       "    <tr>\n",
       "      <th>0</th>\n",
       "      <td>1</td>\n",
       "      <td>33.0</td>\n",
       "      <td>Visakhapatnam</td>\n",
       "      <td>5.0</td>\n",
       "      <td>8.97</td>\n",
       "      <td>2.0</td>\n",
       "      <td>2</td>\n",
       "      <td>0</td>\n",
       "      <td>B.Pharm</td>\n",
       "      <td>1</td>\n",
       "      <td>3.0</td>\n",
       "      <td>1.0</td>\n",
       "      <td>0</td>\n",
       "      <td>1</td>\n",
       "    </tr>\n",
       "    <tr>\n",
       "      <th>1</th>\n",
       "      <td>0</td>\n",
       "      <td>24.0</td>\n",
       "      <td>Bangalore</td>\n",
       "      <td>2.0</td>\n",
       "      <td>5.90</td>\n",
       "      <td>5.0</td>\n",
       "      <td>2</td>\n",
       "      <td>1</td>\n",
       "      <td>BSc</td>\n",
       "      <td>0</td>\n",
       "      <td>3.0</td>\n",
       "      <td>2.0</td>\n",
       "      <td>1</td>\n",
       "      <td>0</td>\n",
       "    </tr>\n",
       "    <tr>\n",
       "      <th>2</th>\n",
       "      <td>1</td>\n",
       "      <td>31.0</td>\n",
       "      <td>Srinagar</td>\n",
       "      <td>3.0</td>\n",
       "      <td>7.03</td>\n",
       "      <td>5.0</td>\n",
       "      <td>1</td>\n",
       "      <td>0</td>\n",
       "      <td>BA</td>\n",
       "      <td>0</td>\n",
       "      <td>9.0</td>\n",
       "      <td>1.0</td>\n",
       "      <td>1</td>\n",
       "      <td>0</td>\n",
       "    </tr>\n",
       "    <tr>\n",
       "      <th>3</th>\n",
       "      <td>0</td>\n",
       "      <td>28.0</td>\n",
       "      <td>Varanasi</td>\n",
       "      <td>3.0</td>\n",
       "      <td>5.59</td>\n",
       "      <td>2.0</td>\n",
       "      <td>3</td>\n",
       "      <td>1</td>\n",
       "      <td>BCA</td>\n",
       "      <td>1</td>\n",
       "      <td>4.0</td>\n",
       "      <td>5.0</td>\n",
       "      <td>1</td>\n",
       "      <td>1</td>\n",
       "    </tr>\n",
       "    <tr>\n",
       "      <th>4</th>\n",
       "      <td>0</td>\n",
       "      <td>25.0</td>\n",
       "      <td>Jaipur</td>\n",
       "      <td>4.0</td>\n",
       "      <td>8.13</td>\n",
       "      <td>3.0</td>\n",
       "      <td>2</td>\n",
       "      <td>1</td>\n",
       "      <td>M.Tech</td>\n",
       "      <td>1</td>\n",
       "      <td>1.0</td>\n",
       "      <td>1.0</td>\n",
       "      <td>0</td>\n",
       "      <td>0</td>\n",
       "    </tr>\n",
       "  </tbody>\n",
       "</table>\n",
       "</div>"
      ],
      "text/plain": [
       "   Gender   Age           City   AP  CGPA   SS  SD  DH   Degree  ST  WSH   FS  \\\n",
       "0       1  33.0  Visakhapatnam  5.0  8.97  2.0   2   0  B.Pharm   1  3.0  1.0   \n",
       "1       0  24.0      Bangalore  2.0  5.90  5.0   2   1      BSc   0  3.0  2.0   \n",
       "2       1  31.0       Srinagar  3.0  7.03  5.0   1   0       BA   0  9.0  1.0   \n",
       "3       0  28.0       Varanasi  3.0  5.59  2.0   3   1      BCA   1  4.0  5.0   \n",
       "4       0  25.0         Jaipur  4.0  8.13  3.0   2   1   M.Tech   1  1.0  1.0   \n",
       "\n",
       "   FHMI  Depression  \n",
       "0     0           1  \n",
       "1     1           0  \n",
       "2     1           0  \n",
       "3     1           1  \n",
       "4     0           0  "
      ]
     },
     "execution_count": 307,
     "metadata": {},
     "output_type": "execute_result"
    }
   ],
   "source": [
    "df.head()"
   ]
  },
  {
   "cell_type": "code",
   "execution_count": 308,
   "metadata": {},
   "outputs": [
    {
     "name": "stdout",
     "output_type": "stream",
     "text": [
      "<class 'pandas.core.frame.DataFrame'>\n",
      "Index: 27710 entries, 0 to 27900\n",
      "Data columns (total 14 columns):\n",
      " #   Column      Non-Null Count  Dtype  \n",
      "---  ------      --------------  -----  \n",
      " 0   Gender      27710 non-null  int64  \n",
      " 1   Age         27710 non-null  float64\n",
      " 2   City        27710 non-null  object \n",
      " 3   AP          27710 non-null  float64\n",
      " 4   CGPA        27710 non-null  float64\n",
      " 5   SS          27710 non-null  float64\n",
      " 6   SD          27710 non-null  int64  \n",
      " 7   DH          27710 non-null  int64  \n",
      " 8   Degree      27710 non-null  object \n",
      " 9   ST          27710 non-null  int64  \n",
      " 10  WSH         27710 non-null  float64\n",
      " 11  FS          27710 non-null  float64\n",
      " 12  FHMI        27710 non-null  int64  \n",
      " 13  Depression  27710 non-null  int64  \n",
      "dtypes: float64(6), int64(6), object(2)\n",
      "memory usage: 3.2+ MB\n"
     ]
    }
   ],
   "source": [
    "df.info()"
   ]
  },
  {
   "cell_type": "code",
   "execution_count": 309,
   "metadata": {
    "execution": {
     "iopub.execute_input": "2025-01-16T21:18:33.505872Z",
     "iopub.status.busy": "2025-01-16T21:18:33.505469Z",
     "iopub.status.idle": "2025-01-16T21:18:33.675377Z",
     "shell.execute_reply": "2025-01-16T21:18:33.674370Z",
     "shell.execute_reply.started": "2025-01-16T21:18:33.505821Z"
    },
    "trusted": true
   },
   "outputs": [],
   "source": [
    "df_dummies = pd.get_dummies(df, columns=['City'], dtype=int, drop_first=True)"
   ]
  },
  {
   "cell_type": "code",
   "execution_count": 310,
   "metadata": {},
   "outputs": [
    {
     "name": "stdout",
     "output_type": "stream",
     "text": [
      "<class 'pandas.core.frame.DataFrame'>\n",
      "Index: 27710 entries, 0 to 27900\n",
      "Data columns (total 42 columns):\n",
      " #   Column              Non-Null Count  Dtype  \n",
      "---  ------              --------------  -----  \n",
      " 0   Gender              27710 non-null  int64  \n",
      " 1   Age                 27710 non-null  float64\n",
      " 2   AP                  27710 non-null  float64\n",
      " 3   CGPA                27710 non-null  float64\n",
      " 4   SS                  27710 non-null  float64\n",
      " 5   SD                  27710 non-null  int64  \n",
      " 6   DH                  27710 non-null  int64  \n",
      " 7   Degree              27710 non-null  object \n",
      " 8   ST                  27710 non-null  int64  \n",
      " 9   WSH                 27710 non-null  float64\n",
      " 10  FS                  27710 non-null  float64\n",
      " 11  FHMI                27710 non-null  int64  \n",
      " 12  Depression          27710 non-null  int64  \n",
      " 13  City_Ahmedabad      27710 non-null  int64  \n",
      " 14  City_Bangalore      27710 non-null  int64  \n",
      " 15  City_Bhopal         27710 non-null  int64  \n",
      " 16  City_Chennai        27710 non-null  int64  \n",
      " 17  City_Delhi          27710 non-null  int64  \n",
      " 18  City_Faridabad      27710 non-null  int64  \n",
      " 19  City_Ghaziabad      27710 non-null  int64  \n",
      " 20  City_Hyderabad      27710 non-null  int64  \n",
      " 21  City_Indore         27710 non-null  int64  \n",
      " 22  City_Jaipur         27710 non-null  int64  \n",
      " 23  City_Kalyan         27710 non-null  int64  \n",
      " 24  City_Kanpur         27710 non-null  int64  \n",
      " 25  City_Kolkata        27710 non-null  int64  \n",
      " 26  City_Lucknow        27710 non-null  int64  \n",
      " 27  City_Ludhiana       27710 non-null  int64  \n",
      " 28  City_Meerut         27710 non-null  int64  \n",
      " 29  City_Mumbai         27710 non-null  int64  \n",
      " 30  City_Nagpur         27710 non-null  int64  \n",
      " 31  City_Nashik         27710 non-null  int64  \n",
      " 32  City_Patna          27710 non-null  int64  \n",
      " 33  City_Pune           27710 non-null  int64  \n",
      " 34  City_Rajkot         27710 non-null  int64  \n",
      " 35  City_Srinagar       27710 non-null  int64  \n",
      " 36  City_Surat          27710 non-null  int64  \n",
      " 37  City_Thane          27710 non-null  int64  \n",
      " 38  City_Vadodara       27710 non-null  int64  \n",
      " 39  City_Varanasi       27710 non-null  int64  \n",
      " 40  City_Vasai-Virar    27710 non-null  int64  \n",
      " 41  City_Visakhapatnam  27710 non-null  int64  \n",
      "dtypes: float64(6), int64(35), object(1)\n",
      "memory usage: 9.1+ MB\n"
     ]
    }
   ],
   "source": [
    "df_dummies.info()"
   ]
  },
  {
   "cell_type": "markdown",
   "metadata": {},
   "source": [
    "Model"
   ]
  },
  {
   "cell_type": "code",
   "execution_count": 311,
   "metadata": {
    "execution": {
     "iopub.execute_input": "2025-01-16T21:18:33.676967Z",
     "iopub.status.busy": "2025-01-16T21:18:33.676456Z",
     "iopub.status.idle": "2025-01-16T21:18:33.730922Z",
     "shell.execute_reply": "2025-01-16T21:18:33.729771Z",
     "shell.execute_reply.started": "2025-01-16T21:18:33.676811Z"
    },
    "trusted": true
   },
   "outputs": [],
   "source": [
    "df_dummies.columns = df_dummies.columns.str.replace('-', '_', regex=True)\n",
    "\n",
    "list_colums_dummies = list(df_dummies.drop(columns=['Depression']).columns)\n",
    "formula_dummies_model = ' + '.join(list_colums_dummies)\n",
    "formula_dummies_model = 'Depression ~ ' + formula_dummies_model"
   ]
  },
  {
   "cell_type": "code",
   "execution_count": 318,
   "metadata": {},
   "outputs": [
    {
     "data": {
      "text/plain": [
       "(27710, 43)"
      ]
     },
     "execution_count": 318,
     "metadata": {},
     "output_type": "execute_result"
    }
   ],
   "source": [
    "df_dummies.shape"
   ]
  },
  {
   "cell_type": "code",
   "execution_count": 312,
   "metadata": {
    "execution": {
     "iopub.execute_input": "2025-01-16T21:18:33.732307Z",
     "iopub.status.busy": "2025-01-16T21:18:33.732031Z",
     "iopub.status.idle": "2025-01-16T21:18:47.049729Z",
     "shell.execute_reply": "2025-01-16T21:18:47.048676Z",
     "shell.execute_reply.started": "2025-01-16T21:18:33.732283Z"
    },
    "trusted": true
   },
   "outputs": [
    {
     "name": "stdout",
     "output_type": "stream",
     "text": [
      "Optimization terminated successfully.\n",
      "         Current function value: 0.347102\n",
      "         Iterations 7\n"
     ]
    },
    {
     "data": {
      "text/html": [
       "<table class=\"simpletable\">\n",
       "<caption>Logit Regression Results</caption>\n",
       "<tr>\n",
       "  <th>Dep. Variable:</th>      <td>Depression</td>    <th>  No. Observations:  </th>  <td> 27710</td> \n",
       "</tr>\n",
       "<tr>\n",
       "  <th>Model:</th>                 <td>Logit</td>      <th>  Df Residuals:      </th>  <td> 27642</td> \n",
       "</tr>\n",
       "<tr>\n",
       "  <th>Method:</th>                 <td>MLE</td>       <th>  Df Model:          </th>  <td>    67</td> \n",
       "</tr>\n",
       "<tr>\n",
       "  <th>Date:</th>            <td>sáb, 01 fev 2025</td> <th>  Pseudo R-squ.:     </th>  <td>0.4883</td> \n",
       "</tr>\n",
       "<tr>\n",
       "  <th>Time:</th>                <td>16:11:30</td>     <th>  Log-Likelihood:    </th> <td> -9618.2</td>\n",
       "</tr>\n",
       "<tr>\n",
       "  <th>converged:</th>             <td>True</td>       <th>  LL-Null:           </th> <td> -18796.</td>\n",
       "</tr>\n",
       "<tr>\n",
       "  <th>Covariance Type:</th>     <td>nonrobust</td>    <th>  LLR p-value:       </th>  <td> 0.000</td> \n",
       "</tr>\n",
       "</table>\n",
       "<table class=\"simpletable\">\n",
       "<tr>\n",
       "           <td></td>             <th>coef</th>     <th>std err</th>      <th>z</th>      <th>P>|z|</th>  <th>[0.025</th>    <th>0.975]</th>  \n",
       "</tr>\n",
       "<tr>\n",
       "  <th>Intercept</th>          <td>   -3.2254</td> <td>    0.223</td> <td>  -14.477</td> <td> 0.000</td> <td>   -3.662</td> <td>   -2.789</td>\n",
       "</tr>\n",
       "<tr>\n",
       "  <th>Degree[T.B.Com]</th>    <td>   -0.1257</td> <td>    0.115</td> <td>   -1.089</td> <td> 0.276</td> <td>   -0.352</td> <td>    0.100</td>\n",
       "</tr>\n",
       "<tr>\n",
       "  <th>Degree[T.B.Ed]</th>     <td>   -0.0300</td> <td>    0.110</td> <td>   -0.272</td> <td> 0.786</td> <td>   -0.246</td> <td>    0.186</td>\n",
       "</tr>\n",
       "<tr>\n",
       "  <th>Degree[T.B.Pharm]</th>  <td>   -0.0939</td> <td>    0.134</td> <td>   -0.700</td> <td> 0.484</td> <td>   -0.357</td> <td>    0.169</td>\n",
       "</tr>\n",
       "<tr>\n",
       "  <th>Degree[T.B.Tech]</th>   <td>    0.0809</td> <td>    0.123</td> <td>    0.658</td> <td> 0.510</td> <td>   -0.160</td> <td>    0.322</td>\n",
       "</tr>\n",
       "<tr>\n",
       "  <th>Degree[T.BA]</th>       <td>   -0.2035</td> <td>    0.144</td> <td>   -1.408</td> <td> 0.159</td> <td>   -0.487</td> <td>    0.080</td>\n",
       "</tr>\n",
       "<tr>\n",
       "  <th>Degree[T.BBA]</th>      <td>    0.0315</td> <td>    0.140</td> <td>    0.225</td> <td> 0.822</td> <td>   -0.243</td> <td>    0.306</td>\n",
       "</tr>\n",
       "<tr>\n",
       "  <th>Degree[T.BCA]</th>      <td>   -0.0501</td> <td>    0.115</td> <td>   -0.437</td> <td> 0.662</td> <td>   -0.275</td> <td>    0.174</td>\n",
       "</tr>\n",
       "<tr>\n",
       "  <th>Degree[T.BE]</th>       <td>    0.0181</td> <td>    0.143</td> <td>    0.127</td> <td> 0.899</td> <td>   -0.262</td> <td>    0.299</td>\n",
       "</tr>\n",
       "<tr>\n",
       "  <th>Degree[T.BHM]</th>      <td>   -0.1282</td> <td>    0.130</td> <td>   -0.985</td> <td> 0.325</td> <td>   -0.383</td> <td>    0.127</td>\n",
       "</tr>\n",
       "<tr>\n",
       "  <th>Degree[T.BSc]</th>      <td>    0.1303</td> <td>    0.132</td> <td>    0.986</td> <td> 0.324</td> <td>   -0.129</td> <td>    0.389</td>\n",
       "</tr>\n",
       "<tr>\n",
       "  <th>Degree[T.Class 12]</th> <td>   -0.2051</td> <td>    0.096</td> <td>   -2.127</td> <td> 0.033</td> <td>   -0.394</td> <td>   -0.016</td>\n",
       "</tr>\n",
       "<tr>\n",
       "  <th>Degree[T.LLB]</th>      <td>    0.1537</td> <td>    0.141</td> <td>    1.086</td> <td> 0.277</td> <td>   -0.124</td> <td>    0.431</td>\n",
       "</tr>\n",
       "<tr>\n",
       "  <th>Degree[T.LLM]</th>      <td>    0.2766</td> <td>    0.160</td> <td>    1.731</td> <td> 0.083</td> <td>   -0.037</td> <td>    0.590</td>\n",
       "</tr>\n",
       "<tr>\n",
       "  <th>Degree[T.M.Com]</th>    <td>   -0.0341</td> <td>    0.140</td> <td>   -0.244</td> <td> 0.807</td> <td>   -0.308</td> <td>    0.240</td>\n",
       "</tr>\n",
       "<tr>\n",
       "  <th>Degree[T.M.Ed]</th>     <td>    0.0677</td> <td>    0.136</td> <td>    0.498</td> <td> 0.619</td> <td>   -0.199</td> <td>    0.334</td>\n",
       "</tr>\n",
       "<tr>\n",
       "  <th>Degree[T.M.Pharm]</th>  <td>   -0.0190</td> <td>    0.150</td> <td>   -0.126</td> <td> 0.899</td> <td>   -0.313</td> <td>    0.275</td>\n",
       "</tr>\n",
       "<tr>\n",
       "  <th>Degree[T.M.Tech]</th>   <td>   -0.1123</td> <td>    0.127</td> <td>   -0.885</td> <td> 0.376</td> <td>   -0.361</td> <td>    0.137</td>\n",
       "</tr>\n",
       "<tr>\n",
       "  <th>Degree[T.MA]</th>       <td>   -0.1231</td> <td>    0.150</td> <td>   -0.820</td> <td> 0.412</td> <td>   -0.417</td> <td>    0.171</td>\n",
       "</tr>\n",
       "<tr>\n",
       "  <th>Degree[T.MBA]</th>      <td>   -0.1788</td> <td>    0.149</td> <td>   -1.200</td> <td> 0.230</td> <td>   -0.471</td> <td>    0.113</td>\n",
       "</tr>\n",
       "<tr>\n",
       "  <th>Degree[T.MBBS]</th>     <td>    0.1336</td> <td>    0.141</td> <td>    0.948</td> <td> 0.343</td> <td>   -0.143</td> <td>    0.410</td>\n",
       "</tr>\n",
       "<tr>\n",
       "  <th>Degree[T.MCA]</th>      <td>    0.0546</td> <td>    0.125</td> <td>    0.436</td> <td> 0.663</td> <td>   -0.191</td> <td>    0.300</td>\n",
       "</tr>\n",
       "<tr>\n",
       "  <th>Degree[T.MD]</th>       <td>    0.0486</td> <td>    0.151</td> <td>    0.322</td> <td> 0.747</td> <td>   -0.247</td> <td>    0.344</td>\n",
       "</tr>\n",
       "<tr>\n",
       "  <th>Degree[T.ME]</th>       <td>   -0.1111</td> <td>    0.232</td> <td>   -0.479</td> <td> 0.632</td> <td>   -0.566</td> <td>    0.343</td>\n",
       "</tr>\n",
       "<tr>\n",
       "  <th>Degree[T.MHM]</th>      <td>    0.0172</td> <td>    0.223</td> <td>    0.077</td> <td> 0.938</td> <td>   -0.420</td> <td>    0.454</td>\n",
       "</tr>\n",
       "<tr>\n",
       "  <th>Degree[T.MSc]</th>      <td>   -0.1438</td> <td>    0.120</td> <td>   -1.196</td> <td> 0.232</td> <td>   -0.380</td> <td>    0.092</td>\n",
       "</tr>\n",
       "<tr>\n",
       "  <th>Degree[T.Others]</th>   <td>    0.5241</td> <td>    0.485</td> <td>    1.080</td> <td> 0.280</td> <td>   -0.427</td> <td>    1.475</td>\n",
       "</tr>\n",
       "<tr>\n",
       "  <th>Degree[T.PhD]</th>      <td>    0.1449</td> <td>    0.156</td> <td>    0.929</td> <td> 0.353</td> <td>   -0.161</td> <td>    0.451</td>\n",
       "</tr>\n",
       "<tr>\n",
       "  <th>Gender</th>             <td>   -0.0102</td> <td>    0.037</td> <td>   -0.274</td> <td> 0.784</td> <td>   -0.083</td> <td>    0.063</td>\n",
       "</tr>\n",
       "<tr>\n",
       "  <th>Age</th>                <td>   -0.1211</td> <td>    0.005</td> <td>  -23.980</td> <td> 0.000</td> <td>   -0.131</td> <td>   -0.111</td>\n",
       "</tr>\n",
       "<tr>\n",
       "  <th>AP</th>                 <td>    0.8413</td> <td>    0.015</td> <td>   55.858</td> <td> 0.000</td> <td>    0.812</td> <td>    0.871</td>\n",
       "</tr>\n",
       "<tr>\n",
       "  <th>CGPA</th>               <td>    0.0571</td> <td>    0.013</td> <td>    4.525</td> <td> 0.000</td> <td>    0.032</td> <td>    0.082</td>\n",
       "</tr>\n",
       "<tr>\n",
       "  <th>SS</th>                 <td>   -0.2432</td> <td>    0.014</td> <td>  -17.730</td> <td> 0.000</td> <td>   -0.270</td> <td>   -0.216</td>\n",
       "</tr>\n",
       "<tr>\n",
       "  <th>SD</th>                 <td>   -0.1900</td> <td>    0.016</td> <td>  -11.567</td> <td> 0.000</td> <td>   -0.222</td> <td>   -0.158</td>\n",
       "</tr>\n",
       "<tr>\n",
       "  <th>DH</th>                 <td>    0.3572</td> <td>    0.015</td> <td>   23.588</td> <td> 0.000</td> <td>    0.328</td> <td>    0.387</td>\n",
       "</tr>\n",
       "<tr>\n",
       "  <th>ST</th>                 <td>    2.5287</td> <td>    0.039</td> <td>   64.045</td> <td> 0.000</td> <td>    2.451</td> <td>    2.606</td>\n",
       "</tr>\n",
       "<tr>\n",
       "  <th>WSH</th>                <td>    0.1179</td> <td>    0.005</td> <td>   23.542</td> <td> 0.000</td> <td>    0.108</td> <td>    0.128</td>\n",
       "</tr>\n",
       "<tr>\n",
       "  <th>FS</th>                 <td>    0.5532</td> <td>    0.013</td> <td>   41.200</td> <td> 0.000</td> <td>    0.527</td> <td>    0.580</td>\n",
       "</tr>\n",
       "<tr>\n",
       "  <th>FHMI</th>               <td>    0.2506</td> <td>    0.037</td> <td>    6.826</td> <td> 0.000</td> <td>    0.179</td> <td>    0.323</td>\n",
       "</tr>\n",
       "<tr>\n",
       "  <th>City_Ahmedabad</th>     <td>    0.5591</td> <td>    0.135</td> <td>    4.148</td> <td> 0.000</td> <td>    0.295</td> <td>    0.823</td>\n",
       "</tr>\n",
       "<tr>\n",
       "  <th>City_Bangalore</th>     <td>    0.3402</td> <td>    0.143</td> <td>    2.386</td> <td> 0.017</td> <td>    0.061</td> <td>    0.620</td>\n",
       "</tr>\n",
       "<tr>\n",
       "  <th>City_Bhopal</th>        <td>    0.4222</td> <td>    0.133</td> <td>    3.164</td> <td> 0.002</td> <td>    0.161</td> <td>    0.684</td>\n",
       "</tr>\n",
       "<tr>\n",
       "  <th>City_Chennai</th>       <td>    0.1787</td> <td>    0.136</td> <td>    1.313</td> <td> 0.189</td> <td>   -0.088</td> <td>    0.445</td>\n",
       "</tr>\n",
       "<tr>\n",
       "  <th>City_Delhi</th>         <td>    0.3235</td> <td>    0.142</td> <td>    2.272</td> <td> 0.023</td> <td>    0.044</td> <td>    0.603</td>\n",
       "</tr>\n",
       "<tr>\n",
       "  <th>City_Faridabad</th>     <td>    0.4041</td> <td>    0.166</td> <td>    2.434</td> <td> 0.015</td> <td>    0.079</td> <td>    0.729</td>\n",
       "</tr>\n",
       "<tr>\n",
       "  <th>City_Ghaziabad</th>     <td>    0.2744</td> <td>    0.145</td> <td>    1.887</td> <td> 0.059</td> <td>   -0.011</td> <td>    0.560</td>\n",
       "</tr>\n",
       "<tr>\n",
       "  <th>City_Hyderabad</th>     <td>    0.5320</td> <td>    0.123</td> <td>    4.321</td> <td> 0.000</td> <td>    0.291</td> <td>    0.773</td>\n",
       "</tr>\n",
       "<tr>\n",
       "  <th>City_Indore</th>        <td>    0.2929</td> <td>    0.148</td> <td>    1.975</td> <td> 0.048</td> <td>    0.002</td> <td>    0.583</td>\n",
       "</tr>\n",
       "<tr>\n",
       "  <th>City_Jaipur</th>        <td>    0.0149</td> <td>    0.130</td> <td>    0.115</td> <td> 0.908</td> <td>   -0.239</td> <td>    0.269</td>\n",
       "</tr>\n",
       "<tr>\n",
       "  <th>City_Kalyan</th>        <td>    0.3349</td> <td>    0.119</td> <td>    2.805</td> <td> 0.005</td> <td>    0.101</td> <td>    0.569</td>\n",
       "</tr>\n",
       "<tr>\n",
       "  <th>City_Kanpur</th>        <td>    0.2790</td> <td>    0.151</td> <td>    1.850</td> <td> 0.064</td> <td>   -0.017</td> <td>    0.575</td>\n",
       "</tr>\n",
       "<tr>\n",
       "  <th>City_Kolkata</th>       <td>    0.4491</td> <td>    0.133</td> <td>    3.383</td> <td> 0.001</td> <td>    0.189</td> <td>    0.709</td>\n",
       "</tr>\n",
       "<tr>\n",
       "  <th>City_Lucknow</th>       <td>    0.1782</td> <td>    0.128</td> <td>    1.398</td> <td> 0.162</td> <td>   -0.072</td> <td>    0.428</td>\n",
       "</tr>\n",
       "<tr>\n",
       "  <th>City_Ludhiana</th>      <td>    0.3227</td> <td>    0.129</td> <td>    2.510</td> <td> 0.012</td> <td>    0.071</td> <td>    0.575</td>\n",
       "</tr>\n",
       "<tr>\n",
       "  <th>City_Meerut</th>        <td>    0.4351</td> <td>    0.140</td> <td>    3.109</td> <td> 0.002</td> <td>    0.161</td> <td>    0.709</td>\n",
       "</tr>\n",
       "<tr>\n",
       "  <th>City_Mumbai</th>        <td>   -0.0242</td> <td>    0.146</td> <td>   -0.166</td> <td> 0.868</td> <td>   -0.310</td> <td>    0.262</td>\n",
       "</tr>\n",
       "<tr>\n",
       "  <th>City_Nagpur</th>        <td>   -0.0698</td> <td>    0.147</td> <td>   -0.474</td> <td> 0.635</td> <td>   -0.358</td> <td>    0.218</td>\n",
       "</tr>\n",
       "<tr>\n",
       "  <th>City_Nashik</th>        <td>    0.3228</td> <td>    0.156</td> <td>    2.071</td> <td> 0.038</td> <td>    0.017</td> <td>    0.628</td>\n",
       "</tr>\n",
       "<tr>\n",
       "  <th>City_Patna</th>         <td>    0.4401</td> <td>    0.131</td> <td>    3.358</td> <td> 0.001</td> <td>    0.183</td> <td>    0.697</td>\n",
       "</tr>\n",
       "<tr>\n",
       "  <th>City_Pune</th>          <td>    0.1772</td> <td>    0.132</td> <td>    1.344</td> <td> 0.179</td> <td>   -0.081</td> <td>    0.436</td>\n",
       "</tr>\n",
       "<tr>\n",
       "  <th>City_Rajkot</th>        <td>    0.3101</td> <td>    0.138</td> <td>    2.244</td> <td> 0.025</td> <td>    0.039</td> <td>    0.581</td>\n",
       "</tr>\n",
       "<tr>\n",
       "  <th>City_Srinagar</th>      <td>    0.2156</td> <td>    0.121</td> <td>    1.786</td> <td> 0.074</td> <td>   -0.021</td> <td>    0.452</td>\n",
       "</tr>\n",
       "<tr>\n",
       "  <th>City_Surat</th>         <td>    0.2731</td> <td>    0.131</td> <td>    2.077</td> <td> 0.038</td> <td>    0.015</td> <td>    0.531</td>\n",
       "</tr>\n",
       "<tr>\n",
       "  <th>City_Thane</th>         <td>    0.3757</td> <td>    0.128</td> <td>    2.936</td> <td> 0.003</td> <td>    0.125</td> <td>    0.626</td>\n",
       "</tr>\n",
       "<tr>\n",
       "  <th>City_Vadodara</th>      <td>    0.2176</td> <td>    0.144</td> <td>    1.512</td> <td> 0.130</td> <td>   -0.064</td> <td>    0.500</td>\n",
       "</tr>\n",
       "<tr>\n",
       "  <th>City_Varanasi</th>      <td>    0.0541</td> <td>    0.148</td> <td>    0.365</td> <td> 0.715</td> <td>   -0.237</td> <td>    0.345</td>\n",
       "</tr>\n",
       "<tr>\n",
       "  <th>City_Vasai_Virar</th>   <td>    0.2246</td> <td>    0.124</td> <td>    1.806</td> <td> 0.071</td> <td>   -0.019</td> <td>    0.468</td>\n",
       "</tr>\n",
       "<tr>\n",
       "  <th>City_Visakhapatnam</th> <td>    0.3003</td> <td>    0.133</td> <td>    2.252</td> <td> 0.024</td> <td>    0.039</td> <td>    0.562</td>\n",
       "</tr>\n",
       "</table>"
      ],
      "text/latex": [
       "\\begin{center}\n",
       "\\begin{tabular}{lclc}\n",
       "\\toprule\n",
       "\\textbf{Dep. Variable:}      &    Depression    & \\textbf{  No. Observations:  } &    27710    \\\\\n",
       "\\textbf{Model:}              &      Logit       & \\textbf{  Df Residuals:      } &    27642    \\\\\n",
       "\\textbf{Method:}             &       MLE        & \\textbf{  Df Model:          } &       67    \\\\\n",
       "\\textbf{Date:}               & sáb, 01 fev 2025 & \\textbf{  Pseudo R-squ.:     } &   0.4883    \\\\\n",
       "\\textbf{Time:}               &     16:11:30     & \\textbf{  Log-Likelihood:    } &   -9618.2   \\\\\n",
       "\\textbf{converged:}          &       True       & \\textbf{  LL-Null:           } &   -18796.   \\\\\n",
       "\\textbf{Covariance Type:}    &    nonrobust     & \\textbf{  LLR p-value:       } &    0.000    \\\\\n",
       "\\bottomrule\n",
       "\\end{tabular}\n",
       "\\begin{tabular}{lcccccc}\n",
       "                             & \\textbf{coef} & \\textbf{std err} & \\textbf{z} & \\textbf{P$> |$z$|$} & \\textbf{[0.025} & \\textbf{0.975]}  \\\\\n",
       "\\midrule\n",
       "\\textbf{Intercept}           &      -3.2254  &        0.223     &   -14.477  &         0.000        &       -3.662    &       -2.789     \\\\\n",
       "\\textbf{Degree[T.B.Com]}     &      -0.1257  &        0.115     &    -1.089  &         0.276        &       -0.352    &        0.100     \\\\\n",
       "\\textbf{Degree[T.B.Ed]}      &      -0.0300  &        0.110     &    -0.272  &         0.786        &       -0.246    &        0.186     \\\\\n",
       "\\textbf{Degree[T.B.Pharm]}   &      -0.0939  &        0.134     &    -0.700  &         0.484        &       -0.357    &        0.169     \\\\\n",
       "\\textbf{Degree[T.B.Tech]}    &       0.0809  &        0.123     &     0.658  &         0.510        &       -0.160    &        0.322     \\\\\n",
       "\\textbf{Degree[T.BA]}        &      -0.2035  &        0.144     &    -1.408  &         0.159        &       -0.487    &        0.080     \\\\\n",
       "\\textbf{Degree[T.BBA]}       &       0.0315  &        0.140     &     0.225  &         0.822        &       -0.243    &        0.306     \\\\\n",
       "\\textbf{Degree[T.BCA]}       &      -0.0501  &        0.115     &    -0.437  &         0.662        &       -0.275    &        0.174     \\\\\n",
       "\\textbf{Degree[T.BE]}        &       0.0181  &        0.143     &     0.127  &         0.899        &       -0.262    &        0.299     \\\\\n",
       "\\textbf{Degree[T.BHM]}       &      -0.1282  &        0.130     &    -0.985  &         0.325        &       -0.383    &        0.127     \\\\\n",
       "\\textbf{Degree[T.BSc]}       &       0.1303  &        0.132     &     0.986  &         0.324        &       -0.129    &        0.389     \\\\\n",
       "\\textbf{Degree[T.Class 12]}  &      -0.2051  &        0.096     &    -2.127  &         0.033        &       -0.394    &       -0.016     \\\\\n",
       "\\textbf{Degree[T.LLB]}       &       0.1537  &        0.141     &     1.086  &         0.277        &       -0.124    &        0.431     \\\\\n",
       "\\textbf{Degree[T.LLM]}       &       0.2766  &        0.160     &     1.731  &         0.083        &       -0.037    &        0.590     \\\\\n",
       "\\textbf{Degree[T.M.Com]}     &      -0.0341  &        0.140     &    -0.244  &         0.807        &       -0.308    &        0.240     \\\\\n",
       "\\textbf{Degree[T.M.Ed]}      &       0.0677  &        0.136     &     0.498  &         0.619        &       -0.199    &        0.334     \\\\\n",
       "\\textbf{Degree[T.M.Pharm]}   &      -0.0190  &        0.150     &    -0.126  &         0.899        &       -0.313    &        0.275     \\\\\n",
       "\\textbf{Degree[T.M.Tech]}    &      -0.1123  &        0.127     &    -0.885  &         0.376        &       -0.361    &        0.137     \\\\\n",
       "\\textbf{Degree[T.MA]}        &      -0.1231  &        0.150     &    -0.820  &         0.412        &       -0.417    &        0.171     \\\\\n",
       "\\textbf{Degree[T.MBA]}       &      -0.1788  &        0.149     &    -1.200  &         0.230        &       -0.471    &        0.113     \\\\\n",
       "\\textbf{Degree[T.MBBS]}      &       0.1336  &        0.141     &     0.948  &         0.343        &       -0.143    &        0.410     \\\\\n",
       "\\textbf{Degree[T.MCA]}       &       0.0546  &        0.125     &     0.436  &         0.663        &       -0.191    &        0.300     \\\\\n",
       "\\textbf{Degree[T.MD]}        &       0.0486  &        0.151     &     0.322  &         0.747        &       -0.247    &        0.344     \\\\\n",
       "\\textbf{Degree[T.ME]}        &      -0.1111  &        0.232     &    -0.479  &         0.632        &       -0.566    &        0.343     \\\\\n",
       "\\textbf{Degree[T.MHM]}       &       0.0172  &        0.223     &     0.077  &         0.938        &       -0.420    &        0.454     \\\\\n",
       "\\textbf{Degree[T.MSc]}       &      -0.1438  &        0.120     &    -1.196  &         0.232        &       -0.380    &        0.092     \\\\\n",
       "\\textbf{Degree[T.Others]}    &       0.5241  &        0.485     &     1.080  &         0.280        &       -0.427    &        1.475     \\\\\n",
       "\\textbf{Degree[T.PhD]}       &       0.1449  &        0.156     &     0.929  &         0.353        &       -0.161    &        0.451     \\\\\n",
       "\\textbf{Gender}              &      -0.0102  &        0.037     &    -0.274  &         0.784        &       -0.083    &        0.063     \\\\\n",
       "\\textbf{Age}                 &      -0.1211  &        0.005     &   -23.980  &         0.000        &       -0.131    &       -0.111     \\\\\n",
       "\\textbf{AP}                  &       0.8413  &        0.015     &    55.858  &         0.000        &        0.812    &        0.871     \\\\\n",
       "\\textbf{CGPA}                &       0.0571  &        0.013     &     4.525  &         0.000        &        0.032    &        0.082     \\\\\n",
       "\\textbf{SS}                  &      -0.2432  &        0.014     &   -17.730  &         0.000        &       -0.270    &       -0.216     \\\\\n",
       "\\textbf{SD}                  &      -0.1900  &        0.016     &   -11.567  &         0.000        &       -0.222    &       -0.158     \\\\\n",
       "\\textbf{DH}                  &       0.3572  &        0.015     &    23.588  &         0.000        &        0.328    &        0.387     \\\\\n",
       "\\textbf{ST}                  &       2.5287  &        0.039     &    64.045  &         0.000        &        2.451    &        2.606     \\\\\n",
       "\\textbf{WSH}                 &       0.1179  &        0.005     &    23.542  &         0.000        &        0.108    &        0.128     \\\\\n",
       "\\textbf{FS}                  &       0.5532  &        0.013     &    41.200  &         0.000        &        0.527    &        0.580     \\\\\n",
       "\\textbf{FHMI}                &       0.2506  &        0.037     &     6.826  &         0.000        &        0.179    &        0.323     \\\\\n",
       "\\textbf{City\\_Ahmedabad}     &       0.5591  &        0.135     &     4.148  &         0.000        &        0.295    &        0.823     \\\\\n",
       "\\textbf{City\\_Bangalore}     &       0.3402  &        0.143     &     2.386  &         0.017        &        0.061    &        0.620     \\\\\n",
       "\\textbf{City\\_Bhopal}        &       0.4222  &        0.133     &     3.164  &         0.002        &        0.161    &        0.684     \\\\\n",
       "\\textbf{City\\_Chennai}       &       0.1787  &        0.136     &     1.313  &         0.189        &       -0.088    &        0.445     \\\\\n",
       "\\textbf{City\\_Delhi}         &       0.3235  &        0.142     &     2.272  &         0.023        &        0.044    &        0.603     \\\\\n",
       "\\textbf{City\\_Faridabad}     &       0.4041  &        0.166     &     2.434  &         0.015        &        0.079    &        0.729     \\\\\n",
       "\\textbf{City\\_Ghaziabad}     &       0.2744  &        0.145     &     1.887  &         0.059        &       -0.011    &        0.560     \\\\\n",
       "\\textbf{City\\_Hyderabad}     &       0.5320  &        0.123     &     4.321  &         0.000        &        0.291    &        0.773     \\\\\n",
       "\\textbf{City\\_Indore}        &       0.2929  &        0.148     &     1.975  &         0.048        &        0.002    &        0.583     \\\\\n",
       "\\textbf{City\\_Jaipur}        &       0.0149  &        0.130     &     0.115  &         0.908        &       -0.239    &        0.269     \\\\\n",
       "\\textbf{City\\_Kalyan}        &       0.3349  &        0.119     &     2.805  &         0.005        &        0.101    &        0.569     \\\\\n",
       "\\textbf{City\\_Kanpur}        &       0.2790  &        0.151     &     1.850  &         0.064        &       -0.017    &        0.575     \\\\\n",
       "\\textbf{City\\_Kolkata}       &       0.4491  &        0.133     &     3.383  &         0.001        &        0.189    &        0.709     \\\\\n",
       "\\textbf{City\\_Lucknow}       &       0.1782  &        0.128     &     1.398  &         0.162        &       -0.072    &        0.428     \\\\\n",
       "\\textbf{City\\_Ludhiana}      &       0.3227  &        0.129     &     2.510  &         0.012        &        0.071    &        0.575     \\\\\n",
       "\\textbf{City\\_Meerut}        &       0.4351  &        0.140     &     3.109  &         0.002        &        0.161    &        0.709     \\\\\n",
       "\\textbf{City\\_Mumbai}        &      -0.0242  &        0.146     &    -0.166  &         0.868        &       -0.310    &        0.262     \\\\\n",
       "\\textbf{City\\_Nagpur}        &      -0.0698  &        0.147     &    -0.474  &         0.635        &       -0.358    &        0.218     \\\\\n",
       "\\textbf{City\\_Nashik}        &       0.3228  &        0.156     &     2.071  &         0.038        &        0.017    &        0.628     \\\\\n",
       "\\textbf{City\\_Patna}         &       0.4401  &        0.131     &     3.358  &         0.001        &        0.183    &        0.697     \\\\\n",
       "\\textbf{City\\_Pune}          &       0.1772  &        0.132     &     1.344  &         0.179        &       -0.081    &        0.436     \\\\\n",
       "\\textbf{City\\_Rajkot}        &       0.3101  &        0.138     &     2.244  &         0.025        &        0.039    &        0.581     \\\\\n",
       "\\textbf{City\\_Srinagar}      &       0.2156  &        0.121     &     1.786  &         0.074        &       -0.021    &        0.452     \\\\\n",
       "\\textbf{City\\_Surat}         &       0.2731  &        0.131     &     2.077  &         0.038        &        0.015    &        0.531     \\\\\n",
       "\\textbf{City\\_Thane}         &       0.3757  &        0.128     &     2.936  &         0.003        &        0.125    &        0.626     \\\\\n",
       "\\textbf{City\\_Vadodara}      &       0.2176  &        0.144     &     1.512  &         0.130        &       -0.064    &        0.500     \\\\\n",
       "\\textbf{City\\_Varanasi}      &       0.0541  &        0.148     &     0.365  &         0.715        &       -0.237    &        0.345     \\\\\n",
       "\\textbf{City\\_Vasai\\_Virar}  &       0.2246  &        0.124     &     1.806  &         0.071        &       -0.019    &        0.468     \\\\\n",
       "\\textbf{City\\_Visakhapatnam} &       0.3003  &        0.133     &     2.252  &         0.024        &        0.039    &        0.562     \\\\\n",
       "\\bottomrule\n",
       "\\end{tabular}\n",
       "%\\caption{Logit Regression Results}\n",
       "\\end{center}"
      ],
      "text/plain": [
       "<class 'statsmodels.iolib.summary.Summary'>\n",
       "\"\"\"\n",
       "                           Logit Regression Results                           \n",
       "==============================================================================\n",
       "Dep. Variable:             Depression   No. Observations:                27710\n",
       "Model:                          Logit   Df Residuals:                    27642\n",
       "Method:                           MLE   Df Model:                           67\n",
       "Date:                sáb, 01 fev 2025   Pseudo R-squ.:                  0.4883\n",
       "Time:                        16:11:30   Log-Likelihood:                -9618.2\n",
       "converged:                       True   LL-Null:                       -18796.\n",
       "Covariance Type:            nonrobust   LLR p-value:                     0.000\n",
       "======================================================================================\n",
       "                         coef    std err          z      P>|z|      [0.025      0.975]\n",
       "--------------------------------------------------------------------------------------\n",
       "Intercept             -3.2254      0.223    -14.477      0.000      -3.662      -2.789\n",
       "Degree[T.B.Com]       -0.1257      0.115     -1.089      0.276      -0.352       0.100\n",
       "Degree[T.B.Ed]        -0.0300      0.110     -0.272      0.786      -0.246       0.186\n",
       "Degree[T.B.Pharm]     -0.0939      0.134     -0.700      0.484      -0.357       0.169\n",
       "Degree[T.B.Tech]       0.0809      0.123      0.658      0.510      -0.160       0.322\n",
       "Degree[T.BA]          -0.2035      0.144     -1.408      0.159      -0.487       0.080\n",
       "Degree[T.BBA]          0.0315      0.140      0.225      0.822      -0.243       0.306\n",
       "Degree[T.BCA]         -0.0501      0.115     -0.437      0.662      -0.275       0.174\n",
       "Degree[T.BE]           0.0181      0.143      0.127      0.899      -0.262       0.299\n",
       "Degree[T.BHM]         -0.1282      0.130     -0.985      0.325      -0.383       0.127\n",
       "Degree[T.BSc]          0.1303      0.132      0.986      0.324      -0.129       0.389\n",
       "Degree[T.Class 12]    -0.2051      0.096     -2.127      0.033      -0.394      -0.016\n",
       "Degree[T.LLB]          0.1537      0.141      1.086      0.277      -0.124       0.431\n",
       "Degree[T.LLM]          0.2766      0.160      1.731      0.083      -0.037       0.590\n",
       "Degree[T.M.Com]       -0.0341      0.140     -0.244      0.807      -0.308       0.240\n",
       "Degree[T.M.Ed]         0.0677      0.136      0.498      0.619      -0.199       0.334\n",
       "Degree[T.M.Pharm]     -0.0190      0.150     -0.126      0.899      -0.313       0.275\n",
       "Degree[T.M.Tech]      -0.1123      0.127     -0.885      0.376      -0.361       0.137\n",
       "Degree[T.MA]          -0.1231      0.150     -0.820      0.412      -0.417       0.171\n",
       "Degree[T.MBA]         -0.1788      0.149     -1.200      0.230      -0.471       0.113\n",
       "Degree[T.MBBS]         0.1336      0.141      0.948      0.343      -0.143       0.410\n",
       "Degree[T.MCA]          0.0546      0.125      0.436      0.663      -0.191       0.300\n",
       "Degree[T.MD]           0.0486      0.151      0.322      0.747      -0.247       0.344\n",
       "Degree[T.ME]          -0.1111      0.232     -0.479      0.632      -0.566       0.343\n",
       "Degree[T.MHM]          0.0172      0.223      0.077      0.938      -0.420       0.454\n",
       "Degree[T.MSc]         -0.1438      0.120     -1.196      0.232      -0.380       0.092\n",
       "Degree[T.Others]       0.5241      0.485      1.080      0.280      -0.427       1.475\n",
       "Degree[T.PhD]          0.1449      0.156      0.929      0.353      -0.161       0.451\n",
       "Gender                -0.0102      0.037     -0.274      0.784      -0.083       0.063\n",
       "Age                   -0.1211      0.005    -23.980      0.000      -0.131      -0.111\n",
       "AP                     0.8413      0.015     55.858      0.000       0.812       0.871\n",
       "CGPA                   0.0571      0.013      4.525      0.000       0.032       0.082\n",
       "SS                    -0.2432      0.014    -17.730      0.000      -0.270      -0.216\n",
       "SD                    -0.1900      0.016    -11.567      0.000      -0.222      -0.158\n",
       "DH                     0.3572      0.015     23.588      0.000       0.328       0.387\n",
       "ST                     2.5287      0.039     64.045      0.000       2.451       2.606\n",
       "WSH                    0.1179      0.005     23.542      0.000       0.108       0.128\n",
       "FS                     0.5532      0.013     41.200      0.000       0.527       0.580\n",
       "FHMI                   0.2506      0.037      6.826      0.000       0.179       0.323\n",
       "City_Ahmedabad         0.5591      0.135      4.148      0.000       0.295       0.823\n",
       "City_Bangalore         0.3402      0.143      2.386      0.017       0.061       0.620\n",
       "City_Bhopal            0.4222      0.133      3.164      0.002       0.161       0.684\n",
       "City_Chennai           0.1787      0.136      1.313      0.189      -0.088       0.445\n",
       "City_Delhi             0.3235      0.142      2.272      0.023       0.044       0.603\n",
       "City_Faridabad         0.4041      0.166      2.434      0.015       0.079       0.729\n",
       "City_Ghaziabad         0.2744      0.145      1.887      0.059      -0.011       0.560\n",
       "City_Hyderabad         0.5320      0.123      4.321      0.000       0.291       0.773\n",
       "City_Indore            0.2929      0.148      1.975      0.048       0.002       0.583\n",
       "City_Jaipur            0.0149      0.130      0.115      0.908      -0.239       0.269\n",
       "City_Kalyan            0.3349      0.119      2.805      0.005       0.101       0.569\n",
       "City_Kanpur            0.2790      0.151      1.850      0.064      -0.017       0.575\n",
       "City_Kolkata           0.4491      0.133      3.383      0.001       0.189       0.709\n",
       "City_Lucknow           0.1782      0.128      1.398      0.162      -0.072       0.428\n",
       "City_Ludhiana          0.3227      0.129      2.510      0.012       0.071       0.575\n",
       "City_Meerut            0.4351      0.140      3.109      0.002       0.161       0.709\n",
       "City_Mumbai           -0.0242      0.146     -0.166      0.868      -0.310       0.262\n",
       "City_Nagpur           -0.0698      0.147     -0.474      0.635      -0.358       0.218\n",
       "City_Nashik            0.3228      0.156      2.071      0.038       0.017       0.628\n",
       "City_Patna             0.4401      0.131      3.358      0.001       0.183       0.697\n",
       "City_Pune              0.1772      0.132      1.344      0.179      -0.081       0.436\n",
       "City_Rajkot            0.3101      0.138      2.244      0.025       0.039       0.581\n",
       "City_Srinagar          0.2156      0.121      1.786      0.074      -0.021       0.452\n",
       "City_Surat             0.2731      0.131      2.077      0.038       0.015       0.531\n",
       "City_Thane             0.3757      0.128      2.936      0.003       0.125       0.626\n",
       "City_Vadodara          0.2176      0.144      1.512      0.130      -0.064       0.500\n",
       "City_Varanasi          0.0541      0.148      0.365      0.715      -0.237       0.345\n",
       "City_Vasai_Virar       0.2246      0.124      1.806      0.071      -0.019       0.468\n",
       "City_Visakhapatnam     0.3003      0.133      2.252      0.024       0.039       0.562\n",
       "======================================================================================\n",
       "\"\"\""
      ]
     },
     "execution_count": 312,
     "metadata": {},
     "output_type": "execute_result"
    }
   ],
   "source": [
    "model = sm.Logit.from_formula(formula_dummies_model,df_dummies).fit()\n",
    "\n",
    "model.summary()"
   ]
  },
  {
   "cell_type": "markdown",
   "metadata": {},
   "source": [
    "StepWise"
   ]
  },
  {
   "cell_type": "code",
   "execution_count": 313,
   "metadata": {
    "execution": {
     "iopub.execute_input": "2025-01-16T21:18:47.050992Z",
     "iopub.status.busy": "2025-01-16T21:18:47.050705Z",
     "iopub.status.idle": "2025-01-16T21:31:30.091088Z",
     "shell.execute_reply": "2025-01-16T21:31:30.090043Z",
     "shell.execute_reply.started": "2025-01-16T21:18:47.050966Z"
    },
    "trusted": true
   },
   "outputs": [
    {
     "name": "stdout",
     "output_type": "stream",
     "text": [
      "Regression type: Logit \n",
      "\n",
      "Estimating model...: \n",
      " Depression ~ Q('Degree[T.B.Com]') + Q('Degree[T.B.Ed]') + Q('Degree[T.B.Pharm]') + Q('Degree[T.B.Tech]') + Q('Degree[T.BA]') + Q('Degree[T.BBA]') + Q('Degree[T.BCA]') + Q('Degree[T.BE]') + Q('Degree[T.BHM]') + Q('Degree[T.BSc]') + Q('Degree[T.Class 12]') + Q('Degree[T.LLB]') + Q('Degree[T.LLM]') + Q('Degree[T.M.Com]') + Q('Degree[T.M.Ed]') + Q('Degree[T.M.Pharm]') + Q('Degree[T.M.Tech]') + Q('Degree[T.MA]') + Q('Degree[T.MBA]') + Q('Degree[T.MBBS]') + Q('Degree[T.MCA]') + Q('Degree[T.MD]') + Q('Degree[T.ME]') + Q('Degree[T.MHM]') + Q('Degree[T.MSc]') + Q('Degree[T.Others]') + Q('Degree[T.PhD]') + Q('Gender') + Q('Age') + Q('AP') + Q('CGPA') + Q('SS') + Q('SD') + Q('DH') + Q('ST') + Q('WSH') + Q('FS') + Q('FHMI') + Q('City_Ahmedabad') + Q('City_Bangalore') + Q('City_Bhopal') + Q('City_Chennai') + Q('City_Delhi') + Q('City_Faridabad') + Q('City_Ghaziabad') + Q('City_Hyderabad') + Q('City_Indore') + Q('City_Jaipur') + Q('City_Kalyan') + Q('City_Kanpur') + Q('City_Kolkata') + Q('City_Lucknow') + Q('City_Ludhiana') + Q('City_Meerut') + Q('City_Mumbai') + Q('City_Nagpur') + Q('City_Nashik') + Q('City_Patna') + Q('City_Pune') + Q('City_Rajkot') + Q('City_Srinagar') + Q('City_Surat') + Q('City_Thane') + Q('City_Vadodara') + Q('City_Varanasi') + Q('City_Vasai_Virar') + Q('City_Visakhapatnam')\n",
      "Optimization terminated successfully.\n",
      "         Current function value: 0.347102\n",
      "         Iterations 7\n",
      "\n",
      " Discarding atribute \"Q('Degree[T.MHM]')\" with p-value equal to 0.9384790110145333 \n",
      "\n",
      "Estimating model...: \n",
      " Depression ~ Q('Degree[T.B.Com]') + Q('Degree[T.B.Ed]') + Q('Degree[T.B.Pharm]') + Q('Degree[T.B.Tech]') + Q('Degree[T.BA]') + Q('Degree[T.BBA]') + Q('Degree[T.BCA]') + Q('Degree[T.BE]') + Q('Degree[T.BHM]') + Q('Degree[T.BSc]') + Q('Degree[T.Class 12]') + Q('Degree[T.LLB]') + Q('Degree[T.LLM]') + Q('Degree[T.M.Com]') + Q('Degree[T.M.Ed]') + Q('Degree[T.M.Pharm]') + Q('Degree[T.M.Tech]') + Q('Degree[T.MA]') + Q('Degree[T.MBA]') + Q('Degree[T.MBBS]') + Q('Degree[T.MCA]') + Q('Degree[T.MD]') + Q('Degree[T.ME]') + Q('Degree[T.MSc]') + Q('Degree[T.Others]') + Q('Degree[T.PhD]') + Q('Gender') + Q('Age') + Q('AP') + Q('CGPA') + Q('SS') + Q('SD') + Q('DH') + Q('ST') + Q('WSH') + Q('FS') + Q('FHMI') + Q('City_Ahmedabad') + Q('City_Bangalore') + Q('City_Bhopal') + Q('City_Chennai') + Q('City_Delhi') + Q('City_Faridabad') + Q('City_Ghaziabad') + Q('City_Hyderabad') + Q('City_Indore') + Q('City_Jaipur') + Q('City_Kalyan') + Q('City_Kanpur') + Q('City_Kolkata') + Q('City_Lucknow') + Q('City_Ludhiana') + Q('City_Meerut') + Q('City_Mumbai') + Q('City_Nagpur') + Q('City_Nashik') + Q('City_Patna') + Q('City_Pune') + Q('City_Rajkot') + Q('City_Srinagar') + Q('City_Surat') + Q('City_Thane') + Q('City_Vadodara') + Q('City_Varanasi') + Q('City_Vasai_Virar') + Q('City_Visakhapatnam')\n",
      "Optimization terminated successfully.\n",
      "         Current function value: 0.347102\n",
      "         Iterations 7\n",
      "\n",
      " Discarding atribute \"Q('Degree[T.BE]')\" with p-value equal to 0.9105521427966179 \n",
      "\n",
      "Estimating model...: \n",
      " Depression ~ Q('Degree[T.B.Com]') + Q('Degree[T.B.Ed]') + Q('Degree[T.B.Pharm]') + Q('Degree[T.B.Tech]') + Q('Degree[T.BA]') + Q('Degree[T.BBA]') + Q('Degree[T.BCA]') + Q('Degree[T.BHM]') + Q('Degree[T.BSc]') + Q('Degree[T.Class 12]') + Q('Degree[T.LLB]') + Q('Degree[T.LLM]') + Q('Degree[T.M.Com]') + Q('Degree[T.M.Ed]') + Q('Degree[T.M.Pharm]') + Q('Degree[T.M.Tech]') + Q('Degree[T.MA]') + Q('Degree[T.MBA]') + Q('Degree[T.MBBS]') + Q('Degree[T.MCA]') + Q('Degree[T.MD]') + Q('Degree[T.ME]') + Q('Degree[T.MSc]') + Q('Degree[T.Others]') + Q('Degree[T.PhD]') + Q('Gender') + Q('Age') + Q('AP') + Q('CGPA') + Q('SS') + Q('SD') + Q('DH') + Q('ST') + Q('WSH') + Q('FS') + Q('FHMI') + Q('City_Ahmedabad') + Q('City_Bangalore') + Q('City_Bhopal') + Q('City_Chennai') + Q('City_Delhi') + Q('City_Faridabad') + Q('City_Ghaziabad') + Q('City_Hyderabad') + Q('City_Indore') + Q('City_Jaipur') + Q('City_Kalyan') + Q('City_Kanpur') + Q('City_Kolkata') + Q('City_Lucknow') + Q('City_Ludhiana') + Q('City_Meerut') + Q('City_Mumbai') + Q('City_Nagpur') + Q('City_Nashik') + Q('City_Patna') + Q('City_Pune') + Q('City_Rajkot') + Q('City_Srinagar') + Q('City_Surat') + Q('City_Thane') + Q('City_Vadodara') + Q('City_Varanasi') + Q('City_Vasai_Virar') + Q('City_Visakhapatnam')\n",
      "Optimization terminated successfully.\n",
      "         Current function value: 0.347102\n",
      "         Iterations 7\n",
      "\n",
      " Discarding atribute \"Q('City_Jaipur')\" with p-value equal to 0.9063132067924997 \n",
      "\n",
      "Estimating model...: \n",
      " Depression ~ Q('Degree[T.B.Com]') + Q('Degree[T.B.Ed]') + Q('Degree[T.B.Pharm]') + Q('Degree[T.B.Tech]') + Q('Degree[T.BA]') + Q('Degree[T.BBA]') + Q('Degree[T.BCA]') + Q('Degree[T.BHM]') + Q('Degree[T.BSc]') + Q('Degree[T.Class 12]') + Q('Degree[T.LLB]') + Q('Degree[T.LLM]') + Q('Degree[T.M.Com]') + Q('Degree[T.M.Ed]') + Q('Degree[T.M.Pharm]') + Q('Degree[T.M.Tech]') + Q('Degree[T.MA]') + Q('Degree[T.MBA]') + Q('Degree[T.MBBS]') + Q('Degree[T.MCA]') + Q('Degree[T.MD]') + Q('Degree[T.ME]') + Q('Degree[T.MSc]') + Q('Degree[T.Others]') + Q('Degree[T.PhD]') + Q('Gender') + Q('Age') + Q('AP') + Q('CGPA') + Q('SS') + Q('SD') + Q('DH') + Q('ST') + Q('WSH') + Q('FS') + Q('FHMI') + Q('City_Ahmedabad') + Q('City_Bangalore') + Q('City_Bhopal') + Q('City_Chennai') + Q('City_Delhi') + Q('City_Faridabad') + Q('City_Ghaziabad') + Q('City_Hyderabad') + Q('City_Indore') + Q('City_Kalyan') + Q('City_Kanpur') + Q('City_Kolkata') + Q('City_Lucknow') + Q('City_Ludhiana') + Q('City_Meerut') + Q('City_Mumbai') + Q('City_Nagpur') + Q('City_Nashik') + Q('City_Patna') + Q('City_Pune') + Q('City_Rajkot') + Q('City_Srinagar') + Q('City_Surat') + Q('City_Thane') + Q('City_Vadodara') + Q('City_Varanasi') + Q('City_Vasai_Virar') + Q('City_Visakhapatnam')\n",
      "Optimization terminated successfully.\n",
      "         Current function value: 0.347103\n",
      "         Iterations 7\n",
      "\n",
      " Discarding atribute \"Q('Degree[T.BBA]')\" with p-value equal to 0.8536613932302154 \n",
      "\n",
      "Estimating model...: \n",
      " Depression ~ Q('Degree[T.B.Com]') + Q('Degree[T.B.Ed]') + Q('Degree[T.B.Pharm]') + Q('Degree[T.B.Tech]') + Q('Degree[T.BA]') + Q('Degree[T.BCA]') + Q('Degree[T.BHM]') + Q('Degree[T.BSc]') + Q('Degree[T.Class 12]') + Q('Degree[T.LLB]') + Q('Degree[T.LLM]') + Q('Degree[T.M.Com]') + Q('Degree[T.M.Ed]') + Q('Degree[T.M.Pharm]') + Q('Degree[T.M.Tech]') + Q('Degree[T.MA]') + Q('Degree[T.MBA]') + Q('Degree[T.MBBS]') + Q('Degree[T.MCA]') + Q('Degree[T.MD]') + Q('Degree[T.ME]') + Q('Degree[T.MSc]') + Q('Degree[T.Others]') + Q('Degree[T.PhD]') + Q('Gender') + Q('Age') + Q('AP') + Q('CGPA') + Q('SS') + Q('SD') + Q('DH') + Q('ST') + Q('WSH') + Q('FS') + Q('FHMI') + Q('City_Ahmedabad') + Q('City_Bangalore') + Q('City_Bhopal') + Q('City_Chennai') + Q('City_Delhi') + Q('City_Faridabad') + Q('City_Ghaziabad') + Q('City_Hyderabad') + Q('City_Indore') + Q('City_Kalyan') + Q('City_Kanpur') + Q('City_Kolkata') + Q('City_Lucknow') + Q('City_Ludhiana') + Q('City_Meerut') + Q('City_Mumbai') + Q('City_Nagpur') + Q('City_Nashik') + Q('City_Patna') + Q('City_Pune') + Q('City_Rajkot') + Q('City_Srinagar') + Q('City_Surat') + Q('City_Thane') + Q('City_Vadodara') + Q('City_Varanasi') + Q('City_Vasai_Virar') + Q('City_Visakhapatnam')\n",
      "Optimization terminated successfully.\n",
      "         Current function value: 0.347103\n",
      "         Iterations 7\n",
      "\n",
      " Discarding atribute \"Q('City_Mumbai')\" with p-value equal to 0.8159868420420014 \n",
      "\n",
      "Estimating model...: \n",
      " Depression ~ Q('Degree[T.B.Com]') + Q('Degree[T.B.Ed]') + Q('Degree[T.B.Pharm]') + Q('Degree[T.B.Tech]') + Q('Degree[T.BA]') + Q('Degree[T.BCA]') + Q('Degree[T.BHM]') + Q('Degree[T.BSc]') + Q('Degree[T.Class 12]') + Q('Degree[T.LLB]') + Q('Degree[T.LLM]') + Q('Degree[T.M.Com]') + Q('Degree[T.M.Ed]') + Q('Degree[T.M.Pharm]') + Q('Degree[T.M.Tech]') + Q('Degree[T.MA]') + Q('Degree[T.MBA]') + Q('Degree[T.MBBS]') + Q('Degree[T.MCA]') + Q('Degree[T.MD]') + Q('Degree[T.ME]') + Q('Degree[T.MSc]') + Q('Degree[T.Others]') + Q('Degree[T.PhD]') + Q('Gender') + Q('Age') + Q('AP') + Q('CGPA') + Q('SS') + Q('SD') + Q('DH') + Q('ST') + Q('WSH') + Q('FS') + Q('FHMI') + Q('City_Ahmedabad') + Q('City_Bangalore') + Q('City_Bhopal') + Q('City_Chennai') + Q('City_Delhi') + Q('City_Faridabad') + Q('City_Ghaziabad') + Q('City_Hyderabad') + Q('City_Indore') + Q('City_Kalyan') + Q('City_Kanpur') + Q('City_Kolkata') + Q('City_Lucknow') + Q('City_Ludhiana') + Q('City_Meerut') + Q('City_Nagpur') + Q('City_Nashik') + Q('City_Patna') + Q('City_Pune') + Q('City_Rajkot') + Q('City_Srinagar') + Q('City_Surat') + Q('City_Thane') + Q('City_Vadodara') + Q('City_Varanasi') + Q('City_Vasai_Virar') + Q('City_Visakhapatnam')\n",
      "Optimization terminated successfully.\n",
      "         Current function value: 0.347104\n",
      "         Iterations 7\n",
      "\n",
      " Discarding atribute \"Q('Degree[T.M.Pharm]')\" with p-value equal to 0.8110285315262905 \n",
      "\n",
      "Estimating model...: \n",
      " Depression ~ Q('Degree[T.B.Com]') + Q('Degree[T.B.Ed]') + Q('Degree[T.B.Pharm]') + Q('Degree[T.B.Tech]') + Q('Degree[T.BA]') + Q('Degree[T.BCA]') + Q('Degree[T.BHM]') + Q('Degree[T.BSc]') + Q('Degree[T.Class 12]') + Q('Degree[T.LLB]') + Q('Degree[T.LLM]') + Q('Degree[T.M.Com]') + Q('Degree[T.M.Ed]') + Q('Degree[T.M.Tech]') + Q('Degree[T.MA]') + Q('Degree[T.MBA]') + Q('Degree[T.MBBS]') + Q('Degree[T.MCA]') + Q('Degree[T.MD]') + Q('Degree[T.ME]') + Q('Degree[T.MSc]') + Q('Degree[T.Others]') + Q('Degree[T.PhD]') + Q('Gender') + Q('Age') + Q('AP') + Q('CGPA') + Q('SS') + Q('SD') + Q('DH') + Q('ST') + Q('WSH') + Q('FS') + Q('FHMI') + Q('City_Ahmedabad') + Q('City_Bangalore') + Q('City_Bhopal') + Q('City_Chennai') + Q('City_Delhi') + Q('City_Faridabad') + Q('City_Ghaziabad') + Q('City_Hyderabad') + Q('City_Indore') + Q('City_Kalyan') + Q('City_Kanpur') + Q('City_Kolkata') + Q('City_Lucknow') + Q('City_Ludhiana') + Q('City_Meerut') + Q('City_Nagpur') + Q('City_Nashik') + Q('City_Patna') + Q('City_Pune') + Q('City_Rajkot') + Q('City_Srinagar') + Q('City_Surat') + Q('City_Thane') + Q('City_Vadodara') + Q('City_Varanasi') + Q('City_Vasai_Virar') + Q('City_Visakhapatnam')\n",
      "Optimization terminated successfully.\n",
      "         Current function value: 0.347105\n",
      "         Iterations 7\n",
      "\n",
      " Discarding atribute \"Q('Gender')\" with p-value equal to 0.7737942425466289 \n",
      "\n",
      "Estimating model...: \n",
      " Depression ~ Q('Degree[T.B.Com]') + Q('Degree[T.B.Ed]') + Q('Degree[T.B.Pharm]') + Q('Degree[T.B.Tech]') + Q('Degree[T.BA]') + Q('Degree[T.BCA]') + Q('Degree[T.BHM]') + Q('Degree[T.BSc]') + Q('Degree[T.Class 12]') + Q('Degree[T.LLB]') + Q('Degree[T.LLM]') + Q('Degree[T.M.Com]') + Q('Degree[T.M.Ed]') + Q('Degree[T.M.Tech]') + Q('Degree[T.MA]') + Q('Degree[T.MBA]') + Q('Degree[T.MBBS]') + Q('Degree[T.MCA]') + Q('Degree[T.MD]') + Q('Degree[T.ME]') + Q('Degree[T.MSc]') + Q('Degree[T.Others]') + Q('Degree[T.PhD]') + Q('Age') + Q('AP') + Q('CGPA') + Q('SS') + Q('SD') + Q('DH') + Q('ST') + Q('WSH') + Q('FS') + Q('FHMI') + Q('City_Ahmedabad') + Q('City_Bangalore') + Q('City_Bhopal') + Q('City_Chennai') + Q('City_Delhi') + Q('City_Faridabad') + Q('City_Ghaziabad') + Q('City_Hyderabad') + Q('City_Indore') + Q('City_Kalyan') + Q('City_Kanpur') + Q('City_Kolkata') + Q('City_Lucknow') + Q('City_Ludhiana') + Q('City_Meerut') + Q('City_Nagpur') + Q('City_Nashik') + Q('City_Patna') + Q('City_Pune') + Q('City_Rajkot') + Q('City_Srinagar') + Q('City_Surat') + Q('City_Thane') + Q('City_Vadodara') + Q('City_Varanasi') + Q('City_Vasai_Virar') + Q('City_Visakhapatnam')\n",
      "Optimization terminated successfully.\n",
      "         Current function value: 0.347107\n",
      "         Iterations 7\n",
      "\n",
      " Discarding atribute \"Q('Degree[T.MD]')\" with p-value equal to 0.7724934053131232 \n",
      "\n",
      "Estimating model...: \n",
      " Depression ~ Q('Degree[T.B.Com]') + Q('Degree[T.B.Ed]') + Q('Degree[T.B.Pharm]') + Q('Degree[T.B.Tech]') + Q('Degree[T.BA]') + Q('Degree[T.BCA]') + Q('Degree[T.BHM]') + Q('Degree[T.BSc]') + Q('Degree[T.Class 12]') + Q('Degree[T.LLB]') + Q('Degree[T.LLM]') + Q('Degree[T.M.Com]') + Q('Degree[T.M.Ed]') + Q('Degree[T.M.Tech]') + Q('Degree[T.MA]') + Q('Degree[T.MBA]') + Q('Degree[T.MBBS]') + Q('Degree[T.MCA]') + Q('Degree[T.ME]') + Q('Degree[T.MSc]') + Q('Degree[T.Others]') + Q('Degree[T.PhD]') + Q('Age') + Q('AP') + Q('CGPA') + Q('SS') + Q('SD') + Q('DH') + Q('ST') + Q('WSH') + Q('FS') + Q('FHMI') + Q('City_Ahmedabad') + Q('City_Bangalore') + Q('City_Bhopal') + Q('City_Chennai') + Q('City_Delhi') + Q('City_Faridabad') + Q('City_Ghaziabad') + Q('City_Hyderabad') + Q('City_Indore') + Q('City_Kalyan') + Q('City_Kanpur') + Q('City_Kolkata') + Q('City_Lucknow') + Q('City_Ludhiana') + Q('City_Meerut') + Q('City_Nagpur') + Q('City_Nashik') + Q('City_Patna') + Q('City_Pune') + Q('City_Rajkot') + Q('City_Srinagar') + Q('City_Surat') + Q('City_Thane') + Q('City_Vadodara') + Q('City_Varanasi') + Q('City_Vasai_Virar') + Q('City_Visakhapatnam')\n",
      "Optimization terminated successfully.\n",
      "         Current function value: 0.347108\n",
      "         Iterations 7\n",
      "\n",
      " Discarding atribute \"Q('Degree[T.M.Com]')\" with p-value equal to 0.6970892686161548 \n",
      "\n",
      "Estimating model...: \n",
      " Depression ~ Q('Degree[T.B.Com]') + Q('Degree[T.B.Ed]') + Q('Degree[T.B.Pharm]') + Q('Degree[T.B.Tech]') + Q('Degree[T.BA]') + Q('Degree[T.BCA]') + Q('Degree[T.BHM]') + Q('Degree[T.BSc]') + Q('Degree[T.Class 12]') + Q('Degree[T.LLB]') + Q('Degree[T.LLM]') + Q('Degree[T.M.Ed]') + Q('Degree[T.M.Tech]') + Q('Degree[T.MA]') + Q('Degree[T.MBA]') + Q('Degree[T.MBBS]') + Q('Degree[T.MCA]') + Q('Degree[T.ME]') + Q('Degree[T.MSc]') + Q('Degree[T.Others]') + Q('Degree[T.PhD]') + Q('Age') + Q('AP') + Q('CGPA') + Q('SS') + Q('SD') + Q('DH') + Q('ST') + Q('WSH') + Q('FS') + Q('FHMI') + Q('City_Ahmedabad') + Q('City_Bangalore') + Q('City_Bhopal') + Q('City_Chennai') + Q('City_Delhi') + Q('City_Faridabad') + Q('City_Ghaziabad') + Q('City_Hyderabad') + Q('City_Indore') + Q('City_Kalyan') + Q('City_Kanpur') + Q('City_Kolkata') + Q('City_Lucknow') + Q('City_Ludhiana') + Q('City_Meerut') + Q('City_Nagpur') + Q('City_Nashik') + Q('City_Patna') + Q('City_Pune') + Q('City_Rajkot') + Q('City_Srinagar') + Q('City_Surat') + Q('City_Thane') + Q('City_Vadodara') + Q('City_Varanasi') + Q('City_Vasai_Virar') + Q('City_Visakhapatnam')\n",
      "Optimization terminated successfully.\n",
      "         Current function value: 0.347111\n",
      "         Iterations 7\n",
      "\n",
      " Discarding atribute \"Q('City_Varanasi')\" with p-value equal to 0.6882896459718202 \n",
      "\n",
      "Estimating model...: \n",
      " Depression ~ Q('Degree[T.B.Com]') + Q('Degree[T.B.Ed]') + Q('Degree[T.B.Pharm]') + Q('Degree[T.B.Tech]') + Q('Degree[T.BA]') + Q('Degree[T.BCA]') + Q('Degree[T.BHM]') + Q('Degree[T.BSc]') + Q('Degree[T.Class 12]') + Q('Degree[T.LLB]') + Q('Degree[T.LLM]') + Q('Degree[T.M.Ed]') + Q('Degree[T.M.Tech]') + Q('Degree[T.MA]') + Q('Degree[T.MBA]') + Q('Degree[T.MBBS]') + Q('Degree[T.MCA]') + Q('Degree[T.ME]') + Q('Degree[T.MSc]') + Q('Degree[T.Others]') + Q('Degree[T.PhD]') + Q('Age') + Q('AP') + Q('CGPA') + Q('SS') + Q('SD') + Q('DH') + Q('ST') + Q('WSH') + Q('FS') + Q('FHMI') + Q('City_Ahmedabad') + Q('City_Bangalore') + Q('City_Bhopal') + Q('City_Chennai') + Q('City_Delhi') + Q('City_Faridabad') + Q('City_Ghaziabad') + Q('City_Hyderabad') + Q('City_Indore') + Q('City_Kalyan') + Q('City_Kanpur') + Q('City_Kolkata') + Q('City_Lucknow') + Q('City_Ludhiana') + Q('City_Meerut') + Q('City_Nagpur') + Q('City_Nashik') + Q('City_Patna') + Q('City_Pune') + Q('City_Rajkot') + Q('City_Srinagar') + Q('City_Surat') + Q('City_Thane') + Q('City_Vadodara') + Q('City_Vasai_Virar') + Q('City_Visakhapatnam')\n",
      "Optimization terminated successfully.\n",
      "         Current function value: 0.347114\n",
      "         Iterations 7\n",
      "\n",
      " Discarding atribute \"Q('Degree[T.B.Ed]')\" with p-value equal to 0.6621992770235967 \n",
      "\n",
      "Estimating model...: \n",
      " Depression ~ Q('Degree[T.B.Com]') + Q('Degree[T.B.Pharm]') + Q('Degree[T.B.Tech]') + Q('Degree[T.BA]') + Q('Degree[T.BCA]') + Q('Degree[T.BHM]') + Q('Degree[T.BSc]') + Q('Degree[T.Class 12]') + Q('Degree[T.LLB]') + Q('Degree[T.LLM]') + Q('Degree[T.M.Ed]') + Q('Degree[T.M.Tech]') + Q('Degree[T.MA]') + Q('Degree[T.MBA]') + Q('Degree[T.MBBS]') + Q('Degree[T.MCA]') + Q('Degree[T.ME]') + Q('Degree[T.MSc]') + Q('Degree[T.Others]') + Q('Degree[T.PhD]') + Q('Age') + Q('AP') + Q('CGPA') + Q('SS') + Q('SD') + Q('DH') + Q('ST') + Q('WSH') + Q('FS') + Q('FHMI') + Q('City_Ahmedabad') + Q('City_Bangalore') + Q('City_Bhopal') + Q('City_Chennai') + Q('City_Delhi') + Q('City_Faridabad') + Q('City_Ghaziabad') + Q('City_Hyderabad') + Q('City_Indore') + Q('City_Kalyan') + Q('City_Kanpur') + Q('City_Kolkata') + Q('City_Lucknow') + Q('City_Ludhiana') + Q('City_Meerut') + Q('City_Nagpur') + Q('City_Nashik') + Q('City_Patna') + Q('City_Pune') + Q('City_Rajkot') + Q('City_Srinagar') + Q('City_Surat') + Q('City_Thane') + Q('City_Vadodara') + Q('City_Vasai_Virar') + Q('City_Visakhapatnam')\n",
      "Optimization terminated successfully.\n",
      "         Current function value: 0.347117\n",
      "         Iterations 7\n",
      "\n",
      " Discarding atribute \"Q('Degree[T.ME]')\" with p-value equal to 0.6204685219593508 \n",
      "\n",
      "Estimating model...: \n",
      " Depression ~ Q('Degree[T.B.Com]') + Q('Degree[T.B.Pharm]') + Q('Degree[T.B.Tech]') + Q('Degree[T.BA]') + Q('Degree[T.BCA]') + Q('Degree[T.BHM]') + Q('Degree[T.BSc]') + Q('Degree[T.Class 12]') + Q('Degree[T.LLB]') + Q('Degree[T.LLM]') + Q('Degree[T.M.Ed]') + Q('Degree[T.M.Tech]') + Q('Degree[T.MA]') + Q('Degree[T.MBA]') + Q('Degree[T.MBBS]') + Q('Degree[T.MCA]') + Q('Degree[T.MSc]') + Q('Degree[T.Others]') + Q('Degree[T.PhD]') + Q('Age') + Q('AP') + Q('CGPA') + Q('SS') + Q('SD') + Q('DH') + Q('ST') + Q('WSH') + Q('FS') + Q('FHMI') + Q('City_Ahmedabad') + Q('City_Bangalore') + Q('City_Bhopal') + Q('City_Chennai') + Q('City_Delhi') + Q('City_Faridabad') + Q('City_Ghaziabad') + Q('City_Hyderabad') + Q('City_Indore') + Q('City_Kalyan') + Q('City_Kanpur') + Q('City_Kolkata') + Q('City_Lucknow') + Q('City_Ludhiana') + Q('City_Meerut') + Q('City_Nagpur') + Q('City_Nashik') + Q('City_Patna') + Q('City_Pune') + Q('City_Rajkot') + Q('City_Srinagar') + Q('City_Surat') + Q('City_Thane') + Q('City_Vadodara') + Q('City_Vasai_Virar') + Q('City_Visakhapatnam')\n",
      "Optimization terminated successfully.\n",
      "         Current function value: 0.347122\n",
      "         Iterations 7\n",
      "\n",
      " Discarding atribute \"Q('Degree[T.BCA]')\" with p-value equal to 0.6068559488398682 \n",
      "\n",
      "Estimating model...: \n",
      " Depression ~ Q('Degree[T.B.Com]') + Q('Degree[T.B.Pharm]') + Q('Degree[T.B.Tech]') + Q('Degree[T.BA]') + Q('Degree[T.BHM]') + Q('Degree[T.BSc]') + Q('Degree[T.Class 12]') + Q('Degree[T.LLB]') + Q('Degree[T.LLM]') + Q('Degree[T.M.Ed]') + Q('Degree[T.M.Tech]') + Q('Degree[T.MA]') + Q('Degree[T.MBA]') + Q('Degree[T.MBBS]') + Q('Degree[T.MCA]') + Q('Degree[T.MSc]') + Q('Degree[T.Others]') + Q('Degree[T.PhD]') + Q('Age') + Q('AP') + Q('CGPA') + Q('SS') + Q('SD') + Q('DH') + Q('ST') + Q('WSH') + Q('FS') + Q('FHMI') + Q('City_Ahmedabad') + Q('City_Bangalore') + Q('City_Bhopal') + Q('City_Chennai') + Q('City_Delhi') + Q('City_Faridabad') + Q('City_Ghaziabad') + Q('City_Hyderabad') + Q('City_Indore') + Q('City_Kalyan') + Q('City_Kanpur') + Q('City_Kolkata') + Q('City_Lucknow') + Q('City_Ludhiana') + Q('City_Meerut') + Q('City_Nagpur') + Q('City_Nashik') + Q('City_Patna') + Q('City_Pune') + Q('City_Rajkot') + Q('City_Srinagar') + Q('City_Surat') + Q('City_Thane') + Q('City_Vadodara') + Q('City_Vasai_Virar') + Q('City_Visakhapatnam')\n",
      "Optimization terminated successfully.\n",
      "         Current function value: 0.347127\n",
      "         Iterations 7\n",
      "\n",
      " Discarding atribute \"Q('City_Nagpur')\" with p-value equal to 0.5191584934563245 \n",
      "\n",
      "Estimating model...: \n",
      " Depression ~ Q('Degree[T.B.Com]') + Q('Degree[T.B.Pharm]') + Q('Degree[T.B.Tech]') + Q('Degree[T.BA]') + Q('Degree[T.BHM]') + Q('Degree[T.BSc]') + Q('Degree[T.Class 12]') + Q('Degree[T.LLB]') + Q('Degree[T.LLM]') + Q('Degree[T.M.Ed]') + Q('Degree[T.M.Tech]') + Q('Degree[T.MA]') + Q('Degree[T.MBA]') + Q('Degree[T.MBBS]') + Q('Degree[T.MCA]') + Q('Degree[T.MSc]') + Q('Degree[T.Others]') + Q('Degree[T.PhD]') + Q('Age') + Q('AP') + Q('CGPA') + Q('SS') + Q('SD') + Q('DH') + Q('ST') + Q('WSH') + Q('FS') + Q('FHMI') + Q('City_Ahmedabad') + Q('City_Bangalore') + Q('City_Bhopal') + Q('City_Chennai') + Q('City_Delhi') + Q('City_Faridabad') + Q('City_Ghaziabad') + Q('City_Hyderabad') + Q('City_Indore') + Q('City_Kalyan') + Q('City_Kanpur') + Q('City_Kolkata') + Q('City_Lucknow') + Q('City_Ludhiana') + Q('City_Meerut') + Q('City_Nashik') + Q('City_Patna') + Q('City_Pune') + Q('City_Rajkot') + Q('City_Srinagar') + Q('City_Surat') + Q('City_Thane') + Q('City_Vadodara') + Q('City_Vasai_Virar') + Q('City_Visakhapatnam')\n",
      "Optimization terminated successfully.\n",
      "         Current function value: 0.347134\n",
      "         Iterations 7\n",
      "\n",
      " Discarding atribute \"Q('Degree[T.MCA]')\" with p-value equal to 0.49708950307957267 \n",
      "\n",
      "Estimating model...: \n",
      " Depression ~ Q('Degree[T.B.Com]') + Q('Degree[T.B.Pharm]') + Q('Degree[T.B.Tech]') + Q('Degree[T.BA]') + Q('Degree[T.BHM]') + Q('Degree[T.BSc]') + Q('Degree[T.Class 12]') + Q('Degree[T.LLB]') + Q('Degree[T.LLM]') + Q('Degree[T.M.Ed]') + Q('Degree[T.M.Tech]') + Q('Degree[T.MA]') + Q('Degree[T.MBA]') + Q('Degree[T.MBBS]') + Q('Degree[T.MSc]') + Q('Degree[T.Others]') + Q('Degree[T.PhD]') + Q('Age') + Q('AP') + Q('CGPA') + Q('SS') + Q('SD') + Q('DH') + Q('ST') + Q('WSH') + Q('FS') + Q('FHMI') + Q('City_Ahmedabad') + Q('City_Bangalore') + Q('City_Bhopal') + Q('City_Chennai') + Q('City_Delhi') + Q('City_Faridabad') + Q('City_Ghaziabad') + Q('City_Hyderabad') + Q('City_Indore') + Q('City_Kalyan') + Q('City_Kanpur') + Q('City_Kolkata') + Q('City_Lucknow') + Q('City_Ludhiana') + Q('City_Meerut') + Q('City_Nashik') + Q('City_Patna') + Q('City_Pune') + Q('City_Rajkot') + Q('City_Srinagar') + Q('City_Surat') + Q('City_Thane') + Q('City_Vadodara') + Q('City_Vasai_Virar') + Q('City_Visakhapatnam')\n",
      "Optimization terminated successfully.\n",
      "         Current function value: 0.347142\n",
      "         Iterations 7\n",
      "\n",
      " Discarding atribute \"Q('Degree[T.M.Ed]')\" with p-value equal to 0.5103754626594259 \n",
      "\n",
      "Estimating model...: \n",
      " Depression ~ Q('Degree[T.B.Com]') + Q('Degree[T.B.Pharm]') + Q('Degree[T.B.Tech]') + Q('Degree[T.BA]') + Q('Degree[T.BHM]') + Q('Degree[T.BSc]') + Q('Degree[T.Class 12]') + Q('Degree[T.LLB]') + Q('Degree[T.LLM]') + Q('Degree[T.M.Tech]') + Q('Degree[T.MA]') + Q('Degree[T.MBA]') + Q('Degree[T.MBBS]') + Q('Degree[T.MSc]') + Q('Degree[T.Others]') + Q('Degree[T.PhD]') + Q('Age') + Q('AP') + Q('CGPA') + Q('SS') + Q('SD') + Q('DH') + Q('ST') + Q('WSH') + Q('FS') + Q('FHMI') + Q('City_Ahmedabad') + Q('City_Bangalore') + Q('City_Bhopal') + Q('City_Chennai') + Q('City_Delhi') + Q('City_Faridabad') + Q('City_Ghaziabad') + Q('City_Hyderabad') + Q('City_Indore') + Q('City_Kalyan') + Q('City_Kanpur') + Q('City_Kolkata') + Q('City_Lucknow') + Q('City_Ludhiana') + Q('City_Meerut') + Q('City_Nashik') + Q('City_Patna') + Q('City_Pune') + Q('City_Rajkot') + Q('City_Srinagar') + Q('City_Surat') + Q('City_Thane') + Q('City_Vadodara') + Q('City_Vasai_Virar') + Q('City_Visakhapatnam')\n",
      "Optimization terminated successfully.\n",
      "         Current function value: 0.347150\n",
      "         Iterations 7\n",
      "\n",
      " Discarding atribute \"Q('Degree[T.B.Tech]')\" with p-value equal to 0.4023569918854012 \n",
      "\n",
      "Estimating model...: \n",
      " Depression ~ Q('Degree[T.B.Com]') + Q('Degree[T.B.Pharm]') + Q('Degree[T.BA]') + Q('Degree[T.BHM]') + Q('Degree[T.BSc]') + Q('Degree[T.Class 12]') + Q('Degree[T.LLB]') + Q('Degree[T.LLM]') + Q('Degree[T.M.Tech]') + Q('Degree[T.MA]') + Q('Degree[T.MBA]') + Q('Degree[T.MBBS]') + Q('Degree[T.MSc]') + Q('Degree[T.Others]') + Q('Degree[T.PhD]') + Q('Age') + Q('AP') + Q('CGPA') + Q('SS') + Q('SD') + Q('DH') + Q('ST') + Q('WSH') + Q('FS') + Q('FHMI') + Q('City_Ahmedabad') + Q('City_Bangalore') + Q('City_Bhopal') + Q('City_Chennai') + Q('City_Delhi') + Q('City_Faridabad') + Q('City_Ghaziabad') + Q('City_Hyderabad') + Q('City_Indore') + Q('City_Kalyan') + Q('City_Kanpur') + Q('City_Kolkata') + Q('City_Lucknow') + Q('City_Ludhiana') + Q('City_Meerut') + Q('City_Nashik') + Q('City_Patna') + Q('City_Pune') + Q('City_Rajkot') + Q('City_Srinagar') + Q('City_Surat') + Q('City_Thane') + Q('City_Vadodara') + Q('City_Vasai_Virar') + Q('City_Visakhapatnam')\n",
      "Optimization terminated successfully.\n",
      "         Current function value: 0.347163\n",
      "         Iterations 7\n",
      "\n",
      " Discarding atribute \"Q('Degree[T.B.Pharm]')\" with p-value equal to 0.35007346083748736 \n",
      "\n",
      "Estimating model...: \n",
      " Depression ~ Q('Degree[T.B.Com]') + Q('Degree[T.BA]') + Q('Degree[T.BHM]') + Q('Degree[T.BSc]') + Q('Degree[T.Class 12]') + Q('Degree[T.LLB]') + Q('Degree[T.LLM]') + Q('Degree[T.M.Tech]') + Q('Degree[T.MA]') + Q('Degree[T.MBA]') + Q('Degree[T.MBBS]') + Q('Degree[T.MSc]') + Q('Degree[T.Others]') + Q('Degree[T.PhD]') + Q('Age') + Q('AP') + Q('CGPA') + Q('SS') + Q('SD') + Q('DH') + Q('ST') + Q('WSH') + Q('FS') + Q('FHMI') + Q('City_Ahmedabad') + Q('City_Bangalore') + Q('City_Bhopal') + Q('City_Chennai') + Q('City_Delhi') + Q('City_Faridabad') + Q('City_Ghaziabad') + Q('City_Hyderabad') + Q('City_Indore') + Q('City_Kalyan') + Q('City_Kanpur') + Q('City_Kolkata') + Q('City_Lucknow') + Q('City_Ludhiana') + Q('City_Meerut') + Q('City_Nashik') + Q('City_Patna') + Q('City_Pune') + Q('City_Rajkot') + Q('City_Srinagar') + Q('City_Surat') + Q('City_Thane') + Q('City_Vadodara') + Q('City_Vasai_Virar') + Q('City_Visakhapatnam')\n",
      "Optimization terminated successfully.\n",
      "         Current function value: 0.347179\n",
      "         Iterations 7\n",
      "\n",
      " Discarding atribute \"Q('Degree[T.MA]')\" with p-value equal to 0.3294905646118337 \n",
      "\n",
      "Estimating model...: \n",
      " Depression ~ Q('Degree[T.B.Com]') + Q('Degree[T.BA]') + Q('Degree[T.BHM]') + Q('Degree[T.BSc]') + Q('Degree[T.Class 12]') + Q('Degree[T.LLB]') + Q('Degree[T.LLM]') + Q('Degree[T.M.Tech]') + Q('Degree[T.MBA]') + Q('Degree[T.MBBS]') + Q('Degree[T.MSc]') + Q('Degree[T.Others]') + Q('Degree[T.PhD]') + Q('Age') + Q('AP') + Q('CGPA') + Q('SS') + Q('SD') + Q('DH') + Q('ST') + Q('WSH') + Q('FS') + Q('FHMI') + Q('City_Ahmedabad') + Q('City_Bangalore') + Q('City_Bhopal') + Q('City_Chennai') + Q('City_Delhi') + Q('City_Faridabad') + Q('City_Ghaziabad') + Q('City_Hyderabad') + Q('City_Indore') + Q('City_Kalyan') + Q('City_Kanpur') + Q('City_Kolkata') + Q('City_Lucknow') + Q('City_Ludhiana') + Q('City_Meerut') + Q('City_Nashik') + Q('City_Patna') + Q('City_Pune') + Q('City_Rajkot') + Q('City_Srinagar') + Q('City_Surat') + Q('City_Thane') + Q('City_Vadodara') + Q('City_Vasai_Virar') + Q('City_Visakhapatnam')\n",
      "Optimization terminated successfully.\n",
      "         Current function value: 0.347196\n",
      "         Iterations 7\n",
      "\n",
      " Discarding atribute \"Q('Degree[T.M.Tech]')\" with p-value equal to 0.2737278260545095 \n",
      "\n",
      "Estimating model...: \n",
      " Depression ~ Q('Degree[T.B.Com]') + Q('Degree[T.BA]') + Q('Degree[T.BHM]') + Q('Degree[T.BSc]') + Q('Degree[T.Class 12]') + Q('Degree[T.LLB]') + Q('Degree[T.LLM]') + Q('Degree[T.MBA]') + Q('Degree[T.MBBS]') + Q('Degree[T.MSc]') + Q('Degree[T.Others]') + Q('Degree[T.PhD]') + Q('Age') + Q('AP') + Q('CGPA') + Q('SS') + Q('SD') + Q('DH') + Q('ST') + Q('WSH') + Q('FS') + Q('FHMI') + Q('City_Ahmedabad') + Q('City_Bangalore') + Q('City_Bhopal') + Q('City_Chennai') + Q('City_Delhi') + Q('City_Faridabad') + Q('City_Ghaziabad') + Q('City_Hyderabad') + Q('City_Indore') + Q('City_Kalyan') + Q('City_Kanpur') + Q('City_Kolkata') + Q('City_Lucknow') + Q('City_Ludhiana') + Q('City_Meerut') + Q('City_Nashik') + Q('City_Patna') + Q('City_Pune') + Q('City_Rajkot') + Q('City_Srinagar') + Q('City_Surat') + Q('City_Thane') + Q('City_Vadodara') + Q('City_Vasai_Virar') + Q('City_Visakhapatnam')\n",
      "Optimization terminated successfully.\n",
      "         Current function value: 0.347217\n",
      "         Iterations 7\n",
      "\n",
      " Discarding atribute \"Q('Degree[T.Others]')\" with p-value equal to 0.2664369830747556 \n",
      "\n",
      "Estimating model...: \n",
      " Depression ~ Q('Degree[T.B.Com]') + Q('Degree[T.BA]') + Q('Degree[T.BHM]') + Q('Degree[T.BSc]') + Q('Degree[T.Class 12]') + Q('Degree[T.LLB]') + Q('Degree[T.LLM]') + Q('Degree[T.MBA]') + Q('Degree[T.MBBS]') + Q('Degree[T.MSc]') + Q('Degree[T.PhD]') + Q('Age') + Q('AP') + Q('CGPA') + Q('SS') + Q('SD') + Q('DH') + Q('ST') + Q('WSH') + Q('FS') + Q('FHMI') + Q('City_Ahmedabad') + Q('City_Bangalore') + Q('City_Bhopal') + Q('City_Chennai') + Q('City_Delhi') + Q('City_Faridabad') + Q('City_Ghaziabad') + Q('City_Hyderabad') + Q('City_Indore') + Q('City_Kalyan') + Q('City_Kanpur') + Q('City_Kolkata') + Q('City_Lucknow') + Q('City_Ludhiana') + Q('City_Meerut') + Q('City_Nashik') + Q('City_Patna') + Q('City_Pune') + Q('City_Rajkot') + Q('City_Srinagar') + Q('City_Surat') + Q('City_Thane') + Q('City_Vadodara') + Q('City_Vasai_Virar') + Q('City_Visakhapatnam')\n",
      "Optimization terminated successfully.\n",
      "         Current function value: 0.347240\n",
      "         Iterations 7\n",
      "\n",
      " Discarding atribute \"Q('Degree[T.BHM]')\" with p-value equal to 0.2534585210712782 \n",
      "\n",
      "Estimating model...: \n",
      " Depression ~ Q('Degree[T.B.Com]') + Q('Degree[T.BA]') + Q('Degree[T.BSc]') + Q('Degree[T.Class 12]') + Q('Degree[T.LLB]') + Q('Degree[T.LLM]') + Q('Degree[T.MBA]') + Q('Degree[T.MBBS]') + Q('Degree[T.MSc]') + Q('Degree[T.PhD]') + Q('Age') + Q('AP') + Q('CGPA') + Q('SS') + Q('SD') + Q('DH') + Q('ST') + Q('WSH') + Q('FS') + Q('FHMI') + Q('City_Ahmedabad') + Q('City_Bangalore') + Q('City_Bhopal') + Q('City_Chennai') + Q('City_Delhi') + Q('City_Faridabad') + Q('City_Ghaziabad') + Q('City_Hyderabad') + Q('City_Indore') + Q('City_Kalyan') + Q('City_Kanpur') + Q('City_Kolkata') + Q('City_Lucknow') + Q('City_Ludhiana') + Q('City_Meerut') + Q('City_Nashik') + Q('City_Patna') + Q('City_Pune') + Q('City_Rajkot') + Q('City_Srinagar') + Q('City_Surat') + Q('City_Thane') + Q('City_Vadodara') + Q('City_Vasai_Virar') + Q('City_Visakhapatnam')\n",
      "Optimization terminated successfully.\n",
      "         Current function value: 0.347263\n",
      "         Iterations 7\n",
      "\n",
      " Discarding atribute \"Q('Degree[T.PhD]')\" with p-value equal to 0.22149076795639666 \n",
      "\n",
      "Estimating model...: \n",
      " Depression ~ Q('Degree[T.B.Com]') + Q('Degree[T.BA]') + Q('Degree[T.BSc]') + Q('Degree[T.Class 12]') + Q('Degree[T.LLB]') + Q('Degree[T.LLM]') + Q('Degree[T.MBA]') + Q('Degree[T.MBBS]') + Q('Degree[T.MSc]') + Q('Age') + Q('AP') + Q('CGPA') + Q('SS') + Q('SD') + Q('DH') + Q('ST') + Q('WSH') + Q('FS') + Q('FHMI') + Q('City_Ahmedabad') + Q('City_Bangalore') + Q('City_Bhopal') + Q('City_Chennai') + Q('City_Delhi') + Q('City_Faridabad') + Q('City_Ghaziabad') + Q('City_Hyderabad') + Q('City_Indore') + Q('City_Kalyan') + Q('City_Kanpur') + Q('City_Kolkata') + Q('City_Lucknow') + Q('City_Ludhiana') + Q('City_Meerut') + Q('City_Nashik') + Q('City_Patna') + Q('City_Pune') + Q('City_Rajkot') + Q('City_Srinagar') + Q('City_Surat') + Q('City_Thane') + Q('City_Vadodara') + Q('City_Vasai_Virar') + Q('City_Visakhapatnam')\n",
      "Optimization terminated successfully.\n",
      "         Current function value: 0.347290\n",
      "         Iterations 7\n",
      "\n",
      " Discarding atribute \"Q('Degree[T.MBBS]')\" with p-value equal to 0.20842344371051114 \n",
      "\n",
      "Estimating model...: \n",
      " Depression ~ Q('Degree[T.B.Com]') + Q('Degree[T.BA]') + Q('Degree[T.BSc]') + Q('Degree[T.Class 12]') + Q('Degree[T.LLB]') + Q('Degree[T.LLM]') + Q('Degree[T.MBA]') + Q('Degree[T.MSc]') + Q('Age') + Q('AP') + Q('CGPA') + Q('SS') + Q('SD') + Q('DH') + Q('ST') + Q('WSH') + Q('FS') + Q('FHMI') + Q('City_Ahmedabad') + Q('City_Bangalore') + Q('City_Bhopal') + Q('City_Chennai') + Q('City_Delhi') + Q('City_Faridabad') + Q('City_Ghaziabad') + Q('City_Hyderabad') + Q('City_Indore') + Q('City_Kalyan') + Q('City_Kanpur') + Q('City_Kolkata') + Q('City_Lucknow') + Q('City_Ludhiana') + Q('City_Meerut') + Q('City_Nashik') + Q('City_Patna') + Q('City_Pune') + Q('City_Rajkot') + Q('City_Srinagar') + Q('City_Surat') + Q('City_Thane') + Q('City_Vadodara') + Q('City_Vasai_Virar') + Q('City_Visakhapatnam')\n",
      "Optimization terminated successfully.\n",
      "         Current function value: 0.347319\n",
      "         Iterations 7\n",
      "\n",
      " Discarding atribute \"Q('Degree[T.BSc]')\" with p-value equal to 0.19478202374572462 \n",
      "\n",
      "Estimating model...: \n",
      " Depression ~ Q('Degree[T.B.Com]') + Q('Degree[T.BA]') + Q('Degree[T.Class 12]') + Q('Degree[T.LLB]') + Q('Degree[T.LLM]') + Q('Degree[T.MBA]') + Q('Degree[T.MSc]') + Q('Age') + Q('AP') + Q('CGPA') + Q('SS') + Q('SD') + Q('DH') + Q('ST') + Q('WSH') + Q('FS') + Q('FHMI') + Q('City_Ahmedabad') + Q('City_Bangalore') + Q('City_Bhopal') + Q('City_Chennai') + Q('City_Delhi') + Q('City_Faridabad') + Q('City_Ghaziabad') + Q('City_Hyderabad') + Q('City_Indore') + Q('City_Kalyan') + Q('City_Kanpur') + Q('City_Kolkata') + Q('City_Lucknow') + Q('City_Ludhiana') + Q('City_Meerut') + Q('City_Nashik') + Q('City_Patna') + Q('City_Pune') + Q('City_Rajkot') + Q('City_Srinagar') + Q('City_Surat') + Q('City_Thane') + Q('City_Vadodara') + Q('City_Vasai_Virar') + Q('City_Visakhapatnam')\n",
      "Optimization terminated successfully.\n",
      "         Current function value: 0.347349\n",
      "         Iterations 7\n",
      "\n",
      " Discarding atribute \"Q('Degree[T.LLB]')\" with p-value equal to 0.18554090892038144 \n",
      "\n",
      "Estimating model...: \n",
      " Depression ~ Q('Degree[T.B.Com]') + Q('Degree[T.BA]') + Q('Degree[T.Class 12]') + Q('Degree[T.LLM]') + Q('Degree[T.MBA]') + Q('Degree[T.MSc]') + Q('Age') + Q('AP') + Q('CGPA') + Q('SS') + Q('SD') + Q('DH') + Q('ST') + Q('WSH') + Q('FS') + Q('FHMI') + Q('City_Ahmedabad') + Q('City_Bangalore') + Q('City_Bhopal') + Q('City_Chennai') + Q('City_Delhi') + Q('City_Faridabad') + Q('City_Ghaziabad') + Q('City_Hyderabad') + Q('City_Indore') + Q('City_Kalyan') + Q('City_Kanpur') + Q('City_Kolkata') + Q('City_Lucknow') + Q('City_Ludhiana') + Q('City_Meerut') + Q('City_Nashik') + Q('City_Patna') + Q('City_Pune') + Q('City_Rajkot') + Q('City_Srinagar') + Q('City_Surat') + Q('City_Thane') + Q('City_Vadodara') + Q('City_Vasai_Virar') + Q('City_Visakhapatnam')\n",
      "Optimization terminated successfully.\n",
      "         Current function value: 0.347381\n",
      "         Iterations 7\n",
      "\n",
      " Discarding atribute \"Q('Degree[T.MBA]')\" with p-value equal to 0.1411290757456806 \n",
      "\n",
      "Estimating model...: \n",
      " Depression ~ Q('Degree[T.B.Com]') + Q('Degree[T.BA]') + Q('Degree[T.Class 12]') + Q('Degree[T.LLM]') + Q('Degree[T.MSc]') + Q('Age') + Q('AP') + Q('CGPA') + Q('SS') + Q('SD') + Q('DH') + Q('ST') + Q('WSH') + Q('FS') + Q('FHMI') + Q('City_Ahmedabad') + Q('City_Bangalore') + Q('City_Bhopal') + Q('City_Chennai') + Q('City_Delhi') + Q('City_Faridabad') + Q('City_Ghaziabad') + Q('City_Hyderabad') + Q('City_Indore') + Q('City_Kalyan') + Q('City_Kanpur') + Q('City_Kolkata') + Q('City_Lucknow') + Q('City_Ludhiana') + Q('City_Meerut') + Q('City_Nashik') + Q('City_Patna') + Q('City_Pune') + Q('City_Rajkot') + Q('City_Srinagar') + Q('City_Surat') + Q('City_Thane') + Q('City_Vadodara') + Q('City_Vasai_Virar') + Q('City_Visakhapatnam')\n",
      "Optimization terminated successfully.\n",
      "         Current function value: 0.347420\n",
      "         Iterations 7\n",
      "\n",
      " Discarding atribute \"Q('Degree[T.B.Com]')\" with p-value equal to 0.13839818742450571 \n",
      "\n",
      "Estimating model...: \n",
      " Depression ~ Q('Degree[T.BA]') + Q('Degree[T.Class 12]') + Q('Degree[T.LLM]') + Q('Degree[T.MSc]') + Q('Age') + Q('AP') + Q('CGPA') + Q('SS') + Q('SD') + Q('DH') + Q('ST') + Q('WSH') + Q('FS') + Q('FHMI') + Q('City_Ahmedabad') + Q('City_Bangalore') + Q('City_Bhopal') + Q('City_Chennai') + Q('City_Delhi') + Q('City_Faridabad') + Q('City_Ghaziabad') + Q('City_Hyderabad') + Q('City_Indore') + Q('City_Kalyan') + Q('City_Kanpur') + Q('City_Kolkata') + Q('City_Lucknow') + Q('City_Ludhiana') + Q('City_Meerut') + Q('City_Nashik') + Q('City_Patna') + Q('City_Pune') + Q('City_Rajkot') + Q('City_Srinagar') + Q('City_Surat') + Q('City_Thane') + Q('City_Vadodara') + Q('City_Vasai_Virar') + Q('City_Visakhapatnam')\n",
      "Optimization terminated successfully.\n",
      "         Current function value: 0.347459\n",
      "         Iterations 7\n",
      "\n",
      " Discarding atribute \"Q('Degree[T.MSc]')\" with p-value equal to 0.13189024387602133 \n",
      "\n",
      "Estimating model...: \n",
      " Depression ~ Q('Degree[T.BA]') + Q('Degree[T.Class 12]') + Q('Degree[T.LLM]') + Q('Age') + Q('AP') + Q('CGPA') + Q('SS') + Q('SD') + Q('DH') + Q('ST') + Q('WSH') + Q('FS') + Q('FHMI') + Q('City_Ahmedabad') + Q('City_Bangalore') + Q('City_Bhopal') + Q('City_Chennai') + Q('City_Delhi') + Q('City_Faridabad') + Q('City_Ghaziabad') + Q('City_Hyderabad') + Q('City_Indore') + Q('City_Kalyan') + Q('City_Kanpur') + Q('City_Kolkata') + Q('City_Lucknow') + Q('City_Ludhiana') + Q('City_Meerut') + Q('City_Nashik') + Q('City_Patna') + Q('City_Pune') + Q('City_Rajkot') + Q('City_Srinagar') + Q('City_Surat') + Q('City_Thane') + Q('City_Vadodara') + Q('City_Vasai_Virar') + Q('City_Visakhapatnam')\n",
      "Optimization terminated successfully.\n",
      "         Current function value: 0.347500\n",
      "         Iterations 7\n",
      "\n",
      " Discarding atribute \"Q('Degree[T.BA]')\" with p-value equal to 0.1262336653828783 \n",
      "\n",
      "Estimating model...: \n",
      " Depression ~ Q('Degree[T.Class 12]') + Q('Degree[T.LLM]') + Q('Age') + Q('AP') + Q('CGPA') + Q('SS') + Q('SD') + Q('DH') + Q('ST') + Q('WSH') + Q('FS') + Q('FHMI') + Q('City_Ahmedabad') + Q('City_Bangalore') + Q('City_Bhopal') + Q('City_Chennai') + Q('City_Delhi') + Q('City_Faridabad') + Q('City_Ghaziabad') + Q('City_Hyderabad') + Q('City_Indore') + Q('City_Kalyan') + Q('City_Kanpur') + Q('City_Kolkata') + Q('City_Lucknow') + Q('City_Ludhiana') + Q('City_Meerut') + Q('City_Nashik') + Q('City_Patna') + Q('City_Pune') + Q('City_Rajkot') + Q('City_Srinagar') + Q('City_Surat') + Q('City_Thane') + Q('City_Vadodara') + Q('City_Vasai_Virar') + Q('City_Visakhapatnam')\n",
      "Optimization terminated successfully.\n",
      "         Current function value: 0.347542\n",
      "         Iterations 7\n",
      "\n",
      " Discarding atribute \"Q('City_Chennai')\" with p-value equal to 0.11455505839247337 \n",
      "\n",
      "Estimating model...: \n",
      " Depression ~ Q('Degree[T.Class 12]') + Q('Degree[T.LLM]') + Q('Age') + Q('AP') + Q('CGPA') + Q('SS') + Q('SD') + Q('DH') + Q('ST') + Q('WSH') + Q('FS') + Q('FHMI') + Q('City_Ahmedabad') + Q('City_Bangalore') + Q('City_Bhopal') + Q('City_Delhi') + Q('City_Faridabad') + Q('City_Ghaziabad') + Q('City_Hyderabad') + Q('City_Indore') + Q('City_Kalyan') + Q('City_Kanpur') + Q('City_Kolkata') + Q('City_Lucknow') + Q('City_Ludhiana') + Q('City_Meerut') + Q('City_Nashik') + Q('City_Patna') + Q('City_Pune') + Q('City_Rajkot') + Q('City_Srinagar') + Q('City_Surat') + Q('City_Thane') + Q('City_Vadodara') + Q('City_Vasai_Virar') + Q('City_Visakhapatnam')\n",
      "Optimization terminated successfully.\n",
      "         Current function value: 0.347587\n",
      "         Iterations 7\n",
      "\n",
      " Discarding atribute \"Q('City_Pune')\" with p-value equal to 0.1415360630687379 \n",
      "\n",
      "Estimating model...: \n",
      " Depression ~ Q('Degree[T.Class 12]') + Q('Degree[T.LLM]') + Q('Age') + Q('AP') + Q('CGPA') + Q('SS') + Q('SD') + Q('DH') + Q('ST') + Q('WSH') + Q('FS') + Q('FHMI') + Q('City_Ahmedabad') + Q('City_Bangalore') + Q('City_Bhopal') + Q('City_Delhi') + Q('City_Faridabad') + Q('City_Ghaziabad') + Q('City_Hyderabad') + Q('City_Indore') + Q('City_Kalyan') + Q('City_Kanpur') + Q('City_Kolkata') + Q('City_Lucknow') + Q('City_Ludhiana') + Q('City_Meerut') + Q('City_Nashik') + Q('City_Patna') + Q('City_Rajkot') + Q('City_Srinagar') + Q('City_Surat') + Q('City_Thane') + Q('City_Vadodara') + Q('City_Vasai_Virar') + Q('City_Visakhapatnam')\n",
      "Optimization terminated successfully.\n",
      "         Current function value: 0.347627\n",
      "         Iterations 7\n",
      "\n",
      " Discarding atribute \"Q('City_Lucknow')\" with p-value equal to 0.1995262119488871 \n",
      "\n",
      "Estimating model...: \n",
      " Depression ~ Q('Degree[T.Class 12]') + Q('Degree[T.LLM]') + Q('Age') + Q('AP') + Q('CGPA') + Q('SS') + Q('SD') + Q('DH') + Q('ST') + Q('WSH') + Q('FS') + Q('FHMI') + Q('City_Ahmedabad') + Q('City_Bangalore') + Q('City_Bhopal') + Q('City_Delhi') + Q('City_Faridabad') + Q('City_Ghaziabad') + Q('City_Hyderabad') + Q('City_Indore') + Q('City_Kalyan') + Q('City_Kanpur') + Q('City_Kolkata') + Q('City_Ludhiana') + Q('City_Meerut') + Q('City_Nashik') + Q('City_Patna') + Q('City_Rajkot') + Q('City_Srinagar') + Q('City_Surat') + Q('City_Thane') + Q('City_Vadodara') + Q('City_Vasai_Virar') + Q('City_Visakhapatnam')\n",
      "Optimization terminated successfully.\n",
      "         Current function value: 0.347656\n",
      "         Iterations 7\n",
      "\n",
      " Discarding atribute \"Q('City_Vadodara')\" with p-value equal to 0.2201942714548505 \n",
      "\n",
      "Estimating model...: \n",
      " Depression ~ Q('Degree[T.Class 12]') + Q('Degree[T.LLM]') + Q('Age') + Q('AP') + Q('CGPA') + Q('SS') + Q('SD') + Q('DH') + Q('ST') + Q('WSH') + Q('FS') + Q('FHMI') + Q('City_Ahmedabad') + Q('City_Bangalore') + Q('City_Bhopal') + Q('City_Delhi') + Q('City_Faridabad') + Q('City_Ghaziabad') + Q('City_Hyderabad') + Q('City_Indore') + Q('City_Kalyan') + Q('City_Kanpur') + Q('City_Kolkata') + Q('City_Ludhiana') + Q('City_Meerut') + Q('City_Nashik') + Q('City_Patna') + Q('City_Rajkot') + Q('City_Srinagar') + Q('City_Surat') + Q('City_Thane') + Q('City_Vasai_Virar') + Q('City_Visakhapatnam')\n",
      "Optimization terminated successfully.\n",
      "         Current function value: 0.347683\n",
      "         Iterations 7\n",
      "\n",
      " Discarding atribute \"Q('City_Srinagar')\" with p-value equal to 0.12310584485306278 \n",
      "\n",
      "Estimating model...: \n",
      " Depression ~ Q('Degree[T.Class 12]') + Q('Degree[T.LLM]') + Q('Age') + Q('AP') + Q('CGPA') + Q('SS') + Q('SD') + Q('DH') + Q('ST') + Q('WSH') + Q('FS') + Q('FHMI') + Q('City_Ahmedabad') + Q('City_Bangalore') + Q('City_Bhopal') + Q('City_Delhi') + Q('City_Faridabad') + Q('City_Ghaziabad') + Q('City_Hyderabad') + Q('City_Indore') + Q('City_Kalyan') + Q('City_Kanpur') + Q('City_Kolkata') + Q('City_Ludhiana') + Q('City_Meerut') + Q('City_Nashik') + Q('City_Patna') + Q('City_Rajkot') + Q('City_Surat') + Q('City_Thane') + Q('City_Vasai_Virar') + Q('City_Visakhapatnam')\n",
      "Optimization terminated successfully.\n",
      "         Current function value: 0.347726\n",
      "         Iterations 7\n",
      "\n",
      " Discarding atribute \"Q('City_Vasai_Virar')\" with p-value equal to 0.18098365941705374 \n",
      "\n",
      "Estimating model...: \n",
      " Depression ~ Q('Degree[T.Class 12]') + Q('Degree[T.LLM]') + Q('Age') + Q('AP') + Q('CGPA') + Q('SS') + Q('SD') + Q('DH') + Q('ST') + Q('WSH') + Q('FS') + Q('FHMI') + Q('City_Ahmedabad') + Q('City_Bangalore') + Q('City_Bhopal') + Q('City_Delhi') + Q('City_Faridabad') + Q('City_Ghaziabad') + Q('City_Hyderabad') + Q('City_Indore') + Q('City_Kalyan') + Q('City_Kanpur') + Q('City_Kolkata') + Q('City_Ludhiana') + Q('City_Meerut') + Q('City_Nashik') + Q('City_Patna') + Q('City_Rajkot') + Q('City_Surat') + Q('City_Thane') + Q('City_Visakhapatnam')\n",
      "Optimization terminated successfully.\n",
      "         Current function value: 0.347759\n",
      "         Iterations 7\n",
      "\n",
      " Discarding atribute \"Q('City_Kanpur')\" with p-value equal to 0.19907237559945945 \n",
      "\n",
      "Estimating model...: \n",
      " Depression ~ Q('Degree[T.Class 12]') + Q('Degree[T.LLM]') + Q('Age') + Q('AP') + Q('CGPA') + Q('SS') + Q('SD') + Q('DH') + Q('ST') + Q('WSH') + Q('FS') + Q('FHMI') + Q('City_Ahmedabad') + Q('City_Bangalore') + Q('City_Bhopal') + Q('City_Delhi') + Q('City_Faridabad') + Q('City_Ghaziabad') + Q('City_Hyderabad') + Q('City_Indore') + Q('City_Kalyan') + Q('City_Kolkata') + Q('City_Ludhiana') + Q('City_Meerut') + Q('City_Nashik') + Q('City_Patna') + Q('City_Rajkot') + Q('City_Surat') + Q('City_Thane') + Q('City_Visakhapatnam')\n",
      "Optimization terminated successfully.\n",
      "         Current function value: 0.347789\n",
      "         Iterations 7\n",
      "\n",
      " Discarding atribute \"Q('City_Ghaziabad')\" with p-value equal to 0.20022039958590088 \n",
      "\n",
      "Estimating model...: \n",
      " Depression ~ Q('Degree[T.Class 12]') + Q('Degree[T.LLM]') + Q('Age') + Q('AP') + Q('CGPA') + Q('SS') + Q('SD') + Q('DH') + Q('ST') + Q('WSH') + Q('FS') + Q('FHMI') + Q('City_Ahmedabad') + Q('City_Bangalore') + Q('City_Bhopal') + Q('City_Delhi') + Q('City_Faridabad') + Q('City_Hyderabad') + Q('City_Indore') + Q('City_Kalyan') + Q('City_Kolkata') + Q('City_Ludhiana') + Q('City_Meerut') + Q('City_Nashik') + Q('City_Patna') + Q('City_Rajkot') + Q('City_Surat') + Q('City_Thane') + Q('City_Visakhapatnam')\n",
      "Optimization terminated successfully.\n",
      "         Current function value: 0.347818\n",
      "         Iterations 7\n",
      "\n",
      " Discarding atribute \"Q('City_Indore')\" with p-value equal to 0.1828057222015671 \n",
      "\n",
      "Estimating model...: \n",
      " Depression ~ Q('Degree[T.Class 12]') + Q('Degree[T.LLM]') + Q('Age') + Q('AP') + Q('CGPA') + Q('SS') + Q('SD') + Q('DH') + Q('ST') + Q('WSH') + Q('FS') + Q('FHMI') + Q('City_Ahmedabad') + Q('City_Bangalore') + Q('City_Bhopal') + Q('City_Delhi') + Q('City_Faridabad') + Q('City_Hyderabad') + Q('City_Kalyan') + Q('City_Kolkata') + Q('City_Ludhiana') + Q('City_Meerut') + Q('City_Nashik') + Q('City_Patna') + Q('City_Rajkot') + Q('City_Surat') + Q('City_Thane') + Q('City_Visakhapatnam')\n",
      "Optimization terminated successfully.\n",
      "         Current function value: 0.347851\n",
      "         Iterations 7\n",
      "\n",
      " Discarding atribute \"Q('City_Surat')\" with p-value equal to 0.17488929928208818 \n",
      "\n",
      "Estimating model...: \n",
      " Depression ~ Q('Degree[T.Class 12]') + Q('Degree[T.LLM]') + Q('Age') + Q('AP') + Q('CGPA') + Q('SS') + Q('SD') + Q('DH') + Q('ST') + Q('WSH') + Q('FS') + Q('FHMI') + Q('City_Ahmedabad') + Q('City_Bangalore') + Q('City_Bhopal') + Q('City_Delhi') + Q('City_Faridabad') + Q('City_Hyderabad') + Q('City_Kalyan') + Q('City_Kolkata') + Q('City_Ludhiana') + Q('City_Meerut') + Q('City_Nashik') + Q('City_Patna') + Q('City_Rajkot') + Q('City_Thane') + Q('City_Visakhapatnam')\n",
      "Optimization terminated successfully.\n",
      "         Current function value: 0.347884\n",
      "         Iterations 7\n",
      "\n",
      " Discarding atribute \"Q('City_Nashik')\" with p-value equal to 0.16215478600561406 \n",
      "\n",
      "Estimating model...: \n",
      " Depression ~ Q('Degree[T.Class 12]') + Q('Degree[T.LLM]') + Q('Age') + Q('AP') + Q('CGPA') + Q('SS') + Q('SD') + Q('DH') + Q('ST') + Q('WSH') + Q('FS') + Q('FHMI') + Q('City_Ahmedabad') + Q('City_Bangalore') + Q('City_Bhopal') + Q('City_Delhi') + Q('City_Faridabad') + Q('City_Hyderabad') + Q('City_Kalyan') + Q('City_Kolkata') + Q('City_Ludhiana') + Q('City_Meerut') + Q('City_Patna') + Q('City_Rajkot') + Q('City_Thane') + Q('City_Visakhapatnam')\n",
      "Optimization terminated successfully.\n",
      "         Current function value: 0.347919\n",
      "         Iterations 7\n",
      "\n",
      " Discarding atribute \"Q('City_Visakhapatnam')\" with p-value equal to 0.1790482831096465 \n",
      "\n",
      "Estimating model...: \n",
      " Depression ~ Q('Degree[T.Class 12]') + Q('Degree[T.LLM]') + Q('Age') + Q('AP') + Q('CGPA') + Q('SS') + Q('SD') + Q('DH') + Q('ST') + Q('WSH') + Q('FS') + Q('FHMI') + Q('City_Ahmedabad') + Q('City_Bangalore') + Q('City_Bhopal') + Q('City_Delhi') + Q('City_Faridabad') + Q('City_Hyderabad') + Q('City_Kalyan') + Q('City_Kolkata') + Q('City_Ludhiana') + Q('City_Meerut') + Q('City_Patna') + Q('City_Rajkot') + Q('City_Thane')\n",
      "Optimization terminated successfully.\n",
      "         Current function value: 0.347952\n",
      "         Iterations 7\n",
      "\n",
      " Discarding atribute \"Q('City_Rajkot')\" with p-value equal to 0.18237318750630283 \n",
      "\n",
      "Estimating model...: \n",
      " Depression ~ Q('Degree[T.Class 12]') + Q('Degree[T.LLM]') + Q('Age') + Q('AP') + Q('CGPA') + Q('SS') + Q('SD') + Q('DH') + Q('ST') + Q('WSH') + Q('FS') + Q('FHMI') + Q('City_Ahmedabad') + Q('City_Bangalore') + Q('City_Bhopal') + Q('City_Delhi') + Q('City_Faridabad') + Q('City_Hyderabad') + Q('City_Kalyan') + Q('City_Kolkata') + Q('City_Ludhiana') + Q('City_Meerut') + Q('City_Patna') + Q('City_Thane')\n",
      "Optimization terminated successfully.\n",
      "         Current function value: 0.347984\n",
      "         Iterations 7\n",
      "\n",
      " Discarding atribute \"Q('City_Delhi')\" with p-value equal to 0.16070359941428636 \n",
      "\n",
      "Estimating model...: \n",
      " Depression ~ Q('Degree[T.Class 12]') + Q('Degree[T.LLM]') + Q('Age') + Q('AP') + Q('CGPA') + Q('SS') + Q('SD') + Q('DH') + Q('ST') + Q('WSH') + Q('FS') + Q('FHMI') + Q('City_Ahmedabad') + Q('City_Bangalore') + Q('City_Bhopal') + Q('City_Faridabad') + Q('City_Hyderabad') + Q('City_Kalyan') + Q('City_Kolkata') + Q('City_Ludhiana') + Q('City_Meerut') + Q('City_Patna') + Q('City_Thane')\n",
      "Optimization terminated successfully.\n",
      "         Current function value: 0.348020\n",
      "         Iterations 7\n",
      "\n",
      " Discarding atribute \"Q('City_Bangalore')\" with p-value equal to 0.1691069633288128 \n",
      "\n",
      "Estimating model...: \n",
      " Depression ~ Q('Degree[T.Class 12]') + Q('Degree[T.LLM]') + Q('Age') + Q('AP') + Q('CGPA') + Q('SS') + Q('SD') + Q('DH') + Q('ST') + Q('WSH') + Q('FS') + Q('FHMI') + Q('City_Ahmedabad') + Q('City_Bhopal') + Q('City_Faridabad') + Q('City_Hyderabad') + Q('City_Kalyan') + Q('City_Kolkata') + Q('City_Ludhiana') + Q('City_Meerut') + Q('City_Patna') + Q('City_Thane')\n",
      "Optimization terminated successfully.\n",
      "         Current function value: 0.348054\n",
      "         Iterations 7\n",
      "\n",
      " Discarding atribute \"Q('City_Ludhiana')\" with p-value equal to 0.18033903325210854 \n",
      "\n",
      "Estimating model...: \n",
      " Depression ~ Q('Degree[T.Class 12]') + Q('Degree[T.LLM]') + Q('Age') + Q('AP') + Q('CGPA') + Q('SS') + Q('SD') + Q('DH') + Q('ST') + Q('WSH') + Q('FS') + Q('FHMI') + Q('City_Ahmedabad') + Q('City_Bhopal') + Q('City_Faridabad') + Q('City_Hyderabad') + Q('City_Kalyan') + Q('City_Kolkata') + Q('City_Meerut') + Q('City_Patna') + Q('City_Thane')\n",
      "Optimization terminated successfully.\n",
      "         Current function value: 0.348087\n",
      "         Iterations 7\n",
      "\n",
      " Discarding atribute \"Q('City_Faridabad')\" with p-value equal to 0.13367130838962812 \n",
      "\n",
      "Estimating model...: \n",
      " Depression ~ Q('Degree[T.Class 12]') + Q('Degree[T.LLM]') + Q('Age') + Q('AP') + Q('CGPA') + Q('SS') + Q('SD') + Q('DH') + Q('ST') + Q('WSH') + Q('FS') + Q('FHMI') + Q('City_Ahmedabad') + Q('City_Bhopal') + Q('City_Hyderabad') + Q('City_Kalyan') + Q('City_Kolkata') + Q('City_Meerut') + Q('City_Patna') + Q('City_Thane')\n",
      "Optimization terminated successfully.\n",
      "         Current function value: 0.348128\n",
      "         Iterations 7\n",
      "\n",
      " Discarding atribute \"Q('City_Kalyan')\" with p-value equal to 0.10245361399163642 \n",
      "\n",
      "Estimating model...: \n",
      " Depression ~ Q('Degree[T.Class 12]') + Q('Degree[T.LLM]') + Q('Age') + Q('AP') + Q('CGPA') + Q('SS') + Q('SD') + Q('DH') + Q('ST') + Q('WSH') + Q('FS') + Q('FHMI') + Q('City_Ahmedabad') + Q('City_Bhopal') + Q('City_Hyderabad') + Q('City_Kolkata') + Q('City_Meerut') + Q('City_Patna') + Q('City_Thane')\n",
      "Optimization terminated successfully.\n",
      "         Current function value: 0.348176\n",
      "         Iterations 7\n",
      "\n",
      " Discarding atribute \"Q('City_Thane')\" with p-value equal to 0.08468145238709154 \n",
      "\n",
      "Estimating model...: \n",
      " Depression ~ Q('Degree[T.Class 12]') + Q('Degree[T.LLM]') + Q('Age') + Q('AP') + Q('CGPA') + Q('SS') + Q('SD') + Q('DH') + Q('ST') + Q('WSH') + Q('FS') + Q('FHMI') + Q('City_Ahmedabad') + Q('City_Bhopal') + Q('City_Hyderabad') + Q('City_Kolkata') + Q('City_Meerut') + Q('City_Patna')\n",
      "Optimization terminated successfully.\n",
      "         Current function value: 0.348230\n",
      "         Iterations 7\n",
      "\n",
      " Discarding atribute \"Q('City_Meerut')\" with p-value equal to 0.050764872958395234 \n",
      "\n",
      "Estimating model...: \n",
      " Depression ~ Q('Degree[T.Class 12]') + Q('Degree[T.LLM]') + Q('Age') + Q('AP') + Q('CGPA') + Q('SS') + Q('SD') + Q('DH') + Q('ST') + Q('WSH') + Q('FS') + Q('FHMI') + Q('City_Ahmedabad') + Q('City_Bhopal') + Q('City_Hyderabad') + Q('City_Kolkata') + Q('City_Patna')\n",
      "Optimization terminated successfully.\n",
      "         Current function value: 0.348299\n",
      "         Iterations 7\n",
      "\n",
      " No more atributes with p-value higher than 0.05\n",
      "\n",
      " Atributes discarded on the process...: \n",
      "\n",
      "{'atribute': \"Q('Degree[T.MHM]')\", 'p-value': np.float64(0.9384790110145333)}\n",
      "{'atribute': \"Q('Degree[T.BE]')\", 'p-value': np.float64(0.9105521427966179)}\n",
      "{'atribute': \"Q('City_Jaipur')\", 'p-value': np.float64(0.9063132067924997)}\n",
      "{'atribute': \"Q('Degree[T.BBA]')\", 'p-value': np.float64(0.8536613932302154)}\n",
      "{'atribute': \"Q('City_Mumbai')\", 'p-value': np.float64(0.8159868420420014)}\n",
      "{'atribute': \"Q('Degree[T.M.Pharm]')\", 'p-value': np.float64(0.8110285315262905)}\n",
      "{'atribute': \"Q('Gender')\", 'p-value': np.float64(0.7737942425466289)}\n",
      "{'atribute': \"Q('Degree[T.MD]')\", 'p-value': np.float64(0.7724934053131232)}\n",
      "{'atribute': \"Q('Degree[T.M.Com]')\", 'p-value': np.float64(0.6970892686161548)}\n",
      "{'atribute': \"Q('City_Varanasi')\", 'p-value': np.float64(0.6882896459718202)}\n",
      "{'atribute': \"Q('Degree[T.B.Ed]')\", 'p-value': np.float64(0.6621992770235967)}\n",
      "{'atribute': \"Q('Degree[T.ME]')\", 'p-value': np.float64(0.6204685219593508)}\n",
      "{'atribute': \"Q('Degree[T.BCA]')\", 'p-value': np.float64(0.6068559488398682)}\n",
      "{'atribute': \"Q('City_Nagpur')\", 'p-value': np.float64(0.5191584934563245)}\n",
      "{'atribute': \"Q('Degree[T.MCA]')\", 'p-value': np.float64(0.49708950307957267)}\n",
      "{'atribute': \"Q('Degree[T.M.Ed]')\", 'p-value': np.float64(0.5103754626594259)}\n",
      "{'atribute': \"Q('Degree[T.B.Tech]')\", 'p-value': np.float64(0.4023569918854012)}\n",
      "{'atribute': \"Q('Degree[T.B.Pharm]')\", 'p-value': np.float64(0.35007346083748736)}\n",
      "{'atribute': \"Q('Degree[T.MA]')\", 'p-value': np.float64(0.3294905646118337)}\n",
      "{'atribute': \"Q('Degree[T.M.Tech]')\", 'p-value': np.float64(0.2737278260545095)}\n",
      "{'atribute': \"Q('Degree[T.Others]')\", 'p-value': np.float64(0.2664369830747556)}\n",
      "{'atribute': \"Q('Degree[T.BHM]')\", 'p-value': np.float64(0.2534585210712782)}\n",
      "{'atribute': \"Q('Degree[T.PhD]')\", 'p-value': np.float64(0.22149076795639666)}\n",
      "{'atribute': \"Q('Degree[T.MBBS]')\", 'p-value': np.float64(0.20842344371051114)}\n",
      "{'atribute': \"Q('Degree[T.BSc]')\", 'p-value': np.float64(0.19478202374572462)}\n",
      "{'atribute': \"Q('Degree[T.LLB]')\", 'p-value': np.float64(0.18554090892038144)}\n",
      "{'atribute': \"Q('Degree[T.MBA]')\", 'p-value': np.float64(0.1411290757456806)}\n",
      "{'atribute': \"Q('Degree[T.B.Com]')\", 'p-value': np.float64(0.13839818742450571)}\n",
      "{'atribute': \"Q('Degree[T.MSc]')\", 'p-value': np.float64(0.13189024387602133)}\n",
      "{'atribute': \"Q('Degree[T.BA]')\", 'p-value': np.float64(0.1262336653828783)}\n",
      "{'atribute': \"Q('City_Chennai')\", 'p-value': np.float64(0.11455505839247337)}\n",
      "{'atribute': \"Q('City_Pune')\", 'p-value': np.float64(0.1415360630687379)}\n",
      "{'atribute': \"Q('City_Lucknow')\", 'p-value': np.float64(0.1995262119488871)}\n",
      "{'atribute': \"Q('City_Vadodara')\", 'p-value': np.float64(0.2201942714548505)}\n",
      "{'atribute': \"Q('City_Srinagar')\", 'p-value': np.float64(0.12310584485306278)}\n",
      "{'atribute': \"Q('City_Vasai_Virar')\", 'p-value': np.float64(0.18098365941705374)}\n",
      "{'atribute': \"Q('City_Kanpur')\", 'p-value': np.float64(0.19907237559945945)}\n",
      "{'atribute': \"Q('City_Ghaziabad')\", 'p-value': np.float64(0.20022039958590088)}\n",
      "{'atribute': \"Q('City_Indore')\", 'p-value': np.float64(0.1828057222015671)}\n",
      "{'atribute': \"Q('City_Surat')\", 'p-value': np.float64(0.17488929928208818)}\n",
      "{'atribute': \"Q('City_Nashik')\", 'p-value': np.float64(0.16215478600561406)}\n",
      "{'atribute': \"Q('City_Visakhapatnam')\", 'p-value': np.float64(0.1790482831096465)}\n",
      "{'atribute': \"Q('City_Rajkot')\", 'p-value': np.float64(0.18237318750630283)}\n",
      "{'atribute': \"Q('City_Delhi')\", 'p-value': np.float64(0.16070359941428636)}\n",
      "{'atribute': \"Q('City_Bangalore')\", 'p-value': np.float64(0.1691069633288128)}\n",
      "{'atribute': \"Q('City_Ludhiana')\", 'p-value': np.float64(0.18033903325210854)}\n",
      "{'atribute': \"Q('City_Faridabad')\", 'p-value': np.float64(0.13367130838962812)}\n",
      "{'atribute': \"Q('City_Kalyan')\", 'p-value': np.float64(0.10245361399163642)}\n",
      "{'atribute': \"Q('City_Thane')\", 'p-value': np.float64(0.08468145238709154)}\n",
      "{'atribute': \"Q('City_Meerut')\", 'p-value': np.float64(0.050764872958395234)}\n",
      "\n",
      " Model after stepwise process...: \n",
      " Depression ~ Q('Degree[T.Class 12]') + Q('Degree[T.LLM]') + Q('Age') + Q('AP') + Q('CGPA') + Q('SS') + Q('SD') + Q('DH') + Q('ST') + Q('WSH') + Q('FS') + Q('FHMI') + Q('City_Ahmedabad') + Q('City_Bhopal') + Q('City_Hyderabad') + Q('City_Kolkata') + Q('City_Patna') \n",
      "\n",
      "                           Logit Regression Results                           \n",
      "==============================================================================\n",
      "Dep. Variable:             Depression   No. Observations:                27710\n",
      "Model:                          Logit   Df Residuals:                    27692\n",
      "Method:                           MLE   Df Model:                           17\n",
      "Date:                sáb, 01 fev 2025   Pseudo R-squ.:                  0.4865\n",
      "Time:                        16:11:51   Log-Likelihood:                -9651.4\n",
      "converged:                       True   LL-Null:                       -18796.\n",
      "Covariance Type:            nonrobust   LLR p-value:                     0.000\n",
      "===========================================================================================\n",
      "                              coef    std err          z      P>|z|      [0.025      0.975]\n",
      "-------------------------------------------------------------------------------------------\n",
      "Intercept                  -3.0646      0.191    -16.061      0.000      -3.439      -2.691\n",
      "Q('Degree[T.Class 12]')    -0.1599      0.057     -2.784      0.005      -0.272      -0.047\n",
      "Q('Degree[T.LLM]')          0.2865      0.137      2.095      0.036       0.018       0.554\n",
      "Q('Age')                   -0.1185      0.005    -24.376      0.000      -0.128      -0.109\n",
      "Q('AP')                     0.8388      0.015     56.091      0.000       0.809       0.868\n",
      "Q('CGPA')                   0.0571      0.013      4.564      0.000       0.033       0.082\n",
      "Q('SS')                    -0.2442      0.014    -17.904      0.000      -0.271      -0.218\n",
      "Q('SD')                    -0.1905      0.016    -11.652      0.000      -0.223      -0.158\n",
      "Q('DH')                     0.3548      0.015     23.619      0.000       0.325       0.384\n",
      "Q('ST')                     2.5192      0.039     64.164      0.000       2.442       2.596\n",
      "Q('WSH')                    0.1170      0.005     23.447      0.000       0.107       0.127\n",
      "Q('FS')                     0.5524      0.013     41.284      0.000       0.526       0.579\n",
      "Q('FHMI')                   0.2473      0.037      6.765      0.000       0.176       0.319\n",
      "Q('City_Ahmedabad')         0.3332      0.102      3.252      0.001       0.132       0.534\n",
      "Q('City_Bhopal')            0.2024      0.100      2.015      0.044       0.006       0.399\n",
      "Q('City_Hyderabad')         0.3117      0.087      3.597      0.000       0.142       0.481\n",
      "Q('City_Kolkata')           0.2258      0.100      2.267      0.023       0.031       0.421\n",
      "Q('City_Patna')             0.2215      0.097      2.273      0.023       0.031       0.412\n",
      "===========================================================================================\n"
     ]
    }
   ],
   "source": [
    "stepwise_model = stepwise(model,pvalue_limit=0.05)"
   ]
  },
  {
   "cell_type": "code",
   "execution_count": 314,
   "metadata": {
    "execution": {
     "iopub.execute_input": "2025-01-16T21:31:30.092509Z",
     "iopub.status.busy": "2025-01-16T21:31:30.092233Z",
     "iopub.status.idle": "2025-01-16T21:31:30.166621Z",
     "shell.execute_reply": "2025-01-16T21:31:30.165425Z",
     "shell.execute_reply.started": "2025-01-16T21:31:30.092485Z"
    },
    "trusted": true
   },
   "outputs": [
    {
     "data": {
      "text/html": [
       "<table class=\"simpletable\">\n",
       "<caption>Logit Regression Results</caption>\n",
       "<tr>\n",
       "  <th>Dep. Variable:</th>      <td>Depression</td>    <th>  No. Observations:  </th>  <td> 27710</td> \n",
       "</tr>\n",
       "<tr>\n",
       "  <th>Model:</th>                 <td>Logit</td>      <th>  Df Residuals:      </th>  <td> 27692</td> \n",
       "</tr>\n",
       "<tr>\n",
       "  <th>Method:</th>                 <td>MLE</td>       <th>  Df Model:          </th>  <td>    17</td> \n",
       "</tr>\n",
       "<tr>\n",
       "  <th>Date:</th>            <td>sáb, 01 fev 2025</td> <th>  Pseudo R-squ.:     </th>  <td>0.4865</td> \n",
       "</tr>\n",
       "<tr>\n",
       "  <th>Time:</th>                <td>16:12:40</td>     <th>  Log-Likelihood:    </th> <td> -9651.4</td>\n",
       "</tr>\n",
       "<tr>\n",
       "  <th>converged:</th>             <td>True</td>       <th>  LL-Null:           </th> <td> -18796.</td>\n",
       "</tr>\n",
       "<tr>\n",
       "  <th>Covariance Type:</th>     <td>nonrobust</td>    <th>  LLR p-value:       </th>  <td> 0.000</td> \n",
       "</tr>\n",
       "</table>\n",
       "<table class=\"simpletable\">\n",
       "<tr>\n",
       "             <td></td>                <th>coef</th>     <th>std err</th>      <th>z</th>      <th>P>|z|</th>  <th>[0.025</th>    <th>0.975]</th>  \n",
       "</tr>\n",
       "<tr>\n",
       "  <th>Intercept</th>               <td>   -3.0646</td> <td>    0.191</td> <td>  -16.061</td> <td> 0.000</td> <td>   -3.439</td> <td>   -2.691</td>\n",
       "</tr>\n",
       "<tr>\n",
       "  <th>Q('Degree[T.Class 12]')</th> <td>   -0.1599</td> <td>    0.057</td> <td>   -2.784</td> <td> 0.005</td> <td>   -0.272</td> <td>   -0.047</td>\n",
       "</tr>\n",
       "<tr>\n",
       "  <th>Q('Degree[T.LLM]')</th>      <td>    0.2865</td> <td>    0.137</td> <td>    2.095</td> <td> 0.036</td> <td>    0.018</td> <td>    0.554</td>\n",
       "</tr>\n",
       "<tr>\n",
       "  <th>Q('Age')</th>                <td>   -0.1185</td> <td>    0.005</td> <td>  -24.376</td> <td> 0.000</td> <td>   -0.128</td> <td>   -0.109</td>\n",
       "</tr>\n",
       "<tr>\n",
       "  <th>Q('AP')</th>                 <td>    0.8388</td> <td>    0.015</td> <td>   56.091</td> <td> 0.000</td> <td>    0.809</td> <td>    0.868</td>\n",
       "</tr>\n",
       "<tr>\n",
       "  <th>Q('CGPA')</th>               <td>    0.0571</td> <td>    0.013</td> <td>    4.564</td> <td> 0.000</td> <td>    0.033</td> <td>    0.082</td>\n",
       "</tr>\n",
       "<tr>\n",
       "  <th>Q('SS')</th>                 <td>   -0.2442</td> <td>    0.014</td> <td>  -17.904</td> <td> 0.000</td> <td>   -0.271</td> <td>   -0.218</td>\n",
       "</tr>\n",
       "<tr>\n",
       "  <th>Q('SD')</th>                 <td>   -0.1905</td> <td>    0.016</td> <td>  -11.652</td> <td> 0.000</td> <td>   -0.223</td> <td>   -0.158</td>\n",
       "</tr>\n",
       "<tr>\n",
       "  <th>Q('DH')</th>                 <td>    0.3548</td> <td>    0.015</td> <td>   23.619</td> <td> 0.000</td> <td>    0.325</td> <td>    0.384</td>\n",
       "</tr>\n",
       "<tr>\n",
       "  <th>Q('ST')</th>                 <td>    2.5192</td> <td>    0.039</td> <td>   64.164</td> <td> 0.000</td> <td>    2.442</td> <td>    2.596</td>\n",
       "</tr>\n",
       "<tr>\n",
       "  <th>Q('WSH')</th>                <td>    0.1170</td> <td>    0.005</td> <td>   23.447</td> <td> 0.000</td> <td>    0.107</td> <td>    0.127</td>\n",
       "</tr>\n",
       "<tr>\n",
       "  <th>Q('FS')</th>                 <td>    0.5524</td> <td>    0.013</td> <td>   41.284</td> <td> 0.000</td> <td>    0.526</td> <td>    0.579</td>\n",
       "</tr>\n",
       "<tr>\n",
       "  <th>Q('FHMI')</th>               <td>    0.2473</td> <td>    0.037</td> <td>    6.765</td> <td> 0.000</td> <td>    0.176</td> <td>    0.319</td>\n",
       "</tr>\n",
       "<tr>\n",
       "  <th>Q('City_Ahmedabad')</th>     <td>    0.3332</td> <td>    0.102</td> <td>    3.252</td> <td> 0.001</td> <td>    0.132</td> <td>    0.534</td>\n",
       "</tr>\n",
       "<tr>\n",
       "  <th>Q('City_Bhopal')</th>        <td>    0.2024</td> <td>    0.100</td> <td>    2.015</td> <td> 0.044</td> <td>    0.006</td> <td>    0.399</td>\n",
       "</tr>\n",
       "<tr>\n",
       "  <th>Q('City_Hyderabad')</th>     <td>    0.3117</td> <td>    0.087</td> <td>    3.597</td> <td> 0.000</td> <td>    0.142</td> <td>    0.481</td>\n",
       "</tr>\n",
       "<tr>\n",
       "  <th>Q('City_Kolkata')</th>       <td>    0.2258</td> <td>    0.100</td> <td>    2.267</td> <td> 0.023</td> <td>    0.031</td> <td>    0.421</td>\n",
       "</tr>\n",
       "<tr>\n",
       "  <th>Q('City_Patna')</th>         <td>    0.2215</td> <td>    0.097</td> <td>    2.273</td> <td> 0.023</td> <td>    0.031</td> <td>    0.412</td>\n",
       "</tr>\n",
       "</table>"
      ],
      "text/latex": [
       "\\begin{center}\n",
       "\\begin{tabular}{lclc}\n",
       "\\toprule\n",
       "\\textbf{Dep. Variable:}          &    Depression    & \\textbf{  No. Observations:  } &    27710    \\\\\n",
       "\\textbf{Model:}                  &      Logit       & \\textbf{  Df Residuals:      } &    27692    \\\\\n",
       "\\textbf{Method:}                 &       MLE        & \\textbf{  Df Model:          } &       17    \\\\\n",
       "\\textbf{Date:}                   & sáb, 01 fev 2025 & \\textbf{  Pseudo R-squ.:     } &   0.4865    \\\\\n",
       "\\textbf{Time:}                   &     16:12:40     & \\textbf{  Log-Likelihood:    } &   -9651.4   \\\\\n",
       "\\textbf{converged:}              &       True       & \\textbf{  LL-Null:           } &   -18796.   \\\\\n",
       "\\textbf{Covariance Type:}        &    nonrobust     & \\textbf{  LLR p-value:       } &    0.000    \\\\\n",
       "\\bottomrule\n",
       "\\end{tabular}\n",
       "\\begin{tabular}{lcccccc}\n",
       "                                 & \\textbf{coef} & \\textbf{std err} & \\textbf{z} & \\textbf{P$> |$z$|$} & \\textbf{[0.025} & \\textbf{0.975]}  \\\\\n",
       "\\midrule\n",
       "\\textbf{Intercept}               &      -3.0646  &        0.191     &   -16.061  &         0.000        &       -3.439    &       -2.691     \\\\\n",
       "\\textbf{Q('Degree[T.Class 12]')} &      -0.1599  &        0.057     &    -2.784  &         0.005        &       -0.272    &       -0.047     \\\\\n",
       "\\textbf{Q('Degree[T.LLM]')}      &       0.2865  &        0.137     &     2.095  &         0.036        &        0.018    &        0.554     \\\\\n",
       "\\textbf{Q('Age')}                &      -0.1185  &        0.005     &   -24.376  &         0.000        &       -0.128    &       -0.109     \\\\\n",
       "\\textbf{Q('AP')}                 &       0.8388  &        0.015     &    56.091  &         0.000        &        0.809    &        0.868     \\\\\n",
       "\\textbf{Q('CGPA')}               &       0.0571  &        0.013     &     4.564  &         0.000        &        0.033    &        0.082     \\\\\n",
       "\\textbf{Q('SS')}                 &      -0.2442  &        0.014     &   -17.904  &         0.000        &       -0.271    &       -0.218     \\\\\n",
       "\\textbf{Q('SD')}                 &      -0.1905  &        0.016     &   -11.652  &         0.000        &       -0.223    &       -0.158     \\\\\n",
       "\\textbf{Q('DH')}                 &       0.3548  &        0.015     &    23.619  &         0.000        &        0.325    &        0.384     \\\\\n",
       "\\textbf{Q('ST')}                 &       2.5192  &        0.039     &    64.164  &         0.000        &        2.442    &        2.596     \\\\\n",
       "\\textbf{Q('WSH')}                &       0.1170  &        0.005     &    23.447  &         0.000        &        0.107    &        0.127     \\\\\n",
       "\\textbf{Q('FS')}                 &       0.5524  &        0.013     &    41.284  &         0.000        &        0.526    &        0.579     \\\\\n",
       "\\textbf{Q('FHMI')}               &       0.2473  &        0.037     &     6.765  &         0.000        &        0.176    &        0.319     \\\\\n",
       "\\textbf{Q('City\\_Ahmedabad')}    &       0.3332  &        0.102     &     3.252  &         0.001        &        0.132    &        0.534     \\\\\n",
       "\\textbf{Q('City\\_Bhopal')}       &       0.2024  &        0.100     &     2.015  &         0.044        &        0.006    &        0.399     \\\\\n",
       "\\textbf{Q('City\\_Hyderabad')}    &       0.3117  &        0.087     &     3.597  &         0.000        &        0.142    &        0.481     \\\\\n",
       "\\textbf{Q('City\\_Kolkata')}      &       0.2258  &        0.100     &     2.267  &         0.023        &        0.031    &        0.421     \\\\\n",
       "\\textbf{Q('City\\_Patna')}        &       0.2215  &        0.097     &     2.273  &         0.023        &        0.031    &        0.412     \\\\\n",
       "\\bottomrule\n",
       "\\end{tabular}\n",
       "%\\caption{Logit Regression Results}\n",
       "\\end{center}"
      ],
      "text/plain": [
       "<class 'statsmodels.iolib.summary.Summary'>\n",
       "\"\"\"\n",
       "                           Logit Regression Results                           \n",
       "==============================================================================\n",
       "Dep. Variable:             Depression   No. Observations:                27710\n",
       "Model:                          Logit   Df Residuals:                    27692\n",
       "Method:                           MLE   Df Model:                           17\n",
       "Date:                sáb, 01 fev 2025   Pseudo R-squ.:                  0.4865\n",
       "Time:                        16:12:40   Log-Likelihood:                -9651.4\n",
       "converged:                       True   LL-Null:                       -18796.\n",
       "Covariance Type:            nonrobust   LLR p-value:                     0.000\n",
       "===========================================================================================\n",
       "                              coef    std err          z      P>|z|      [0.025      0.975]\n",
       "-------------------------------------------------------------------------------------------\n",
       "Intercept                  -3.0646      0.191    -16.061      0.000      -3.439      -2.691\n",
       "Q('Degree[T.Class 12]')    -0.1599      0.057     -2.784      0.005      -0.272      -0.047\n",
       "Q('Degree[T.LLM]')          0.2865      0.137      2.095      0.036       0.018       0.554\n",
       "Q('Age')                   -0.1185      0.005    -24.376      0.000      -0.128      -0.109\n",
       "Q('AP')                     0.8388      0.015     56.091      0.000       0.809       0.868\n",
       "Q('CGPA')                   0.0571      0.013      4.564      0.000       0.033       0.082\n",
       "Q('SS')                    -0.2442      0.014    -17.904      0.000      -0.271      -0.218\n",
       "Q('SD')                    -0.1905      0.016    -11.652      0.000      -0.223      -0.158\n",
       "Q('DH')                     0.3548      0.015     23.619      0.000       0.325       0.384\n",
       "Q('ST')                     2.5192      0.039     64.164      0.000       2.442       2.596\n",
       "Q('WSH')                    0.1170      0.005     23.447      0.000       0.107       0.127\n",
       "Q('FS')                     0.5524      0.013     41.284      0.000       0.526       0.579\n",
       "Q('FHMI')                   0.2473      0.037      6.765      0.000       0.176       0.319\n",
       "Q('City_Ahmedabad')         0.3332      0.102      3.252      0.001       0.132       0.534\n",
       "Q('City_Bhopal')            0.2024      0.100      2.015      0.044       0.006       0.399\n",
       "Q('City_Hyderabad')         0.3117      0.087      3.597      0.000       0.142       0.481\n",
       "Q('City_Kolkata')           0.2258      0.100      2.267      0.023       0.031       0.421\n",
       "Q('City_Patna')             0.2215      0.097      2.273      0.023       0.031       0.412\n",
       "===========================================================================================\n",
       "\"\"\""
      ]
     },
     "execution_count": 314,
     "metadata": {},
     "output_type": "execute_result"
    }
   ],
   "source": [
    "stepwise_model.summary()"
   ]
  },
  {
   "cell_type": "code",
   "execution_count": 316,
   "metadata": {},
   "outputs": [],
   "source": [
    "def matriz_confusao(predicts, observado, cutoff):\n",
    "    \n",
    "    values = predicts.values\n",
    "    \n",
    "    predicao_binaria = []\n",
    "        \n",
    "    for item in values:\n",
    "        if item < cutoff:\n",
    "            predicao_binaria.append(0)\n",
    "        else:\n",
    "            predicao_binaria.append(1)\n",
    "           \n",
    "    cm = confusion_matrix(predicao_binaria, observado)\n",
    "    disp = ConfusionMatrixDisplay(confusion_matrix=cm)\n",
    "    disp.plot()\n",
    "    plt.xlabel('True')\n",
    "    plt.ylabel('Classified')\n",
    "    plt.gca().invert_xaxis()\n",
    "    plt.gca().invert_yaxis()\n",
    "    plt.show()\n",
    "        \n",
    "    sensitividade = recall_score(observado, predicao_binaria, pos_label=1)\n",
    "    especificidade = recall_score(observado, predicao_binaria, pos_label=0)\n",
    "    acuracia = accuracy_score(observado, predicao_binaria)\n",
    "\n",
    "    #Visualizando os principais indicadores desta matriz de confusão\n",
    "    indicadores = pd.DataFrame({'Sensitividade':[sensitividade],\n",
    "                                'Especificidade':[especificidade],\n",
    "                                'Acurácia':[acuracia]})\n",
    "    return indicadores"
   ]
  },
  {
   "cell_type": "code",
   "execution_count": 315,
   "metadata": {
    "execution": {
     "iopub.execute_input": "2025-01-16T21:31:30.176102Z",
     "iopub.status.busy": "2025-01-16T21:31:30.175745Z",
     "iopub.status.idle": "2025-01-16T21:31:30.198272Z",
     "shell.execute_reply": "2025-01-16T21:31:30.197229Z",
     "shell.execute_reply.started": "2025-01-16T21:31:30.176058Z"
    },
    "trusted": true
   },
   "outputs": [],
   "source": [
    "df_dummies['phat'] = stepwise_model.predict()"
   ]
  },
  {
   "cell_type": "code",
   "execution_count": 317,
   "metadata": {
    "execution": {
     "iopub.execute_input": "2025-01-16T21:31:30.199597Z",
     "iopub.status.busy": "2025-01-16T21:31:30.199301Z",
     "iopub.status.idle": "2025-01-16T21:31:30.553238Z",
     "shell.execute_reply": "2025-01-16T21:31:30.552213Z",
     "shell.execute_reply.started": "2025-01-16T21:31:30.199567Z"
    },
    "trusted": true
   },
   "outputs": [
    {
     "data": {
      "image/png": "[encoded data removed]",
      "text/plain": [
       "<Figure size 640x480 with 2 Axes>"
      ]
     },
     "metadata": {},
     "output_type": "display_data"
    },
    {
     "data": {
      "text/html": [
       "<div>\n",
       "<style scoped>\n",
       "    .dataframe tbody tr th:only-of-type {\n",
       "        vertical-align: middle;\n",
       "    }\n",
       "\n",
       "    .dataframe tbody tr th {\n",
       "        vertical-align: top;\n",
       "    }\n",
       "\n",
       "    .dataframe thead th {\n",
       "        text-align: right;\n",
       "    }\n",
       "</style>\n",
       "<table border=\"1\" class=\"dataframe\">\n",
       "  <thead>\n",
       "    <tr style=\"text-align: right;\">\n",
       "      <th></th>\n",
       "      <th>Sensitividade</th>\n",
       "      <th>Especificidade</th>\n",
       "      <th>Acurácia</th>\n",
       "    </tr>\n",
       "  </thead>\n",
       "  <tbody>\n",
       "    <tr>\n",
       "      <th>0</th>\n",
       "      <td>0.887465</td>\n",
       "      <td>0.791634</td>\n",
       "      <td>0.847781</td>\n",
       "    </tr>\n",
       "  </tbody>\n",
       "</table>\n",
       "</div>"
      ],
      "text/plain": [
       "   Sensitividade  Especificidade  Acurácia\n",
       "0       0.887465        0.791634  0.847781"
      ]
     },
     "execution_count": 317,
     "metadata": {},
     "output_type": "execute_result"
    }
   ],
   "source": [
    "matriz_confusao(observado=df_dummies['Depression'],\n",
    "                predicts=df_dummies['phat'],\n",
    "                cutoff=0.5)"
   ]
  }
 ],
 "metadata": {
  "kaggle": {
   "accelerator": "none",
   "dataSources": [
    {
     "datasetId": 6144877,
     "sourceId": 9985284,
     "sourceType": "datasetVersion"
    }
   ],
   "isGpuEnabled": false,
   "isInternetEnabled": true,
   "language": "python",
   "sourceType": "notebook"
  },
  "kernelspec": {
   "display_name": "penv",
   "language": "python",
   "name": "python3"
  },
  "language_info": {
   "codemirror_mode": {
    "name": "ipython",
    "version": 3
   },
   "file_extension": ".py",
   "mimetype": "text/x-python",
   "name": "python",
   "nbconvert_exporter": "python",
   "pygments_lexer": "ipython3",
   "version": "3.12.7"
  }
 },
 "nbformat": 4,
 "nbformat_minor": 4
}
