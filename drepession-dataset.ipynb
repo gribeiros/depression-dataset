{
 "cells": [
  {
   "cell_type": "markdown",
   "metadata": {},
   "source": [
    "# Importação da bibliotecas"
   ]
  },
  {
   "cell_type": "code",
   "execution_count": 92,
   "metadata": {
    "_cell_guid": "b1076dfc-b9ad-4769-8c92-a6c4dae69d19",
    "_uuid": "8f2839f25d086af736a60e9eeb907d3b93b6e0e5",
    "execution": {
     "iopub.execute_input": "2025-01-16T21:18:32.386925Z",
     "iopub.status.busy": "2025-01-16T21:18:32.386398Z",
     "iopub.status.idle": "2025-01-16T21:18:32.655103Z",
     "shell.execute_reply": "2025-01-16T21:18:32.654061Z",
     "shell.execute_reply.started": "2025-01-16T21:18:32.386871Z"
    },
    "trusted": true
   },
   "outputs": [],
   "source": [
    "import pandas as pd\n",
    "import numpy as np\n",
    "import statsmodels.api as sm\n",
    "import seaborn as sns\n",
    "import matplotlib.pyplot as plt\n",
    "from statstests.process import stepwise\n",
    "from sklearn.metrics import confusion_matrix, accuracy_score,\\\n",
    "    ConfusionMatrixDisplay, recall_score,roc_curve, auc,roc_auc_score,\\\n",
    "    balanced_accuracy_score,classification_report\n",
    "from sklearn.model_selection import train_test_split\n",
    "from sklearn.tree import DecisionTreeClassifier,plot_tree\n",
    "pd.set_option(\"display.max_rows\", None)\n"
   ]
  },
  {
   "cell_type": "markdown",
   "metadata": {},
   "source": [
    "# Leitura do DataSet e visualização dos dados"
   ]
  },
  {
   "cell_type": "code",
   "execution_count": 93,
   "metadata": {
    "execution": {
     "iopub.execute_input": "2025-01-16T21:18:32.657073Z",
     "iopub.status.busy": "2025-01-16T21:18:32.656667Z",
     "iopub.status.idle": "2025-01-16T21:18:32.813379Z",
     "shell.execute_reply": "2025-01-16T21:18:32.811961Z",
     "shell.execute_reply.started": "2025-01-16T21:18:32.657035Z"
    },
    "trusted": true
   },
   "outputs": [
    {
     "data": {
      "text/html": [
       "<div>\n",
       "<style scoped>\n",
       "    .dataframe tbody tr th:only-of-type {\n",
       "        vertical-align: middle;\n",
       "    }\n",
       "\n",
       "    .dataframe tbody tr th {\n",
       "        vertical-align: top;\n",
       "    }\n",
       "\n",
       "    .dataframe thead th {\n",
       "        text-align: right;\n",
       "    }\n",
       "</style>\n",
       "<table border=\"1\" class=\"dataframe\">\n",
       "  <thead>\n",
       "    <tr style=\"text-align: right;\">\n",
       "      <th></th>\n",
       "      <th>id</th>\n",
       "      <th>Gender</th>\n",
       "      <th>Age</th>\n",
       "      <th>City</th>\n",
       "      <th>Profession</th>\n",
       "      <th>Academic Pressure</th>\n",
       "      <th>Work Pressure</th>\n",
       "      <th>CGPA</th>\n",
       "      <th>Study Satisfaction</th>\n",
       "      <th>Job Satisfaction</th>\n",
       "      <th>Sleep Duration</th>\n",
       "      <th>Dietary Habits</th>\n",
       "      <th>Degree</th>\n",
       "      <th>Have you ever had suicidal thoughts ?</th>\n",
       "      <th>Work/Study Hours</th>\n",
       "      <th>Financial Stress</th>\n",
       "      <th>Family History of Mental Illness</th>\n",
       "      <th>Depression</th>\n",
       "    </tr>\n",
       "  </thead>\n",
       "  <tbody>\n",
       "    <tr>\n",
       "      <th>0</th>\n",
       "      <td>2</td>\n",
       "      <td>Male</td>\n",
       "      <td>33.0</td>\n",
       "      <td>Visakhapatnam</td>\n",
       "      <td>Student</td>\n",
       "      <td>5.0</td>\n",
       "      <td>0.0</td>\n",
       "      <td>8.97</td>\n",
       "      <td>2.0</td>\n",
       "      <td>0.0</td>\n",
       "      <td>5-6 hours</td>\n",
       "      <td>Healthy</td>\n",
       "      <td>B.Pharm</td>\n",
       "      <td>Yes</td>\n",
       "      <td>3.0</td>\n",
       "      <td>1.0</td>\n",
       "      <td>No</td>\n",
       "      <td>1</td>\n",
       "    </tr>\n",
       "    <tr>\n",
       "      <th>1</th>\n",
       "      <td>8</td>\n",
       "      <td>Female</td>\n",
       "      <td>24.0</td>\n",
       "      <td>Bangalore</td>\n",
       "      <td>Student</td>\n",
       "      <td>2.0</td>\n",
       "      <td>0.0</td>\n",
       "      <td>5.90</td>\n",
       "      <td>5.0</td>\n",
       "      <td>0.0</td>\n",
       "      <td>5-6 hours</td>\n",
       "      <td>Moderate</td>\n",
       "      <td>BSc</td>\n",
       "      <td>No</td>\n",
       "      <td>3.0</td>\n",
       "      <td>2.0</td>\n",
       "      <td>Yes</td>\n",
       "      <td>0</td>\n",
       "    </tr>\n",
       "    <tr>\n",
       "      <th>2</th>\n",
       "      <td>26</td>\n",
       "      <td>Male</td>\n",
       "      <td>31.0</td>\n",
       "      <td>Srinagar</td>\n",
       "      <td>Student</td>\n",
       "      <td>3.0</td>\n",
       "      <td>0.0</td>\n",
       "      <td>7.03</td>\n",
       "      <td>5.0</td>\n",
       "      <td>0.0</td>\n",
       "      <td>Less than 5 hours</td>\n",
       "      <td>Healthy</td>\n",
       "      <td>BA</td>\n",
       "      <td>No</td>\n",
       "      <td>9.0</td>\n",
       "      <td>1.0</td>\n",
       "      <td>Yes</td>\n",
       "      <td>0</td>\n",
       "    </tr>\n",
       "    <tr>\n",
       "      <th>3</th>\n",
       "      <td>30</td>\n",
       "      <td>Female</td>\n",
       "      <td>28.0</td>\n",
       "      <td>Varanasi</td>\n",
       "      <td>Student</td>\n",
       "      <td>3.0</td>\n",
       "      <td>0.0</td>\n",
       "      <td>5.59</td>\n",
       "      <td>2.0</td>\n",
       "      <td>0.0</td>\n",
       "      <td>7-8 hours</td>\n",
       "      <td>Moderate</td>\n",
       "      <td>BCA</td>\n",
       "      <td>Yes</td>\n",
       "      <td>4.0</td>\n",
       "      <td>5.0</td>\n",
       "      <td>Yes</td>\n",
       "      <td>1</td>\n",
       "    </tr>\n",
       "    <tr>\n",
       "      <th>4</th>\n",
       "      <td>32</td>\n",
       "      <td>Female</td>\n",
       "      <td>25.0</td>\n",
       "      <td>Jaipur</td>\n",
       "      <td>Student</td>\n",
       "      <td>4.0</td>\n",
       "      <td>0.0</td>\n",
       "      <td>8.13</td>\n",
       "      <td>3.0</td>\n",
       "      <td>0.0</td>\n",
       "      <td>5-6 hours</td>\n",
       "      <td>Moderate</td>\n",
       "      <td>M.Tech</td>\n",
       "      <td>Yes</td>\n",
       "      <td>1.0</td>\n",
       "      <td>1.0</td>\n",
       "      <td>No</td>\n",
       "      <td>0</td>\n",
       "    </tr>\n",
       "  </tbody>\n",
       "</table>\n",
       "</div>"
      ],
      "text/plain": [
       "   id  Gender   Age           City Profession  Academic Pressure  \\\n",
       "0   2    Male  33.0  Visakhapatnam    Student                5.0   \n",
       "1   8  Female  24.0      Bangalore    Student                2.0   \n",
       "2  26    Male  31.0       Srinagar    Student                3.0   \n",
       "3  30  Female  28.0       Varanasi    Student                3.0   \n",
       "4  32  Female  25.0         Jaipur    Student                4.0   \n",
       "\n",
       "   Work Pressure  CGPA  Study Satisfaction  Job Satisfaction  \\\n",
       "0            0.0  8.97                 2.0               0.0   \n",
       "1            0.0  5.90                 5.0               0.0   \n",
       "2            0.0  7.03                 5.0               0.0   \n",
       "3            0.0  5.59                 2.0               0.0   \n",
       "4            0.0  8.13                 3.0               0.0   \n",
       "\n",
       "      Sleep Duration Dietary Habits   Degree  \\\n",
       "0          5-6 hours        Healthy  B.Pharm   \n",
       "1          5-6 hours       Moderate      BSc   \n",
       "2  Less than 5 hours        Healthy       BA   \n",
       "3          7-8 hours       Moderate      BCA   \n",
       "4          5-6 hours       Moderate   M.Tech   \n",
       "\n",
       "  Have you ever had suicidal thoughts ?  Work/Study Hours  Financial Stress  \\\n",
       "0                                   Yes               3.0               1.0   \n",
       "1                                    No               3.0               2.0   \n",
       "2                                    No               9.0               1.0   \n",
       "3                                   Yes               4.0               5.0   \n",
       "4                                   Yes               1.0               1.0   \n",
       "\n",
       "  Family History of Mental Illness  Depression  \n",
       "0                               No           1  \n",
       "1                              Yes           0  \n",
       "2                              Yes           0  \n",
       "3                              Yes           1  \n",
       "4                               No           0  "
      ]
     },
     "execution_count": 93,
     "metadata": {},
     "output_type": "execute_result"
    }
   ],
   "source": [
    "#'/kaggle/input/student-depression-dataset/Student Depression Dataset.csv'\n",
    "dataset_path = 'Student Depression Dataset.csv'\n",
    "df = pd.read_csv(dataset_path)\n",
    "df.head()"
   ]
  },
  {
   "cell_type": "markdown",
   "metadata": {},
   "source": [
    "## Verificando o tipo de variaveis"
   ]
  },
  {
   "cell_type": "code",
   "execution_count": 94,
   "metadata": {},
   "outputs": [
    {
     "name": "stdout",
     "output_type": "stream",
     "text": [
      "<class 'pandas.core.frame.DataFrame'>\n",
      "RangeIndex: 27901 entries, 0 to 27900\n",
      "Data columns (total 18 columns):\n",
      " #   Column                                 Non-Null Count  Dtype  \n",
      "---  ------                                 --------------  -----  \n",
      " 0   id                                     27901 non-null  int64  \n",
      " 1   Gender                                 27901 non-null  object \n",
      " 2   Age                                    27901 non-null  float64\n",
      " 3   City                                   27901 non-null  object \n",
      " 4   Profession                             27901 non-null  object \n",
      " 5   Academic Pressure                      27901 non-null  float64\n",
      " 6   Work Pressure                          27901 non-null  float64\n",
      " 7   CGPA                                   27901 non-null  float64\n",
      " 8   Study Satisfaction                     27901 non-null  float64\n",
      " 9   Job Satisfaction                       27901 non-null  float64\n",
      " 10  Sleep Duration                         27901 non-null  object \n",
      " 11  Dietary Habits                         27901 non-null  object \n",
      " 12  Degree                                 27901 non-null  object \n",
      " 13  Have you ever had suicidal thoughts ?  27901 non-null  object \n",
      " 14  Work/Study Hours                       27901 non-null  float64\n",
      " 15  Financial Stress                       27898 non-null  float64\n",
      " 16  Family History of Mental Illness       27901 non-null  object \n",
      " 17  Depression                             27901 non-null  int64  \n",
      "dtypes: float64(8), int64(2), object(8)\n",
      "memory usage: 3.8+ MB\n"
     ]
    }
   ],
   "source": [
    "df.info()"
   ]
  },
  {
   "cell_type": "markdown",
   "metadata": {},
   "source": [
    "## Removendo valores nulos"
   ]
  },
  {
   "cell_type": "code",
   "execution_count": 95,
   "metadata": {},
   "outputs": [
    {
     "data": {
      "text/plain": [
       "id                                       0\n",
       "Gender                                   0\n",
       "Age                                      0\n",
       "City                                     0\n",
       "Profession                               0\n",
       "Academic Pressure                        0\n",
       "Work Pressure                            0\n",
       "CGPA                                     0\n",
       "Study Satisfaction                       0\n",
       "Job Satisfaction                         0\n",
       "Sleep Duration                           0\n",
       "Dietary Habits                           0\n",
       "Degree                                   0\n",
       "Have you ever had suicidal thoughts ?    0\n",
       "Work/Study Hours                         0\n",
       "Financial Stress                         3\n",
       "Family History of Mental Illness         0\n",
       "Depression                               0\n",
       "dtype: int64"
      ]
     },
     "metadata": {},
     "output_type": "display_data"
    },
    {
     "data": {
      "text/plain": [
       "id                                       0\n",
       "Gender                                   0\n",
       "Age                                      0\n",
       "City                                     0\n",
       "Profession                               0\n",
       "Academic Pressure                        0\n",
       "Work Pressure                            0\n",
       "CGPA                                     0\n",
       "Study Satisfaction                       0\n",
       "Job Satisfaction                         0\n",
       "Sleep Duration                           0\n",
       "Dietary Habits                           0\n",
       "Degree                                   0\n",
       "Have you ever had suicidal thoughts ?    0\n",
       "Work/Study Hours                         0\n",
       "Financial Stress                         3\n",
       "Family History of Mental Illness         0\n",
       "Depression                               0\n",
       "dtype: int64"
      ]
     },
     "metadata": {},
     "output_type": "display_data"
    }
   ],
   "source": [
    "display(df.isnull().sum())\n",
    "display(df.isna().sum())"
   ]
  },
  {
   "cell_type": "code",
   "execution_count": 96,
   "metadata": {},
   "outputs": [],
   "source": [
    "df.dropna(inplace=True)"
   ]
  },
  {
   "cell_type": "markdown",
   "metadata": {},
   "source": [
    "## Renomeando as colunas"
   ]
  },
  {
   "cell_type": "code",
   "execution_count": 97,
   "metadata": {},
   "outputs": [],
   "source": [
    "df.rename(columns={\n",
    "    'Academic Pressure': 'AP',\n",
    "    'Work Pressure':'WP',\n",
    "    'Study Satisfaction':'SS',\n",
    "    'Job Satisfaction':'JS',\n",
    "    'Sleep Duration':'SD',\n",
    "    'Dietary Habits':'DH',\n",
    "    'Have you ever had suicidal thoughts ?':'ST',\n",
    "    'Work/Study Hours':'WSH',\n",
    "    'Financial Stress':'FS',\n",
    "    'Family History of Mental Illness':'FHMI'\n",
    "},inplace=True)"
   ]
  },
  {
   "cell_type": "markdown",
   "metadata": {},
   "source": [
    "## Removendo a coluna ID"
   ]
  },
  {
   "cell_type": "code",
   "execution_count": 98,
   "metadata": {
    "execution": {
     "iopub.execute_input": "2025-01-16T21:18:32.816223Z",
     "iopub.status.busy": "2025-01-16T21:18:32.815886Z",
     "iopub.status.idle": "2025-01-16T21:18:32.831977Z",
     "shell.execute_reply": "2025-01-16T21:18:32.830772Z",
     "shell.execute_reply.started": "2025-01-16T21:18:32.816194Z"
    },
    "trusted": true
   },
   "outputs": [],
   "source": [
    "df.drop(columns='id',inplace=True)"
   ]
  },
  {
   "cell_type": "markdown",
   "metadata": {},
   "source": [
    "# Verificando cada variavel do DataSet"
   ]
  },
  {
   "cell_type": "markdown",
   "metadata": {},
   "source": [
    "## Analisando as variaveis quantitativas"
   ]
  },
  {
   "cell_type": "markdown",
   "metadata": {},
   "source": [
    "### Função para verificar outliers"
   ]
  },
  {
   "cell_type": "code",
   "execution_count": 99,
   "metadata": {},
   "outputs": [],
   "source": [
    "def check_outliers(df):\n",
    "    Q1 = np.percentile(df,25) # Obtendo o valor do 25 percentil\n",
    "    Q3 = np.percentile(df,75) # Obtendo o valor do 75 percentil\n",
    "\n",
    "    IQR = Q3 - Q1 # Calculando o valor do intervalo interquartil\n",
    "    limit_lower = Q1 - 1.5 * IQR\n",
    "    limit_upper = Q3 + 1.5 * IQR\n",
    "\n",
    "    outliers = df[( df < limit_lower )|( df > limit_upper )]\n",
    "    display(outliers.sort_values().values)\n",
    "    sns.boxplot(df)\n",
    "    return limit_lower, limit_upper"
   ]
  },
  {
   "cell_type": "markdown",
   "metadata": {},
   "source": [
    "### Age"
   ]
  },
  {
   "cell_type": "code",
   "execution_count": 100,
   "metadata": {},
   "outputs": [
    {
     "data": {
      "text/plain": [
       "count    27898.000000\n",
       "mean        25.822174\n",
       "std          4.905651\n",
       "min         18.000000\n",
       "25%         21.000000\n",
       "50%         25.000000\n",
       "75%         30.000000\n",
       "max         59.000000\n",
       "Name: Age, dtype: float64"
      ]
     },
     "execution_count": 100,
     "metadata": {},
     "output_type": "execute_result"
    }
   ],
   "source": [
    "df['Age'].describe()"
   ]
  },
  {
   "cell_type": "code",
   "execution_count": 101,
   "metadata": {
    "execution": {
     "iopub.execute_input": "2025-01-16T21:18:32.915478Z",
     "iopub.status.busy": "2025-01-16T21:18:32.915097Z",
     "iopub.status.idle": "2025-01-16T21:18:32.939813Z",
     "shell.execute_reply": "2025-01-16T21:18:32.938692Z",
     "shell.execute_reply.started": "2025-01-16T21:18:32.915450Z"
    },
    "trusted": true
   },
   "outputs": [
    {
     "data": {
      "text/plain": [
       "Age\n",
       "18.0    1587\n",
       "19.0    1560\n",
       "20.0    2236\n",
       "21.0    1726\n",
       "22.0    1160\n",
       "23.0    1645\n",
       "24.0    2258\n",
       "25.0    1784\n",
       "26.0    1155\n",
       "27.0    1462\n",
       "28.0    2133\n",
       "29.0    1949\n",
       "30.0    1145\n",
       "31.0    1427\n",
       "32.0    1261\n",
       "33.0    1893\n",
       "34.0    1468\n",
       "35.0      10\n",
       "36.0       7\n",
       "37.0       2\n",
       "38.0       8\n",
       "39.0       3\n",
       "41.0       1\n",
       "42.0       4\n",
       "43.0       2\n",
       "44.0       1\n",
       "46.0       2\n",
       "48.0       3\n",
       "49.0       1\n",
       "51.0       1\n",
       "54.0       1\n",
       "56.0       1\n",
       "58.0       1\n",
       "59.0       1\n",
       "Name: count, dtype: int64"
      ]
     },
     "execution_count": 101,
     "metadata": {},
     "output_type": "execute_result"
    }
   ],
   "source": [
    "df['Age'].value_counts().sort_index()"
   ]
  },
  {
   "cell_type": "code",
   "execution_count": 102,
   "metadata": {},
   "outputs": [
    {
     "data": {
      "text/plain": [
       "array([44., 46., 46., 48., 48., 48., 49., 51., 54., 56., 58., 59.])"
      ]
     },
     "metadata": {},
     "output_type": "display_data"
    },
    {
     "data": {
      "image/png": "[encoded data removed]",
      "text/plain": [
       "<Figure size 640x480 with 1 Axes>"
      ]
     },
     "metadata": {},
     "output_type": "display_data"
    }
   ],
   "source": [
    "limit_lower, limit_upper = check_outliers(df['Age'])"
   ]
  },
  {
   "cell_type": "markdown",
   "metadata": {},
   "source": [
    "### Remoção dos outliers da variavel Age"
   ]
  },
  {
   "cell_type": "code",
   "execution_count": 103,
   "metadata": {
    "execution": {
     "iopub.execute_input": "2025-01-16T21:18:32.942988Z",
     "iopub.status.busy": "2025-01-16T21:18:32.942623Z",
     "iopub.status.idle": "2025-01-16T21:18:32.971331Z",
     "shell.execute_reply": "2025-01-16T21:18:32.969973Z",
     "shell.execute_reply.started": "2025-01-16T21:18:32.942959Z"
    },
    "trusted": true
   },
   "outputs": [
    {
     "data": {
      "text/plain": [
       "array([], dtype=float64)"
      ]
     },
     "metadata": {},
     "output_type": "display_data"
    },
    {
     "data": {
      "text/plain": [
       "(np.float64(7.5), np.float64(43.5))"
      ]
     },
     "execution_count": 103,
     "metadata": {},
     "output_type": "execute_result"
    },
    {
     "data": {
      "image/png": "[encoded data removed]",
      "text/plain": [
       "<Figure size 640x480 with 1 Axes>"
      ]
     },
     "metadata": {},
     "output_type": "display_data"
    }
   ],
   "source": [
    "df.query('Age >= @limit_lower and Age <= @limit_upper',inplace=True)\n",
    "check_outliers(df['Age'])"
   ]
  },
  {
   "cell_type": "markdown",
   "metadata": {},
   "source": [
    "## CGPA"
   ]
  },
  {
   "cell_type": "code",
   "execution_count": 104,
   "metadata": {},
   "outputs": [
    {
     "data": {
      "text/plain": [
       "count    27886.00000\n",
       "mean         7.65621\n",
       "std          1.47081\n",
       "min          0.00000\n",
       "25%          6.29000\n",
       "50%          7.77000\n",
       "75%          8.92000\n",
       "max         10.00000\n",
       "Name: CGPA, dtype: float64"
      ]
     },
     "execution_count": 104,
     "metadata": {},
     "output_type": "execute_result"
    }
   ],
   "source": [
    "df['CGPA'].describe()"
   ]
  },
  {
   "cell_type": "code",
   "execution_count": 105,
   "metadata": {},
   "outputs": [
    {
     "data": {
      "text/plain": [
       "CGPA\n",
       "8.0400     821\n",
       "9.9600     425\n",
       "5.7400     410\n",
       "8.9500     371\n",
       "9.2100     343\n",
       "7.2500     339\n",
       "7.0900     320\n",
       "7.8800     318\n",
       "9.4400     317\n",
       "8.9100     276\n",
       "9.9300     274\n",
       "7.7700     269\n",
       "8.7400     267\n",
       "7.1000     252\n",
       "9.7200     250\n",
       "5.6400     246\n",
       "9.3900     243\n",
       "6.9900     242\n",
       "6.3700     238\n",
       "7.5300     234\n",
       "6.7800     232\n",
       "9.2400     224\n",
       "8.5900     220\n",
       "5.8500     216\n",
       "6.1600     215\n",
       "5.1600     209\n",
       "8.5800     208\n",
       "7.9400     207\n",
       "5.8800     207\n",
       "8.1700     198\n",
       "5.3200     196\n",
       "8.2400     194\n",
       "5.5600     178\n",
       "9.5600     176\n",
       "8.1400     174\n",
       "6.1000     168\n",
       "5.1200     167\n",
       "8.9000     164\n",
       "5.5700     164\n",
       "5.3700     159\n",
       "9.7100     157\n",
       "6.0000     154\n",
       "6.8900     153\n",
       "9.4100     153\n",
       "9.8900     151\n",
       "6.8300     150\n",
       "9.6300     150\n",
       "6.2500     147\n",
       "5.8200     144\n",
       "7.0400     143\n",
       "6.7500     143\n",
       "8.7300     142\n",
       "8.9600     142\n",
       "9.6000     141\n",
       "9.8600     141\n",
       "9.7900     141\n",
       "9.9700     139\n",
       "5.7600     139\n",
       "9.6700     136\n",
       "7.4700     135\n",
       "8.5400     135\n",
       "8.6200     135\n",
       "9.9500     133\n",
       "9.7400     129\n",
       "8.7000     128\n",
       "7.2200     127\n",
       "6.2100     125\n",
       "9.8400     125\n",
       "8.4400     125\n",
       "5.7500     124\n",
       "9.9100     123\n",
       "5.8600     123\n",
       "9.5400     122\n",
       "6.2700     121\n",
       "8.0900     120\n",
       "7.5200     120\n",
       "5.2700     118\n",
       "9.8800     117\n",
       "7.4800     116\n",
       "5.7900     116\n",
       "7.8500     115\n",
       "6.3800     115\n",
       "8.5200     115\n",
       "6.0200     113\n",
       "5.1100     112\n",
       "5.9900     112\n",
       "7.5100     112\n",
       "7.3800     112\n",
       "7.8000     112\n",
       "6.0300     111\n",
       "8.5000     110\n",
       "6.4700     110\n",
       "7.1500     110\n",
       "5.6600     110\n",
       "9.0500     109\n",
       "9.1100     109\n",
       "5.4200     107\n",
       "7.9200     106\n",
       "7.6400     105\n",
       "9.1900     104\n",
       "6.1700     103\n",
       "7.2100     103\n",
       "7.8300      99\n",
       "5.7000      98\n",
       "7.1300      97\n",
       "5.5800      97\n",
       "7.0800      96\n",
       "6.0800      96\n",
       "8.4600      95\n",
       "5.0800      95\n",
       "5.6000      95\n",
       "7.5000      94\n",
       "6.5100      93\n",
       "8.6900      93\n",
       "8.2100      92\n",
       "7.7200      92\n",
       "8.0800      92\n",
       "7.7000      92\n",
       "8.8100      90\n",
       "6.4100      87\n",
       "7.2800      87\n",
       "9.5000      87\n",
       "8.2800      87\n",
       "8.3500      85\n",
       "7.0200      85\n",
       "9.0400      84\n",
       "5.5900      83\n",
       "7.3900      78\n",
       "5.5100      76\n",
       "5.4600      72\n",
       "9.9400      71\n",
       "5.8700      71\n",
       "5.6700      69\n",
       "8.9200      67\n",
       "8.0000      67\n",
       "5.1000      66\n",
       "8.9700      66\n",
       "9.8700      63\n",
       "8.2500      61\n",
       "7.3700      61\n",
       "6.8800      60\n",
       "9.9200      60\n",
       "8.5300      60\n",
       "9.9800      59\n",
       "7.2400      59\n",
       "10.0000     58\n",
       "8.9300      58\n",
       "7.0300      58\n",
       "8.7800      58\n",
       "6.8600      58\n",
       "8.4700      57\n",
       "9.4200      56\n",
       "7.9100      56\n",
       "8.7900      55\n",
       "5.8900      55\n",
       "6.4200      54\n",
       "7.7400      54\n",
       "7.6800      54\n",
       "6.2900      54\n",
       "6.6100      53\n",
       "8.8900      52\n",
       "6.3900      52\n",
       "5.6800      52\n",
       "5.7700      51\n",
       "9.6600      51\n",
       "8.1300      51\n",
       "9.3700      51\n",
       "6.8100      51\n",
       "7.3000      51\n",
       "7.8200      50\n",
       "9.1000      50\n",
       "5.8300      50\n",
       "5.6100      50\n",
       "8.3900      50\n",
       "9.4300      50\n",
       "6.0400      49\n",
       "5.6500      49\n",
       "7.7500      49\n",
       "7.9000      49\n",
       "9.3300      48\n",
       "9.6900      48\n",
       "8.2700      48\n",
       "6.7900      48\n",
       "8.5600      47\n",
       "5.4100      47\n",
       "8.2300      47\n",
       "8.6300      47\n",
       "9.1300      46\n",
       "6.7400      46\n",
       "6.6500      46\n",
       "7.4600      46\n",
       "5.3800      45\n",
       "6.3600      45\n",
       "6.5300      45\n",
       "6.9200      45\n",
       "5.8100      45\n",
       "9.4600      43\n",
       "5.8400      43\n",
       "6.8200      43\n",
       "6.6900      43\n",
       "5.2600      42\n",
       "7.7100      42\n",
       "5.7100      42\n",
       "8.6100      42\n",
       "8.8800      42\n",
       "6.2800      42\n",
       "5.4800      42\n",
       "9.4900      41\n",
       "8.9800      41\n",
       "8.8300      41\n",
       "6.7300      41\n",
       "7.4900      41\n",
       "5.4700      41\n",
       "7.6100      41\n",
       "7.2700      41\n",
       "8.9400      40\n",
       "8.0300      40\n",
       "9.0300      40\n",
       "8.6400      39\n",
       "8.7700      39\n",
       "5.4500      39\n",
       "6.6300      39\n",
       "7.3500      39\n",
       "8.1100      38\n",
       "8.7100      38\n",
       "8.6500      38\n",
       "9.3400      38\n",
       "9.2600      38\n",
       "9.2500      38\n",
       "8.3800      38\n",
       "9.0600      37\n",
       "7.1400      37\n",
       "7.1100      36\n",
       "7.8700      36\n",
       "6.7000      36\n",
       "7.3200      36\n",
       "6.2600      36\n",
       "5.9000      36\n",
       "6.7600      35\n",
       "7.9900      35\n",
       "9.5900      35\n",
       "9.3600      35\n",
       "6.9100      35\n",
       "8.2900      35\n",
       "9.4000      35\n",
       "9.8500      35\n",
       "5.5500      34\n",
       "9.3100      34\n",
       "5.5200      34\n",
       "9.0200      33\n",
       "5.7200      33\n",
       "6.8400      33\n",
       "5.8000      33\n",
       "8.4200      33\n",
       "7.2600      33\n",
       "6.5200      32\n",
       "5.9700      32\n",
       "5.2500      32\n",
       "5.9800      32\n",
       "8.3700      31\n",
       "6.2300      31\n",
       "7.4300      31\n",
       "6.3300      31\n",
       "5.6900      30\n",
       "5.3900      30\n",
       "7.1700      30\n",
       "7.6000      30\n",
       "5.9100      30\n",
       "6.5600      30\n",
       "9.7800      29\n",
       "7.0700      29\n",
       "8.3200      28\n",
       "8.0700      28\n",
       "9.9000      28\n",
       "8.4300      27\n",
       "7.3400      27\n",
       "7.0600      27\n",
       "8.7500      27\n",
       "9.7000      27\n",
       "9.1700      27\n",
       "6.0500      25\n",
       "6.9500      25\n",
       "6.5000      25\n",
       "7.4500      24\n",
       "7.1200      24\n",
       "5.2400      24\n",
       "8.1900      23\n",
       "9.2900      23\n",
       "9.1600      22\n",
       "9.0100      22\n",
       "6.5900      22\n",
       "8.8500      21\n",
       "6.3500      21\n",
       "8.4900      21\n",
       "5.3000      21\n",
       "6.8500      21\n",
       "5.3500      20\n",
       "9.8200      20\n",
       "5.0900      20\n",
       "9.4700      19\n",
       "5.1400      19\n",
       "8.4000      19\n",
       "5.4400      19\n",
       "9.1200      18\n",
       "7.0000      18\n",
       "5.0300      17\n",
       "8.1600      17\n",
       "6.1900      17\n",
       "8.5500      17\n",
       "7.7900      16\n",
       "8.1000      16\n",
       "5.0600      15\n",
       "5.1700      14\n",
       "6.4600       9\n",
       "0.0000       9\n",
       "8.0100       7\n",
       "5.7800       4\n",
       "6.3200       3\n",
       "6.2400       3\n",
       "8.0200       2\n",
       "7.7800       2\n",
       "6.7700       1\n",
       "7.2300       1\n",
       "7.6500       1\n",
       "7.4200       1\n",
       "6.0600       1\n",
       "6.6400       1\n",
       "7.0625       1\n",
       "6.9800       1\n",
       "6.4400       1\n",
       "6.0900       1\n",
       "Name: count, dtype: int64"
      ]
     },
     "execution_count": 105,
     "metadata": {},
     "output_type": "execute_result"
    }
   ],
   "source": [
    "df['CGPA'].value_counts()"
   ]
  },
  {
   "cell_type": "code",
   "execution_count": 106,
   "metadata": {},
   "outputs": [
    {
     "data": {
      "text/plain": [
       "array([0., 0., 0., 0., 0., 0., 0., 0., 0.])"
      ]
     },
     "metadata": {},
     "output_type": "display_data"
    },
    {
     "data": {
      "image/png": "[encoded data removed]",
      "text/plain": [
       "<Figure size 640x480 with 1 Axes>"
      ]
     },
     "metadata": {},
     "output_type": "display_data"
    }
   ],
   "source": [
    "limit_lower, limit_upper = check_outliers(df['CGPA'])"
   ]
  },
  {
   "cell_type": "code",
   "execution_count": 107,
   "metadata": {},
   "outputs": [
    {
     "data": {
      "text/plain": [
       "Index([8.04, 9.96, 5.74, 8.95, 9.21, 7.25, 7.09, 7.88, 9.44, 8.91,\n",
       "       ...\n",
       "       9.12,  7.0, 5.03, 8.16, 6.19, 8.55, 7.79,  8.1, 5.06, 5.17],\n",
       "      dtype='float64', name='CGPA', length=313)"
      ]
     },
     "metadata": {},
     "output_type": "display_data"
    }
   ],
   "source": [
    "filtred_cgpa = df['CGPA'].value_counts()[lambda x: x > 9].index\n",
    "display(filtred_cgpa)\n",
    "df.query('CGPA in @filtred_cgpa',inplace=True)"
   ]
  },
  {
   "cell_type": "code",
   "execution_count": 108,
   "metadata": {},
   "outputs": [
    {
     "data": {
      "text/plain": [
       "array([], dtype=float64)"
      ]
     },
     "metadata": {},
     "output_type": "display_data"
    },
    {
     "data": {
      "text/plain": [
       "(np.float64(2.345), np.float64(12.865))"
      ]
     },
     "execution_count": 108,
     "metadata": {},
     "output_type": "execute_result"
    },
    {
     "data": {
      "image/png": "[encoded data removed]",
      "text/plain": [
       "<Figure size 640x480 with 1 Axes>"
      ]
     },
     "metadata": {},
     "output_type": "display_data"
    }
   ],
   "source": [
    "check_outliers(df['CGPA'])"
   ]
  },
  {
   "cell_type": "markdown",
   "metadata": {},
   "source": [
    "# Variaveis Categoricas"
   ]
  },
  {
   "cell_type": "code",
   "execution_count": 109,
   "metadata": {},
   "outputs": [],
   "source": [
    "def pie_plot(data, labels, title):\n",
    "    plt.figure(figsize=(6,6))\n",
    "    plt.pie(data, labels=labels, autopct='%1.1f%%')\n",
    "    plt.title(title)\n",
    "    plt.show()"
   ]
  },
  {
   "cell_type": "markdown",
   "metadata": {},
   "source": [
    "## Gender"
   ]
  },
  {
   "cell_type": "code",
   "execution_count": 110,
   "metadata": {},
   "outputs": [
    {
     "data": {
      "image/png": "[encoded data removed]",
      "text/plain": [
       "<Figure size 600x600 with 1 Axes>"
      ]
     },
     "metadata": {},
     "output_type": "display_data"
    }
   ],
   "source": [
    "gender_counts = df['Gender'].value_counts()\n",
    "pie_plot(data=gender_counts, labels=gender_counts.index, title='Distribuição por Gênero')"
   ]
  },
  {
   "cell_type": "code",
   "execution_count": 111,
   "metadata": {},
   "outputs": [],
   "source": [
    "df['Gender'] = df['Gender'].map({'Female':0,'Male':1}).astype('int64')"
   ]
  },
  {
   "cell_type": "markdown",
   "metadata": {},
   "source": [
    "## City"
   ]
  },
  {
   "cell_type": "code",
   "execution_count": 112,
   "metadata": {
    "execution": {
     "iopub.execute_input": "2025-01-16T21:18:32.973957Z",
     "iopub.status.busy": "2025-01-16T21:18:32.973557Z",
     "iopub.status.idle": "2025-01-16T21:18:32.986872Z",
     "shell.execute_reply": "2025-01-16T21:18:32.985423Z",
     "shell.execute_reply.started": "2025-01-16T21:18:32.973927Z"
    },
    "trusted": true
   },
   "outputs": [
    {
     "data": {
      "text/plain": [
       "City\n",
       "Kalyan                1569\n",
       "Srinagar              1368\n",
       "Hyderabad             1338\n",
       "Vasai-Virar           1286\n",
       "Lucknow               1151\n",
       "Thane                 1138\n",
       "Ludhiana              1108\n",
       "Agra                  1092\n",
       "Surat                 1076\n",
       "Kolkata               1065\n",
       "Jaipur                1034\n",
       "Patna                 1006\n",
       "Visakhapatnam          968\n",
       "Pune                   965\n",
       "Ahmedabad              949\n",
       "Bhopal                 929\n",
       "Chennai                882\n",
       "Meerut                 824\n",
       "Rajkot                 813\n",
       "Bangalore              767\n",
       "Delhi                  766\n",
       "Ghaziabad              738\n",
       "Mumbai                 698\n",
       "Vadodara               692\n",
       "Varanasi               684\n",
       "Nagpur                 649\n",
       "Indore                 643\n",
       "Kanpur                 608\n",
       "Nashik                 544\n",
       "Faridabad              461\n",
       "Saanvi                   2\n",
       "Bhavna                   2\n",
       "City                     2\n",
       "Harsha                   2\n",
       "Less Delhi               1\n",
       "M.Tech                   1\n",
       "3.0                      1\n",
       "Less than 5 Kalyan       1\n",
       "Mira                     1\n",
       "Vaanya                   1\n",
       "Gaurav                   1\n",
       "Harsh                    1\n",
       "Reyansh                  1\n",
       "Kibara                   1\n",
       "Rashi                    1\n",
       "ME                       1\n",
       "M.Com                    1\n",
       "Nalyan                   1\n",
       "Mihir                    1\n",
       "Nalini                   1\n",
       "Nandini                  1\n",
       "Khaziabad                1\n",
       "Name: count, dtype: int64"
      ]
     },
     "execution_count": 112,
     "metadata": {},
     "output_type": "execute_result"
    }
   ],
   "source": [
    "df['City'].value_counts()"
   ]
  },
  {
   "cell_type": "code",
   "execution_count": 113,
   "metadata": {
    "execution": {
     "iopub.execute_input": "2025-01-16T21:18:32.988114Z",
     "iopub.status.busy": "2025-01-16T21:18:32.987810Z",
     "iopub.status.idle": "2025-01-16T21:18:33.020968Z",
     "shell.execute_reply": "2025-01-16T21:18:33.019721Z",
     "shell.execute_reply.started": "2025-01-16T21:18:32.988091Z"
    },
    "trusted": true
   },
   "outputs": [
    {
     "data": {
      "text/plain": [
       "Index(['Kalyan', 'Srinagar', 'Hyderabad', 'Vasai-Virar', 'Lucknow', 'Thane',\n",
       "       'Ludhiana', 'Agra', 'Surat', 'Kolkata', 'Jaipur', 'Patna',\n",
       "       'Visakhapatnam', 'Pune', 'Ahmedabad', 'Bhopal', 'Chennai', 'Meerut',\n",
       "       'Rajkot', 'Bangalore', 'Delhi', 'Ghaziabad', 'Mumbai', 'Vadodara',\n",
       "       'Varanasi', 'Nagpur', 'Indore', 'Kanpur', 'Nashik', 'Faridabad'],\n",
       "      dtype='object', name='City')"
      ]
     },
     "metadata": {},
     "output_type": "display_data"
    },
    {
     "data": {
      "text/plain": [
       "City\n",
       "Kalyan           1569\n",
       "Srinagar         1368\n",
       "Hyderabad        1338\n",
       "Vasai-Virar      1286\n",
       "Lucknow          1151\n",
       "Thane            1138\n",
       "Ludhiana         1108\n",
       "Agra             1092\n",
       "Surat            1076\n",
       "Kolkata          1065\n",
       "Jaipur           1034\n",
       "Patna            1006\n",
       "Visakhapatnam     968\n",
       "Pune              965\n",
       "Ahmedabad         949\n",
       "Bhopal            929\n",
       "Chennai           882\n",
       "Meerut            824\n",
       "Rajkot            813\n",
       "Bangalore         767\n",
       "Delhi             766\n",
       "Ghaziabad         738\n",
       "Mumbai            698\n",
       "Vadodara          692\n",
       "Varanasi          684\n",
       "Nagpur            649\n",
       "Indore            643\n",
       "Kanpur            608\n",
       "Nashik            544\n",
       "Faridabad         461\n",
       "Name: count, dtype: int64"
      ]
     },
     "execution_count": 113,
     "metadata": {},
     "output_type": "execute_result"
    }
   ],
   "source": [
    "filtered_cities = df['City'].value_counts()[lambda x: x > 2].index\n",
    "display(filtered_cities)\n",
    "df.query('City in @filtered_cities',inplace=True)\n",
    "df['City'].value_counts()"
   ]
  },
  {
   "cell_type": "markdown",
   "metadata": {},
   "source": [
    "## Profession"
   ]
  },
  {
   "cell_type": "code",
   "execution_count": 114,
   "metadata": {
    "execution": {
     "iopub.execute_input": "2025-01-16T21:18:33.022574Z",
     "iopub.status.busy": "2025-01-16T21:18:33.022273Z",
     "iopub.status.idle": "2025-01-16T21:18:33.033831Z",
     "shell.execute_reply": "2025-01-16T21:18:33.032560Z",
     "shell.execute_reply.started": "2025-01-16T21:18:33.022548Z"
    },
    "trusted": true
   },
   "outputs": [
    {
     "data": {
      "text/plain": [
       "Profession\n",
       "Student                   27780\n",
       "Architect                     8\n",
       "Teacher                       6\n",
       "Digital Marketer              3\n",
       "Chef                          2\n",
       "Content Writer                2\n",
       "Pharmacist                    2\n",
       "Doctor                        2\n",
       "UX/UI Designer                1\n",
       "Civil Engineer                1\n",
       "Manager                       1\n",
       "Educational Consultant        1\n",
       "Lawyer                        1\n",
       "Entrepreneur                  1\n",
       "Name: count, dtype: int64"
      ]
     },
     "execution_count": 114,
     "metadata": {},
     "output_type": "execute_result"
    }
   ],
   "source": [
    "df['Profession'].value_counts()"
   ]
  },
  {
   "cell_type": "code",
   "execution_count": 115,
   "metadata": {
    "execution": {
     "iopub.execute_input": "2025-01-16T21:18:33.035565Z",
     "iopub.status.busy": "2025-01-16T21:18:33.035118Z",
     "iopub.status.idle": "2025-01-16T21:18:33.066665Z",
     "shell.execute_reply": "2025-01-16T21:18:33.065165Z",
     "shell.execute_reply.started": "2025-01-16T21:18:33.035527Z"
    },
    "trusted": true
   },
   "outputs": [],
   "source": [
    "df.drop(columns=['Profession'],axis=1,inplace=True)"
   ]
  },
  {
   "cell_type": "markdown",
   "metadata": {},
   "source": [
    "## Academic Pressure"
   ]
  },
  {
   "cell_type": "code",
   "execution_count": 116,
   "metadata": {
    "execution": {
     "iopub.execute_input": "2025-01-16T21:18:33.068391Z",
     "iopub.status.busy": "2025-01-16T21:18:33.067959Z",
     "iopub.status.idle": "2025-01-16T21:18:33.079284Z",
     "shell.execute_reply": "2025-01-16T21:18:33.078040Z",
     "shell.execute_reply.started": "2025-01-16T21:18:33.068343Z"
    },
    "trusted": true
   },
   "outputs": [
    {
     "data": {
      "text/plain": [
       "AP\n",
       "0.0       3\n",
       "1.0    4781\n",
       "2.0    4161\n",
       "3.0    7439\n",
       "4.0    5143\n",
       "5.0    6284\n",
       "Name: count, dtype: int64"
      ]
     },
     "execution_count": 116,
     "metadata": {},
     "output_type": "execute_result"
    }
   ],
   "source": [
    "df['AP'].value_counts().sort_index()"
   ]
  },
  {
   "cell_type": "code",
   "execution_count": 117,
   "metadata": {},
   "outputs": [
    {
     "data": {
      "image/png": "[encoded data removed]",
      "text/plain": [
       "<Figure size 600x600 with 1 Axes>"
      ]
     },
     "metadata": {},
     "output_type": "display_data"
    }
   ],
   "source": [
    "ap_counts = df['AP'].value_counts()\n",
    "pie_plot(data=ap_counts, labels=ap_counts.index, title='Academic Pressure')\n"
   ]
  },
  {
   "cell_type": "code",
   "execution_count": 118,
   "metadata": {
    "execution": {
     "iopub.execute_input": "2025-01-16T21:18:33.080709Z",
     "iopub.status.busy": "2025-01-16T21:18:33.080325Z",
     "iopub.status.idle": "2025-01-16T21:18:33.106354Z",
     "shell.execute_reply": "2025-01-16T21:18:33.104977Z",
     "shell.execute_reply.started": "2025-01-16T21:18:33.080656Z"
    },
    "trusted": true
   },
   "outputs": [],
   "source": [
    "df.query('AP > 0.0 ', inplace=True)"
   ]
  },
  {
   "cell_type": "markdown",
   "metadata": {},
   "source": [
    "## Work Pressure "
   ]
  },
  {
   "cell_type": "code",
   "execution_count": 119,
   "metadata": {
    "execution": {
     "iopub.execute_input": "2025-01-16T21:18:33.107993Z",
     "iopub.status.busy": "2025-01-16T21:18:33.107665Z",
     "iopub.status.idle": "2025-01-16T21:18:33.118676Z",
     "shell.execute_reply": "2025-01-16T21:18:33.117746Z",
     "shell.execute_reply.started": "2025-01-16T21:18:33.107966Z"
    },
    "trusted": true
   },
   "outputs": [
    {
     "data": {
      "text/plain": [
       "WP\n",
       "0.0    27808\n",
       "Name: count, dtype: int64"
      ]
     },
     "execution_count": 119,
     "metadata": {},
     "output_type": "execute_result"
    }
   ],
   "source": [
    "df['WP'].value_counts().sort_index()"
   ]
  },
  {
   "cell_type": "code",
   "execution_count": 120,
   "metadata": {},
   "outputs": [],
   "source": [
    "df.drop(columns=['WP'],inplace=True)"
   ]
  },
  {
   "cell_type": "markdown",
   "metadata": {},
   "source": [
    "## Study Satisfaction"
   ]
  },
  {
   "cell_type": "code",
   "execution_count": 121,
   "metadata": {
    "execution": {
     "iopub.execute_input": "2025-01-16T21:18:33.134217Z",
     "iopub.status.busy": "2025-01-16T21:18:33.133949Z",
     "iopub.status.idle": "2025-01-16T21:18:33.154685Z",
     "shell.execute_reply": "2025-01-16T21:18:33.153609Z",
     "shell.execute_reply.started": "2025-01-16T21:18:33.134193Z"
    },
    "trusted": true
   },
   "outputs": [
    {
     "data": {
      "text/plain": [
       "SS\n",
       "0.0       2\n",
       "1.0    5430\n",
       "2.0    5823\n",
       "3.0    5803\n",
       "4.0    6342\n",
       "5.0    4408\n",
       "Name: count, dtype: int64"
      ]
     },
     "execution_count": 121,
     "metadata": {},
     "output_type": "execute_result"
    }
   ],
   "source": [
    "df['SS'].value_counts().sort_index()"
   ]
  },
  {
   "cell_type": "code",
   "execution_count": 122,
   "metadata": {},
   "outputs": [
    {
     "data": {
      "image/png": "[encoded data removed]",
      "text/plain": [
       "<Figure size 600x600 with 1 Axes>"
      ]
     },
     "metadata": {},
     "output_type": "display_data"
    }
   ],
   "source": [
    "ss_counts = df['SS'].value_counts()\n",
    "pie_plot(data=ss_counts, labels=ss_counts.index, title='Study Satisfaction')"
   ]
  },
  {
   "cell_type": "code",
   "execution_count": 123,
   "metadata": {
    "execution": {
     "iopub.execute_input": "2025-01-16T21:18:33.156099Z",
     "iopub.status.busy": "2025-01-16T21:18:33.155819Z",
     "iopub.status.idle": "2025-01-16T21:18:33.180745Z",
     "shell.execute_reply": "2025-01-16T21:18:33.179769Z",
     "shell.execute_reply.started": "2025-01-16T21:18:33.156076Z"
    },
    "trusted": true
   },
   "outputs": [],
   "source": [
    "df.query('SS > 0.0 ', inplace=True)"
   ]
  },
  {
   "cell_type": "markdown",
   "metadata": {},
   "source": [
    "## Job Satisfaction "
   ]
  },
  {
   "cell_type": "code",
   "execution_count": 124,
   "metadata": {
    "execution": {
     "iopub.execute_input": "2025-01-16T21:18:33.182150Z",
     "iopub.status.busy": "2025-01-16T21:18:33.181831Z",
     "iopub.status.idle": "2025-01-16T21:18:33.192567Z",
     "shell.execute_reply": "2025-01-16T21:18:33.191528Z",
     "shell.execute_reply.started": "2025-01-16T21:18:33.182115Z"
    },
    "trusted": true
   },
   "outputs": [
    {
     "data": {
      "text/plain": [
       "JS\n",
       "0.0    27804\n",
       "2.0        1\n",
       "3.0        1\n",
       "Name: count, dtype: int64"
      ]
     },
     "execution_count": 124,
     "metadata": {},
     "output_type": "execute_result"
    }
   ],
   "source": [
    "df['JS'].value_counts().sort_index()"
   ]
  },
  {
   "cell_type": "code",
   "execution_count": 125,
   "metadata": {
    "execution": {
     "iopub.execute_input": "2025-01-16T21:18:33.193799Z",
     "iopub.status.busy": "2025-01-16T21:18:33.193490Z",
     "iopub.status.idle": "2025-01-16T21:18:33.220114Z",
     "shell.execute_reply": "2025-01-16T21:18:33.219088Z",
     "shell.execute_reply.started": "2025-01-16T21:18:33.193775Z"
    },
    "trusted": true
   },
   "outputs": [],
   "source": [
    "df.drop(columns=['JS'],inplace=True)"
   ]
  },
  {
   "cell_type": "markdown",
   "metadata": {},
   "source": [
    "## Sleep Duration"
   ]
  },
  {
   "cell_type": "code",
   "execution_count": 126,
   "metadata": {
    "execution": {
     "iopub.execute_input": "2025-01-16T21:18:33.221360Z",
     "iopub.status.busy": "2025-01-16T21:18:33.221105Z",
     "iopub.status.idle": "2025-01-16T21:18:33.230567Z",
     "shell.execute_reply": "2025-01-16T21:18:33.229660Z",
     "shell.execute_reply.started": "2025-01-16T21:18:33.221338Z"
    },
    "trusted": true
   },
   "outputs": [
    {
     "data": {
      "text/plain": [
       "SD\n",
       "5-6 hours            6160\n",
       "7-8 hours            7317\n",
       "Less than 5 hours    8282\n",
       "More than 8 hours    6029\n",
       "Others                 18\n",
       "Name: count, dtype: int64"
      ]
     },
     "execution_count": 126,
     "metadata": {},
     "output_type": "execute_result"
    }
   ],
   "source": [
    "df['SD'].value_counts().sort_index()"
   ]
  },
  {
   "cell_type": "code",
   "execution_count": 127,
   "metadata": {},
   "outputs": [
    {
     "data": {
      "image/png": "[encoded data removed]",
      "text/plain": [
       "<Figure size 600x600 with 1 Axes>"
      ]
     },
     "metadata": {},
     "output_type": "display_data"
    }
   ],
   "source": [
    "sd_counts = df['SD'].value_counts()\n",
    "pie_plot(data=sd_counts, labels=sd_counts.index, title='Study Satisfaction')"
   ]
  },
  {
   "cell_type": "code",
   "execution_count": 128,
   "metadata": {
    "execution": {
     "iopub.execute_input": "2025-01-16T21:18:33.231968Z",
     "iopub.status.busy": "2025-01-16T21:18:33.231563Z",
     "iopub.status.idle": "2025-01-16T21:18:33.256404Z",
     "shell.execute_reply": "2025-01-16T21:18:33.255378Z",
     "shell.execute_reply.started": "2025-01-16T21:18:33.231930Z"
    },
    "trusted": true
   },
   "outputs": [],
   "source": [
    "df.query('SD != \"Others\" ', inplace=True)"
   ]
  },
  {
   "cell_type": "code",
   "execution_count": 129,
   "metadata": {},
   "outputs": [],
   "source": [
    "mapping = {\n",
    "    'Less than 5 hours': 1,\n",
    "    '5-6 hours': 2,\n",
    "    '7-8 hours': 3,\n",
    "    'More than 8 hours': 4\n",
    "}\n",
    "\n",
    "df['SD'] = df['SD'].map(mapping)"
   ]
  },
  {
   "cell_type": "markdown",
   "metadata": {},
   "source": [
    "## Dietary Habits"
   ]
  },
  {
   "cell_type": "code",
   "execution_count": 130,
   "metadata": {
    "execution": {
     "iopub.execute_input": "2025-01-16T21:18:33.262199Z",
     "iopub.status.busy": "2025-01-16T21:18:33.261870Z",
     "iopub.status.idle": "2025-01-16T21:18:33.276242Z",
     "shell.execute_reply": "2025-01-16T21:18:33.275031Z",
     "shell.execute_reply.started": "2025-01-16T21:18:33.262172Z"
    },
    "trusted": true
   },
   "outputs": [
    {
     "data": {
      "text/plain": [
       "DH\n",
       "Healthy       7622\n",
       "Moderate      9886\n",
       "Others          12\n",
       "Unhealthy    10268\n",
       "Name: count, dtype: int64"
      ]
     },
     "execution_count": 130,
     "metadata": {},
     "output_type": "execute_result"
    }
   ],
   "source": [
    "df['DH'].value_counts().sort_index()"
   ]
  },
  {
   "cell_type": "code",
   "execution_count": 131,
   "metadata": {},
   "outputs": [
    {
     "data": {
      "image/png": "[encoded data removed]",
      "text/plain": [
       "<Figure size 600x600 with 1 Axes>"
      ]
     },
     "metadata": {},
     "output_type": "display_data"
    }
   ],
   "source": [
    "dh_counts = df['DH'].value_counts()\n",
    "pie_plot(data=dh_counts, labels=dh_counts.index, title='Study Satisfaction')"
   ]
  },
  {
   "cell_type": "code",
   "execution_count": 132,
   "metadata": {
    "execution": {
     "iopub.execute_input": "2025-01-16T21:18:33.278284Z",
     "iopub.status.busy": "2025-01-16T21:18:33.277981Z",
     "iopub.status.idle": "2025-01-16T21:18:33.303871Z",
     "shell.execute_reply": "2025-01-16T21:18:33.302533Z",
     "shell.execute_reply.started": "2025-01-16T21:18:33.278257Z"
    },
    "trusted": true
   },
   "outputs": [],
   "source": [
    "df.query('DH != \"Others\" ', inplace=True)"
   ]
  },
  {
   "cell_type": "code",
   "execution_count": 133,
   "metadata": {},
   "outputs": [],
   "source": [
    "mapping = {\n",
    "    'Healthy': 0,\n",
    "    'Moderate': 1,\n",
    "    'Unhealthy': 3\n",
    "}\n",
    "\n",
    "df['DH'] = df['DH'].map(mapping)"
   ]
  },
  {
   "cell_type": "markdown",
   "metadata": {},
   "source": [
    "## Degree"
   ]
  },
  {
   "cell_type": "code",
   "execution_count": 134,
   "metadata": {
    "execution": {
     "iopub.execute_input": "2025-01-16T21:18:33.305382Z",
     "iopub.status.busy": "2025-01-16T21:18:33.305044Z",
     "iopub.status.idle": "2025-01-16T21:18:33.320459Z",
     "shell.execute_reply": "2025-01-16T21:18:33.318870Z",
     "shell.execute_reply.started": "2025-01-16T21:18:33.305355Z"
    },
    "trusted": true
   },
   "outputs": [
    {
     "data": {
      "text/plain": [
       "Degree\n",
       "PhD          518\n",
       "Others        35\n",
       "MSc         1187\n",
       "MHM          190\n",
       "ME           185\n",
       "MD           570\n",
       "MCA         1036\n",
       "MBBS         691\n",
       "MBA          560\n",
       "MA           544\n",
       "M.Tech      1018\n",
       "M.Pharm      580\n",
       "M.Ed         816\n",
       "M.Com        734\n",
       "LLM          481\n",
       "LLB          666\n",
       "Class 12    6051\n",
       "BSc          884\n",
       "BHM          924\n",
       "BE           606\n",
       "BCA         1426\n",
       "BBA          693\n",
       "BA           594\n",
       "B.Tech      1149\n",
       "B.Pharm      808\n",
       "B.Ed        1858\n",
       "B.Com       1498\n",
       "B.Arch      1474\n",
       "Name: count, dtype: int64"
      ]
     },
     "execution_count": 134,
     "metadata": {},
     "output_type": "execute_result"
    }
   ],
   "source": [
    "df['Degree'].value_counts().sort_index(ascending=False)"
   ]
  },
  {
   "cell_type": "code",
   "execution_count": 135,
   "metadata": {},
   "outputs": [],
   "source": [
    "def categorize_education(degree):\n",
    "    if degree == \"Class 12\":\n",
    "        return 0 # Secondary Education\n",
    "    elif degree in [\"PhD\", \"Others\", \"MSc\", \"MHM\", \"ME\", \"MD\", \"MCA\", \"MBBS\", \"MBA\", \"MA\", \n",
    "                   \"M.Tech\", \"M.Pharm\", \"M.Ed\", \"M.Com\", \"LLM\"]:\n",
    "        return 1 # Postgraduate Degree\n",
    "    elif degree in [\"LLB\", \"BSc\", \"BHM\", \"BE\", \"BCA\", \"BBA\", \"BA\", \"B.Tech\", \n",
    "                   \"B.Pharm\", \"B.Ed\", \"B.Com\", \"B.Arch\"]:\n",
    "        return 2 # Undergraduate Degree\n",
    "\n",
    "df[\"Degree\"] = df[\"Degree\"].apply(categorize_education).astype('category')"
   ]
  },
  {
   "cell_type": "code",
   "execution_count": 136,
   "metadata": {},
   "outputs": [
    {
     "data": {
      "text/plain": [
       "Degree\n",
       "2    12580\n",
       "1     9145\n",
       "0     6051\n",
       "Name: count, dtype: int64"
      ]
     },
     "execution_count": 136,
     "metadata": {},
     "output_type": "execute_result"
    }
   ],
   "source": [
    "df[\"Degree\"].value_counts()"
   ]
  },
  {
   "cell_type": "markdown",
   "metadata": {},
   "source": [
    "## Have you ever had suicidal thoughts ?"
   ]
  },
  {
   "cell_type": "code",
   "execution_count": 137,
   "metadata": {
    "execution": {
     "iopub.execute_input": "2025-01-16T21:18:33.322014Z",
     "iopub.status.busy": "2025-01-16T21:18:33.321588Z",
     "iopub.status.idle": "2025-01-16T21:18:33.341246Z",
     "shell.execute_reply": "2025-01-16T21:18:33.340242Z",
     "shell.execute_reply.started": "2025-01-16T21:18:33.321955Z"
    },
    "trusted": true
   },
   "outputs": [
    {
     "data": {
      "text/plain": [
       "ST\n",
       "No     10199\n",
       "Yes    17577\n",
       "Name: count, dtype: int64"
      ]
     },
     "execution_count": 137,
     "metadata": {},
     "output_type": "execute_result"
    }
   ],
   "source": [
    "df['ST'].value_counts().sort_index()"
   ]
  },
  {
   "cell_type": "code",
   "execution_count": 138,
   "metadata": {},
   "outputs": [],
   "source": [
    "mapping = {\n",
    "    'No':0,\n",
    "    'Yes':1\n",
    "}\n",
    "\n",
    "df['ST'] = df['ST'].map(mapping)"
   ]
  },
  {
   "cell_type": "markdown",
   "metadata": {},
   "source": [
    "## Work/Study Hours"
   ]
  },
  {
   "cell_type": "code",
   "execution_count": 139,
   "metadata": {
    "execution": {
     "iopub.execute_input": "2025-01-16T21:18:33.342461Z",
     "iopub.status.busy": "2025-01-16T21:18:33.342188Z",
     "iopub.status.idle": "2025-01-16T21:18:33.363326Z",
     "shell.execute_reply": "2025-01-16T21:18:33.362110Z",
     "shell.execute_reply.started": "2025-01-16T21:18:33.342439Z"
    },
    "trusted": true
   },
   "outputs": [
    {
     "data": {
      "text/plain": [
       "WSH\n",
       "0.0     1691\n",
       "1.0     1143\n",
       "2.0     1580\n",
       "3.0     1464\n",
       "4.0     1604\n",
       "5.0     1290\n",
       "6.0     2236\n",
       "7.0     1990\n",
       "8.0     2501\n",
       "9.0     2018\n",
       "10.0    4223\n",
       "11.0    2882\n",
       "12.0    3154\n",
       "Name: count, dtype: int64"
      ]
     },
     "execution_count": 139,
     "metadata": {},
     "output_type": "execute_result"
    }
   ],
   "source": [
    "df['WSH'].value_counts().sort_index()\n"
   ]
  },
  {
   "cell_type": "markdown",
   "metadata": {},
   "source": [
    "## Financial Stress"
   ]
  },
  {
   "cell_type": "code",
   "execution_count": 140,
   "metadata": {
    "execution": {
     "iopub.execute_input": "2025-01-16T21:18:33.364832Z",
     "iopub.status.busy": "2025-01-16T21:18:33.364432Z",
     "iopub.status.idle": "2025-01-16T21:18:33.388292Z",
     "shell.execute_reply": "2025-01-16T21:18:33.387235Z",
     "shell.execute_reply.started": "2025-01-16T21:18:33.364754Z"
    },
    "trusted": true
   },
   "outputs": [
    {
     "data": {
      "text/plain": [
       "FS\n",
       "1.0    5101\n",
       "2.0    5040\n",
       "3.0    5196\n",
       "4.0    5758\n",
       "5.0    6681\n",
       "Name: count, dtype: int64"
      ]
     },
     "execution_count": 140,
     "metadata": {},
     "output_type": "execute_result"
    }
   ],
   "source": [
    "df['FS'].value_counts().sort_index()"
   ]
  },
  {
   "cell_type": "markdown",
   "metadata": {},
   "source": [
    "## Family History of Mental Illness"
   ]
  },
  {
   "cell_type": "code",
   "execution_count": 141,
   "metadata": {
    "execution": {
     "iopub.execute_input": "2025-01-16T21:18:33.389583Z",
     "iopub.status.busy": "2025-01-16T21:18:33.389285Z",
     "iopub.status.idle": "2025-01-16T21:18:33.410680Z",
     "shell.execute_reply": "2025-01-16T21:18:33.409527Z",
     "shell.execute_reply.started": "2025-01-16T21:18:33.389549Z"
    },
    "trusted": true
   },
   "outputs": [
    {
     "data": {
      "text/plain": [
       "FHMI\n",
       "No     14327\n",
       "Yes    13449\n",
       "Name: count, dtype: int64"
      ]
     },
     "execution_count": 141,
     "metadata": {},
     "output_type": "execute_result"
    }
   ],
   "source": [
    "df['FHMI'].value_counts().sort_index()"
   ]
  },
  {
   "cell_type": "code",
   "execution_count": 142,
   "metadata": {},
   "outputs": [],
   "source": [
    "df['FHMI']= df['FHMI'].map({'No':0,'Yes':1}).astype('int64')"
   ]
  },
  {
   "cell_type": "markdown",
   "metadata": {},
   "source": [
    "## Depression"
   ]
  },
  {
   "cell_type": "code",
   "execution_count": 143,
   "metadata": {
    "execution": {
     "iopub.execute_input": "2025-01-16T21:18:33.412232Z",
     "iopub.status.busy": "2025-01-16T21:18:33.411846Z",
     "iopub.status.idle": "2025-01-16T21:18:33.432071Z",
     "shell.execute_reply": "2025-01-16T21:18:33.431185Z",
     "shell.execute_reply.started": "2025-01-16T21:18:33.412193Z"
    },
    "trusted": true
   },
   "outputs": [
    {
     "data": {
      "text/plain": [
       "Depression\n",
       "0    11503\n",
       "1    16273\n",
       "Name: count, dtype: int64"
      ]
     },
     "execution_count": 143,
     "metadata": {},
     "output_type": "execute_result"
    }
   ],
   "source": [
    "df['Depression'].value_counts().sort_index()"
   ]
  },
  {
   "cell_type": "markdown",
   "metadata": {},
   "source": [
    "# Implementação do Algoritimos"
   ]
  },
  {
   "cell_type": "markdown",
   "metadata": {},
   "source": [
    "## Realizando processo de dummie para a variavel cidade"
   ]
  },
  {
   "cell_type": "code",
   "execution_count": 144,
   "metadata": {
    "execution": {
     "iopub.execute_input": "2025-01-16T21:18:33.505872Z",
     "iopub.status.busy": "2025-01-16T21:18:33.505469Z",
     "iopub.status.idle": "2025-01-16T21:18:33.675377Z",
     "shell.execute_reply": "2025-01-16T21:18:33.674370Z",
     "shell.execute_reply.started": "2025-01-16T21:18:33.505821Z"
    },
    "trusted": true
   },
   "outputs": [],
   "source": [
    "df_dummies = pd.get_dummies(df, columns=['City'], dtype=int, drop_first=True)"
   ]
  },
  {
   "cell_type": "code",
   "execution_count": 145,
   "metadata": {},
   "outputs": [
    {
     "data": {
      "text/plain": [
       "(27776, 42)"
      ]
     },
     "execution_count": 145,
     "metadata": {},
     "output_type": "execute_result"
    }
   ],
   "source": [
    "df_dummies.shape"
   ]
  },
  {
   "cell_type": "markdown",
   "metadata": {},
   "source": [
    "## Modelo Logisitico"
   ]
  },
  {
   "cell_type": "markdown",
   "metadata": {},
   "source": [
    "### Gerando formula para o modelo"
   ]
  },
  {
   "cell_type": "code",
   "execution_count": 146,
   "metadata": {
    "execution": {
     "iopub.execute_input": "2025-01-16T21:18:33.676967Z",
     "iopub.status.busy": "2025-01-16T21:18:33.676456Z",
     "iopub.status.idle": "2025-01-16T21:18:33.730922Z",
     "shell.execute_reply": "2025-01-16T21:18:33.729771Z",
     "shell.execute_reply.started": "2025-01-16T21:18:33.676811Z"
    },
    "trusted": true
   },
   "outputs": [
    {
     "data": {
      "text/plain": [
       "'Depression ~ Gender + Age + AP + CGPA + SS + SD + DH + Degree + ST + WSH + FS + FHMI + City_Ahmedabad + City_Bangalore + City_Bhopal + City_Chennai + City_Delhi + City_Faridabad + City_Ghaziabad + City_Hyderabad + City_Indore + City_Jaipur + City_Kalyan + City_Kanpur + City_Kolkata + City_Lucknow + City_Ludhiana + City_Meerut + City_Mumbai + City_Nagpur + City_Nashik + City_Patna + City_Pune + City_Rajkot + City_Srinagar + City_Surat + City_Thane + City_Vadodara + City_Varanasi + City_Vasai_Virar + City_Visakhapatnam'"
      ]
     },
     "execution_count": 146,
     "metadata": {},
     "output_type": "execute_result"
    }
   ],
   "source": [
    "df_dummies.columns = df_dummies.columns.str.replace('-', '_', regex=True)\n",
    "\n",
    "list_colums_dummies = list(df_dummies.drop(columns=['Depression']).columns)\n",
    "formula_dummies_model = ' + '.join(list_colums_dummies)\n",
    "formula_dummies_model = 'Depression ~ ' + formula_dummies_model\n",
    "formula_dummies_model"
   ]
  },
  {
   "cell_type": "markdown",
   "metadata": {},
   "source": [
    "### Realizando o treino do modelo:"
   ]
  },
  {
   "cell_type": "code",
   "execution_count": 147,
   "metadata": {
    "execution": {
     "iopub.execute_input": "2025-01-16T21:18:33.732307Z",
     "iopub.status.busy": "2025-01-16T21:18:33.732031Z",
     "iopub.status.idle": "2025-01-16T21:18:47.049729Z",
     "shell.execute_reply": "2025-01-16T21:18:47.048676Z",
     "shell.execute_reply.started": "2025-01-16T21:18:33.732283Z"
    },
    "trusted": true
   },
   "outputs": [
    {
     "name": "stdout",
     "output_type": "stream",
     "text": [
      "Optimization terminated successfully.\n",
      "         Current function value: 0.347690\n",
      "         Iterations 7\n"
     ]
    },
    {
     "data": {
      "text/html": [
       "<table class=\"simpletable\">\n",
       "<caption>Logit Regression Results</caption>\n",
       "<tr>\n",
       "  <th>Dep. Variable:</th>      <td>Depression</td>    <th>  No. Observations:  </th>  <td> 27776</td> \n",
       "</tr>\n",
       "<tr>\n",
       "  <th>Model:</th>                 <td>Logit</td>      <th>  Df Residuals:      </th>  <td> 27733</td> \n",
       "</tr>\n",
       "<tr>\n",
       "  <th>Method:</th>                 <td>MLE</td>       <th>  Df Model:          </th>  <td>    42</td> \n",
       "</tr>\n",
       "<tr>\n",
       "  <th>Date:</th>            <td>Mon, 03 Feb 2025</td> <th>  Pseudo R-squ.:     </th>  <td>0.4874</td> \n",
       "</tr>\n",
       "<tr>\n",
       "  <th>Time:</th>                <td>21:03:58</td>     <th>  Log-Likelihood:    </th> <td> -9657.4</td>\n",
       "</tr>\n",
       "<tr>\n",
       "  <th>converged:</th>             <td>True</td>       <th>  LL-Null:           </th> <td> -18841.</td>\n",
       "</tr>\n",
       "<tr>\n",
       "  <th>Covariance Type:</th>     <td>nonrobust</td>    <th>  LLR p-value:       </th>  <td> 0.000</td> \n",
       "</tr>\n",
       "</table>\n",
       "<table class=\"simpletable\">\n",
       "<tr>\n",
       "           <td></td>             <th>coef</th>     <th>std err</th>      <th>z</th>      <th>P>|z|</th>  <th>[0.025</th>    <th>0.975]</th>  \n",
       "</tr>\n",
       "<tr>\n",
       "  <th>Intercept</th>          <td>   -3.4763</td> <td>    0.195</td> <td>  -17.793</td> <td> 0.000</td> <td>   -3.859</td> <td>   -3.093</td>\n",
       "</tr>\n",
       "<tr>\n",
       "  <th>Degree[T.1]</th>        <td>    0.1770</td> <td>    0.064</td> <td>    2.760</td> <td> 0.006</td> <td>    0.051</td> <td>    0.303</td>\n",
       "</tr>\n",
       "<tr>\n",
       "  <th>Degree[T.2]</th>        <td>    0.1630</td> <td>    0.059</td> <td>    2.748</td> <td> 0.006</td> <td>    0.047</td> <td>    0.279</td>\n",
       "</tr>\n",
       "<tr>\n",
       "  <th>Gender</th>             <td>   -0.0058</td> <td>    0.037</td> <td>   -0.156</td> <td> 0.876</td> <td>   -0.078</td> <td>    0.067</td>\n",
       "</tr>\n",
       "<tr>\n",
       "  <th>Age</th>                <td>   -0.1181</td> <td>    0.005</td> <td>  -24.280</td> <td> 0.000</td> <td>   -0.128</td> <td>   -0.109</td>\n",
       "</tr>\n",
       "<tr>\n",
       "  <th>AP</th>                 <td>    0.8402</td> <td>    0.015</td> <td>   55.994</td> <td> 0.000</td> <td>    0.811</td> <td>    0.870</td>\n",
       "</tr>\n",
       "<tr>\n",
       "  <th>CGPA</th>               <td>    0.0554</td> <td>    0.013</td> <td>    4.418</td> <td> 0.000</td> <td>    0.031</td> <td>    0.080</td>\n",
       "</tr>\n",
       "<tr>\n",
       "  <th>SS</th>                 <td>   -0.2434</td> <td>    0.014</td> <td>  -17.821</td> <td> 0.000</td> <td>   -0.270</td> <td>   -0.217</td>\n",
       "</tr>\n",
       "<tr>\n",
       "  <th>SD</th>                 <td>   -0.1893</td> <td>    0.016</td> <td>  -11.560</td> <td> 0.000</td> <td>   -0.221</td> <td>   -0.157</td>\n",
       "</tr>\n",
       "<tr>\n",
       "  <th>DH</th>                 <td>    0.3552</td> <td>    0.015</td> <td>   23.539</td> <td> 0.000</td> <td>    0.326</td> <td>    0.385</td>\n",
       "</tr>\n",
       "<tr>\n",
       "  <th>ST</th>                 <td>    2.5229</td> <td>    0.039</td> <td>   64.156</td> <td> 0.000</td> <td>    2.446</td> <td>    2.600</td>\n",
       "</tr>\n",
       "<tr>\n",
       "  <th>WSH</th>                <td>    0.1177</td> <td>    0.005</td> <td>   23.571</td> <td> 0.000</td> <td>    0.108</td> <td>    0.127</td>\n",
       "</tr>\n",
       "<tr>\n",
       "  <th>FS</th>                 <td>    0.5534</td> <td>    0.013</td> <td>   41.316</td> <td> 0.000</td> <td>    0.527</td> <td>    0.580</td>\n",
       "</tr>\n",
       "<tr>\n",
       "  <th>FHMI</th>               <td>    0.2495</td> <td>    0.037</td> <td>    6.818</td> <td> 0.000</td> <td>    0.178</td> <td>    0.321</td>\n",
       "</tr>\n",
       "<tr>\n",
       "  <th>City_Ahmedabad</th>     <td>    0.5683</td> <td>    0.134</td> <td>    4.237</td> <td> 0.000</td> <td>    0.305</td> <td>    0.831</td>\n",
       "</tr>\n",
       "<tr>\n",
       "  <th>City_Bangalore</th>     <td>    0.3404</td> <td>    0.142</td> <td>    2.397</td> <td> 0.017</td> <td>    0.062</td> <td>    0.619</td>\n",
       "</tr>\n",
       "<tr>\n",
       "  <th>City_Bhopal</th>        <td>    0.4240</td> <td>    0.132</td> <td>    3.202</td> <td> 0.001</td> <td>    0.164</td> <td>    0.684</td>\n",
       "</tr>\n",
       "<tr>\n",
       "  <th>City_Chennai</th>       <td>    0.1770</td> <td>    0.135</td> <td>    1.306</td> <td> 0.191</td> <td>   -0.089</td> <td>    0.442</td>\n",
       "</tr>\n",
       "<tr>\n",
       "  <th>City_Delhi</th>         <td>    0.3443</td> <td>    0.142</td> <td>    2.430</td> <td> 0.015</td> <td>    0.067</td> <td>    0.622</td>\n",
       "</tr>\n",
       "<tr>\n",
       "  <th>City_Faridabad</th>     <td>    0.4151</td> <td>    0.165</td> <td>    2.510</td> <td> 0.012</td> <td>    0.091</td> <td>    0.739</td>\n",
       "</tr>\n",
       "<tr>\n",
       "  <th>City_Ghaziabad</th>     <td>    0.2828</td> <td>    0.145</td> <td>    1.957</td> <td> 0.050</td> <td>   -0.000</td> <td>    0.566</td>\n",
       "</tr>\n",
       "<tr>\n",
       "  <th>City_Hyderabad</th>     <td>    0.5418</td> <td>    0.122</td> <td>    4.428</td> <td> 0.000</td> <td>    0.302</td> <td>    0.782</td>\n",
       "</tr>\n",
       "<tr>\n",
       "  <th>City_Indore</th>        <td>    0.2969</td> <td>    0.148</td> <td>    2.011</td> <td> 0.044</td> <td>    0.008</td> <td>    0.586</td>\n",
       "</tr>\n",
       "<tr>\n",
       "  <th>City_Jaipur</th>        <td>    0.0198</td> <td>    0.129</td> <td>    0.154</td> <td> 0.878</td> <td>   -0.233</td> <td>    0.272</td>\n",
       "</tr>\n",
       "<tr>\n",
       "  <th>City_Kalyan</th>        <td>    0.3457</td> <td>    0.119</td> <td>    2.915</td> <td> 0.004</td> <td>    0.113</td> <td>    0.578</td>\n",
       "</tr>\n",
       "<tr>\n",
       "  <th>City_Kanpur</th>        <td>    0.2826</td> <td>    0.150</td> <td>    1.881</td> <td> 0.060</td> <td>   -0.012</td> <td>    0.577</td>\n",
       "</tr>\n",
       "<tr>\n",
       "  <th>City_Kolkata</th>       <td>    0.4711</td> <td>    0.132</td> <td>    3.572</td> <td> 0.000</td> <td>    0.213</td> <td>    0.730</td>\n",
       "</tr>\n",
       "<tr>\n",
       "  <th>City_Lucknow</th>       <td>    0.1757</td> <td>    0.127</td> <td>    1.385</td> <td> 0.166</td> <td>   -0.073</td> <td>    0.424</td>\n",
       "</tr>\n",
       "<tr>\n",
       "  <th>City_Ludhiana</th>      <td>    0.3200</td> <td>    0.128</td> <td>    2.501</td> <td> 0.012</td> <td>    0.069</td> <td>    0.571</td>\n",
       "</tr>\n",
       "<tr>\n",
       "  <th>City_Meerut</th>        <td>    0.4453</td> <td>    0.139</td> <td>    3.202</td> <td> 0.001</td> <td>    0.173</td> <td>    0.718</td>\n",
       "</tr>\n",
       "<tr>\n",
       "  <th>City_Mumbai</th>        <td>   -0.0237</td> <td>    0.145</td> <td>   -0.163</td> <td> 0.871</td> <td>   -0.308</td> <td>    0.261</td>\n",
       "</tr>\n",
       "<tr>\n",
       "  <th>City_Nagpur</th>        <td>   -0.0683</td> <td>    0.146</td> <td>   -0.467</td> <td> 0.641</td> <td>   -0.355</td> <td>    0.219</td>\n",
       "</tr>\n",
       "<tr>\n",
       "  <th>City_Nashik</th>        <td>    0.3355</td> <td>    0.155</td> <td>    2.163</td> <td> 0.031</td> <td>    0.032</td> <td>    0.640</td>\n",
       "</tr>\n",
       "<tr>\n",
       "  <th>City_Patna</th>         <td>    0.4776</td> <td>    0.130</td> <td>    3.667</td> <td> 0.000</td> <td>    0.222</td> <td>    0.733</td>\n",
       "</tr>\n",
       "<tr>\n",
       "  <th>City_Pune</th>          <td>    0.1780</td> <td>    0.131</td> <td>    1.356</td> <td> 0.175</td> <td>   -0.079</td> <td>    0.435</td>\n",
       "</tr>\n",
       "<tr>\n",
       "  <th>City_Rajkot</th>        <td>    0.3289</td> <td>    0.137</td> <td>    2.393</td> <td> 0.017</td> <td>    0.060</td> <td>    0.598</td>\n",
       "</tr>\n",
       "<tr>\n",
       "  <th>City_Srinagar</th>      <td>    0.2190</td> <td>    0.120</td> <td>    1.824</td> <td> 0.068</td> <td>   -0.016</td> <td>    0.454</td>\n",
       "</tr>\n",
       "<tr>\n",
       "  <th>City_Surat</th>         <td>    0.2765</td> <td>    0.131</td> <td>    2.115</td> <td> 0.034</td> <td>    0.020</td> <td>    0.533</td>\n",
       "</tr>\n",
       "<tr>\n",
       "  <th>City_Thane</th>         <td>    0.3769</td> <td>    0.127</td> <td>    2.962</td> <td> 0.003</td> <td>    0.127</td> <td>    0.626</td>\n",
       "</tr>\n",
       "<tr>\n",
       "  <th>City_Vadodara</th>      <td>    0.2272</td> <td>    0.143</td> <td>    1.585</td> <td> 0.113</td> <td>   -0.054</td> <td>    0.508</td>\n",
       "</tr>\n",
       "<tr>\n",
       "  <th>City_Varanasi</th>      <td>    0.0628</td> <td>    0.148</td> <td>    0.425</td> <td> 0.671</td> <td>   -0.227</td> <td>    0.352</td>\n",
       "</tr>\n",
       "<tr>\n",
       "  <th>City_Vasai_Virar</th>   <td>    0.2330</td> <td>    0.123</td> <td>    1.887</td> <td> 0.059</td> <td>   -0.009</td> <td>    0.475</td>\n",
       "</tr>\n",
       "<tr>\n",
       "  <th>City_Visakhapatnam</th> <td>    0.2989</td> <td>    0.133</td> <td>    2.253</td> <td> 0.024</td> <td>    0.039</td> <td>    0.559</td>\n",
       "</tr>\n",
       "</table>"
      ],
      "text/latex": [
       "\\begin{center}\n",
       "\\begin{tabular}{lclc}\n",
       "\\toprule\n",
       "\\textbf{Dep. Variable:}      &    Depression    & \\textbf{  No. Observations:  } &    27776    \\\\\n",
       "\\textbf{Model:}              &      Logit       & \\textbf{  Df Residuals:      } &    27733    \\\\\n",
       "\\textbf{Method:}             &       MLE        & \\textbf{  Df Model:          } &       42    \\\\\n",
       "\\textbf{Date:}               & Mon, 03 Feb 2025 & \\textbf{  Pseudo R-squ.:     } &   0.4874    \\\\\n",
       "\\textbf{Time:}               &     21:03:58     & \\textbf{  Log-Likelihood:    } &   -9657.4   \\\\\n",
       "\\textbf{converged:}          &       True       & \\textbf{  LL-Null:           } &   -18841.   \\\\\n",
       "\\textbf{Covariance Type:}    &    nonrobust     & \\textbf{  LLR p-value:       } &    0.000    \\\\\n",
       "\\bottomrule\n",
       "\\end{tabular}\n",
       "\\begin{tabular}{lcccccc}\n",
       "                             & \\textbf{coef} & \\textbf{std err} & \\textbf{z} & \\textbf{P$> |$z$|$} & \\textbf{[0.025} & \\textbf{0.975]}  \\\\\n",
       "\\midrule\n",
       "\\textbf{Intercept}           &      -3.4763  &        0.195     &   -17.793  &         0.000        &       -3.859    &       -3.093     \\\\\n",
       "\\textbf{Degree[T.1]}         &       0.1770  &        0.064     &     2.760  &         0.006        &        0.051    &        0.303     \\\\\n",
       "\\textbf{Degree[T.2]}         &       0.1630  &        0.059     &     2.748  &         0.006        &        0.047    &        0.279     \\\\\n",
       "\\textbf{Gender}              &      -0.0058  &        0.037     &    -0.156  &         0.876        &       -0.078    &        0.067     \\\\\n",
       "\\textbf{Age}                 &      -0.1181  &        0.005     &   -24.280  &         0.000        &       -0.128    &       -0.109     \\\\\n",
       "\\textbf{AP}                  &       0.8402  &        0.015     &    55.994  &         0.000        &        0.811    &        0.870     \\\\\n",
       "\\textbf{CGPA}                &       0.0554  &        0.013     &     4.418  &         0.000        &        0.031    &        0.080     \\\\\n",
       "\\textbf{SS}                  &      -0.2434  &        0.014     &   -17.821  &         0.000        &       -0.270    &       -0.217     \\\\\n",
       "\\textbf{SD}                  &      -0.1893  &        0.016     &   -11.560  &         0.000        &       -0.221    &       -0.157     \\\\\n",
       "\\textbf{DH}                  &       0.3552  &        0.015     &    23.539  &         0.000        &        0.326    &        0.385     \\\\\n",
       "\\textbf{ST}                  &       2.5229  &        0.039     &    64.156  &         0.000        &        2.446    &        2.600     \\\\\n",
       "\\textbf{WSH}                 &       0.1177  &        0.005     &    23.571  &         0.000        &        0.108    &        0.127     \\\\\n",
       "\\textbf{FS}                  &       0.5534  &        0.013     &    41.316  &         0.000        &        0.527    &        0.580     \\\\\n",
       "\\textbf{FHMI}                &       0.2495  &        0.037     &     6.818  &         0.000        &        0.178    &        0.321     \\\\\n",
       "\\textbf{City\\_Ahmedabad}     &       0.5683  &        0.134     &     4.237  &         0.000        &        0.305    &        0.831     \\\\\n",
       "\\textbf{City\\_Bangalore}     &       0.3404  &        0.142     &     2.397  &         0.017        &        0.062    &        0.619     \\\\\n",
       "\\textbf{City\\_Bhopal}        &       0.4240  &        0.132     &     3.202  &         0.001        &        0.164    &        0.684     \\\\\n",
       "\\textbf{City\\_Chennai}       &       0.1770  &        0.135     &     1.306  &         0.191        &       -0.089    &        0.442     \\\\\n",
       "\\textbf{City\\_Delhi}         &       0.3443  &        0.142     &     2.430  &         0.015        &        0.067    &        0.622     \\\\\n",
       "\\textbf{City\\_Faridabad}     &       0.4151  &        0.165     &     2.510  &         0.012        &        0.091    &        0.739     \\\\\n",
       "\\textbf{City\\_Ghaziabad}     &       0.2828  &        0.145     &     1.957  &         0.050        &       -0.000    &        0.566     \\\\\n",
       "\\textbf{City\\_Hyderabad}     &       0.5418  &        0.122     &     4.428  &         0.000        &        0.302    &        0.782     \\\\\n",
       "\\textbf{City\\_Indore}        &       0.2969  &        0.148     &     2.011  &         0.044        &        0.008    &        0.586     \\\\\n",
       "\\textbf{City\\_Jaipur}        &       0.0198  &        0.129     &     0.154  &         0.878        &       -0.233    &        0.272     \\\\\n",
       "\\textbf{City\\_Kalyan}        &       0.3457  &        0.119     &     2.915  &         0.004        &        0.113    &        0.578     \\\\\n",
       "\\textbf{City\\_Kanpur}        &       0.2826  &        0.150     &     1.881  &         0.060        &       -0.012    &        0.577     \\\\\n",
       "\\textbf{City\\_Kolkata}       &       0.4711  &        0.132     &     3.572  &         0.000        &        0.213    &        0.730     \\\\\n",
       "\\textbf{City\\_Lucknow}       &       0.1757  &        0.127     &     1.385  &         0.166        &       -0.073    &        0.424     \\\\\n",
       "\\textbf{City\\_Ludhiana}      &       0.3200  &        0.128     &     2.501  &         0.012        &        0.069    &        0.571     \\\\\n",
       "\\textbf{City\\_Meerut}        &       0.4453  &        0.139     &     3.202  &         0.001        &        0.173    &        0.718     \\\\\n",
       "\\textbf{City\\_Mumbai}        &      -0.0237  &        0.145     &    -0.163  &         0.871        &       -0.308    &        0.261     \\\\\n",
       "\\textbf{City\\_Nagpur}        &      -0.0683  &        0.146     &    -0.467  &         0.641        &       -0.355    &        0.219     \\\\\n",
       "\\textbf{City\\_Nashik}        &       0.3355  &        0.155     &     2.163  &         0.031        &        0.032    &        0.640     \\\\\n",
       "\\textbf{City\\_Patna}         &       0.4776  &        0.130     &     3.667  &         0.000        &        0.222    &        0.733     \\\\\n",
       "\\textbf{City\\_Pune}          &       0.1780  &        0.131     &     1.356  &         0.175        &       -0.079    &        0.435     \\\\\n",
       "\\textbf{City\\_Rajkot}        &       0.3289  &        0.137     &     2.393  &         0.017        &        0.060    &        0.598     \\\\\n",
       "\\textbf{City\\_Srinagar}      &       0.2190  &        0.120     &     1.824  &         0.068        &       -0.016    &        0.454     \\\\\n",
       "\\textbf{City\\_Surat}         &       0.2765  &        0.131     &     2.115  &         0.034        &        0.020    &        0.533     \\\\\n",
       "\\textbf{City\\_Thane}         &       0.3769  &        0.127     &     2.962  &         0.003        &        0.127    &        0.626     \\\\\n",
       "\\textbf{City\\_Vadodara}      &       0.2272  &        0.143     &     1.585  &         0.113        &       -0.054    &        0.508     \\\\\n",
       "\\textbf{City\\_Varanasi}      &       0.0628  &        0.148     &     0.425  &         0.671        &       -0.227    &        0.352     \\\\\n",
       "\\textbf{City\\_Vasai\\_Virar}  &       0.2330  &        0.123     &     1.887  &         0.059        &       -0.009    &        0.475     \\\\\n",
       "\\textbf{City\\_Visakhapatnam} &       0.2989  &        0.133     &     2.253  &         0.024        &        0.039    &        0.559     \\\\\n",
       "\\bottomrule\n",
       "\\end{tabular}\n",
       "%\\caption{Logit Regression Results}\n",
       "\\end{center}"
      ],
      "text/plain": [
       "<class 'statsmodels.iolib.summary.Summary'>\n",
       "\"\"\"\n",
       "                           Logit Regression Results                           \n",
       "==============================================================================\n",
       "Dep. Variable:             Depression   No. Observations:                27776\n",
       "Model:                          Logit   Df Residuals:                    27733\n",
       "Method:                           MLE   Df Model:                           42\n",
       "Date:                Mon, 03 Feb 2025   Pseudo R-squ.:                  0.4874\n",
       "Time:                        21:03:58   Log-Likelihood:                -9657.4\n",
       "converged:                       True   LL-Null:                       -18841.\n",
       "Covariance Type:            nonrobust   LLR p-value:                     0.000\n",
       "======================================================================================\n",
       "                         coef    std err          z      P>|z|      [0.025      0.975]\n",
       "--------------------------------------------------------------------------------------\n",
       "Intercept             -3.4763      0.195    -17.793      0.000      -3.859      -3.093\n",
       "Degree[T.1]            0.1770      0.064      2.760      0.006       0.051       0.303\n",
       "Degree[T.2]            0.1630      0.059      2.748      0.006       0.047       0.279\n",
       "Gender                -0.0058      0.037     -0.156      0.876      -0.078       0.067\n",
       "Age                   -0.1181      0.005    -24.280      0.000      -0.128      -0.109\n",
       "AP                     0.8402      0.015     55.994      0.000       0.811       0.870\n",
       "CGPA                   0.0554      0.013      4.418      0.000       0.031       0.080\n",
       "SS                    -0.2434      0.014    -17.821      0.000      -0.270      -0.217\n",
       "SD                    -0.1893      0.016    -11.560      0.000      -0.221      -0.157\n",
       "DH                     0.3552      0.015     23.539      0.000       0.326       0.385\n",
       "ST                     2.5229      0.039     64.156      0.000       2.446       2.600\n",
       "WSH                    0.1177      0.005     23.571      0.000       0.108       0.127\n",
       "FS                     0.5534      0.013     41.316      0.000       0.527       0.580\n",
       "FHMI                   0.2495      0.037      6.818      0.000       0.178       0.321\n",
       "City_Ahmedabad         0.5683      0.134      4.237      0.000       0.305       0.831\n",
       "City_Bangalore         0.3404      0.142      2.397      0.017       0.062       0.619\n",
       "City_Bhopal            0.4240      0.132      3.202      0.001       0.164       0.684\n",
       "City_Chennai           0.1770      0.135      1.306      0.191      -0.089       0.442\n",
       "City_Delhi             0.3443      0.142      2.430      0.015       0.067       0.622\n",
       "City_Faridabad         0.4151      0.165      2.510      0.012       0.091       0.739\n",
       "City_Ghaziabad         0.2828      0.145      1.957      0.050      -0.000       0.566\n",
       "City_Hyderabad         0.5418      0.122      4.428      0.000       0.302       0.782\n",
       "City_Indore            0.2969      0.148      2.011      0.044       0.008       0.586\n",
       "City_Jaipur            0.0198      0.129      0.154      0.878      -0.233       0.272\n",
       "City_Kalyan            0.3457      0.119      2.915      0.004       0.113       0.578\n",
       "City_Kanpur            0.2826      0.150      1.881      0.060      -0.012       0.577\n",
       "City_Kolkata           0.4711      0.132      3.572      0.000       0.213       0.730\n",
       "City_Lucknow           0.1757      0.127      1.385      0.166      -0.073       0.424\n",
       "City_Ludhiana          0.3200      0.128      2.501      0.012       0.069       0.571\n",
       "City_Meerut            0.4453      0.139      3.202      0.001       0.173       0.718\n",
       "City_Mumbai           -0.0237      0.145     -0.163      0.871      -0.308       0.261\n",
       "City_Nagpur           -0.0683      0.146     -0.467      0.641      -0.355       0.219\n",
       "City_Nashik            0.3355      0.155      2.163      0.031       0.032       0.640\n",
       "City_Patna             0.4776      0.130      3.667      0.000       0.222       0.733\n",
       "City_Pune              0.1780      0.131      1.356      0.175      -0.079       0.435\n",
       "City_Rajkot            0.3289      0.137      2.393      0.017       0.060       0.598\n",
       "City_Srinagar          0.2190      0.120      1.824      0.068      -0.016       0.454\n",
       "City_Surat             0.2765      0.131      2.115      0.034       0.020       0.533\n",
       "City_Thane             0.3769      0.127      2.962      0.003       0.127       0.626\n",
       "City_Vadodara          0.2272      0.143      1.585      0.113      -0.054       0.508\n",
       "City_Varanasi          0.0628      0.148      0.425      0.671      -0.227       0.352\n",
       "City_Vasai_Virar       0.2330      0.123      1.887      0.059      -0.009       0.475\n",
       "City_Visakhapatnam     0.2989      0.133      2.253      0.024       0.039       0.559\n",
       "======================================================================================\n",
       "\"\"\""
      ]
     },
     "execution_count": 147,
     "metadata": {},
     "output_type": "execute_result"
    }
   ],
   "source": [
    "model = sm.Logit.from_formula(formula_dummies_model,df_dummies).fit()\n",
    "\n",
    "model.summary()"
   ]
  },
  {
   "cell_type": "markdown",
   "metadata": {},
   "source": [
    "### Executando o processo de stepwise para remoção de variaveis."
   ]
  },
  {
   "cell_type": "code",
   "execution_count": 148,
   "metadata": {
    "execution": {
     "iopub.execute_input": "2025-01-16T21:18:47.050992Z",
     "iopub.status.busy": "2025-01-16T21:18:47.050705Z",
     "iopub.status.idle": "2025-01-16T21:31:30.091088Z",
     "shell.execute_reply": "2025-01-16T21:31:30.090043Z",
     "shell.execute_reply.started": "2025-01-16T21:18:47.050966Z"
    },
    "trusted": true
   },
   "outputs": [
    {
     "name": "stdout",
     "output_type": "stream",
     "text": [
      "Regression type: Logit \n",
      "\n",
      "Estimating model...: \n",
      " Depression ~ Q('Degree[T.1]') + Q('Degree[T.2]') + Q('Gender') + Q('Age') + Q('AP') + Q('CGPA') + Q('SS') + Q('SD') + Q('DH') + Q('ST') + Q('WSH') + Q('FS') + Q('FHMI') + Q('City_Ahmedabad') + Q('City_Bangalore') + Q('City_Bhopal') + Q('City_Chennai') + Q('City_Delhi') + Q('City_Faridabad') + Q('City_Ghaziabad') + Q('City_Hyderabad') + Q('City_Indore') + Q('City_Jaipur') + Q('City_Kalyan') + Q('City_Kanpur') + Q('City_Kolkata') + Q('City_Lucknow') + Q('City_Ludhiana') + Q('City_Meerut') + Q('City_Mumbai') + Q('City_Nagpur') + Q('City_Nashik') + Q('City_Patna') + Q('City_Pune') + Q('City_Rajkot') + Q('City_Srinagar') + Q('City_Surat') + Q('City_Thane') + Q('City_Vadodara') + Q('City_Varanasi') + Q('City_Vasai_Virar') + Q('City_Visakhapatnam')\n",
      "Optimization terminated successfully.\n",
      "         Current function value: 0.347690\n",
      "         Iterations 7\n",
      "\n",
      " Discarding atribute \"Q('City_Jaipur')\" with p-value equal to 0.8775957371840477 \n",
      "\n",
      "Estimating model...: \n",
      " Depression ~ Q('Degree[T.1]') + Q('Degree[T.2]') + Q('Gender') + Q('Age') + Q('AP') + Q('CGPA') + Q('SS') + Q('SD') + Q('DH') + Q('ST') + Q('WSH') + Q('FS') + Q('FHMI') + Q('City_Ahmedabad') + Q('City_Bangalore') + Q('City_Bhopal') + Q('City_Chennai') + Q('City_Delhi') + Q('City_Faridabad') + Q('City_Ghaziabad') + Q('City_Hyderabad') + Q('City_Indore') + Q('City_Kalyan') + Q('City_Kanpur') + Q('City_Kolkata') + Q('City_Lucknow') + Q('City_Ludhiana') + Q('City_Meerut') + Q('City_Mumbai') + Q('City_Nagpur') + Q('City_Nashik') + Q('City_Patna') + Q('City_Pune') + Q('City_Rajkot') + Q('City_Srinagar') + Q('City_Surat') + Q('City_Thane') + Q('City_Vadodara') + Q('City_Varanasi') + Q('City_Vasai_Virar') + Q('City_Visakhapatnam')\n",
      "Optimization terminated successfully.\n",
      "         Current function value: 0.347691\n",
      "         Iterations 7\n",
      "\n",
      " Discarding atribute \"Q('Gender')\" with p-value equal to 0.8750650912192105 \n",
      "\n",
      "Estimating model...: \n",
      " Depression ~ Q('Degree[T.1]') + Q('Degree[T.2]') + Q('Age') + Q('AP') + Q('CGPA') + Q('SS') + Q('SD') + Q('DH') + Q('ST') + Q('WSH') + Q('FS') + Q('FHMI') + Q('City_Ahmedabad') + Q('City_Bangalore') + Q('City_Bhopal') + Q('City_Chennai') + Q('City_Delhi') + Q('City_Faridabad') + Q('City_Ghaziabad') + Q('City_Hyderabad') + Q('City_Indore') + Q('City_Kalyan') + Q('City_Kanpur') + Q('City_Kolkata') + Q('City_Lucknow') + Q('City_Ludhiana') + Q('City_Meerut') + Q('City_Mumbai') + Q('City_Nagpur') + Q('City_Nashik') + Q('City_Patna') + Q('City_Pune') + Q('City_Rajkot') + Q('City_Srinagar') + Q('City_Surat') + Q('City_Thane') + Q('City_Vadodara') + Q('City_Varanasi') + Q('City_Vasai_Virar') + Q('City_Visakhapatnam')\n",
      "Optimization terminated successfully.\n",
      "         Current function value: 0.347691\n",
      "         Iterations 7\n",
      "\n",
      " Discarding atribute \"Q('City_Mumbai')\" with p-value equal to 0.8012485215925674 \n",
      "\n",
      "Estimating model...: \n",
      " Depression ~ Q('Degree[T.1]') + Q('Degree[T.2]') + Q('Age') + Q('AP') + Q('CGPA') + Q('SS') + Q('SD') + Q('DH') + Q('ST') + Q('WSH') + Q('FS') + Q('FHMI') + Q('City_Ahmedabad') + Q('City_Bangalore') + Q('City_Bhopal') + Q('City_Chennai') + Q('City_Delhi') + Q('City_Faridabad') + Q('City_Ghaziabad') + Q('City_Hyderabad') + Q('City_Indore') + Q('City_Kalyan') + Q('City_Kanpur') + Q('City_Kolkata') + Q('City_Lucknow') + Q('City_Ludhiana') + Q('City_Meerut') + Q('City_Nagpur') + Q('City_Nashik') + Q('City_Patna') + Q('City_Pune') + Q('City_Rajkot') + Q('City_Srinagar') + Q('City_Surat') + Q('City_Thane') + Q('City_Vadodara') + Q('City_Varanasi') + Q('City_Vasai_Virar') + Q('City_Visakhapatnam')\n",
      "Optimization terminated successfully.\n",
      "         Current function value: 0.347692\n",
      "         Iterations 7\n",
      "\n",
      " Discarding atribute \"Q('City_Varanasi')\" with p-value equal to 0.6382757343043516 \n",
      "\n",
      "Estimating model...: \n",
      " Depression ~ Q('Degree[T.1]') + Q('Degree[T.2]') + Q('Age') + Q('AP') + Q('CGPA') + Q('SS') + Q('SD') + Q('DH') + Q('ST') + Q('WSH') + Q('FS') + Q('FHMI') + Q('City_Ahmedabad') + Q('City_Bangalore') + Q('City_Bhopal') + Q('City_Chennai') + Q('City_Delhi') + Q('City_Faridabad') + Q('City_Ghaziabad') + Q('City_Hyderabad') + Q('City_Indore') + Q('City_Kalyan') + Q('City_Kanpur') + Q('City_Kolkata') + Q('City_Lucknow') + Q('City_Ludhiana') + Q('City_Meerut') + Q('City_Nagpur') + Q('City_Nashik') + Q('City_Patna') + Q('City_Pune') + Q('City_Rajkot') + Q('City_Srinagar') + Q('City_Surat') + Q('City_Thane') + Q('City_Vadodara') + Q('City_Vasai_Virar') + Q('City_Visakhapatnam')\n",
      "Optimization terminated successfully.\n",
      "         Current function value: 0.347696\n",
      "         Iterations 7\n",
      "\n",
      " Discarding atribute \"Q('City_Nagpur')\" with p-value equal to 0.5202705464971621 \n",
      "\n",
      "Estimating model...: \n",
      " Depression ~ Q('Degree[T.1]') + Q('Degree[T.2]') + Q('Age') + Q('AP') + Q('CGPA') + Q('SS') + Q('SD') + Q('DH') + Q('ST') + Q('WSH') + Q('FS') + Q('FHMI') + Q('City_Ahmedabad') + Q('City_Bangalore') + Q('City_Bhopal') + Q('City_Chennai') + Q('City_Delhi') + Q('City_Faridabad') + Q('City_Ghaziabad') + Q('City_Hyderabad') + Q('City_Indore') + Q('City_Kalyan') + Q('City_Kanpur') + Q('City_Kolkata') + Q('City_Lucknow') + Q('City_Ludhiana') + Q('City_Meerut') + Q('City_Nashik') + Q('City_Patna') + Q('City_Pune') + Q('City_Rajkot') + Q('City_Srinagar') + Q('City_Surat') + Q('City_Thane') + Q('City_Vadodara') + Q('City_Vasai_Virar') + Q('City_Visakhapatnam')\n",
      "Optimization terminated successfully.\n",
      "         Current function value: 0.347704\n",
      "         Iterations 7\n",
      "\n",
      " Discarding atribute \"Q('City_Chennai')\" with p-value equal to 0.11257053577998338 \n",
      "\n",
      "Estimating model...: \n",
      " Depression ~ Q('Degree[T.1]') + Q('Degree[T.2]') + Q('Age') + Q('AP') + Q('CGPA') + Q('SS') + Q('SD') + Q('DH') + Q('ST') + Q('WSH') + Q('FS') + Q('FHMI') + Q('City_Ahmedabad') + Q('City_Bangalore') + Q('City_Bhopal') + Q('City_Delhi') + Q('City_Faridabad') + Q('City_Ghaziabad') + Q('City_Hyderabad') + Q('City_Indore') + Q('City_Kalyan') + Q('City_Kanpur') + Q('City_Kolkata') + Q('City_Lucknow') + Q('City_Ludhiana') + Q('City_Meerut') + Q('City_Nashik') + Q('City_Patna') + Q('City_Pune') + Q('City_Rajkot') + Q('City_Srinagar') + Q('City_Surat') + Q('City_Thane') + Q('City_Vadodara') + Q('City_Vasai_Virar') + Q('City_Visakhapatnam')\n",
      "Optimization terminated successfully.\n",
      "         Current function value: 0.347749\n",
      "         Iterations 7\n",
      "\n",
      " Discarding atribute \"Q('City_Pune')\" with p-value equal to 0.16222301990120602 \n",
      "\n",
      "Estimating model...: \n",
      " Depression ~ Q('Degree[T.1]') + Q('Degree[T.2]') + Q('Age') + Q('AP') + Q('CGPA') + Q('SS') + Q('SD') + Q('DH') + Q('ST') + Q('WSH') + Q('FS') + Q('FHMI') + Q('City_Ahmedabad') + Q('City_Bangalore') + Q('City_Bhopal') + Q('City_Delhi') + Q('City_Faridabad') + Q('City_Ghaziabad') + Q('City_Hyderabad') + Q('City_Indore') + Q('City_Kalyan') + Q('City_Kanpur') + Q('City_Kolkata') + Q('City_Lucknow') + Q('City_Ludhiana') + Q('City_Meerut') + Q('City_Nashik') + Q('City_Patna') + Q('City_Rajkot') + Q('City_Srinagar') + Q('City_Surat') + Q('City_Thane') + Q('City_Vadodara') + Q('City_Vasai_Virar') + Q('City_Visakhapatnam')\n",
      "Optimization terminated successfully.\n",
      "         Current function value: 0.347784\n",
      "         Iterations 7\n",
      "\n",
      " Discarding atribute \"Q('City_Lucknow')\" with p-value equal to 0.2181441677549587 \n",
      "\n",
      "Estimating model...: \n",
      " Depression ~ Q('Degree[T.1]') + Q('Degree[T.2]') + Q('Age') + Q('AP') + Q('CGPA') + Q('SS') + Q('SD') + Q('DH') + Q('ST') + Q('WSH') + Q('FS') + Q('FHMI') + Q('City_Ahmedabad') + Q('City_Bangalore') + Q('City_Bhopal') + Q('City_Delhi') + Q('City_Faridabad') + Q('City_Ghaziabad') + Q('City_Hyderabad') + Q('City_Indore') + Q('City_Kalyan') + Q('City_Kanpur') + Q('City_Kolkata') + Q('City_Ludhiana') + Q('City_Meerut') + Q('City_Nashik') + Q('City_Patna') + Q('City_Rajkot') + Q('City_Srinagar') + Q('City_Surat') + Q('City_Thane') + Q('City_Vadodara') + Q('City_Vasai_Virar') + Q('City_Visakhapatnam')\n",
      "Optimization terminated successfully.\n",
      "         Current function value: 0.347812\n",
      "         Iterations 7\n",
      "\n",
      " Discarding atribute \"Q('City_Vadodara')\" with p-value equal to 0.18932775088408627 \n",
      "\n",
      "Estimating model...: \n",
      " Depression ~ Q('Degree[T.1]') + Q('Degree[T.2]') + Q('Age') + Q('AP') + Q('CGPA') + Q('SS') + Q('SD') + Q('DH') + Q('ST') + Q('WSH') + Q('FS') + Q('FHMI') + Q('City_Ahmedabad') + Q('City_Bangalore') + Q('City_Bhopal') + Q('City_Delhi') + Q('City_Faridabad') + Q('City_Ghaziabad') + Q('City_Hyderabad') + Q('City_Indore') + Q('City_Kalyan') + Q('City_Kanpur') + Q('City_Kolkata') + Q('City_Ludhiana') + Q('City_Meerut') + Q('City_Nashik') + Q('City_Patna') + Q('City_Rajkot') + Q('City_Srinagar') + Q('City_Surat') + Q('City_Thane') + Q('City_Vasai_Virar') + Q('City_Visakhapatnam')\n",
      "Optimization terminated successfully.\n",
      "         Current function value: 0.347843\n",
      "         Iterations 7\n",
      "\n",
      " Discarding atribute \"Q('City_Srinagar')\" with p-value equal to 0.13196795158302338 \n",
      "\n",
      "Estimating model...: \n",
      " Depression ~ Q('Degree[T.1]') + Q('Degree[T.2]') + Q('Age') + Q('AP') + Q('CGPA') + Q('SS') + Q('SD') + Q('DH') + Q('ST') + Q('WSH') + Q('FS') + Q('FHMI') + Q('City_Ahmedabad') + Q('City_Bangalore') + Q('City_Bhopal') + Q('City_Delhi') + Q('City_Faridabad') + Q('City_Ghaziabad') + Q('City_Hyderabad') + Q('City_Indore') + Q('City_Kalyan') + Q('City_Kanpur') + Q('City_Kolkata') + Q('City_Ludhiana') + Q('City_Meerut') + Q('City_Nashik') + Q('City_Patna') + Q('City_Rajkot') + Q('City_Surat') + Q('City_Thane') + Q('City_Vasai_Virar') + Q('City_Visakhapatnam')\n",
      "Optimization terminated successfully.\n",
      "         Current function value: 0.347884\n",
      "         Iterations 7\n",
      "\n",
      " Discarding atribute \"Q('City_Vasai_Virar')\" with p-value equal to 0.16583220486043548 \n",
      "\n",
      "Estimating model...: \n",
      " Depression ~ Q('Degree[T.1]') + Q('Degree[T.2]') + Q('Age') + Q('AP') + Q('CGPA') + Q('SS') + Q('SD') + Q('DH') + Q('ST') + Q('WSH') + Q('FS') + Q('FHMI') + Q('City_Ahmedabad') + Q('City_Bangalore') + Q('City_Bhopal') + Q('City_Delhi') + Q('City_Faridabad') + Q('City_Ghaziabad') + Q('City_Hyderabad') + Q('City_Indore') + Q('City_Kalyan') + Q('City_Kanpur') + Q('City_Kolkata') + Q('City_Ludhiana') + Q('City_Meerut') + Q('City_Nashik') + Q('City_Patna') + Q('City_Rajkot') + Q('City_Surat') + Q('City_Thane') + Q('City_Visakhapatnam')\n",
      "Optimization terminated successfully.\n",
      "         Current function value: 0.347919\n",
      "         Iterations 7\n",
      "\n",
      " Discarding atribute \"Q('City_Kanpur')\" with p-value equal to 0.19902240236723556 \n",
      "\n",
      "Estimating model...: \n",
      " Depression ~ Q('Degree[T.1]') + Q('Degree[T.2]') + Q('Age') + Q('AP') + Q('CGPA') + Q('SS') + Q('SD') + Q('DH') + Q('ST') + Q('WSH') + Q('FS') + Q('FHMI') + Q('City_Ahmedabad') + Q('City_Bangalore') + Q('City_Bhopal') + Q('City_Delhi') + Q('City_Faridabad') + Q('City_Ghaziabad') + Q('City_Hyderabad') + Q('City_Indore') + Q('City_Kalyan') + Q('City_Kolkata') + Q('City_Ludhiana') + Q('City_Meerut') + Q('City_Nashik') + Q('City_Patna') + Q('City_Rajkot') + Q('City_Surat') + Q('City_Thane') + Q('City_Visakhapatnam')\n",
      "Optimization terminated successfully.\n",
      "         Current function value: 0.347948\n",
      "         Iterations 7\n",
      "\n",
      " Discarding atribute \"Q('City_Ghaziabad')\" with p-value equal to 0.1973609577575406 \n",
      "\n",
      "Estimating model...: \n",
      " Depression ~ Q('Degree[T.1]') + Q('Degree[T.2]') + Q('Age') + Q('AP') + Q('CGPA') + Q('SS') + Q('SD') + Q('DH') + Q('ST') + Q('WSH') + Q('FS') + Q('FHMI') + Q('City_Ahmedabad') + Q('City_Bangalore') + Q('City_Bhopal') + Q('City_Delhi') + Q('City_Faridabad') + Q('City_Hyderabad') + Q('City_Indore') + Q('City_Kalyan') + Q('City_Kolkata') + Q('City_Ludhiana') + Q('City_Meerut') + Q('City_Nashik') + Q('City_Patna') + Q('City_Rajkot') + Q('City_Surat') + Q('City_Thane') + Q('City_Visakhapatnam')\n",
      "Optimization terminated successfully.\n",
      "         Current function value: 0.347978\n",
      "         Iterations 7\n",
      "\n",
      " Discarding atribute \"Q('City_Indore')\" with p-value equal to 0.19626554429545995 \n",
      "\n",
      "Estimating model...: \n",
      " Depression ~ Q('Degree[T.1]') + Q('Degree[T.2]') + Q('Age') + Q('AP') + Q('CGPA') + Q('SS') + Q('SD') + Q('DH') + Q('ST') + Q('WSH') + Q('FS') + Q('FHMI') + Q('City_Ahmedabad') + Q('City_Bangalore') + Q('City_Bhopal') + Q('City_Delhi') + Q('City_Faridabad') + Q('City_Hyderabad') + Q('City_Kalyan') + Q('City_Kolkata') + Q('City_Ludhiana') + Q('City_Meerut') + Q('City_Nashik') + Q('City_Patna') + Q('City_Rajkot') + Q('City_Surat') + Q('City_Thane') + Q('City_Visakhapatnam')\n",
      "Optimization terminated successfully.\n",
      "         Current function value: 0.348009\n",
      "         Iterations 7\n",
      "\n",
      " Discarding atribute \"Q('City_Surat')\" with p-value equal to 0.1979773066749504 \n",
      "\n",
      "Estimating model...: \n",
      " Depression ~ Q('Degree[T.1]') + Q('Degree[T.2]') + Q('Age') + Q('AP') + Q('CGPA') + Q('SS') + Q('SD') + Q('DH') + Q('ST') + Q('WSH') + Q('FS') + Q('FHMI') + Q('City_Ahmedabad') + Q('City_Bangalore') + Q('City_Bhopal') + Q('City_Delhi') + Q('City_Faridabad') + Q('City_Hyderabad') + Q('City_Kalyan') + Q('City_Kolkata') + Q('City_Ludhiana') + Q('City_Meerut') + Q('City_Nashik') + Q('City_Patna') + Q('City_Rajkot') + Q('City_Thane') + Q('City_Visakhapatnam')\n",
      "Optimization terminated successfully.\n",
      "         Current function value: 0.348039\n",
      "         Iterations 7\n",
      "\n",
      " Discarding atribute \"Q('City_Nashik')\" with p-value equal to 0.17163128925397975 \n",
      "\n",
      "Estimating model...: \n",
      " Depression ~ Q('Degree[T.1]') + Q('Degree[T.2]') + Q('Age') + Q('AP') + Q('CGPA') + Q('SS') + Q('SD') + Q('DH') + Q('ST') + Q('WSH') + Q('FS') + Q('FHMI') + Q('City_Ahmedabad') + Q('City_Bangalore') + Q('City_Bhopal') + Q('City_Delhi') + Q('City_Faridabad') + Q('City_Hyderabad') + Q('City_Kalyan') + Q('City_Kolkata') + Q('City_Ludhiana') + Q('City_Meerut') + Q('City_Patna') + Q('City_Rajkot') + Q('City_Thane') + Q('City_Visakhapatnam')\n",
      "Optimization terminated successfully.\n",
      "         Current function value: 0.348072\n",
      "         Iterations 7\n",
      "\n",
      " Discarding atribute \"Q('City_Visakhapatnam')\" with p-value equal to 0.18816297349868372 \n",
      "\n",
      "Estimating model...: \n",
      " Depression ~ Q('Degree[T.1]') + Q('Degree[T.2]') + Q('Age') + Q('AP') + Q('CGPA') + Q('SS') + Q('SD') + Q('DH') + Q('ST') + Q('WSH') + Q('FS') + Q('FHMI') + Q('City_Ahmedabad') + Q('City_Bangalore') + Q('City_Bhopal') + Q('City_Delhi') + Q('City_Faridabad') + Q('City_Hyderabad') + Q('City_Kalyan') + Q('City_Kolkata') + Q('City_Ludhiana') + Q('City_Meerut') + Q('City_Patna') + Q('City_Rajkot') + Q('City_Thane')\n",
      "Optimization terminated successfully.\n",
      "         Current function value: 0.348104\n",
      "         Iterations 7\n",
      "\n",
      " Discarding atribute \"Q('City_Rajkot')\" with p-value equal to 0.14916724730453937 \n",
      "\n",
      "Estimating model...: \n",
      " Depression ~ Q('Degree[T.1]') + Q('Degree[T.2]') + Q('Age') + Q('AP') + Q('CGPA') + Q('SS') + Q('SD') + Q('DH') + Q('ST') + Q('WSH') + Q('FS') + Q('FHMI') + Q('City_Ahmedabad') + Q('City_Bangalore') + Q('City_Bhopal') + Q('City_Delhi') + Q('City_Faridabad') + Q('City_Hyderabad') + Q('City_Kalyan') + Q('City_Kolkata') + Q('City_Ludhiana') + Q('City_Meerut') + Q('City_Patna') + Q('City_Thane')\n",
      "Optimization terminated successfully.\n",
      "         Current function value: 0.348141\n",
      "         Iterations 7\n",
      "\n",
      " Discarding atribute \"Q('City_Bangalore')\" with p-value equal to 0.16143505545341197 \n",
      "\n",
      "Estimating model...: \n",
      " Depression ~ Q('Degree[T.1]') + Q('Degree[T.2]') + Q('Age') + Q('AP') + Q('CGPA') + Q('SS') + Q('SD') + Q('DH') + Q('ST') + Q('WSH') + Q('FS') + Q('FHMI') + Q('City_Ahmedabad') + Q('City_Bhopal') + Q('City_Delhi') + Q('City_Faridabad') + Q('City_Hyderabad') + Q('City_Kalyan') + Q('City_Kolkata') + Q('City_Ludhiana') + Q('City_Meerut') + Q('City_Patna') + Q('City_Thane')\n",
      "Optimization terminated successfully.\n",
      "         Current function value: 0.348177\n",
      "         Iterations 7\n",
      "\n",
      " Discarding atribute \"Q('City_Ludhiana')\" with p-value equal to 0.1685810915673327 \n",
      "\n",
      "Estimating model...: \n",
      " Depression ~ Q('Degree[T.1]') + Q('Degree[T.2]') + Q('Age') + Q('AP') + Q('CGPA') + Q('SS') + Q('SD') + Q('DH') + Q('ST') + Q('WSH') + Q('FS') + Q('FHMI') + Q('City_Ahmedabad') + Q('City_Bhopal') + Q('City_Delhi') + Q('City_Faridabad') + Q('City_Hyderabad') + Q('City_Kalyan') + Q('City_Kolkata') + Q('City_Meerut') + Q('City_Patna') + Q('City_Thane')\n",
      "Optimization terminated successfully.\n",
      "         Current function value: 0.348211\n",
      "         Iterations 7\n",
      "\n",
      " Discarding atribute \"Q('City_Delhi')\" with p-value equal to 0.19041425362720177 \n",
      "\n",
      "Estimating model...: \n",
      " Depression ~ Q('Degree[T.1]') + Q('Degree[T.2]') + Q('Age') + Q('AP') + Q('CGPA') + Q('SS') + Q('SD') + Q('DH') + Q('ST') + Q('WSH') + Q('FS') + Q('FHMI') + Q('City_Ahmedabad') + Q('City_Bhopal') + Q('City_Faridabad') + Q('City_Hyderabad') + Q('City_Kalyan') + Q('City_Kolkata') + Q('City_Meerut') + Q('City_Patna') + Q('City_Thane')\n",
      "Optimization terminated successfully.\n",
      "         Current function value: 0.348242\n",
      "         Iterations 7\n",
      "\n",
      " Discarding atribute \"Q('City_Faridabad')\" with p-value equal to 0.13403638289634032 \n",
      "\n",
      "Estimating model...: \n",
      " Depression ~ Q('Degree[T.1]') + Q('Degree[T.2]') + Q('Age') + Q('AP') + Q('CGPA') + Q('SS') + Q('SD') + Q('DH') + Q('ST') + Q('WSH') + Q('FS') + Q('FHMI') + Q('City_Ahmedabad') + Q('City_Bhopal') + Q('City_Hyderabad') + Q('City_Kalyan') + Q('City_Kolkata') + Q('City_Meerut') + Q('City_Patna') + Q('City_Thane')\n",
      "Optimization terminated successfully.\n",
      "         Current function value: 0.348283\n",
      "         Iterations 7\n",
      "\n",
      " Discarding atribute \"Q('City_Kalyan')\" with p-value equal to 0.08985931804898652 \n",
      "\n",
      "Estimating model...: \n",
      " Depression ~ Q('Degree[T.1]') + Q('Degree[T.2]') + Q('Age') + Q('AP') + Q('CGPA') + Q('SS') + Q('SD') + Q('DH') + Q('ST') + Q('WSH') + Q('FS') + Q('FHMI') + Q('City_Ahmedabad') + Q('City_Bhopal') + Q('City_Hyderabad') + Q('City_Kolkata') + Q('City_Meerut') + Q('City_Patna') + Q('City_Thane')\n",
      "Optimization terminated successfully.\n",
      "         Current function value: 0.348335\n",
      "         Iterations 7\n",
      "\n",
      " Discarding atribute \"Q('City_Thane')\" with p-value equal to 0.08898669017579626 \n",
      "\n",
      "Estimating model...: \n",
      " Depression ~ Q('Degree[T.1]') + Q('Degree[T.2]') + Q('Age') + Q('AP') + Q('CGPA') + Q('SS') + Q('SD') + Q('DH') + Q('ST') + Q('WSH') + Q('FS') + Q('FHMI') + Q('City_Ahmedabad') + Q('City_Bhopal') + Q('City_Hyderabad') + Q('City_Kolkata') + Q('City_Meerut') + Q('City_Patna')\n",
      "Optimization terminated successfully.\n",
      "         Current function value: 0.348387\n",
      "         Iterations 7\n",
      "\n",
      " No more atributes with p-value higher than 0.05\n",
      "\n",
      " Atributes discarded on the process...: \n",
      "\n",
      "{'atribute': \"Q('City_Jaipur')\", 'p-value': np.float64(0.8775957371840477)}\n",
      "{'atribute': \"Q('Gender')\", 'p-value': np.float64(0.8750650912192105)}\n",
      "{'atribute': \"Q('City_Mumbai')\", 'p-value': np.float64(0.8012485215925674)}\n",
      "{'atribute': \"Q('City_Varanasi')\", 'p-value': np.float64(0.6382757343043516)}\n",
      "{'atribute': \"Q('City_Nagpur')\", 'p-value': np.float64(0.5202705464971621)}\n",
      "{'atribute': \"Q('City_Chennai')\", 'p-value': np.float64(0.11257053577998338)}\n",
      "{'atribute': \"Q('City_Pune')\", 'p-value': np.float64(0.16222301990120602)}\n",
      "{'atribute': \"Q('City_Lucknow')\", 'p-value': np.float64(0.2181441677549587)}\n",
      "{'atribute': \"Q('City_Vadodara')\", 'p-value': np.float64(0.18932775088408627)}\n",
      "{'atribute': \"Q('City_Srinagar')\", 'p-value': np.float64(0.13196795158302338)}\n",
      "{'atribute': \"Q('City_Vasai_Virar')\", 'p-value': np.float64(0.16583220486043548)}\n",
      "{'atribute': \"Q('City_Kanpur')\", 'p-value': np.float64(0.19902240236723556)}\n",
      "{'atribute': \"Q('City_Ghaziabad')\", 'p-value': np.float64(0.1973609577575406)}\n",
      "{'atribute': \"Q('City_Indore')\", 'p-value': np.float64(0.19626554429545995)}\n",
      "{'atribute': \"Q('City_Surat')\", 'p-value': np.float64(0.1979773066749504)}\n",
      "{'atribute': \"Q('City_Nashik')\", 'p-value': np.float64(0.17163128925397975)}\n",
      "{'atribute': \"Q('City_Visakhapatnam')\", 'p-value': np.float64(0.18816297349868372)}\n",
      "{'atribute': \"Q('City_Rajkot')\", 'p-value': np.float64(0.14916724730453937)}\n",
      "{'atribute': \"Q('City_Bangalore')\", 'p-value': np.float64(0.16143505545341197)}\n",
      "{'atribute': \"Q('City_Ludhiana')\", 'p-value': np.float64(0.1685810915673327)}\n",
      "{'atribute': \"Q('City_Delhi')\", 'p-value': np.float64(0.19041425362720177)}\n",
      "{'atribute': \"Q('City_Faridabad')\", 'p-value': np.float64(0.13403638289634032)}\n",
      "{'atribute': \"Q('City_Kalyan')\", 'p-value': np.float64(0.08985931804898652)}\n",
      "{'atribute': \"Q('City_Thane')\", 'p-value': np.float64(0.08898669017579626)}\n",
      "\n",
      " Model after stepwise process...: \n",
      " Depression ~ Q('Degree[T.1]') + Q('Degree[T.2]') + Q('Age') + Q('AP') + Q('CGPA') + Q('SS') + Q('SD') + Q('DH') + Q('ST') + Q('WSH') + Q('FS') + Q('FHMI') + Q('City_Ahmedabad') + Q('City_Bhopal') + Q('City_Hyderabad') + Q('City_Kolkata') + Q('City_Meerut') + Q('City_Patna') \n",
      "\n",
      "                           Logit Regression Results                           \n",
      "==============================================================================\n",
      "Dep. Variable:             Depression   No. Observations:                27776\n",
      "Model:                          Logit   Df Residuals:                    27757\n",
      "Method:                           MLE   Df Model:                           18\n",
      "Date:                Mon, 03 Feb 2025   Pseudo R-squ.:                  0.4864\n",
      "Time:                        21:04:03   Log-Likelihood:                -9676.8\n",
      "converged:                       True   LL-Null:                       -18841.\n",
      "Covariance Type:            nonrobust   LLR p-value:                     0.000\n",
      "=======================================================================================\n",
      "                          coef    std err          z      P>|z|      [0.025      0.975]\n",
      "---------------------------------------------------------------------------------------\n",
      "Intercept              -3.2463      0.174    -18.678      0.000      -3.587      -2.906\n",
      "Q('Degree[T.1]')        0.1698      0.064      2.669      0.008       0.045       0.295\n",
      "Q('Degree[T.2]')        0.1519      0.059      2.584      0.010       0.037       0.267\n",
      "Q('Age')               -0.1177      0.005    -24.309      0.000      -0.127      -0.108\n",
      "Q('AP')                 0.8390      0.015     56.183      0.000       0.810       0.868\n",
      "Q('CGPA')               0.0561      0.012      4.497      0.000       0.032       0.081\n",
      "Q('SS')                -0.2435      0.014    -17.876      0.000      -0.270      -0.217\n",
      "Q('SD')                -0.1900      0.016    -11.626      0.000      -0.222      -0.158\n",
      "Q('DH')                 0.3535      0.015     23.561      0.000       0.324       0.383\n",
      "Q('ST')                 2.5184      0.039     64.242      0.000       2.442       2.595\n",
      "Q('WSH')                0.1173      0.005     23.546      0.000       0.108       0.127\n",
      "Q('FS')                 0.5526      0.013     41.341      0.000       0.526       0.579\n",
      "Q('FHMI')               0.2477      0.037      6.783      0.000       0.176       0.319\n",
      "Q('City_Ahmedabad')     0.3414      0.102      3.331      0.001       0.141       0.542\n",
      "Q('City_Bhopal')        0.1968      0.100      1.961      0.050    9.79e-05       0.393\n",
      "Q('City_Hyderabad')     0.3149      0.087      3.636      0.000       0.145       0.485\n",
      "Q('City_Kolkata')       0.2435      0.099      2.448      0.014       0.049       0.438\n",
      "Q('City_Meerut')        0.2184      0.109      2.007      0.045       0.005       0.432\n",
      "Q('City_Patna')         0.2507      0.097      2.577      0.010       0.060       0.441\n",
      "=======================================================================================\n"
     ]
    }
   ],
   "source": [
    "stepwise_model = stepwise(model,pvalue_limit=0.05)"
   ]
  },
  {
   "cell_type": "code",
   "execution_count": 149,
   "metadata": {
    "execution": {
     "iopub.execute_input": "2025-01-16T21:31:30.092509Z",
     "iopub.status.busy": "2025-01-16T21:31:30.092233Z",
     "iopub.status.idle": "2025-01-16T21:31:30.166621Z",
     "shell.execute_reply": "2025-01-16T21:31:30.165425Z",
     "shell.execute_reply.started": "2025-01-16T21:31:30.092485Z"
    },
    "trusted": true
   },
   "outputs": [
    {
     "data": {
      "text/html": [
       "<table class=\"simpletable\">\n",
       "<caption>Logit Regression Results</caption>\n",
       "<tr>\n",
       "  <th>Dep. Variable:</th>      <td>Depression</td>    <th>  No. Observations:  </th>  <td> 27776</td> \n",
       "</tr>\n",
       "<tr>\n",
       "  <th>Model:</th>                 <td>Logit</td>      <th>  Df Residuals:      </th>  <td> 27757</td> \n",
       "</tr>\n",
       "<tr>\n",
       "  <th>Method:</th>                 <td>MLE</td>       <th>  Df Model:          </th>  <td>    18</td> \n",
       "</tr>\n",
       "<tr>\n",
       "  <th>Date:</th>            <td>Mon, 03 Feb 2025</td> <th>  Pseudo R-squ.:     </th>  <td>0.4864</td> \n",
       "</tr>\n",
       "<tr>\n",
       "  <th>Time:</th>                <td>21:04:03</td>     <th>  Log-Likelihood:    </th> <td> -9676.8</td>\n",
       "</tr>\n",
       "<tr>\n",
       "  <th>converged:</th>             <td>True</td>       <th>  LL-Null:           </th> <td> -18841.</td>\n",
       "</tr>\n",
       "<tr>\n",
       "  <th>Covariance Type:</th>     <td>nonrobust</td>    <th>  LLR p-value:       </th>  <td> 0.000</td> \n",
       "</tr>\n",
       "</table>\n",
       "<table class=\"simpletable\">\n",
       "<tr>\n",
       "           <td></td>              <th>coef</th>     <th>std err</th>      <th>z</th>      <th>P>|z|</th>  <th>[0.025</th>    <th>0.975]</th>  \n",
       "</tr>\n",
       "<tr>\n",
       "  <th>Intercept</th>           <td>   -3.2463</td> <td>    0.174</td> <td>  -18.678</td> <td> 0.000</td> <td>   -3.587</td> <td>   -2.906</td>\n",
       "</tr>\n",
       "<tr>\n",
       "  <th>Q('Degree[T.1]')</th>    <td>    0.1698</td> <td>    0.064</td> <td>    2.669</td> <td> 0.008</td> <td>    0.045</td> <td>    0.295</td>\n",
       "</tr>\n",
       "<tr>\n",
       "  <th>Q('Degree[T.2]')</th>    <td>    0.1519</td> <td>    0.059</td> <td>    2.584</td> <td> 0.010</td> <td>    0.037</td> <td>    0.267</td>\n",
       "</tr>\n",
       "<tr>\n",
       "  <th>Q('Age')</th>            <td>   -0.1177</td> <td>    0.005</td> <td>  -24.309</td> <td> 0.000</td> <td>   -0.127</td> <td>   -0.108</td>\n",
       "</tr>\n",
       "<tr>\n",
       "  <th>Q('AP')</th>             <td>    0.8390</td> <td>    0.015</td> <td>   56.183</td> <td> 0.000</td> <td>    0.810</td> <td>    0.868</td>\n",
       "</tr>\n",
       "<tr>\n",
       "  <th>Q('CGPA')</th>           <td>    0.0561</td> <td>    0.012</td> <td>    4.497</td> <td> 0.000</td> <td>    0.032</td> <td>    0.081</td>\n",
       "</tr>\n",
       "<tr>\n",
       "  <th>Q('SS')</th>             <td>   -0.2435</td> <td>    0.014</td> <td>  -17.876</td> <td> 0.000</td> <td>   -0.270</td> <td>   -0.217</td>\n",
       "</tr>\n",
       "<tr>\n",
       "  <th>Q('SD')</th>             <td>   -0.1900</td> <td>    0.016</td> <td>  -11.626</td> <td> 0.000</td> <td>   -0.222</td> <td>   -0.158</td>\n",
       "</tr>\n",
       "<tr>\n",
       "  <th>Q('DH')</th>             <td>    0.3535</td> <td>    0.015</td> <td>   23.561</td> <td> 0.000</td> <td>    0.324</td> <td>    0.383</td>\n",
       "</tr>\n",
       "<tr>\n",
       "  <th>Q('ST')</th>             <td>    2.5184</td> <td>    0.039</td> <td>   64.242</td> <td> 0.000</td> <td>    2.442</td> <td>    2.595</td>\n",
       "</tr>\n",
       "<tr>\n",
       "  <th>Q('WSH')</th>            <td>    0.1173</td> <td>    0.005</td> <td>   23.546</td> <td> 0.000</td> <td>    0.108</td> <td>    0.127</td>\n",
       "</tr>\n",
       "<tr>\n",
       "  <th>Q('FS')</th>             <td>    0.5526</td> <td>    0.013</td> <td>   41.341</td> <td> 0.000</td> <td>    0.526</td> <td>    0.579</td>\n",
       "</tr>\n",
       "<tr>\n",
       "  <th>Q('FHMI')</th>           <td>    0.2477</td> <td>    0.037</td> <td>    6.783</td> <td> 0.000</td> <td>    0.176</td> <td>    0.319</td>\n",
       "</tr>\n",
       "<tr>\n",
       "  <th>Q('City_Ahmedabad')</th> <td>    0.3414</td> <td>    0.102</td> <td>    3.331</td> <td> 0.001</td> <td>    0.141</td> <td>    0.542</td>\n",
       "</tr>\n",
       "<tr>\n",
       "  <th>Q('City_Bhopal')</th>    <td>    0.1968</td> <td>    0.100</td> <td>    1.961</td> <td> 0.050</td> <td> 9.79e-05</td> <td>    0.393</td>\n",
       "</tr>\n",
       "<tr>\n",
       "  <th>Q('City_Hyderabad')</th> <td>    0.3149</td> <td>    0.087</td> <td>    3.636</td> <td> 0.000</td> <td>    0.145</td> <td>    0.485</td>\n",
       "</tr>\n",
       "<tr>\n",
       "  <th>Q('City_Kolkata')</th>   <td>    0.2435</td> <td>    0.099</td> <td>    2.448</td> <td> 0.014</td> <td>    0.049</td> <td>    0.438</td>\n",
       "</tr>\n",
       "<tr>\n",
       "  <th>Q('City_Meerut')</th>    <td>    0.2184</td> <td>    0.109</td> <td>    2.007</td> <td> 0.045</td> <td>    0.005</td> <td>    0.432</td>\n",
       "</tr>\n",
       "<tr>\n",
       "  <th>Q('City_Patna')</th>     <td>    0.2507</td> <td>    0.097</td> <td>    2.577</td> <td> 0.010</td> <td>    0.060</td> <td>    0.441</td>\n",
       "</tr>\n",
       "</table>"
      ],
      "text/latex": [
       "\\begin{center}\n",
       "\\begin{tabular}{lclc}\n",
       "\\toprule\n",
       "\\textbf{Dep. Variable:}       &    Depression    & \\textbf{  No. Observations:  } &    27776    \\\\\n",
       "\\textbf{Model:}               &      Logit       & \\textbf{  Df Residuals:      } &    27757    \\\\\n",
       "\\textbf{Method:}              &       MLE        & \\textbf{  Df Model:          } &       18    \\\\\n",
       "\\textbf{Date:}                & Mon, 03 Feb 2025 & \\textbf{  Pseudo R-squ.:     } &   0.4864    \\\\\n",
       "\\textbf{Time:}                &     21:04:03     & \\textbf{  Log-Likelihood:    } &   -9676.8   \\\\\n",
       "\\textbf{converged:}           &       True       & \\textbf{  LL-Null:           } &   -18841.   \\\\\n",
       "\\textbf{Covariance Type:}     &    nonrobust     & \\textbf{  LLR p-value:       } &    0.000    \\\\\n",
       "\\bottomrule\n",
       "\\end{tabular}\n",
       "\\begin{tabular}{lcccccc}\n",
       "                              & \\textbf{coef} & \\textbf{std err} & \\textbf{z} & \\textbf{P$> |$z$|$} & \\textbf{[0.025} & \\textbf{0.975]}  \\\\\n",
       "\\midrule\n",
       "\\textbf{Intercept}            &      -3.2463  &        0.174     &   -18.678  &         0.000        &       -3.587    &       -2.906     \\\\\n",
       "\\textbf{Q('Degree[T.1]')}     &       0.1698  &        0.064     &     2.669  &         0.008        &        0.045    &        0.295     \\\\\n",
       "\\textbf{Q('Degree[T.2]')}     &       0.1519  &        0.059     &     2.584  &         0.010        &        0.037    &        0.267     \\\\\n",
       "\\textbf{Q('Age')}             &      -0.1177  &        0.005     &   -24.309  &         0.000        &       -0.127    &       -0.108     \\\\\n",
       "\\textbf{Q('AP')}              &       0.8390  &        0.015     &    56.183  &         0.000        &        0.810    &        0.868     \\\\\n",
       "\\textbf{Q('CGPA')}            &       0.0561  &        0.012     &     4.497  &         0.000        &        0.032    &        0.081     \\\\\n",
       "\\textbf{Q('SS')}              &      -0.2435  &        0.014     &   -17.876  &         0.000        &       -0.270    &       -0.217     \\\\\n",
       "\\textbf{Q('SD')}              &      -0.1900  &        0.016     &   -11.626  &         0.000        &       -0.222    &       -0.158     \\\\\n",
       "\\textbf{Q('DH')}              &       0.3535  &        0.015     &    23.561  &         0.000        &        0.324    &        0.383     \\\\\n",
       "\\textbf{Q('ST')}              &       2.5184  &        0.039     &    64.242  &         0.000        &        2.442    &        2.595     \\\\\n",
       "\\textbf{Q('WSH')}             &       0.1173  &        0.005     &    23.546  &         0.000        &        0.108    &        0.127     \\\\\n",
       "\\textbf{Q('FS')}              &       0.5526  &        0.013     &    41.341  &         0.000        &        0.526    &        0.579     \\\\\n",
       "\\textbf{Q('FHMI')}            &       0.2477  &        0.037     &     6.783  &         0.000        &        0.176    &        0.319     \\\\\n",
       "\\textbf{Q('City\\_Ahmedabad')} &       0.3414  &        0.102     &     3.331  &         0.001        &        0.141    &        0.542     \\\\\n",
       "\\textbf{Q('City\\_Bhopal')}    &       0.1968  &        0.100     &     1.961  &         0.050        &     9.79e-05    &        0.393     \\\\\n",
       "\\textbf{Q('City\\_Hyderabad')} &       0.3149  &        0.087     &     3.636  &         0.000        &        0.145    &        0.485     \\\\\n",
       "\\textbf{Q('City\\_Kolkata')}   &       0.2435  &        0.099     &     2.448  &         0.014        &        0.049    &        0.438     \\\\\n",
       "\\textbf{Q('City\\_Meerut')}    &       0.2184  &        0.109     &     2.007  &         0.045        &        0.005    &        0.432     \\\\\n",
       "\\textbf{Q('City\\_Patna')}     &       0.2507  &        0.097     &     2.577  &         0.010        &        0.060    &        0.441     \\\\\n",
       "\\bottomrule\n",
       "\\end{tabular}\n",
       "%\\caption{Logit Regression Results}\n",
       "\\end{center}"
      ],
      "text/plain": [
       "<class 'statsmodels.iolib.summary.Summary'>\n",
       "\"\"\"\n",
       "                           Logit Regression Results                           \n",
       "==============================================================================\n",
       "Dep. Variable:             Depression   No. Observations:                27776\n",
       "Model:                          Logit   Df Residuals:                    27757\n",
       "Method:                           MLE   Df Model:                           18\n",
       "Date:                Mon, 03 Feb 2025   Pseudo R-squ.:                  0.4864\n",
       "Time:                        21:04:03   Log-Likelihood:                -9676.8\n",
       "converged:                       True   LL-Null:                       -18841.\n",
       "Covariance Type:            nonrobust   LLR p-value:                     0.000\n",
       "=======================================================================================\n",
       "                          coef    std err          z      P>|z|      [0.025      0.975]\n",
       "---------------------------------------------------------------------------------------\n",
       "Intercept              -3.2463      0.174    -18.678      0.000      -3.587      -2.906\n",
       "Q('Degree[T.1]')        0.1698      0.064      2.669      0.008       0.045       0.295\n",
       "Q('Degree[T.2]')        0.1519      0.059      2.584      0.010       0.037       0.267\n",
       "Q('Age')               -0.1177      0.005    -24.309      0.000      -0.127      -0.108\n",
       "Q('AP')                 0.8390      0.015     56.183      0.000       0.810       0.868\n",
       "Q('CGPA')               0.0561      0.012      4.497      0.000       0.032       0.081\n",
       "Q('SS')                -0.2435      0.014    -17.876      0.000      -0.270      -0.217\n",
       "Q('SD')                -0.1900      0.016    -11.626      0.000      -0.222      -0.158\n",
       "Q('DH')                 0.3535      0.015     23.561      0.000       0.324       0.383\n",
       "Q('ST')                 2.5184      0.039     64.242      0.000       2.442       2.595\n",
       "Q('WSH')                0.1173      0.005     23.546      0.000       0.108       0.127\n",
       "Q('FS')                 0.5526      0.013     41.341      0.000       0.526       0.579\n",
       "Q('FHMI')               0.2477      0.037      6.783      0.000       0.176       0.319\n",
       "Q('City_Ahmedabad')     0.3414      0.102      3.331      0.001       0.141       0.542\n",
       "Q('City_Bhopal')        0.1968      0.100      1.961      0.050    9.79e-05       0.393\n",
       "Q('City_Hyderabad')     0.3149      0.087      3.636      0.000       0.145       0.485\n",
       "Q('City_Kolkata')       0.2435      0.099      2.448      0.014       0.049       0.438\n",
       "Q('City_Meerut')        0.2184      0.109      2.007      0.045       0.005       0.432\n",
       "Q('City_Patna')         0.2507      0.097      2.577      0.010       0.060       0.441\n",
       "=======================================================================================\n",
       "\"\"\""
      ]
     },
     "execution_count": 149,
     "metadata": {},
     "output_type": "execute_result"
    }
   ],
   "source": [
    "stepwise_model.summary()"
   ]
  },
  {
   "cell_type": "markdown",
   "metadata": {},
   "source": [
    "### Analisando os resultados do modelo"
   ]
  },
  {
   "cell_type": "code",
   "execution_count": 150,
   "metadata": {},
   "outputs": [],
   "source": [
    "def confusion_matrix_plot(predicts, observated, cutoff):\n",
    "    \n",
    "    values = predicts.values\n",
    "    \n",
    "    binary_prediction = []\n",
    "        \n",
    "    for item in values:\n",
    "        if item < cutoff:\n",
    "            binary_prediction.append(0)\n",
    "        else:\n",
    "            binary_prediction.append(1)\n",
    "           \n",
    "    cm = confusion_matrix(binary_prediction, observated)\n",
    "    disp = ConfusionMatrixDisplay(confusion_matrix=cm)\n",
    "    disp.plot()\n",
    "    plt.xlabel('True')\n",
    "    plt.ylabel('Classified')\n",
    "    plt.gca().invert_xaxis()\n",
    "    plt.gca().invert_yaxis()\n",
    "    plt.show()\n",
    "        \n",
    "    sensitivity = recall_score(observated, binary_prediction, pos_label=1)\n",
    "    specificity = recall_score(observated, binary_prediction, pos_label=0)\n",
    "    accuracy = accuracy_score(observated, binary_prediction)\n",
    "\n",
    "    indicators = pd.DataFrame({'Sensitividade':[sensitivity],\n",
    "                                'Especificidade':[specificity],\n",
    "                                'Acurácia':[accuracy]})\n",
    "    return indicators"
   ]
  },
  {
   "cell_type": "code",
   "execution_count": 151,
   "metadata": {
    "execution": {
     "iopub.execute_input": "2025-01-16T21:31:30.176102Z",
     "iopub.status.busy": "2025-01-16T21:31:30.175745Z",
     "iopub.status.idle": "2025-01-16T21:31:30.198272Z",
     "shell.execute_reply": "2025-01-16T21:31:30.197229Z",
     "shell.execute_reply.started": "2025-01-16T21:31:30.176058Z"
    },
    "trusted": true
   },
   "outputs": [],
   "source": [
    "df_dummies['phat'] = stepwise_model.predict()"
   ]
  },
  {
   "cell_type": "code",
   "execution_count": 152,
   "metadata": {
    "execution": {
     "iopub.execute_input": "2025-01-16T21:31:30.199597Z",
     "iopub.status.busy": "2025-01-16T21:31:30.199301Z",
     "iopub.status.idle": "2025-01-16T21:31:30.553238Z",
     "shell.execute_reply": "2025-01-16T21:31:30.552213Z",
     "shell.execute_reply.started": "2025-01-16T21:31:30.199567Z"
    },
    "trusted": true
   },
   "outputs": [
    {
     "data": {
      "image/png": "[encoded data removed]",
      "text/plain": [
       "<Figure size 640x480 with 2 Axes>"
      ]
     },
     "metadata": {},
     "output_type": "display_data"
    },
    {
     "data": {
      "text/html": [
       "<div>\n",
       "<style scoped>\n",
       "    .dataframe tbody tr th:only-of-type {\n",
       "        vertical-align: middle;\n",
       "    }\n",
       "\n",
       "    .dataframe tbody tr th {\n",
       "        vertical-align: top;\n",
       "    }\n",
       "\n",
       "    .dataframe thead th {\n",
       "        text-align: right;\n",
       "    }\n",
       "</style>\n",
       "<table border=\"1\" class=\"dataframe\">\n",
       "  <thead>\n",
       "    <tr style=\"text-align: right;\">\n",
       "      <th></th>\n",
       "      <th>Sensitividade</th>\n",
       "      <th>Especificidade</th>\n",
       "      <th>Acurácia</th>\n",
       "    </tr>\n",
       "  </thead>\n",
       "  <tbody>\n",
       "    <tr>\n",
       "      <th>0</th>\n",
       "      <td>0.887667</td>\n",
       "      <td>0.79162</td>\n",
       "      <td>0.84789</td>\n",
       "    </tr>\n",
       "  </tbody>\n",
       "</table>\n",
       "</div>"
      ],
      "text/plain": [
       "   Sensitividade  Especificidade  Acurácia\n",
       "0       0.887667         0.79162   0.84789"
      ]
     },
     "execution_count": 152,
     "metadata": {},
     "output_type": "execute_result"
    }
   ],
   "source": [
    "confusion_matrix_plot(observated=df_dummies['Depression'],\n",
    "                predicts=df_dummies['phat'],\n",
    "                cutoff=0.5)"
   ]
  },
  {
   "cell_type": "code",
   "execution_count": 153,
   "metadata": {},
   "outputs": [
    {
     "data": {
      "image/png": "[encoded data removed]",
      "text/plain": [
       "<Figure size 1000x700 with 1 Axes>"
      ]
     },
     "metadata": {},
     "output_type": "display_data"
    }
   ],
   "source": [
    "fpr, tpr, thresholds =roc_curve(df_dummies['Depression'],\n",
    "                                df_dummies['phat'])\n",
    "roc_auc = auc(fpr, tpr)\n",
    "\n",
    "gini = (roc_auc - 0.5)/(0.5)\n",
    "\n",
    "# Plotando a curva ROC\n",
    "plt.figure(figsize=(10,7))\n",
    "plt.plot(fpr, tpr, marker='o', color='darkorchid', markersize=10, linewidth=3)\n",
    "plt.plot(fpr, fpr, color='gray', linestyle='dashed')\n",
    "plt.title('Área abaixo da curva: %g' % round(roc_auc, 4) +\n",
    "          ' | Coeficiente de GINI: %g' % round(gini, 4), fontsize=22)\n",
    "plt.xlabel('1 - Especificidade', fontsize=20)\n",
    "plt.ylabel('Sensitividade', fontsize=20)\n",
    "plt.xticks(np.arange(0, 1.1, 0.2), fontsize=14)\n",
    "plt.yticks(np.arange(0, 1.1, 0.2), fontsize=14)\n",
    "plt.show()"
   ]
  },
  {
   "cell_type": "markdown",
   "metadata": {},
   "source": [
    "## Árvore de Decisão"
   ]
  },
  {
   "cell_type": "markdown",
   "metadata": {},
   "source": [
    "### Separando as variasveis preditoras da target"
   ]
  },
  {
   "cell_type": "code",
   "execution_count": 154,
   "metadata": {},
   "outputs": [],
   "source": [
    "X = df_dummies.drop(columns=['Depression','phat'])\n",
    "y = df_dummies['Depression']"
   ]
  },
  {
   "cell_type": "markdown",
   "metadata": {},
   "source": [
    "### Realizando a divisão do dataframe em teste e treino"
   ]
  },
  {
   "cell_type": "code",
   "execution_count": 155,
   "metadata": {},
   "outputs": [],
   "source": [
    "X_train, X_test, y_train, y_test = train_test_split(X, y, test_size=.25)"
   ]
  },
  {
   "cell_type": "code",
   "execution_count": 156,
   "metadata": {},
   "outputs": [
    {
     "data": {
      "text/plain": [
       "(20832, 41)"
      ]
     },
     "metadata": {},
     "output_type": "display_data"
    },
    {
     "data": {
      "text/plain": [
       "(20832,)"
      ]
     },
     "metadata": {},
     "output_type": "display_data"
    },
    {
     "data": {
      "text/plain": [
       "(6944, 41)"
      ]
     },
     "metadata": {},
     "output_type": "display_data"
    },
    {
     "data": {
      "text/plain": [
       "(6944,)"
      ]
     },
     "metadata": {},
     "output_type": "display_data"
    }
   ],
   "source": [
    "display(X_train.shape)\n",
    "display(y_train.shape)\n",
    "display(X_test.shape)\n",
    "display(y_test.shape)"
   ]
  },
  {
   "cell_type": "code",
   "execution_count": 157,
   "metadata": {},
   "outputs": [
    {
     "data": {
      "text/html": [
       "<style>#sk-container-id-2 {\n",
       "  /* Definition of color scheme common for light and dark mode */\n",
       "  --sklearn-color-text: #000;\n",
       "  --sklearn-color-text-muted: #666;\n",
       "  --sklearn-color-line: gray;\n",
       "  /* Definition of color scheme for unfitted estimators */\n",
       "  --sklearn-color-unfitted-level-0: #fff5e6;\n",
       "  --sklearn-color-unfitted-level-1: #f6e4d2;\n",
       "  --sklearn-color-unfitted-level-2: #ffe0b3;\n",
       "  --sklearn-color-unfitted-level-3: chocolate;\n",
       "  /* Definition of color scheme for fitted estimators */\n",
       "  --sklearn-color-fitted-level-0: #f0f8ff;\n",
       "  --sklearn-color-fitted-level-1: #d4ebff;\n",
       "  --sklearn-color-fitted-level-2: #b3dbfd;\n",
       "  --sklearn-color-fitted-level-3: cornflowerblue;\n",
       "\n",
       "  /* Specific color for light theme */\n",
       "  --sklearn-color-text-on-default-background: var(--sg-text-color, var(--theme-code-foreground, var(--jp-content-font-color1, black)));\n",
       "  --sklearn-color-background: var(--sg-background-color, var(--theme-background, var(--jp-layout-color0, white)));\n",
       "  --sklearn-color-border-box: var(--sg-text-color, var(--theme-code-foreground, var(--jp-content-font-color1, black)));\n",
       "  --sklearn-color-icon: #696969;\n",
       "\n",
       "  @media (prefers-color-scheme: dark) {\n",
       "    /* Redefinition of color scheme for dark theme */\n",
       "    --sklearn-color-text-on-default-background: var(--sg-text-color, var(--theme-code-foreground, var(--jp-content-font-color1, white)));\n",
       "    --sklearn-color-background: var(--sg-background-color, var(--theme-background, var(--jp-layout-color0, #111)));\n",
       "    --sklearn-color-border-box: var(--sg-text-color, var(--theme-code-foreground, var(--jp-content-font-color1, white)));\n",
       "    --sklearn-color-icon: #878787;\n",
       "  }\n",
       "}\n",
       "\n",
       "#sk-container-id-2 {\n",
       "  color: var(--sklearn-color-text);\n",
       "}\n",
       "\n",
       "#sk-container-id-2 pre {\n",
       "  padding: 0;\n",
       "}\n",
       "\n",
       "#sk-container-id-2 input.sk-hidden--visually {\n",
       "  border: 0;\n",
       "  clip: rect(1px 1px 1px 1px);\n",
       "  clip: rect(1px, 1px, 1px, 1px);\n",
       "  height: 1px;\n",
       "  margin: -1px;\n",
       "  overflow: hidden;\n",
       "  padding: 0;\n",
       "  position: absolute;\n",
       "  width: 1px;\n",
       "}\n",
       "\n",
       "#sk-container-id-2 div.sk-dashed-wrapped {\n",
       "  border: 1px dashed var(--sklearn-color-line);\n",
       "  margin: 0 0.4em 0.5em 0.4em;\n",
       "  box-sizing: border-box;\n",
       "  padding-bottom: 0.4em;\n",
       "  background-color: var(--sklearn-color-background);\n",
       "}\n",
       "\n",
       "#sk-container-id-2 div.sk-container {\n",
       "  /* jupyter's `normalize.less` sets `[hidden] { display: none; }`\n",
       "     but bootstrap.min.css set `[hidden] { display: none !important; }`\n",
       "     so we also need the `!important` here to be able to override the\n",
       "     default hidden behavior on the sphinx rendered scikit-learn.org.\n",
       "     See: https://github.com/scikit-learn/scikit-learn/issues/21755 */\n",
       "  display: inline-block !important;\n",
       "  position: relative;\n",
       "}\n",
       "\n",
       "#sk-container-id-2 div.sk-text-repr-fallback {\n",
       "  display: none;\n",
       "}\n",
       "\n",
       "div.sk-parallel-item,\n",
       "div.sk-serial,\n",
       "div.sk-item {\n",
       "  /* draw centered vertical line to link estimators */\n",
       "  background-image: linear-gradient(var(--sklearn-color-text-on-default-background), var(--sklearn-color-text-on-default-background));\n",
       "  background-size: 2px 100%;\n",
       "  background-repeat: no-repeat;\n",
       "  background-position: center center;\n",
       "}\n",
       "\n",
       "/* Parallel-specific style estimator block */\n",
       "\n",
       "#sk-container-id-2 div.sk-parallel-item::after {\n",
       "  content: \"\";\n",
       "  width: 100%;\n",
       "  border-bottom: 2px solid var(--sklearn-color-text-on-default-background);\n",
       "  flex-grow: 1;\n",
       "}\n",
       "\n",
       "#sk-container-id-2 div.sk-parallel {\n",
       "  display: flex;\n",
       "  align-items: stretch;\n",
       "  justify-content: center;\n",
       "  background-color: var(--sklearn-color-background);\n",
       "  position: relative;\n",
       "}\n",
       "\n",
       "#sk-container-id-2 div.sk-parallel-item {\n",
       "  display: flex;\n",
       "  flex-direction: column;\n",
       "}\n",
       "\n",
       "#sk-container-id-2 div.sk-parallel-item:first-child::after {\n",
       "  align-self: flex-end;\n",
       "  width: 50%;\n",
       "}\n",
       "\n",
       "#sk-container-id-2 div.sk-parallel-item:last-child::after {\n",
       "  align-self: flex-start;\n",
       "  width: 50%;\n",
       "}\n",
       "\n",
       "#sk-container-id-2 div.sk-parallel-item:only-child::after {\n",
       "  width: 0;\n",
       "}\n",
       "\n",
       "/* Serial-specific style estimator block */\n",
       "\n",
       "#sk-container-id-2 div.sk-serial {\n",
       "  display: flex;\n",
       "  flex-direction: column;\n",
       "  align-items: center;\n",
       "  background-color: var(--sklearn-color-background);\n",
       "  padding-right: 1em;\n",
       "  padding-left: 1em;\n",
       "}\n",
       "\n",
       "\n",
       "/* Toggleable style: style used for estimator/Pipeline/ColumnTransformer box that is\n",
       "clickable and can be expanded/collapsed.\n",
       "- Pipeline and ColumnTransformer use this feature and define the default style\n",
       "- Estimators will overwrite some part of the style using the `sk-estimator` class\n",
       "*/\n",
       "\n",
       "/* Pipeline and ColumnTransformer style (default) */\n",
       "\n",
       "#sk-container-id-2 div.sk-toggleable {\n",
       "  /* Default theme specific background. It is overwritten whether we have a\n",
       "  specific estimator or a Pipeline/ColumnTransformer */\n",
       "  background-color: var(--sklearn-color-background);\n",
       "}\n",
       "\n",
       "/* Toggleable label */\n",
       "#sk-container-id-2 label.sk-toggleable__label {\n",
       "  cursor: pointer;\n",
       "  display: flex;\n",
       "  width: 100%;\n",
       "  margin-bottom: 0;\n",
       "  padding: 0.5em;\n",
       "  box-sizing: border-box;\n",
       "  text-align: center;\n",
       "  align-items: start;\n",
       "  justify-content: space-between;\n",
       "  gap: 0.5em;\n",
       "}\n",
       "\n",
       "#sk-container-id-2 label.sk-toggleable__label .caption {\n",
       "  font-size: 0.6rem;\n",
       "  font-weight: lighter;\n",
       "  color: var(--sklearn-color-text-muted);\n",
       "}\n",
       "\n",
       "#sk-container-id-2 label.sk-toggleable__label-arrow:before {\n",
       "  /* Arrow on the left of the label */\n",
       "  content: \"▸\";\n",
       "  float: left;\n",
       "  margin-right: 0.25em;\n",
       "  color: var(--sklearn-color-icon);\n",
       "}\n",
       "\n",
       "#sk-container-id-2 label.sk-toggleable__label-arrow:hover:before {\n",
       "  color: var(--sklearn-color-text);\n",
       "}\n",
       "\n",
       "/* Toggleable content - dropdown */\n",
       "\n",
       "#sk-container-id-2 div.sk-toggleable__content {\n",
       "  max-height: 0;\n",
       "  max-width: 0;\n",
       "  overflow: hidden;\n",
       "  text-align: left;\n",
       "  /* unfitted */\n",
       "  background-color: var(--sklearn-color-unfitted-level-0);\n",
       "}\n",
       "\n",
       "#sk-container-id-2 div.sk-toggleable__content.fitted {\n",
       "  /* fitted */\n",
       "  background-color: var(--sklearn-color-fitted-level-0);\n",
       "}\n",
       "\n",
       "#sk-container-id-2 div.sk-toggleable__content pre {\n",
       "  margin: 0.2em;\n",
       "  border-radius: 0.25em;\n",
       "  color: var(--sklearn-color-text);\n",
       "  /* unfitted */\n",
       "  background-color: var(--sklearn-color-unfitted-level-0);\n",
       "}\n",
       "\n",
       "#sk-container-id-2 div.sk-toggleable__content.fitted pre {\n",
       "  /* unfitted */\n",
       "  background-color: var(--sklearn-color-fitted-level-0);\n",
       "}\n",
       "\n",
       "#sk-container-id-2 input.sk-toggleable__control:checked~div.sk-toggleable__content {\n",
       "  /* Expand drop-down */\n",
       "  max-height: 200px;\n",
       "  max-width: 100%;\n",
       "  overflow: auto;\n",
       "}\n",
       "\n",
       "#sk-container-id-2 input.sk-toggleable__control:checked~label.sk-toggleable__label-arrow:before {\n",
       "  content: \"▾\";\n",
       "}\n",
       "\n",
       "/* Pipeline/ColumnTransformer-specific style */\n",
       "\n",
       "#sk-container-id-2 div.sk-label input.sk-toggleable__control:checked~label.sk-toggleable__label {\n",
       "  color: var(--sklearn-color-text);\n",
       "  background-color: var(--sklearn-color-unfitted-level-2);\n",
       "}\n",
       "\n",
       "#sk-container-id-2 div.sk-label.fitted input.sk-toggleable__control:checked~label.sk-toggleable__label {\n",
       "  background-color: var(--sklearn-color-fitted-level-2);\n",
       "}\n",
       "\n",
       "/* Estimator-specific style */\n",
       "\n",
       "/* Colorize estimator box */\n",
       "#sk-container-id-2 div.sk-estimator input.sk-toggleable__control:checked~label.sk-toggleable__label {\n",
       "  /* unfitted */\n",
       "  background-color: var(--sklearn-color-unfitted-level-2);\n",
       "}\n",
       "\n",
       "#sk-container-id-2 div.sk-estimator.fitted input.sk-toggleable__control:checked~label.sk-toggleable__label {\n",
       "  /* fitted */\n",
       "  background-color: var(--sklearn-color-fitted-level-2);\n",
       "}\n",
       "\n",
       "#sk-container-id-2 div.sk-label label.sk-toggleable__label,\n",
       "#sk-container-id-2 div.sk-label label {\n",
       "  /* The background is the default theme color */\n",
       "  color: var(--sklearn-color-text-on-default-background);\n",
       "}\n",
       "\n",
       "/* On hover, darken the color of the background */\n",
       "#sk-container-id-2 div.sk-label:hover label.sk-toggleable__label {\n",
       "  color: var(--sklearn-color-text);\n",
       "  background-color: var(--sklearn-color-unfitted-level-2);\n",
       "}\n",
       "\n",
       "/* Label box, darken color on hover, fitted */\n",
       "#sk-container-id-2 div.sk-label.fitted:hover label.sk-toggleable__label.fitted {\n",
       "  color: var(--sklearn-color-text);\n",
       "  background-color: var(--sklearn-color-fitted-level-2);\n",
       "}\n",
       "\n",
       "/* Estimator label */\n",
       "\n",
       "#sk-container-id-2 div.sk-label label {\n",
       "  font-family: monospace;\n",
       "  font-weight: bold;\n",
       "  display: inline-block;\n",
       "  line-height: 1.2em;\n",
       "}\n",
       "\n",
       "#sk-container-id-2 div.sk-label-container {\n",
       "  text-align: center;\n",
       "}\n",
       "\n",
       "/* Estimator-specific */\n",
       "#sk-container-id-2 div.sk-estimator {\n",
       "  font-family: monospace;\n",
       "  border: 1px dotted var(--sklearn-color-border-box);\n",
       "  border-radius: 0.25em;\n",
       "  box-sizing: border-box;\n",
       "  margin-bottom: 0.5em;\n",
       "  /* unfitted */\n",
       "  background-color: var(--sklearn-color-unfitted-level-0);\n",
       "}\n",
       "\n",
       "#sk-container-id-2 div.sk-estimator.fitted {\n",
       "  /* fitted */\n",
       "  background-color: var(--sklearn-color-fitted-level-0);\n",
       "}\n",
       "\n",
       "/* on hover */\n",
       "#sk-container-id-2 div.sk-estimator:hover {\n",
       "  /* unfitted */\n",
       "  background-color: var(--sklearn-color-unfitted-level-2);\n",
       "}\n",
       "\n",
       "#sk-container-id-2 div.sk-estimator.fitted:hover {\n",
       "  /* fitted */\n",
       "  background-color: var(--sklearn-color-fitted-level-2);\n",
       "}\n",
       "\n",
       "/* Specification for estimator info (e.g. \"i\" and \"?\") */\n",
       "\n",
       "/* Common style for \"i\" and \"?\" */\n",
       "\n",
       ".sk-estimator-doc-link,\n",
       "a:link.sk-estimator-doc-link,\n",
       "a:visited.sk-estimator-doc-link {\n",
       "  float: right;\n",
       "  font-size: smaller;\n",
       "  line-height: 1em;\n",
       "  font-family: monospace;\n",
       "  background-color: var(--sklearn-color-background);\n",
       "  border-radius: 1em;\n",
       "  height: 1em;\n",
       "  width: 1em;\n",
       "  text-decoration: none !important;\n",
       "  margin-left: 0.5em;\n",
       "  text-align: center;\n",
       "  /* unfitted */\n",
       "  border: var(--sklearn-color-unfitted-level-1) 1pt solid;\n",
       "  color: var(--sklearn-color-unfitted-level-1);\n",
       "}\n",
       "\n",
       ".sk-estimator-doc-link.fitted,\n",
       "a:link.sk-estimator-doc-link.fitted,\n",
       "a:visited.sk-estimator-doc-link.fitted {\n",
       "  /* fitted */\n",
       "  border: var(--sklearn-color-fitted-level-1) 1pt solid;\n",
       "  color: var(--sklearn-color-fitted-level-1);\n",
       "}\n",
       "\n",
       "/* On hover */\n",
       "div.sk-estimator:hover .sk-estimator-doc-link:hover,\n",
       ".sk-estimator-doc-link:hover,\n",
       "div.sk-label-container:hover .sk-estimator-doc-link:hover,\n",
       ".sk-estimator-doc-link:hover {\n",
       "  /* unfitted */\n",
       "  background-color: var(--sklearn-color-unfitted-level-3);\n",
       "  color: var(--sklearn-color-background);\n",
       "  text-decoration: none;\n",
       "}\n",
       "\n",
       "div.sk-estimator.fitted:hover .sk-estimator-doc-link.fitted:hover,\n",
       ".sk-estimator-doc-link.fitted:hover,\n",
       "div.sk-label-container:hover .sk-estimator-doc-link.fitted:hover,\n",
       ".sk-estimator-doc-link.fitted:hover {\n",
       "  /* fitted */\n",
       "  background-color: var(--sklearn-color-fitted-level-3);\n",
       "  color: var(--sklearn-color-background);\n",
       "  text-decoration: none;\n",
       "}\n",
       "\n",
       "/* Span, style for the box shown on hovering the info icon */\n",
       ".sk-estimator-doc-link span {\n",
       "  display: none;\n",
       "  z-index: 9999;\n",
       "  position: relative;\n",
       "  font-weight: normal;\n",
       "  right: .2ex;\n",
       "  padding: .5ex;\n",
       "  margin: .5ex;\n",
       "  width: min-content;\n",
       "  min-width: 20ex;\n",
       "  max-width: 50ex;\n",
       "  color: var(--sklearn-color-text);\n",
       "  box-shadow: 2pt 2pt 4pt #999;\n",
       "  /* unfitted */\n",
       "  background: var(--sklearn-color-unfitted-level-0);\n",
       "  border: .5pt solid var(--sklearn-color-unfitted-level-3);\n",
       "}\n",
       "\n",
       ".sk-estimator-doc-link.fitted span {\n",
       "  /* fitted */\n",
       "  background: var(--sklearn-color-fitted-level-0);\n",
       "  border: var(--sklearn-color-fitted-level-3);\n",
       "}\n",
       "\n",
       ".sk-estimator-doc-link:hover span {\n",
       "  display: block;\n",
       "}\n",
       "\n",
       "/* \"?\"-specific style due to the `<a>` HTML tag */\n",
       "\n",
       "#sk-container-id-2 a.estimator_doc_link {\n",
       "  float: right;\n",
       "  font-size: 1rem;\n",
       "  line-height: 1em;\n",
       "  font-family: monospace;\n",
       "  background-color: var(--sklearn-color-background);\n",
       "  border-radius: 1rem;\n",
       "  height: 1rem;\n",
       "  width: 1rem;\n",
       "  text-decoration: none;\n",
       "  /* unfitted */\n",
       "  color: var(--sklearn-color-unfitted-level-1);\n",
       "  border: var(--sklearn-color-unfitted-level-1) 1pt solid;\n",
       "}\n",
       "\n",
       "#sk-container-id-2 a.estimator_doc_link.fitted {\n",
       "  /* fitted */\n",
       "  border: var(--sklearn-color-fitted-level-1) 1pt solid;\n",
       "  color: var(--sklearn-color-fitted-level-1);\n",
       "}\n",
       "\n",
       "/* On hover */\n",
       "#sk-container-id-2 a.estimator_doc_link:hover {\n",
       "  /* unfitted */\n",
       "  background-color: var(--sklearn-color-unfitted-level-3);\n",
       "  color: var(--sklearn-color-background);\n",
       "  text-decoration: none;\n",
       "}\n",
       "\n",
       "#sk-container-id-2 a.estimator_doc_link.fitted:hover {\n",
       "  /* fitted */\n",
       "  background-color: var(--sklearn-color-fitted-level-3);\n",
       "}\n",
       "</style><div id=\"sk-container-id-2\" class=\"sk-top-container\"><div class=\"sk-text-repr-fallback\"><pre>DecisionTreeClassifier(max_depth=3, random_state=42)</pre><b>In a Jupyter environment, please rerun this cell to show the HTML representation or trust the notebook. <br />On GitHub, the HTML representation is unable to render, please try loading this page with nbviewer.org.</b></div><div class=\"sk-container\" hidden><div class=\"sk-item\"><div class=\"sk-estimator fitted sk-toggleable\"><input class=\"sk-toggleable__control sk-hidden--visually\" id=\"sk-estimator-id-2\" type=\"checkbox\" checked><label for=\"sk-estimator-id-2\" class=\"sk-toggleable__label fitted sk-toggleable__label-arrow\"><div><div>DecisionTreeClassifier</div></div><div><a class=\"sk-estimator-doc-link fitted\" rel=\"noreferrer\" target=\"_blank\" href=\"https://scikit-learn.org/1.6/modules/generated/sklearn.tree.DecisionTreeClassifier.html\">?<span>Documentation for DecisionTreeClassifier</span></a><span class=\"sk-estimator-doc-link fitted\">i<span>Fitted</span></span></div></label><div class=\"sk-toggleable__content fitted\"><pre>DecisionTreeClassifier(max_depth=3, random_state=42)</pre></div> </div></div></div></div>"
      ],
      "text/plain": [
       "DecisionTreeClassifier(max_depth=3, random_state=42)"
      ]
     },
     "execution_count": 157,
     "metadata": {},
     "output_type": "execute_result"
    }
   ],
   "source": [
    "clf = DecisionTreeClassifier(criterion='gini', \n",
    "                                max_depth = 3, \n",
    "                                random_state=42)\n",
    "\n",
    "clf.fit(X_train, y_train)"
   ]
  },
  {
   "cell_type": "code",
   "execution_count": 158,
   "metadata": {},
   "outputs": [
    {
     "name": "stdout",
     "output_type": "stream",
     "text": [
      "accuracy_score: 82.3%\n",
      "balanced_accuracy_score: 80.9%\n",
      "AUC-ROC: 87.34%\n",
      "GINI: 74.67%\n",
      "\n",
      "               precision    recall  f1-score   support\n",
      "\n",
      "           0       0.83      0.72      0.77      2896\n",
      "           1       0.82      0.90      0.85      4048\n",
      "\n",
      "    accuracy                           0.82      6944\n",
      "   macro avg       0.82      0.81      0.81      6944\n",
      "weighted avg       0.82      0.82      0.82      6944\n",
      "\n"
     ]
    }
   ],
   "source": [
    "pred = clf.predict(X_test)\n",
    "\n",
    "y_prob = clf.predict_proba(X_test)[:, -1]\n",
    "\n",
    "ac = accuracy_score(y_test, pred)\n",
    "bac = balanced_accuracy_score(y_test, pred)\n",
    "print(f'accuracy_score: {ac:.1%}')\n",
    "print(f'balanced_accuracy_score: {bac:.1%}')\n",
    "\n",
    "# Calculando AUC\n",
    "auc_score = roc_auc_score(y_test, y_prob)\n",
    "print(f\"AUC-ROC: {auc_score:.2%}\")\n",
    "print(f\"GINI: {(2*auc_score-1):.2%}\")\n",
    "\n",
    "\n",
    "print('\\n', classification_report(y_test, pred))\n",
    "\n"
   ]
  },
  {
   "cell_type": "code",
   "execution_count": 159,
   "metadata": {},
   "outputs": [
    {
     "data": {
      "text/plain": [
       "[Text(0.5, 0.875, 'x[8] <= 0.5\\ngini = 0.485\\nsamples = 20832\\nvalue = [8607, 12225]'),\n",
       " Text(0.25, 0.625, 'x[2] <= 3.5\\ngini = 0.355\\nsamples = 7606\\nvalue = [5849, 1757]'),\n",
       " Text(0.375, 0.75, 'True  '),\n",
       " Text(0.125, 0.375, 'x[10] <= 3.5\\ngini = 0.224\\nsamples = 5522\\nvalue = [4814, 708]'),\n",
       " Text(0.0625, 0.125, 'gini = 0.144\\nsamples = 3874\\nvalue = [3572, 302]'),\n",
       " Text(0.1875, 0.125, 'gini = 0.371\\nsamples = 1648\\nvalue = [1242, 406]'),\n",
       " Text(0.375, 0.375, 'x[10] <= 2.5\\ngini = 0.5\\nsamples = 2084\\nvalue = [1035, 1049]'),\n",
       " Text(0.3125, 0.125, 'gini = 0.44\\nsamples = 880\\nvalue = [593, 287]'),\n",
       " Text(0.4375, 0.125, 'gini = 0.465\\nsamples = 1204\\nvalue = [442, 762]'),\n",
       " Text(0.75, 0.625, 'x[2] <= 2.5\\ngini = 0.33\\nsamples = 13226\\nvalue = [2758, 10468]'),\n",
       " Text(0.625, 0.75, '  False'),\n",
       " Text(0.625, 0.375, 'x[10] <= 2.5\\ngini = 0.5\\nsamples = 3110\\nvalue = [1534, 1576]'),\n",
       " Text(0.5625, 0.125, 'gini = 0.409\\nsamples = 1135\\nvalue = [810, 325]'),\n",
       " Text(0.6875, 0.125, 'gini = 0.464\\nsamples = 1975\\nvalue = [724, 1251]'),\n",
       " Text(0.875, 0.375, 'x[10] <= 2.5\\ngini = 0.213\\nsamples = 10116\\nvalue = [1224, 8892]'),\n",
       " Text(0.8125, 0.125, 'gini = 0.366\\nsamples = 2754\\nvalue = [665, 2089]'),\n",
       " Text(0.9375, 0.125, 'gini = 0.14\\nsamples = 7362\\nvalue = [559, 6803]')]"
      ]
     },
     "execution_count": 159,
     "metadata": {},
     "output_type": "execute_result"
    },
    {
     "data": {
      "image/png": "[encoded data removed]",
      "text/plain": [
       "<Figure size 1200x1000 with 1 Axes>"
      ]
     },
     "metadata": {},
     "output_type": "display_data"
    }
   ],
   "source": [
    "plt.figure(figsize=(12, 10))\n",
    "plot_tree(clf)"
   ]
  }
 ],
 "metadata": {
  "kaggle": {
   "accelerator": "none",
   "dataSources": [
    {
     "datasetId": 6144877,
     "sourceId": 9985284,
     "sourceType": "datasetVersion"
    }
   ],
   "isGpuEnabled": false,
   "isInternetEnabled": true,
   "language": "python",
   "sourceType": "notebook"
  },
  "kernelspec": {
   "display_name": "penv",
   "language": "python",
   "name": "python3"
  },
  "language_info": {
   "codemirror_mode": {
    "name": "ipython",
    "version": 3
   },
   "file_extension": ".py",
   "mimetype": "text/x-python",
   "name": "python",
   "nbconvert_exporter": "python",
   "pygments_lexer": "ipython3",
   "version": "3.12.7"
  }
 },
 "nbformat": 4,
 "nbformat_minor": 4
}
